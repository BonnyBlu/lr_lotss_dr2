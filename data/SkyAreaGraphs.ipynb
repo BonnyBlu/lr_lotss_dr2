{
 "cells": [
  {
   "cell_type": "code",
   "execution_count": 1,
   "id": "233ac698-7d07-44aa-b22e-6ce364ad6c8b",
   "metadata": {},
   "outputs": [],
   "source": [
    "from astropy.table import Table\n",
    "import numpy as np\n",
    "import matplotlib.pyplot as plt"
   ]
  },
  {
   "cell_type": "code",
   "execution_count": 14,
   "id": "846d8482-f88b-400d-98f9-96625ff41512",
   "metadata": {},
   "outputs": [],
   "source": [
    "datafile = 'LoTSS_DR2_v110_masked.srl.fits'\n",
    "optfile = 'dr2_13h_south_withid.fits'\n",
    "optfile2 = 'dr2_13h_north_withid.fits'\n",
    "optfile3 = 'dr2_0h_south_withid.fits'"
   ]
  },
  {
   "cell_type": "code",
   "execution_count": 3,
   "id": "763b4a75-762d-408e-b09a-ad7c29392a6f",
   "metadata": {},
   "outputs": [],
   "source": [
    "dat = Table.read(datafile, format='fits')"
   ]
  },
  {
   "cell_type": "code",
   "execution_count": 7,
   "id": "15822156-d0df-4de5-9966-55d33e51ad58",
   "metadata": {},
   "outputs": [],
   "source": [
    "opt = Table.read(optfile, format = 'fits')"
   ]
  },
  {
   "cell_type": "code",
   "execution_count": 13,
   "id": "b93c9c15-d533-4eb1-8703-a6f973fbc391",
   "metadata": {},
   "outputs": [],
   "source": [
    "opt2 = Table.read(optfile2, format = 'fits')"
   ]
  },
  {
   "cell_type": "code",
   "execution_count": 15,
   "id": "bd146bfc-4f62-4e72-b952-a0345ea63127",
   "metadata": {},
   "outputs": [],
   "source": [
    "opt3 = Table.read(optfile3, format = 'fits')"
   ]
  },
  {
   "cell_type": "code",
   "execution_count": null,
   "id": "636f9172-58e5-483b-b3f6-00bb1663896c",
   "metadata": {},
   "outputs": [],
   "source": [
    "dat.columns"
   ]
  },
  {
   "cell_type": "code",
   "execution_count": null,
   "id": "02962941-b458-49a3-8b44-cbf27bdb3329",
   "metadata": {},
   "outputs": [],
   "source": [
    "min_ra = np.min(dat['RA'])\n",
    "max_ra = np.max(dat['RA'])\n",
    "min_dec = np.min(dat['DEC'])\n",
    "max_dec = np.max(dat['DEC'])"
   ]
  },
  {
   "cell_type": "code",
   "execution_count": null,
   "id": "47463e4d-17fc-4192-8b6f-bdef5590c797",
   "metadata": {},
   "outputs": [],
   "source": [
    "print(min_ra, max_ra, min_dec, max_dec)"
   ]
  },
  {
   "cell_type": "code",
   "execution_count": null,
   "id": "a49bc993-29db-4e47-b499-021c5ef39ee2",
   "metadata": {},
   "outputs": [],
   "source": [
    "plt.plot(dat['RA'], linestyle = 'None', marker = '.')\n",
    "plt.show()"
   ]
  },
  {
   "cell_type": "code",
   "execution_count": null,
   "id": "05b55cf3-7129-4354-80ef-2c283dda8adb",
   "metadata": {},
   "outputs": [],
   "source": [
    "plt.plot(dat['DEC'], linestyle = 'None', marker = 'x')\n",
    "plt.show()"
   ]
  },
  {
   "cell_type": "code",
   "execution_count": null,
   "id": "0677a8bc-b13a-4186-8ed0-9014239eb0a3",
   "metadata": {},
   "outputs": [],
   "source": [
    "dat2 = dat[(dat['RA']>95) & (dat['RA']<292) & (dat['DEC']>27.7) & (dat['DEC']< 75)]\n",
    "dat3 = dat[(dat['RA']>100) & (dat['RA']<280) & (dat['DEC']>20) & (dat['DEC']< 35.8)]"
   ]
  },
  {
   "cell_type": "code",
   "execution_count": 17,
   "id": "0e91555c-1365-4199-85e3-753329ed8596",
   "metadata": {},
   "outputs": [
    {
     "data": {
      "image/png": "[encoded data removed]",
      "text/plain": [
       "<Figure size 800x600 with 1 Axes>"
      ]
     },
     "metadata": {},
     "output_type": "display_data"
    }
   ],
   "source": [
    "plt.figure(figsize = (8, 6))\n",
    "plt.scatter(dat['RA'], dat['DEC'], marker = 'x', alpha = 0.01)\n",
    "plt.scatter(opt['RA'], opt['DEC'], marker = '.', alpha = 0.01)\n",
    "plt.scatter(opt2['RA'], opt2['DEC'], marker = '.', alpha = 0.01)\n",
    "plt.scatter(opt3['RA'], opt3['DEC'], marker = '.', alpha = 0.01)\n",
    "#plt.scatter(dat3['RA'], dat3['DEC'], marker = '.', alpha = 0.1)\n",
    "plt.show()"
   ]
  },
  {
   "cell_type": "code",
   "execution_count": null,
   "id": "75d8346c-0949-4441-8022-d4a2aa4b5dcb",
   "metadata": {},
   "outputs": [],
   "source": [
    "plt.close()"
   ]
  },
  {
   "cell_type": "code",
   "execution_count": null,
   "id": "fca62755-2424-4c29-a980-e126e77e548a",
   "metadata": {},
   "outputs": [],
   "source": [
    "ra_min2 = np.min(dat2['RA'])\n",
    "ra_max2 = np.max(dat2['RA'])\n",
    "dec_min2 = np.min(dat2['DEC'])\n",
    "dec_max2 = np.max(dat2['DEC'])\n",
    "#ra_min3 = np.min(dat3['RA'])\n",
    "#ra_max3 = np.max(dat3['RA'])\n",
    "#dec_min3 = np.min(dat3['DEC'])\n",
    "#dec_max3 = np.max(dat3['DEC'])\n",
    "print(ra_min2, ra_max2, dec_min2, dec_max2)\n",
    "#print(ra_min3, ra_max3, dec_min3, dec_max3)"
   ]
  },
  {
   "cell_type": "code",
   "execution_count": null,
   "id": "c8b1113a-c961-4650-a11c-94e5bbbfa02c",
   "metadata": {},
   "outputs": [],
   "source": []
  }
 ],
 "metadata": {
  "kernelspec": {
   "display_name": "Python 3 (ipykernel)",
   "language": "python",
   "name": "python3"
  },
  "language_info": {
   "codemirror_mode": {
    "name": "ipython",
    "version": 3
   },
   "file_extension": ".py",
   "mimetype": "text/x-python",
   "name": "python",
   "nbconvert_exporter": "python",
   "pygments_lexer": "ipython3",
   "version": "3.9.19"
  }
 },
 "nbformat": 4,
 "nbformat_minor": 5
}
