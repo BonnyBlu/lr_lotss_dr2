{
 "cells": [
  {
   "cell_type": "markdown",
   "metadata": {},
   "source": [
    "# ML match for LOFAR and the combined PanSTARRS WISE catalogue: Compute the $Q_0$"
   ]
  },
  {
   "cell_type": "markdown",
   "metadata": {},
   "source": [
    "In this notebook we use the LR matches of the first round of LR for the r-band to improve the accuracy of the W1 band $Q_0$\n",
    "\n",
    "## Configuration\n",
    "\n",
    "### Load libraries and setup"
   ]
  },
  {
   "cell_type": "code",
   "execution_count": 1,
   "metadata": {},
   "outputs": [],
   "source": [
    "import os\n",
    "import sys\n",
    "import numpy as np\n",
    "from astropy.table import Table\n",
    "from astropy import units as u\n",
    "from astropy.coordinates import SkyCoord, search_around_sky\n",
    "from IPython.display import clear_output"
   ]
  },
  {
   "cell_type": "code",
   "execution_count": 2,
   "metadata": {},
   "outputs": [],
   "source": [
    "try:\n",
    "    BASEPATH = os.path.dirname(os.path.realpath(__file__))\n",
    "    data_path = os.path.join(BASEPATH, \"..\", \"..\", \"data\")\n",
    "except NameError:\n",
    "    if os.path.exists(\"data\"):\n",
    "        BASEPATH = \".\"\n",
    "        data_path = os.path.join(BASEPATH, \"data\")\n",
    "    else:\n",
    "        BASEPATH = os.getcwd()\n",
    "        data_path = os.path.join(BASEPATH, \"..\", \"..\", \"data\")"
   ]
  },
  {
   "cell_type": "code",
   "execution_count": 3,
   "metadata": {},
   "outputs": [],
   "source": [
    "sys.path.append(os.path.join(BASEPATH, \"..\", \"..\", \"src\"))\n",
    "from mltier1 import Field, Q_0, parallel_process, describe"
   ]
  },
  {
   "cell_type": "code",
   "execution_count": 64,
   "metadata": {},
   "outputs": [],
   "source": [
    "idp = os.path.join(BASEPATH, \"..\", \"..\", \"data\", \"idata\", \"main\")"
   ]
  },
  {
   "cell_type": "code",
   "execution_count": 4,
   "metadata": {},
   "outputs": [],
   "source": [
    "%load_ext autoreload"
   ]
  },
  {
   "cell_type": "code",
   "execution_count": 5,
   "metadata": {},
   "outputs": [],
   "source": [
    "%autoreload"
   ]
  },
  {
   "cell_type": "code",
   "execution_count": 6,
   "metadata": {},
   "outputs": [],
   "source": [
    "from IPython.display import clear_output"
   ]
  },
  {
   "cell_type": "code",
   "execution_count": 7,
   "metadata": {},
   "outputs": [],
   "source": [
    "import matplotlib.pyplot as plt"
   ]
  },
  {
   "cell_type": "code",
   "execution_count": 8,
   "metadata": {
    "collapsed": false,
    "jupyter": {
     "outputs_hidden": false
    }
   },
   "outputs": [],
   "source": [
    "%matplotlib inline"
   ]
  },
  {
   "cell_type": "markdown",
   "metadata": {},
   "source": [
    "### Area limits"
   ]
  },
  {
   "cell_type": "code",
   "execution_count": 9,
   "metadata": {},
   "outputs": [],
   "source": [
    "margin_ra = 0.1\n",
    "margin_dec = 0.1"
   ]
  },
  {
   "cell_type": "code",
   "execution_count": 10,
   "metadata": {},
   "outputs": [],
   "source": [
    "# # Test samples P005p28.fits\n",
    "# dec_down = 27.206\n",
    "# dec_up = 29.8\n",
    "# ra_down = 4.025\n",
    "# ra_up = 7.08\n",
    "\n",
    "# # Test samples LoTSS_DR2_RA0INNER_v0.9.srl\n",
    "# dec_down = 27.7\n",
    "# dec_up = 34.\n",
    "# ra_down = 6.\n",
    "# ra_up = 20.5\n",
    "\n",
    "# Test samples LoTSS_DR2_DUMMYCAT_FORPEPE_0h.srl.fits\n",
    "dec_down = 22.25\n",
    "dec_up = 32.\n",
    "ra_down = 0.\n",
    "ra_up = 20.5"
   ]
  },
  {
   "cell_type": "code",
   "execution_count": 11,
   "metadata": {},
   "outputs": [],
   "source": [
    "field = Field(ra_down, ra_up, dec_down, dec_up)"
   ]
  },
  {
   "cell_type": "code",
   "execution_count": 12,
   "metadata": {},
   "outputs": [],
   "source": [
    "field_optical = Field(\n",
    "    ra_down - margin_ra, \n",
    "    ra_up + margin_ra, \n",
    "    dec_down - margin_dec, \n",
    "    dec_up + margin_dec)"
   ]
  },
  {
   "cell_type": "markdown",
   "metadata": {},
   "source": [
    "## Load data"
   ]
  },
  {
   "cell_type": "code",
   "execution_count": 13,
   "metadata": {},
   "outputs": [],
   "source": [
    "combined_all = Table.read(os.path.join(data_path, \"samples\", \"test_combined.fits\"))"
   ]
  },
  {
   "cell_type": "code",
   "execution_count": 14,
   "metadata": {},
   "outputs": [],
   "source": [
    "#lofar_all = Table.read(\"data/LOFAR_HBA_T1_DR1_catalog_v0.9.srl.fits\")\n",
    "#lofar_all = Table.read(os.path.join(data_path, \"samples\", \"P005p28.fits\"))\n",
    "lofar_all = Table.read(os.path.join(data_path, \"samples\", \"LoTSS_DR2_DUMMYCAT_FORPEPE_0h.srl.fits\"))"
   ]
  },
  {
   "cell_type": "code",
   "execution_count": 15,
   "metadata": {
    "collapsed": false,
    "jupyter": {
     "outputs_hidden": false
    }
   },
   "outputs": [
    {
     "data": {
      "text/plain": [
       "array(['RA', 'DEC', 'UID_L', 'UNWISE_OBJID', 'MAG_R', 'MAG_W1', 'MAG_W2'],\n",
       "      dtype='<U12')"
      ]
     },
     "execution_count": 15,
     "metadata": {},
     "output_type": "execute_result"
    }
   ],
   "source": [
    "np.array(combined_all.colnames)"
   ]
  },
  {
   "cell_type": "code",
   "execution_count": 16,
   "metadata": {
    "collapsed": false,
    "jupyter": {
     "outputs_hidden": false
    }
   },
   "outputs": [
    {
     "data": {
      "text/plain": [
       "array(['Source_Name', 'RA', 'E_RA', 'DEC', 'E_DEC', 'Peak_flux',\n",
       "       'E_Peak_flux', 'Total_flux', 'E_Total_flux', 'Maj', 'E_Maj', 'Min',\n",
       "       'E_Min', 'DC_Maj', 'E_DC_Maj', 'DC_Min', 'E_DC_Min', 'PA', 'E_PA',\n",
       "       'DC_PA', 'E_DC_PA', 'Isl_rms', 'S_Code', 'Mosaic_ID'], dtype='<U12')"
      ]
     },
     "execution_count": 16,
     "metadata": {},
     "output_type": "execute_result"
    }
   ],
   "source": [
    "np.array(lofar_all.colnames)"
   ]
  },
  {
   "cell_type": "markdown",
   "metadata": {},
   "source": [
    "### Filter catalogues"
   ]
  },
  {
   "cell_type": "code",
   "execution_count": 68,
   "metadata": {},
   "outputs": [],
   "source": [
    "lofar = field.filter_catalogue(\n",
    "    lofar_all[(lofar_all[\"Maj\"] < 30.0)], colnames=(\"RA\", \"DEC\")\n",
    ")"
   ]
  },
  {
   "cell_type": "code",
   "execution_count": 69,
   "metadata": {},
   "outputs": [],
   "source": [
    "combined = field.filter_catalogue(combined_all, colnames=(\"RA\", \"DEC\"))"
   ]
  },
  {
   "cell_type": "code",
   "execution_count": 70,
   "metadata": {},
   "outputs": [
    {
     "name": "stdout",
     "output_type": "stream",
     "text": [
      "516404 100207\n"
     ]
    }
   ],
   "source": [
    "print(len(lofar_all), len(lofar))"
   ]
  },
  {
   "cell_type": "code",
   "execution_count": 71,
   "metadata": {},
   "outputs": [
    {
     "name": "stdout",
     "output_type": "stream",
     "text": [
      "117758023 14146049\n"
     ]
    }
   ],
   "source": [
    "print(len(combined_all), len(combined))"
   ]
  },
  {
   "cell_type": "markdown",
   "metadata": {},
   "source": [
    "### Sky coordinates"
   ]
  },
  {
   "cell_type": "code",
   "execution_count": 72,
   "metadata": {
    "collapsed": false,
    "jupyter": {
     "outputs_hidden": false
    }
   },
   "outputs": [],
   "source": [
    "coords_combined = SkyCoord(\n",
    "    combined[\"RA\"], combined[\"DEC\"], unit=(u.deg, u.deg), frame=\"icrs\"\n",
    ")"
   ]
  },
  {
   "cell_type": "code",
   "execution_count": 73,
   "metadata": {},
   "outputs": [],
   "source": [
    "coords_lofar = SkyCoord(lofar[\"RA\"], lofar[\"DEC\"], unit=(u.deg, u.deg), frame=\"icrs\")"
   ]
  },
  {
   "cell_type": "markdown",
   "metadata": {},
   "source": [
    "### Summary of galaxy types in the combined catalogue"
   ]
  },
  {
   "cell_type": "code",
   "execution_count": 74,
   "metadata": {
    "collapsed": false,
    "jupyter": {
     "outputs_hidden": false
    }
   },
   "outputs": [
    {
     "data": {
      "text/plain": [
       "12469235"
      ]
     },
     "execution_count": 74,
     "metadata": {},
     "output_type": "execute_result"
    }
   ],
   "source": [
    "combined_legacy = (\n",
    "    ~np.isnan(combined[\"MAG_R\"])\n",
    "    & ~np.isnan(combined[\"MAG_W1\"])\n",
    "    & ~np.isnan(combined[\"MAG_W2\"])\n",
    ")\n",
    "np.sum(combined_legacy)  # Matches"
   ]
  },
  {
   "cell_type": "code",
   "execution_count": 75,
   "metadata": {},
   "outputs": [
    {
     "data": {
      "text/plain": [
       "4314528"
      ]
     },
     "execution_count": 75,
     "metadata": {},
     "output_type": "execute_result"
    }
   ],
   "source": [
    "combined_matched = ~np.isnan(combined[\"MAG_R\"]) & (combined[\"UNWISE_OBJID\"] != \"N/A\")\n",
    "np.sum(combined_matched)"
   ]
  },
  {
   "cell_type": "code",
   "execution_count": 76,
   "metadata": {
    "collapsed": false,
    "jupyter": {
     "outputs_hidden": false
    }
   },
   "outputs": [
    {
     "data": {
      "text/plain": [
       "8154707"
      ]
     },
     "execution_count": 76,
     "metadata": {},
     "output_type": "execute_result"
    }
   ],
   "source": [
    "combined_legacy_only = ~np.isnan(combined[\"MAG_R\"]) & (\n",
    "    combined[\"UNWISE_OBJID\"] == \"N/A\"\n",
    ")\n",
    "np.sum(combined_legacy_only)  # Only Legacy"
   ]
  },
  {
   "cell_type": "code",
   "execution_count": 77,
   "metadata": {},
   "outputs": [
    {
     "name": "stdout",
     "output_type": "stream",
     "text": [
      "12469235\n",
      "12469235\n"
     ]
    }
   ],
   "source": [
    "print(np.sum(combined_legacy))\n",
    "print(np.sum(combined_matched) + np.sum(combined_legacy_only))"
   ]
  },
  {
   "cell_type": "code",
   "execution_count": 78,
   "metadata": {},
   "outputs": [
    {
     "data": {
      "text/plain": [
       "1478875"
      ]
     },
     "execution_count": 78,
     "metadata": {},
     "output_type": "execute_result"
    }
   ],
   "source": [
    "combined_wise = np.isnan(combined[\"MAG_R\"]) & (~np.isnan(combined[\"MAG_W1\"]))\n",
    "np.sum(combined_wise)  # Only WISE"
   ]
  },
  {
   "cell_type": "code",
   "execution_count": 79,
   "metadata": {},
   "outputs": [
    {
     "data": {
      "text/plain": [
       "197939"
      ]
     },
     "execution_count": 79,
     "metadata": {},
     "output_type": "execute_result"
    }
   ],
   "source": [
    "combined_wise2 = np.isnan(combined[\"MAG_R\"]) & np.isnan(combined[\"MAG_W1\"])\n",
    "np.sum(combined_wise2)  # Only WISE2"
   ]
  },
  {
   "cell_type": "code",
   "execution_count": 80,
   "metadata": {},
   "outputs": [
    {
     "name": "stdout",
     "output_type": "stream",
     "text": [
      "14146049\n",
      "14146049\n"
     ]
    }
   ],
   "source": [
    "print(len(combined))\n",
    "print(np.sum(combined_legacy) + np.sum(combined_wise) + np.sum(combined_wise2))"
   ]
  },
  {
   "cell_type": "markdown",
   "metadata": {},
   "source": [
    "## $Q_0$ dependence on the radius\n",
    "\n",
    "We will iterate 10 times for each radius."
   ]
  },
  {
   "cell_type": "code",
   "execution_count": 81,
   "metadata": {},
   "outputs": [],
   "source": [
    "n_iter = 10"
   ]
  },
  {
   "cell_type": "code",
   "execution_count": 57,
   "metadata": {},
   "outputs": [],
   "source": [
    "rads = list(range(1,26))"
   ]
  },
  {
   "cell_type": "markdown",
   "metadata": {},
   "source": [
    "### r-band"
   ]
  },
  {
   "cell_type": "code",
   "execution_count": 58,
   "metadata": {},
   "outputs": [],
   "source": [
    "q_0_comp_r = Q_0(coords_lofar, coords_combined[combined_legacy], field)"
   ]
  },
  {
   "cell_type": "code",
   "execution_count": null,
   "metadata": {
    "collapsed": false,
    "jupyter": {
     "outputs_hidden": false
    }
   },
   "outputs": [
    {
     "name": "stdout",
     "output_type": "stream",
     "text": [
      " 1 0.46474 +/- 0.00019 [0.46441 0.46504]\n",
      " 2 0.62428 +/- 0.00031 [0.62358 0.62483]\n",
      " 3 0.66658 +/- 0.00041 [0.66614 0.66731]\n",
      " 4 0.68808 +/- 0.00069 [0.68645 0.68903]\n",
      " 5 0.69852 +/- 0.00111 [0.69682 0.70005]\n",
      " 6 0.70438 +/- 0.00080 [0.70317 0.70592]\n",
      " 7 0.70954 +/- 0.00112 [0.70771 0.71118]\n",
      " 8 0.71578 +/- 0.00114 [0.71388 0.71693]\n",
      " 9 0.71841 +/- 0.00138 [0.71605 0.72083]\n",
      "10 0.72176 +/- 0.00130 [0.71891 0.72348]\n",
      "11 0.72609 +/- 0.00301 [0.72038 0.73322]\n",
      "12 0.72846 +/- 0.00159 [0.72581 0.73049]\n",
      "13 0.72863 +/- 0.00345 [0.72041 0.73237]\n",
      "14 0.73282 +/- 0.00468 [0.72377 0.73834]\n",
      "15 0.73179 +/- 0.00437 [0.72322 0.73614]\n"
     ]
    }
   ],
   "source": [
    "q_0_rad_r = []\n",
    "q_0_rad_r_std = []\n",
    "for radius in rads:\n",
    "    q_0_rad_aux = []\n",
    "    for i in range(n_iter):\n",
    "        try:\n",
    "            out = q_0_comp_r(radius=radius)\n",
    "        except ZeroDivisionError:\n",
    "            continue\n",
    "        else:\n",
    "            q_0_rad_aux.append(out)\n",
    "    q_0_rad_r.append(np.mean(q_0_rad_aux))\n",
    "    q_0_rad_r_std.append(np.std(q_0_rad_aux))\n",
    "    print(\n",
    "        \"{:2d} {:7.5f} +/- {:7.5f} [{:7.5f} {:7.5f}]\".format(\n",
    "            radius,\n",
    "            np.mean(q_0_rad_aux),\n",
    "            np.std(q_0_rad_aux),\n",
    "            np.min(q_0_rad_aux),\n",
    "            np.max(q_0_rad_aux),\n",
    "        )\n",
    "    )"
   ]
  },
  {
   "cell_type": "code",
   "execution_count": 61,
   "metadata": {
    "collapsed": false,
    "jupyter": {
     "outputs_hidden": false
    }
   },
   "outputs": [
    {
     "data": {
      "text/plain": [
       "(0, 1)"
      ]
     },
     "execution_count": 61,
     "metadata": {},
     "output_type": "execute_result"
    },
    {
     "data": {
      "image/png": "[encoded data removed]",
      "text/plain": [
       "<Figure size 360x360 with 1 Axes>"
      ]
     },
     "metadata": {
      "needs_background": "light"
     },
     "output_type": "display_data"
    }
   ],
   "source": [
    "plt.rcParams[\"figure.figsize\"] = (5, 5)\n",
    "plt.plot(rads, q_0_rad_r)\n",
    "plt.plot(rads, np.array(q_0_rad_r) + 3 * np.array(q_0_rad_r_std), ls=\":\", color=\"b\")\n",
    "plt.plot(rads, np.array(q_0_rad_r) - 3 * np.array(q_0_rad_r_std), ls=\":\", color=\"b\")\n",
    "plt.xlabel(\"Radius (arcsecs)\")\n",
    "plt.ylabel(\"$Q_0 r-band$\")\n",
    "plt.ylim([0, 1])"
   ]
  },
  {
   "cell_type": "markdown",
   "metadata": {},
   "source": [
    "### W1-band"
   ]
  },
  {
   "cell_type": "code",
   "execution_count": null,
   "metadata": {},
   "outputs": [],
   "source": []
  },
  {
   "cell_type": "code",
   "execution_count": 65,
   "metadata": {},
   "outputs": [],
   "source": [
    "lr_saved = np.load(os.path.join(idp, \"lr_r.npz\"))[\"lr_r\"]"
   ]
  },
  {
   "cell_type": "code",
   "execution_count": 83,
   "metadata": {},
   "outputs": [
    {
     "data": {
      "text/plain": [
       "100207"
      ]
     },
     "execution_count": 83,
     "metadata": {},
     "output_type": "execute_result"
    }
   ],
   "source": [
    "len(lr_saved)"
   ]
  },
  {
   "cell_type": "code",
   "execution_count": 82,
   "metadata": {},
   "outputs": [
    {
     "data": {
      "text/plain": [
       "100207"
      ]
     },
     "execution_count": 82,
     "metadata": {},
     "output_type": "execute_result"
    }
   ],
   "source": [
    "len(coords_lofar)"
   ]
  },
  {
   "cell_type": "code",
   "execution_count": 84,
   "metadata": {},
   "outputs": [],
   "source": [
    "coords_lofar_alt = coords_lofar[lr_saved[\"lr_r\"] <= 0.8584698995739861]"
   ]
  },
  {
   "cell_type": "code",
   "execution_count": 87,
   "metadata": {},
   "outputs": [
    {
     "data": {
      "text/plain": [
       "35073"
      ]
     },
     "execution_count": 87,
     "metadata": {},
     "output_type": "execute_result"
    }
   ],
   "source": [
    "len(coords_lofar_alt)"
   ]
  },
  {
   "cell_type": "code",
   "execution_count": 89,
   "metadata": {},
   "outputs": [],
   "source": [
    "base_factor = len(coords_lofar_alt)/len(coords_lofar)"
   ]
  },
  {
   "cell_type": "code",
   "execution_count": 85,
   "metadata": {},
   "outputs": [],
   "source": [
    "q_0_comp_w1 = Q_0(coords_lofar_alt, coords_combined[combined_wise], field)"
   ]
  },
  {
   "cell_type": "code",
   "execution_count": 86,
   "metadata": {
    "collapsed": false,
    "jupyter": {
     "outputs_hidden": false
    }
   },
   "outputs": [
    {
     "name": "stdout",
     "output_type": "stream",
     "text": [
      " 1 0.14002 +/- 0.00016 [0.13975 0.14034]\n",
      " 2 0.26880 +/- 0.00029 [0.26837 0.26929]\n",
      " 3 0.32764 +/- 0.00045 [0.32717 0.32865]\n",
      " 4 0.35784 +/- 0.00060 [0.35700 0.35896]\n",
      " 5 0.37635 +/- 0.00074 [0.37495 0.37722]\n",
      " 6 0.38897 +/- 0.00087 [0.38760 0.39067]\n",
      " 7 0.39781 +/- 0.00095 [0.39607 0.39921]\n",
      " 8 0.40383 +/- 0.00135 [0.40131 0.40626]\n",
      " 9 0.40918 +/- 0.00080 [0.40755 0.40998]\n",
      "10 0.41336 +/- 0.00143 [0.41075 0.41513]\n",
      "11 0.41648 +/- 0.00174 [0.41341 0.41953]\n",
      "12 0.42137 +/- 0.00181 [0.41899 0.42436]\n",
      "13 0.42346 +/- 0.00141 [0.42098 0.42615]\n",
      "14 0.42544 +/- 0.00193 [0.42310 0.42868]\n",
      "15 0.42666 +/- 0.00194 [0.42302 0.42944]\n",
      "16 0.42838 +/- 0.00330 [0.42479 0.43505]\n",
      "17 0.43050 +/- 0.00253 [0.42769 0.43671]\n",
      "18 0.43372 +/- 0.00323 [0.42930 0.43922]\n",
      "19 0.43486 +/- 0.00279 [0.42930 0.43948]\n",
      "20 0.43896 +/- 0.00399 [0.43217 0.44492]\n",
      "21 0.43891 +/- 0.00229 [0.43433 0.44291]\n",
      "22 0.43930 +/- 0.00327 [0.43502 0.44472]\n",
      "23 0.44041 +/- 0.00421 [0.43393 0.44819]\n",
      "24 0.43989 +/- 0.00388 [0.43284 0.44503]\n",
      "25 0.43935 +/- 0.00272 [0.43678 0.44583]\n"
     ]
    }
   ],
   "source": [
    "q_0_rad_w1 = []\n",
    "q_0_rad_w1_std = []\n",
    "for radius in rads:\n",
    "    q_0_rad_aux = []\n",
    "    for i in range(n_iter):\n",
    "        out = q_0_comp_w1(radius=radius)\n",
    "        q_0_rad_aux.append(out)\n",
    "    q_0_rad_w1.append(np.mean(q_0_rad_aux))\n",
    "    q_0_rad_w1_std.append(np.std(q_0_rad_aux))\n",
    "    print(\n",
    "        \"{:2d} {:7.5f} +/- {:7.5f} [{:7.5f} {:7.5f}]\".format(\n",
    "            radius,\n",
    "            np.mean(q_0_rad_aux),\n",
    "            np.std(q_0_rad_aux),\n",
    "            np.min(q_0_rad_aux),\n",
    "            np.max(q_0_rad_aux),\n",
    "        )\n",
    "    )"
   ]
  },
  {
   "cell_type": "code",
   "execution_count": 90,
   "metadata": {},
   "outputs": [],
   "source": [
    "q_0_rad_w1 = np.array(q_0_rad_w1)\n",
    "q_0_rad_w1_std = np.array(q_0_rad_w1_std)"
   ]
  },
  {
   "cell_type": "code",
   "execution_count": 92,
   "metadata": {
    "collapsed": false,
    "jupyter": {
     "outputs_hidden": false
    }
   },
   "outputs": [
    {
     "data": {
      "text/plain": [
       "(0, 0.2)"
      ]
     },
     "execution_count": 92,
     "metadata": {},
     "output_type": "execute_result"
    },
    {
     "data": {
      "image/png": "[encoded data removed]",
      "text/plain": [
       "<Figure size 360x360 with 1 Axes>"
      ]
     },
     "metadata": {
      "needs_background": "light"
     },
     "output_type": "display_data"
    }
   ],
   "source": [
    "plt.rcParams[\"figure.figsize\"] = (5, 5)\n",
    "plt.plot(rads, base_factor * q_0_rad_w1)\n",
    "plt.plot(rads, base_factor * q_0_rad_w1 + 3 * q_0_rad_w1_std, ls=\":\", color=\"b\")\n",
    "plt.plot(rads, base_factor * q_0_rad_w1 - 3 * q_0_rad_w1_std, ls=\":\", color=\"b\")\n",
    "plt.xlabel(\"Radius (arcsecs)\")\n",
    "plt.ylabel(\"$Q_0 W1-band$\")\n",
    "plt.ylim([0, 0.2])"
   ]
  },
  {
   "cell_type": "code",
   "execution_count": 93,
   "metadata": {},
   "outputs": [
    {
     "data": {
      "text/plain": [
       "0.1457702859081701"
      ]
     },
     "execution_count": 93,
     "metadata": {},
     "output_type": "execute_result"
    }
   ],
   "source": [
    "0.41648 * base_factor"
   ]
  },
  {
   "cell_type": "markdown",
   "metadata": {},
   "source": [
    "### W2-band"
   ]
  },
  {
   "cell_type": "markdown",
   "metadata": {},
   "source": [
    "Load the LR of W1. These, combined with those of r-band will be used to discard the galaxies that have already a good match above the likelihood threshold."
   ]
  },
  {
   "cell_type": "code",
   "execution_count": 94,
   "metadata": {},
   "outputs": [],
   "source": [
    "lr_w1_saved = np.load(os.path.join(idp, \"lr_w1.npz\"))[\"lr_w1\"]"
   ]
  },
  {
   "cell_type": "code",
   "execution_count": 95,
   "metadata": {},
   "outputs": [
    {
     "data": {
      "text/plain": [
       "100207"
      ]
     },
     "execution_count": 95,
     "metadata": {},
     "output_type": "execute_result"
    }
   ],
   "source": [
    "len(lr_w1_saved)"
   ]
  },
  {
   "cell_type": "code",
   "execution_count": 97,
   "metadata": {},
   "outputs": [],
   "source": [
    "coords_lofar_alt2 = coords_lofar[\n",
    "    (lr_saved[\"lr_r\"] <= 0.8584698995739861) &\n",
    "    (lr_w1_saved[\"lr_w1\"] <= 3.38560307030821)\n",
    "]"
   ]
  },
  {
   "cell_type": "code",
   "execution_count": 100,
   "metadata": {},
   "outputs": [],
   "source": [
    "base_factor2 = len(coords_lofar_alt2)/len(coords_lofar)"
   ]
  },
  {
   "cell_type": "code",
   "execution_count": 101,
   "metadata": {},
   "outputs": [
    {
     "name": "stdout",
     "output_type": "stream",
     "text": [
      "0.2503617511750676\n"
     ]
    }
   ],
   "source": [
    "print(base_factor2)"
   ]
  },
  {
   "cell_type": "code",
   "execution_count": 98,
   "metadata": {},
   "outputs": [],
   "source": [
    "q_0_comp_w2 = Q_0(coords_lofar_alt2, coords_combined[combined_wise2], field)"
   ]
  },
  {
   "cell_type": "code",
   "execution_count": 99,
   "metadata": {},
   "outputs": [
    {
     "name": "stdout",
     "output_type": "stream",
     "text": [
      " 1 0.00818 +/- 0.00005 [0.00809 0.00829]\n",
      " 2 0.02052 +/- 0.00012 [0.02035 0.02075]\n",
      " 3 0.02979 +/- 0.00029 [0.02922 0.03019]\n",
      " 4 0.03670 +/- 0.00040 [0.03605 0.03744]\n",
      " 5 0.04216 +/- 0.00024 [0.04186 0.04248]\n",
      " 6 0.04531 +/- 0.00047 [0.04452 0.04613]\n",
      " 7 0.04869 +/- 0.00071 [0.04762 0.04985]\n",
      " 8 0.05179 +/- 0.00127 [0.04962 0.05443]\n",
      " 9 0.05478 +/- 0.00089 [0.05374 0.05693]\n",
      "10 0.05656 +/- 0.00070 [0.05531 0.05744]\n",
      "11 0.05796 +/- 0.00083 [0.05669 0.05986]\n",
      "12 0.05925 +/- 0.00127 [0.05660 0.06093]\n",
      "13 0.05959 +/- 0.00115 [0.05725 0.06180]\n",
      "14 0.06068 +/- 0.00115 [0.05809 0.06207]\n",
      "15 0.06149 +/- 0.00099 [0.05954 0.06268]\n",
      "16 0.06319 +/- 0.00099 [0.06117 0.06460]\n",
      "17 0.06225 +/- 0.00108 [0.06017 0.06448]\n",
      "18 0.06272 +/- 0.00334 [0.05691 0.06785]\n",
      "19 0.06553 +/- 0.00179 [0.06196 0.06850]\n",
      "20 0.06679 +/- 0.00236 [0.06373 0.07138]\n",
      "21 0.06808 +/- 0.00211 [0.06505 0.07162]\n",
      "22 0.06779 +/- 0.00245 [0.06419 0.07152]\n",
      "23 0.07126 +/- 0.00160 [0.06878 0.07357]\n",
      "24 0.07153 +/- 0.00222 [0.06804 0.07495]\n",
      "25 0.07253 +/- 0.00269 [0.06811 0.07919]\n"
     ]
    }
   ],
   "source": [
    "q_0_rad_w2 = []\n",
    "q_0_rad_w2_std = []\n",
    "for radius in rads:\n",
    "    q_0_rad_aux = []\n",
    "    for i in range(n_iter):\n",
    "        out = q_0_comp_w2(radius=radius)\n",
    "        q_0_rad_aux.append(out)\n",
    "    q_0_rad_w2.append(np.mean(q_0_rad_aux))\n",
    "    q_0_rad_w2_std.append(np.std(q_0_rad_aux))\n",
    "    print(\n",
    "        \"{:2d} {:7.5f} +/- {:7.5f} [{:7.5f} {:7.5f}]\".format(\n",
    "            radius,\n",
    "            np.mean(q_0_rad_aux),\n",
    "            np.std(q_0_rad_aux),\n",
    "            np.min(q_0_rad_aux),\n",
    "            np.max(q_0_rad_aux),\n",
    "        )\n",
    "    )"
   ]
  },
  {
   "cell_type": "code",
   "execution_count": 103,
   "metadata": {},
   "outputs": [],
   "source": [
    "q_0_rad_w2 = np.array(q_0_rad_w2)\n",
    "q_0_rad_w2_std = np.array(q_0_rad_w2_std)"
   ]
  },
  {
   "cell_type": "code",
   "execution_count": 106,
   "metadata": {},
   "outputs": [
    {
     "data": {
      "text/plain": [
       "(0, 0.03)"
      ]
     },
     "execution_count": 106,
     "metadata": {},
     "output_type": "execute_result"
    },
    {
     "data": {
      "image/png": "[encoded data removed]",
      "text/plain": [
       "<Figure size 360x360 with 1 Axes>"
      ]
     },
     "metadata": {
      "needs_background": "light"
     },
     "output_type": "display_data"
    }
   ],
   "source": [
    "plt.rcParams[\"figure.figsize\"] = (5, 5)\n",
    "plt.plot(rads, base_factor2 * q_0_rad_w2)\n",
    "plt.plot(rads, base_factor2 * q_0_rad_w2 + 3 * q_0_rad_w2_std, ls=\":\", color=\"b\")\n",
    "plt.plot(rads, base_factor2 * q_0_rad_w2 - 3 * q_0_rad_w2_std, ls=\":\", color=\"b\")\n",
    "plt.xlabel(\"Radius (arcsecs)\")\n",
    "plt.ylabel(\"$Q_0 W2-band$\")\n",
    "plt.ylim([0, 0.03])"
   ]
  },
  {
   "cell_type": "code",
   "execution_count": 107,
   "metadata": {},
   "outputs": [
    {
     "data": {
      "text/plain": [
       "0.015820359056752522"
      ]
     },
     "execution_count": 107,
     "metadata": {},
     "output_type": "execute_result"
    }
   ],
   "source": [
    "0.06319 * base_factor2"
   ]
  }
 ],
 "metadata": {
  "jupytext": {
   "formats": "ipynb,py:percent"
  },
  "kernelspec": {
   "display_name": "Python 3",
   "language": "python",
   "name": "python3"
  },
  "language_info": {
   "codemirror_mode": {
    "name": "ipython",
    "version": 3
   },
   "file_extension": ".py",
   "mimetype": "text/x-python",
   "name": "python",
   "nbconvert_exporter": "python",
   "pygments_lexer": "ipython3",
   "version": "3.7.4"
  }
 },
 "nbformat": 4,
 "nbformat_minor": 4
}
