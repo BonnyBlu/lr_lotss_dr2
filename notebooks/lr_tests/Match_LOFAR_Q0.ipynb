{
 "cells": [
  {
   "cell_type": "markdown",
   "metadata": {},
   "source": [
    "# ML match for LOFAR and the combined PanSTARRS WISE catalogue: Compute the $Q_0$"
   ]
  },
  {
   "cell_type": "markdown",
   "metadata": {},
   "source": [
    "## Configuration\n",
    "\n",
    "### Load libraries and setup"
   ]
  },
  {
   "cell_type": "code",
   "execution_count": 1,
   "metadata": {},
   "outputs": [],
   "source": [
    "import os\n",
    "import sys\n",
    "import numpy as np\n",
    "from astropy.table import Table\n",
    "from astropy import units as u\n",
    "from astropy.coordinates import SkyCoord, search_around_sky\n",
    "from IPython.display import clear_output"
   ]
  },
  {
   "cell_type": "code",
   "execution_count": 2,
   "metadata": {},
   "outputs": [],
   "source": [
    "try:\n",
    "    BASEPATH = os.path.dirname(os.path.realpath(__file__))\n",
    "    data_path = os.path.join(BASEPATH, \"..\", \"..\", \"data\")\n",
    "except NameError:\n",
    "    if os.path.exists(\"data\"):\n",
    "        BASEPATH = \".\"\n",
    "        data_path = os.path.join(BASEPATH, \"data\")\n",
    "    else:\n",
    "        BASEPATH = os.getcwd()\n",
    "        data_path = os.path.join(BASEPATH, \"..\", \"..\", \"data\")"
   ]
  },
  {
   "cell_type": "code",
   "execution_count": 3,
   "metadata": {},
   "outputs": [],
   "source": [
    "sys.path.append(os.path.join(BASEPATH, \"..\", \"..\", \"src\"))\n",
    "from mltier1 import Field, Q_0, parallel_process, describe"
   ]
  },
  {
   "cell_type": "code",
   "execution_count": 4,
   "metadata": {},
   "outputs": [],
   "source": [
    "%load_ext autoreload"
   ]
  },
  {
   "cell_type": "code",
   "execution_count": 5,
   "metadata": {},
   "outputs": [],
   "source": [
    "%autoreload"
   ]
  },
  {
   "cell_type": "code",
   "execution_count": 6,
   "metadata": {},
   "outputs": [],
   "source": [
    "from IPython.display import clear_output"
   ]
  },
  {
   "cell_type": "code",
   "execution_count": 7,
   "metadata": {},
   "outputs": [],
   "source": [
    "import matplotlib.pyplot as plt"
   ]
  },
  {
   "cell_type": "code",
   "execution_count": 8,
   "metadata": {
    "collapsed": false,
    "jupyter": {
     "outputs_hidden": false
    }
   },
   "outputs": [],
   "source": [
    "%matplotlib inline"
   ]
  },
  {
   "cell_type": "markdown",
   "metadata": {},
   "source": [
    "### Area limits"
   ]
  },
  {
   "cell_type": "code",
   "execution_count": 9,
   "metadata": {},
   "outputs": [],
   "source": [
    "margin_ra = 0.1\n",
    "margin_dec = 0.1"
   ]
  },
  {
   "cell_type": "code",
   "execution_count": 10,
   "metadata": {},
   "outputs": [],
   "source": [
    "# # Test samples P005p28.fits\n",
    "# dec_down = 27.206\n",
    "# dec_up = 29.8\n",
    "# ra_down = 4.025\n",
    "# ra_up = 7.08\n",
    "\n",
    "# # Test samples LoTSS_DR2_RA0INNER_v0.9.srl\n",
    "# dec_down = 27.7\n",
    "# dec_up = 34.\n",
    "# ra_down = 6.\n",
    "# ra_up = 20.5\n",
    "\n",
    "# Test samples LoTSS_DR2_DUMMYCAT_FORPEPE_0h.srl.fits\n",
    "dec_down = 22.25\n",
    "dec_up = 32.\n",
    "ra_down = 0.\n",
    "ra_up = 20.5"
   ]
  },
  {
   "cell_type": "code",
   "execution_count": 11,
   "metadata": {},
   "outputs": [],
   "source": [
    "field = Field(ra_down, ra_up, dec_down, dec_up)"
   ]
  },
  {
   "cell_type": "code",
   "execution_count": 12,
   "metadata": {},
   "outputs": [],
   "source": [
    "field_optical = Field(\n",
    "    ra_down - margin_ra, \n",
    "    ra_up + margin_ra, \n",
    "    dec_down - margin_dec, \n",
    "    dec_up + margin_dec)"
   ]
  },
  {
   "cell_type": "markdown",
   "metadata": {},
   "source": [
    "## Load data"
   ]
  },
  {
   "cell_type": "code",
   "execution_count": 13,
   "metadata": {},
   "outputs": [],
   "source": [
    "combined_all = Table.read(os.path.join(data_path, \"samples\", \"test_combined.fits\"))"
   ]
  },
  {
   "cell_type": "code",
   "execution_count": 14,
   "metadata": {},
   "outputs": [],
   "source": [
    "#lofar_all = Table.read(\"data/LOFAR_HBA_T1_DR1_catalog_v0.9.srl.fits\")\n",
    "#lofar_all = Table.read(os.path.join(data_path, \"samples\", \"P005p28.fits\"))\n",
    "lofar_all = Table.read(os.path.join(data_path, \"samples\", \"LoTSS_DR2_DUMMYCAT_FORPEPE_0h.srl.fits\"))"
   ]
  },
  {
   "cell_type": "code",
   "execution_count": 15,
   "metadata": {
    "collapsed": false,
    "jupyter": {
     "outputs_hidden": false
    }
   },
   "outputs": [
    {
     "data": {
      "text/plain": [
       "array(['RA', 'DEC', 'UID_L', 'UNWISE_OBJID', 'MAG_R', 'MAG_W1', 'MAG_W2'],\n",
       "      dtype='<U12')"
      ]
     },
     "execution_count": 15,
     "metadata": {},
     "output_type": "execute_result"
    }
   ],
   "source": [
    "np.array(combined_all.colnames)"
   ]
  },
  {
   "cell_type": "code",
   "execution_count": 16,
   "metadata": {
    "collapsed": false,
    "jupyter": {
     "outputs_hidden": false
    }
   },
   "outputs": [
    {
     "data": {
      "text/plain": [
       "array(['Source_Name', 'RA', 'E_RA', 'DEC', 'E_DEC', 'Peak_flux',\n",
       "       'E_Peak_flux', 'Total_flux', 'E_Total_flux', 'Maj', 'E_Maj', 'Min',\n",
       "       'E_Min', 'DC_Maj', 'E_DC_Maj', 'DC_Min', 'E_DC_Min', 'PA', 'E_PA',\n",
       "       'DC_PA', 'E_DC_PA', 'Isl_rms', 'S_Code', 'Mosaic_ID'], dtype='<U12')"
      ]
     },
     "execution_count": 16,
     "metadata": {},
     "output_type": "execute_result"
    }
   ],
   "source": [
    "np.array(lofar_all.colnames)"
   ]
  },
  {
   "cell_type": "markdown",
   "metadata": {},
   "source": [
    "### Filter catalogues"
   ]
  },
  {
   "cell_type": "code",
   "execution_count": 43,
   "metadata": {},
   "outputs": [],
   "source": [
    "lofar = field.filter_catalogue(\n",
    "    lofar_all[(lofar_all[\"Maj\"] < 15.0)], colnames=(\"RA\", \"DEC\")\n",
    ")"
   ]
  },
  {
   "cell_type": "code",
   "execution_count": 44,
   "metadata": {},
   "outputs": [],
   "source": [
    "combined = field.filter_catalogue(combined_all, colnames=(\"RA\", \"DEC\"))"
   ]
  },
  {
   "cell_type": "code",
   "execution_count": 45,
   "metadata": {},
   "outputs": [
    {
     "name": "stdout",
     "output_type": "stream",
     "text": [
      "516404 91484\n"
     ]
    }
   ],
   "source": [
    "print(len(lofar_all), len(lofar))"
   ]
  },
  {
   "cell_type": "code",
   "execution_count": 46,
   "metadata": {},
   "outputs": [
    {
     "name": "stdout",
     "output_type": "stream",
     "text": [
      "117758023 14146049\n"
     ]
    }
   ],
   "source": [
    "print(len(combined_all), len(combined))"
   ]
  },
  {
   "cell_type": "markdown",
   "metadata": {},
   "source": [
    "### Sky coordinates"
   ]
  },
  {
   "cell_type": "code",
   "execution_count": 47,
   "metadata": {
    "collapsed": false,
    "jupyter": {
     "outputs_hidden": false
    }
   },
   "outputs": [],
   "source": [
    "coords_combined = SkyCoord(\n",
    "    combined[\"RA\"], combined[\"DEC\"], unit=(u.deg, u.deg), frame=\"icrs\"\n",
    ")"
   ]
  },
  {
   "cell_type": "code",
   "execution_count": 48,
   "metadata": {},
   "outputs": [],
   "source": [
    "coords_lofar = SkyCoord(lofar[\"RA\"], lofar[\"DEC\"], unit=(u.deg, u.deg), frame=\"icrs\")"
   ]
  },
  {
   "cell_type": "markdown",
   "metadata": {},
   "source": [
    "### Summary of galaxy types in the combined catalogue"
   ]
  },
  {
   "cell_type": "code",
   "execution_count": 49,
   "metadata": {
    "collapsed": false,
    "jupyter": {
     "outputs_hidden": false
    }
   },
   "outputs": [
    {
     "data": {
      "text/plain": [
       "12469235"
      ]
     },
     "execution_count": 49,
     "metadata": {},
     "output_type": "execute_result"
    }
   ],
   "source": [
    "combined_legacy = (\n",
    "    ~np.isnan(combined[\"MAG_R\"])\n",
    "    & ~np.isnan(combined[\"MAG_W1\"])\n",
    "    & ~np.isnan(combined[\"MAG_W2\"])\n",
    ")\n",
    "np.sum(combined_legacy)  # Matches"
   ]
  },
  {
   "cell_type": "code",
   "execution_count": 50,
   "metadata": {},
   "outputs": [
    {
     "data": {
      "text/plain": [
       "4314528"
      ]
     },
     "execution_count": 50,
     "metadata": {},
     "output_type": "execute_result"
    }
   ],
   "source": [
    "combined_matched = ~np.isnan(combined[\"MAG_R\"]) & (combined[\"UNWISE_OBJID\"] != \"N/A\")\n",
    "np.sum(combined_matched)"
   ]
  },
  {
   "cell_type": "code",
   "execution_count": 51,
   "metadata": {
    "collapsed": false,
    "jupyter": {
     "outputs_hidden": false
    }
   },
   "outputs": [
    {
     "data": {
      "text/plain": [
       "8154707"
      ]
     },
     "execution_count": 51,
     "metadata": {},
     "output_type": "execute_result"
    }
   ],
   "source": [
    "combined_legacy_only = ~np.isnan(combined[\"MAG_R\"]) & (\n",
    "    combined[\"UNWISE_OBJID\"] == \"N/A\"\n",
    ")\n",
    "np.sum(combined_legacy_only)  # Only Legacy"
   ]
  },
  {
   "cell_type": "code",
   "execution_count": 52,
   "metadata": {},
   "outputs": [
    {
     "name": "stdout",
     "output_type": "stream",
     "text": [
      "12469235\n",
      "12469235\n"
     ]
    }
   ],
   "source": [
    "print(np.sum(combined_legacy))\n",
    "print(np.sum(combined_matched) + np.sum(combined_legacy_only))"
   ]
  },
  {
   "cell_type": "code",
   "execution_count": 53,
   "metadata": {},
   "outputs": [
    {
     "data": {
      "text/plain": [
       "1478875"
      ]
     },
     "execution_count": 53,
     "metadata": {},
     "output_type": "execute_result"
    }
   ],
   "source": [
    "combined_wise = np.isnan(combined[\"MAG_R\"]) & (~np.isnan(combined[\"MAG_W1\"]))\n",
    "np.sum(combined_wise)  # Only WISE"
   ]
  },
  {
   "cell_type": "code",
   "execution_count": 54,
   "metadata": {},
   "outputs": [
    {
     "data": {
      "text/plain": [
       "197939"
      ]
     },
     "execution_count": 54,
     "metadata": {},
     "output_type": "execute_result"
    }
   ],
   "source": [
    "combined_wise2 = np.isnan(combined[\"MAG_R\"]) & np.isnan(combined[\"MAG_W1\"])\n",
    "np.sum(combined_wise2)  # Only WISE2"
   ]
  },
  {
   "cell_type": "code",
   "execution_count": 55,
   "metadata": {},
   "outputs": [
    {
     "name": "stdout",
     "output_type": "stream",
     "text": [
      "14146049\n",
      "14146049\n"
     ]
    }
   ],
   "source": [
    "print(len(combined))\n",
    "print(np.sum(combined_legacy) + np.sum(combined_wise) + np.sum(combined_wise2))"
   ]
  },
  {
   "cell_type": "markdown",
   "metadata": {},
   "source": [
    "## $Q_0$ dependence on the radius\n",
    "\n",
    "We will iterate 10 times for each radius."
   ]
  },
  {
   "cell_type": "code",
   "execution_count": 56,
   "metadata": {},
   "outputs": [],
   "source": [
    "n_iter = 10"
   ]
  },
  {
   "cell_type": "code",
   "execution_count": 57,
   "metadata": {},
   "outputs": [],
   "source": [
    "rads = list(range(1,26))"
   ]
  },
  {
   "cell_type": "markdown",
   "metadata": {},
   "source": [
    "### r-band"
   ]
  },
  {
   "cell_type": "code",
   "execution_count": 58,
   "metadata": {},
   "outputs": [],
   "source": [
    "q_0_comp_r = Q_0(coords_lofar, coords_combined[combined_legacy], field)"
   ]
  },
  {
   "cell_type": "code",
   "execution_count": null,
   "metadata": {
    "collapsed": false,
    "jupyter": {
     "outputs_hidden": false
    }
   },
   "outputs": [
    {
     "name": "stdout",
     "output_type": "stream",
     "text": [
      " 1 0.46474 +/- 0.00019 [0.46441 0.46504]\n",
      " 2 0.62428 +/- 0.00031 [0.62358 0.62483]\n",
      " 3 0.66658 +/- 0.00041 [0.66614 0.66731]\n",
      " 4 0.68808 +/- 0.00069 [0.68645 0.68903]\n",
      " 5 0.69852 +/- 0.00111 [0.69682 0.70005]\n",
      " 6 0.70438 +/- 0.00080 [0.70317 0.70592]\n",
      " 7 0.70954 +/- 0.00112 [0.70771 0.71118]\n",
      " 8 0.71578 +/- 0.00114 [0.71388 0.71693]\n",
      " 9 0.71841 +/- 0.00138 [0.71605 0.72083]\n",
      "10 0.72176 +/- 0.00130 [0.71891 0.72348]\n",
      "11 0.72609 +/- 0.00301 [0.72038 0.73322]\n",
      "12 0.72846 +/- 0.00159 [0.72581 0.73049]\n",
      "13 0.72863 +/- 0.00345 [0.72041 0.73237]\n",
      "14 0.73282 +/- 0.00468 [0.72377 0.73834]\n",
      "15 0.73179 +/- 0.00437 [0.72322 0.73614]\n"
     ]
    }
   ],
   "source": [
    "q_0_rad_r = []\n",
    "q_0_rad_r_std = []\n",
    "for radius in rads:\n",
    "    q_0_rad_aux = []\n",
    "    for i in range(n_iter):\n",
    "        try:\n",
    "            out = q_0_comp_r(radius=radius)\n",
    "        except ZeroDivisionError:\n",
    "            continue\n",
    "        else:\n",
    "            q_0_rad_aux.append(out)\n",
    "    q_0_rad_r.append(np.mean(q_0_rad_aux))\n",
    "    q_0_rad_r_std.append(np.std(q_0_rad_aux))\n",
    "    print(\n",
    "        \"{:2d} {:7.5f} +/- {:7.5f} [{:7.5f} {:7.5f}]\".format(\n",
    "            radius,\n",
    "            np.mean(q_0_rad_aux),\n",
    "            np.std(q_0_rad_aux),\n",
    "            np.min(q_0_rad_aux),\n",
    "            np.max(q_0_rad_aux),\n",
    "        )\n",
    "    )"
   ]
  },
  {
   "cell_type": "code",
   "execution_count": 61,
   "metadata": {
    "collapsed": false,
    "jupyter": {
     "outputs_hidden": false
    }
   },
   "outputs": [
    {
     "data": {
      "text/plain": [
       "(0, 1)"
      ]
     },
     "execution_count": 61,
     "metadata": {},
     "output_type": "execute_result"
    },
    {
     "data": {
      "image/png": "[encoded data removed]",
      "text/plain": [
       "<Figure size 360x360 with 1 Axes>"
      ]
     },
     "metadata": {
      "needs_background": "light"
     },
     "output_type": "display_data"
    }
   ],
   "source": [
    "plt.rcParams[\"figure.figsize\"] = (5, 5)\n",
    "plt.plot(rads, q_0_rad_r)\n",
    "plt.plot(rads, np.array(q_0_rad_r) + 3 * np.array(q_0_rad_r_std), ls=\":\", color=\"b\")\n",
    "plt.plot(rads, np.array(q_0_rad_r) - 3 * np.array(q_0_rad_r_std), ls=\":\", color=\"b\")\n",
    "plt.xlabel(\"Radius (arcsecs)\")\n",
    "plt.ylabel(\"$Q_0 r-band$\")\n",
    "plt.ylim([0, 1])"
   ]
  },
  {
   "cell_type": "markdown",
   "metadata": {},
   "source": [
    "### W1-band"
   ]
  },
  {
   "cell_type": "code",
   "execution_count": 35,
   "metadata": {},
   "outputs": [],
   "source": [
    "q_0_comp_w1 = Q_0(coords_lofar, coords_combined[combined_wise], field)"
   ]
  },
  {
   "cell_type": "code",
   "execution_count": 62,
   "metadata": {
    "collapsed": false,
    "jupyter": {
     "outputs_hidden": false
    }
   },
   "outputs": [
    {
     "name": "stdout",
     "output_type": "stream",
     "text": [
      " 1 0.05146 +/- 0.00013 [0.05128 0.05170]\n",
      " 2 0.10559 +/- 0.00028 [0.10511 0.10611]\n",
      " 3 0.15257 +/- 0.00034 [0.15204 0.15301]\n",
      " 4 0.19160 +/- 0.00048 [0.19065 0.19249]\n",
      " 5 0.21813 +/- 0.00045 [0.21727 0.21877]\n",
      " 6 0.23492 +/- 0.00040 [0.23424 0.23562]\n",
      " 7 0.24763 +/- 0.00085 [0.24620 0.24884]\n",
      " 8 0.25827 +/- 0.00068 [0.25704 0.25922]\n",
      " 9 0.26819 +/- 0.00053 [0.26717 0.26917]\n",
      "10 0.27610 +/- 0.00101 [0.27445 0.27783]\n",
      "11 0.28175 +/- 0.00140 [0.27971 0.28386]\n",
      "12 0.28607 +/- 0.00109 [0.28445 0.28843]\n",
      "13 0.28812 +/- 0.00083 [0.28653 0.28894]\n",
      "14 0.28969 +/- 0.00164 [0.28642 0.29202]\n",
      "15 0.29154 +/- 0.00144 [0.28907 0.29360]\n",
      "16 0.29401 +/- 0.00127 [0.29154 0.29615]\n",
      "17 0.29645 +/- 0.00182 [0.29189 0.29854]\n",
      "18 0.29748 +/- 0.00142 [0.29487 0.29956]\n",
      "19 0.30033 +/- 0.00175 [0.29757 0.30317]\n",
      "20 0.29768 +/- 0.00266 [0.29330 0.30151]\n",
      "21 0.29834 +/- 0.00202 [0.29547 0.30146]\n",
      "22 0.29857 +/- 0.00273 [0.29328 0.30273]\n",
      "23 0.29745 +/- 0.00207 [0.29417 0.30113]\n",
      "24 0.29821 +/- 0.00247 [0.29385 0.30255]\n",
      "25 0.29913 +/- 0.00396 [0.29072 0.30692]\n"
     ]
    }
   ],
   "source": [
    "q_0_rad_w1 = []\n",
    "q_0_rad_w1_std = []\n",
    "for radius in rads:\n",
    "    q_0_rad_aux = []\n",
    "    for i in range(n_iter):\n",
    "        out = q_0_comp_w1(radius=radius)\n",
    "        q_0_rad_aux.append(out)\n",
    "    q_0_rad_w1.append(np.mean(q_0_rad_aux))\n",
    "    q_0_rad_w1_std.append(np.std(q_0_rad_aux))\n",
    "    print(\n",
    "        \"{:2d} {:7.5f} +/- {:7.5f} [{:7.5f} {:7.5f}]\".format(\n",
    "            radius,\n",
    "            np.mean(q_0_rad_aux),\n",
    "            np.std(q_0_rad_aux),\n",
    "            np.min(q_0_rad_aux),\n",
    "            np.max(q_0_rad_aux),\n",
    "        )\n",
    "    )"
   ]
  },
  {
   "cell_type": "code",
   "execution_count": 63,
   "metadata": {
    "collapsed": false,
    "jupyter": {
     "outputs_hidden": false
    }
   },
   "outputs": [
    {
     "data": {
      "text/plain": [
       "(0, 0.4)"
      ]
     },
     "execution_count": 63,
     "metadata": {},
     "output_type": "execute_result"
    },
    {
     "data": {
      "image/png": "[encoded data removed]",
      "text/plain": [
       "<Figure size 360x360 with 1 Axes>"
      ]
     },
     "metadata": {
      "needs_background": "light"
     },
     "output_type": "display_data"
    }
   ],
   "source": [
    "plt.rcParams[\"figure.figsize\"] = (5, 5)\n",
    "plt.plot(rads, q_0_rad_w1)\n",
    "plt.plot(rads, np.array(q_0_rad_w1) + 3 * np.array(q_0_rad_w1_std), ls=\":\", color=\"b\")\n",
    "plt.plot(rads, np.array(q_0_rad_w1) - 3 * np.array(q_0_rad_w1_std), ls=\":\", color=\"b\")\n",
    "plt.xlabel(\"Radius (arcsecs)\")\n",
    "plt.ylabel(\"$Q_0 W1-band$\")\n",
    "plt.ylim([0, 0.4])"
   ]
  },
  {
   "cell_type": "markdown",
   "metadata": {},
   "source": [
    "### W2-band"
   ]
  },
  {
   "cell_type": "code",
   "execution_count": null,
   "metadata": {},
   "outputs": [],
   "source": [
    "q_0_comp_w2 = Q_0(coords_lofar, coords_combined[combined_wise2], field)"
   ]
  },
  {
   "cell_type": "code",
   "execution_count": null,
   "metadata": {},
   "outputs": [],
   "source": [
    "q_0_rad_w2 = []\n",
    "q_0_rad_w2_std = []\n",
    "for radius in rads:\n",
    "    q_0_rad_aux = []\n",
    "    for i in range(n_iter):\n",
    "        out = q_0_comp_w2(radius=radius)\n",
    "        q_0_rad_aux.append(out)\n",
    "    q_0_rad_w2.append(np.mean(q_0_rad_aux))\n",
    "    q_0_rad_w2_std.append(np.std(q_0_rad_aux))\n",
    "    print(\n",
    "        \"{:2d} {:7.5f} +/- {:7.5f} [{:7.5f} {:7.5f}]\".format(\n",
    "            radius,\n",
    "            np.mean(q_0_rad_aux),\n",
    "            np.std(q_0_rad_aux),\n",
    "            np.min(q_0_rad_aux),\n",
    "            np.max(q_0_rad_aux),\n",
    "        )\n",
    "    )"
   ]
  },
  {
   "cell_type": "code",
   "execution_count": 42,
   "metadata": {},
   "outputs": [
    {
     "data": {
      "text/plain": [
       "(0, 0.08)"
      ]
     },
     "execution_count": 42,
     "metadata": {},
     "output_type": "execute_result"
    },
    {
     "data": {
      "image/png": "[encoded data removed]",
      "text/plain": [
       "<Figure size 360x360 with 1 Axes>"
      ]
     },
     "metadata": {
      "needs_background": "light"
     },
     "output_type": "display_data"
    }
   ],
   "source": [
    "plt.rcParams[\"figure.figsize\"] = (5, 5)\n",
    "plt.plot(rads, q_0_rad_w2)\n",
    "plt.plot(rads, np.array(q_0_rad_w2) + 3 * np.array(q_0_rad_w2_std), ls=\":\", color=\"b\")\n",
    "plt.plot(rads, np.array(q_0_rad_w2) - 3 * np.array(q_0_rad_w2_std), ls=\":\", color=\"b\")\n",
    "plt.xlabel(\"Radius (arcsecs)\")\n",
    "plt.ylabel(\"$Q_0 W2-band$\")\n",
    "plt.ylim([0, 0.08])"
   ]
  },
  {
   "cell_type": "code",
   "execution_count": null,
   "metadata": {},
   "outputs": [],
   "source": []
  }
 ],
 "metadata": {
  "jupytext": {
   "formats": "ipynb,py:percent"
  },
  "kernelspec": {
   "display_name": "Python 3",
   "language": "python",
   "name": "python3"
  },
  "language_info": {
   "codemirror_mode": {
    "name": "ipython",
    "version": 3
   },
   "file_extension": ".py",
   "mimetype": "text/x-python",
   "name": "python",
   "nbconvert_exporter": "python",
   "pygments_lexer": "ipython3",
   "version": "3.7.4"
  }
 },
 "nbformat": 4,
 "nbformat_minor": 4
}
