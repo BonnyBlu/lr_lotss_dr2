{
 "cells": [
  {
   "cell_type": "markdown",
   "metadata": {},
   "source": [
    "# ML match for LOFAR and the combined PanSTARRS WISE catalogue: Compute the $Q_0$"
   ]
  },
  {
   "cell_type": "markdown",
   "metadata": {},
   "source": [
    "## Configuration\n",
    "\n",
    "### Load libraries and setup"
   ]
  },
  {
   "cell_type": "code",
   "execution_count": 1,
   "metadata": {},
   "outputs": [],
   "source": [
    "import os\n",
    "import sys\n",
    "import numpy as np\n",
    "from astropy.table import Table\n",
    "from astropy import units as u\n",
    "from astropy.coordinates import SkyCoord, search_around_sky\n",
    "from IPython.display import clear_output"
   ]
  },
  {
   "cell_type": "code",
   "execution_count": 2,
   "metadata": {},
   "outputs": [],
   "source": [
    "try:\n",
    "    BASEPATH = os.path.dirname(os.path.realpath(__file__))\n",
    "    data_path = os.path.join(BASEPATH, \"..\", \"..\", \"data\")\n",
    "except NameError:\n",
    "    if os.path.exists(\"data\"):\n",
    "        BASEPATH = \".\"\n",
    "        data_path = os.path.join(BASEPATH, \"data\")\n",
    "    else:\n",
    "        BASEPATH = os.getcwd()\n",
    "        data_path = os.path.join(BASEPATH, \"..\", \"..\", \"data\")"
   ]
  },
  {
   "cell_type": "code",
   "execution_count": 3,
   "metadata": {},
   "outputs": [],
   "source": [
    "sys.path.append(os.path.join(BASEPATH, \"..\", \"..\", \"src\"))\n",
    "from mltier1 import Field, Q_0, parallel_process, describe"
   ]
  },
  {
   "cell_type": "code",
   "execution_count": 4,
   "metadata": {},
   "outputs": [],
   "source": [
    "%load_ext autoreload"
   ]
  },
  {
   "cell_type": "code",
   "execution_count": 5,
   "metadata": {},
   "outputs": [],
   "source": [
    "%autoreload"
   ]
  },
  {
   "cell_type": "code",
   "execution_count": 6,
   "metadata": {},
   "outputs": [],
   "source": [
    "from IPython.display import clear_output"
   ]
  },
  {
   "cell_type": "code",
   "execution_count": 7,
   "metadata": {},
   "outputs": [],
   "source": [
    "import matplotlib.pyplot as plt"
   ]
  },
  {
   "cell_type": "code",
   "execution_count": 8,
   "metadata": {
    "collapsed": false,
    "jupyter": {
     "outputs_hidden": false
    }
   },
   "outputs": [],
   "source": [
    "%matplotlib inline"
   ]
  },
  {
   "cell_type": "markdown",
   "metadata": {},
   "source": [
    "### Area limits"
   ]
  },
  {
   "cell_type": "code",
   "execution_count": 9,
   "metadata": {},
   "outputs": [],
   "source": [
    "# Test samples\n",
    "ra_down = 27.206\n",
    "ra_up = 29.8\n",
    "dec_down = 4.025\n",
    "dec_up = 7.08"
   ]
  },
  {
   "cell_type": "code",
   "execution_count": 10,
   "metadata": {},
   "outputs": [],
   "source": [
    "field = Field(4.025, 7.08, 27.206, 29.8)"
   ]
  },
  {
   "cell_type": "code",
   "execution_count": 11,
   "metadata": {},
   "outputs": [],
   "source": [
    "field_op = Field(3.8, 7.3, 27.0, 30.0)"
   ]
  },
  {
   "cell_type": "markdown",
   "metadata": {},
   "source": [
    "## Load data"
   ]
  },
  {
   "cell_type": "code",
   "execution_count": 12,
   "metadata": {},
   "outputs": [],
   "source": [
    "combined_all = Table.read(os.path.join(data_path, \"samples\", \"test_combined.fits\"))"
   ]
  },
  {
   "cell_type": "code",
   "execution_count": 13,
   "metadata": {},
   "outputs": [],
   "source": [
    "#lofar_all = Table.read(\"data/LOFAR_HBA_T1_DR1_catalog_v0.9.srl.fits\")\n",
    "lofar_all = Table.read(os.path.join(data_path, \"samples\", \"P005p28.fits\"))"
   ]
  },
  {
   "cell_type": "code",
   "execution_count": 14,
   "metadata": {
    "collapsed": false,
    "jupyter": {
     "outputs_hidden": false
    }
   },
   "outputs": [
    {
     "data": {
      "text/plain": [
       "array(['RA', 'DEC', 'UID_L', 'UNWISE_OBJID', 'MAG_R', 'MAG_W1', 'MAG_W2'],\n",
       "      dtype='<U12')"
      ]
     },
     "execution_count": 14,
     "metadata": {},
     "output_type": "execute_result"
    }
   ],
   "source": [
    "np.array(combined_all.colnames)"
   ]
  },
  {
   "cell_type": "code",
   "execution_count": 15,
   "metadata": {
    "collapsed": false,
    "jupyter": {
     "outputs_hidden": false
    }
   },
   "outputs": [
    {
     "data": {
      "text/plain": [
       "array(['Source_id', 'Isl_id', 'RA', 'E_RA', 'DEC', 'E_DEC', 'Total_flux',\n",
       "       'E_Total_flux', 'Peak_flux', 'E_Peak_flux', 'RA_max', 'E_RA_max',\n",
       "       'DEC_max', 'E_DEC_max', 'Maj', 'E_Maj', 'Min', 'E_Min', 'PA',\n",
       "       'E_PA', 'Maj_img_plane', 'E_Maj_img_plane', 'Min_img_plane',\n",
       "       'E_Min_img_plane', 'PA_img_plane', 'E_PA_img_plane', 'DC_Maj',\n",
       "       'E_DC_Maj', 'DC_Min', 'E_DC_Min', 'DC_PA', 'E_DC_PA',\n",
       "       'DC_Maj_img_plane', 'E_DC_Maj_img_plane', 'DC_Min_img_plane',\n",
       "       'E_DC_Min_img_plane', 'DC_PA_img_plane', 'E_DC_PA_img_plane',\n",
       "       'Isl_Total_flux', 'E_Isl_Total_flux', 'Isl_rms', 'Isl_mean',\n",
       "       'Resid_Isl_rms', 'Resid_Isl_mean', 'S_Code'], dtype='<U18')"
      ]
     },
     "execution_count": 15,
     "metadata": {},
     "output_type": "execute_result"
    }
   ],
   "source": [
    "np.array(lofar_all.colnames)"
   ]
  },
  {
   "cell_type": "markdown",
   "metadata": {},
   "source": [
    "### Filter catalogues"
   ]
  },
  {
   "cell_type": "code",
   "execution_count": 16,
   "metadata": {},
   "outputs": [],
   "source": [
    "lofar = field.filter_catalogue(\n",
    "    lofar_all[(lofar_all[\"Maj\"] < 30.0)], colnames=(\"RA\", \"DEC\")\n",
    ")"
   ]
  },
  {
   "cell_type": "code",
   "execution_count": 17,
   "metadata": {},
   "outputs": [],
   "source": [
    "combined = field.filter_catalogue(combined_all, colnames=(\"RA\", \"DEC\"))"
   ]
  },
  {
   "cell_type": "code",
   "execution_count": 18,
   "metadata": {},
   "outputs": [
    {
     "name": "stdout",
     "output_type": "stream",
     "text": [
      "5471 3452\n"
     ]
    }
   ],
   "source": [
    "print(len(lofar_all), len(lofar))"
   ]
  },
  {
   "cell_type": "code",
   "execution_count": 19,
   "metadata": {},
   "outputs": [
    {
     "name": "stdout",
     "output_type": "stream",
     "text": [
      "3449056 547371\n"
     ]
    }
   ],
   "source": [
    "print(len(combined_all), len(combined))"
   ]
  },
  {
   "cell_type": "markdown",
   "metadata": {},
   "source": [
    "### Sky coordinates"
   ]
  },
  {
   "cell_type": "code",
   "execution_count": 20,
   "metadata": {
    "collapsed": false,
    "jupyter": {
     "outputs_hidden": false
    }
   },
   "outputs": [],
   "source": [
    "coords_combined = SkyCoord(\n",
    "    combined[\"RA\"], combined[\"DEC\"], unit=(u.deg, u.deg), frame=\"icrs\"\n",
    ")"
   ]
  },
  {
   "cell_type": "code",
   "execution_count": 21,
   "metadata": {},
   "outputs": [],
   "source": [
    "coords_lofar = SkyCoord(lofar[\"RA\"], lofar[\"DEC\"], unit=(u.deg, u.deg), frame=\"icrs\")"
   ]
  },
  {
   "cell_type": "markdown",
   "metadata": {},
   "source": [
    "### Summary of galaxy types in the combined catalogue"
   ]
  },
  {
   "cell_type": "code",
   "execution_count": 22,
   "metadata": {
    "collapsed": false,
    "jupyter": {
     "outputs_hidden": false
    }
   },
   "outputs": [
    {
     "data": {
      "text/plain": [
       "485701"
      ]
     },
     "execution_count": 22,
     "metadata": {},
     "output_type": "execute_result"
    }
   ],
   "source": [
    "combined_legacy = (\n",
    "    ~np.isnan(combined[\"MAG_R\"])\n",
    "    & ~np.isnan(combined[\"MAG_W1\"])\n",
    "    & ~np.isnan(combined[\"MAG_W2\"])\n",
    ")\n",
    "np.sum(combined_legacy)  # Matches"
   ]
  },
  {
   "cell_type": "code",
   "execution_count": 23,
   "metadata": {},
   "outputs": [
    {
     "data": {
      "text/plain": [
       "153210"
      ]
     },
     "execution_count": 23,
     "metadata": {},
     "output_type": "execute_result"
    }
   ],
   "source": [
    "combined_matched = ~np.isnan(combined[\"MAG_R\"]) & (combined[\"UNWISE_OBJID\"] != \"N/A\")\n",
    "np.sum(combined_matched)"
   ]
  },
  {
   "cell_type": "code",
   "execution_count": 24,
   "metadata": {
    "collapsed": false,
    "jupyter": {
     "outputs_hidden": false
    }
   },
   "outputs": [
    {
     "data": {
      "text/plain": [
       "332491"
      ]
     },
     "execution_count": 24,
     "metadata": {},
     "output_type": "execute_result"
    }
   ],
   "source": [
    "combined_legacy_only = ~np.isnan(combined[\"MAG_R\"]) & (\n",
    "    combined[\"UNWISE_OBJID\"] == \"N/A\"\n",
    ")\n",
    "np.sum(combined_legacy_only)  # Only Legacy"
   ]
  },
  {
   "cell_type": "code",
   "execution_count": 25,
   "metadata": {},
   "outputs": [
    {
     "name": "stdout",
     "output_type": "stream",
     "text": [
      "485701\n",
      "485701\n"
     ]
    }
   ],
   "source": [
    "print(np.sum(combined_legacy))\n",
    "print(np.sum(combined_matched) + np.sum(combined_legacy_only))"
   ]
  },
  {
   "cell_type": "code",
   "execution_count": 26,
   "metadata": {},
   "outputs": [
    {
     "data": {
      "text/plain": [
       "54618"
      ]
     },
     "execution_count": 26,
     "metadata": {},
     "output_type": "execute_result"
    }
   ],
   "source": [
    "combined_wise = np.isnan(combined[\"MAG_R\"]) & (~np.isnan(combined[\"MAG_W1\"]))\n",
    "np.sum(combined_wise)  # Only WISE"
   ]
  },
  {
   "cell_type": "code",
   "execution_count": 27,
   "metadata": {},
   "outputs": [
    {
     "data": {
      "text/plain": [
       "7052"
      ]
     },
     "execution_count": 27,
     "metadata": {},
     "output_type": "execute_result"
    }
   ],
   "source": [
    "combined_wise2 = np.isnan(combined[\"MAG_R\"]) & np.isnan(combined[\"MAG_W1\"])\n",
    "np.sum(combined_wise2)  # Only WISE2"
   ]
  },
  {
   "cell_type": "code",
   "execution_count": 28,
   "metadata": {},
   "outputs": [
    {
     "name": "stdout",
     "output_type": "stream",
     "text": [
      "547371\n",
      "547371\n"
     ]
    }
   ],
   "source": [
    "print(len(combined))\n",
    "print(np.sum(combined_legacy) + np.sum(combined_wise) + np.sum(combined_wise2))"
   ]
  },
  {
   "cell_type": "markdown",
   "metadata": {},
   "source": [
    "## $Q_0$ dependence on the radius\n",
    "\n",
    "We will iterate 10 times for each radius."
   ]
  },
  {
   "cell_type": "code",
   "execution_count": 29,
   "metadata": {},
   "outputs": [],
   "source": [
    "n_iter = 10"
   ]
  },
  {
   "cell_type": "code",
   "execution_count": 30,
   "metadata": {},
   "outputs": [],
   "source": [
    "rads = list(range(1,26))"
   ]
  },
  {
   "cell_type": "markdown",
   "metadata": {},
   "source": [
    "### r-band"
   ]
  },
  {
   "cell_type": "code",
   "execution_count": 31,
   "metadata": {},
   "outputs": [],
   "source": [
    "q_0_comp_r = Q_0(coords_lofar, coords_combined[combined_legacy], field)"
   ]
  },
  {
   "cell_type": "code",
   "execution_count": 32,
   "metadata": {
    "collapsed": false,
    "jupyter": {
     "outputs_hidden": false
    }
   },
   "outputs": [
    {
     "name": "stdout",
     "output_type": "stream",
     "text": [
      " 1 0.39575 +/- 0.00103 [0.39391 0.39712]\n",
      " 2 0.56465 +/- 0.00234 [0.56115 0.56924]\n",
      " 3 0.60450 +/- 0.00319 [0.59716 0.60919]\n",
      " 4 0.62994 +/- 0.00263 [0.62563 0.63404]\n",
      " 5 0.64551 +/- 0.00517 [0.64055 0.65380]\n",
      " 6 0.65473 +/- 0.00642 [0.64507 0.66578]\n",
      " 7 0.66857 +/- 0.00682 [0.65872 0.68294]\n",
      " 8 0.66965 +/- 0.00553 [0.66039 0.67881]\n",
      " 9 0.66963 +/- 0.00796 [0.65470 0.68041]\n",
      "10 0.65939 +/- 0.00978 [0.64274 0.67428]\n",
      "11 0.64541 +/- 0.02020 [0.61823 0.68687]\n",
      "12 0.65078 +/- 0.01627 [0.62807 0.67976]\n",
      "13 0.66757 +/- 0.01726 [0.64021 0.69369]\n",
      "14 0.65381 +/- 0.03266 [0.62097 0.71856]\n",
      "15 0.67520 +/- 0.01874 [0.65432 0.70526]\n",
      "16 0.67339 +/- 0.02493 [0.62745 0.70312]\n",
      "17 0.58694 +/- 0.04423 [0.51724 0.66667]\n",
      "18 0.49688 +/- 0.06712 [0.37500 0.56522]\n",
      "19 0.36053 +/- 0.15774 [0.00000 0.56250]\n",
      "20 0.24923 +/- 0.45733 [-1.00000 0.69231]\n",
      "21 -0.08000 +/- 0.69217 [-2.00000 0.40000]\n",
      "22 -0.80000 +/- 0.81240 [-2.00000 0.00000]\n",
      "23 -0.28000 +/- 0.62738 [-1.00000 0.60000]\n",
      "24 1.00000 +/- 0.00000 [1.00000 1.00000]\n",
      "25 1.00000 +/- 0.00000 [1.00000 1.00000]\n"
     ]
    }
   ],
   "source": [
    "q_0_rad_r = []\n",
    "q_0_rad_r_std = []\n",
    "for radius in rads:\n",
    "    q_0_rad_aux = []\n",
    "    for i in range(n_iter):\n",
    "        try:\n",
    "            out = q_0_comp_r(radius=radius)\n",
    "        except ZeroDivisionError:\n",
    "            continue\n",
    "        else:\n",
    "            q_0_rad_aux.append(out)\n",
    "    q_0_rad_r.append(np.mean(q_0_rad_aux))\n",
    "    q_0_rad_r_std.append(np.std(q_0_rad_aux))\n",
    "    print(\n",
    "        \"{:2d} {:7.5f} +/- {:7.5f} [{:7.5f} {:7.5f}]\".format(\n",
    "            radius,\n",
    "            np.mean(q_0_rad_aux),\n",
    "            np.std(q_0_rad_aux),\n",
    "            np.min(q_0_rad_aux),\n",
    "            np.max(q_0_rad_aux),\n",
    "        )\n",
    "    )"
   ]
  },
  {
   "cell_type": "code",
   "execution_count": 33,
   "metadata": {
    "collapsed": false,
    "jupyter": {
     "outputs_hidden": false
    }
   },
   "outputs": [
    {
     "data": {
      "text/plain": [
       "(0, 1)"
      ]
     },
     "execution_count": 33,
     "metadata": {},
     "output_type": "execute_result"
    },
    {
     "data": {
      "image/png": "[encoded data removed]",
      "text/plain": [
       "<Figure size 360x360 with 1 Axes>"
      ]
     },
     "metadata": {
      "needs_background": "light"
     },
     "output_type": "display_data"
    }
   ],
   "source": [
    "plt.rcParams[\"figure.figsize\"] = (5, 5)\n",
    "plt.plot(rads, q_0_rad_r)\n",
    "plt.plot(rads, np.array(q_0_rad_r) + 3 * np.array(q_0_rad_r_std), ls=\":\", color=\"b\")\n",
    "plt.plot(rads, np.array(q_0_rad_r) - 3 * np.array(q_0_rad_r_std), ls=\":\", color=\"b\")\n",
    "plt.xlabel(\"Radius (arcsecs)\")\n",
    "plt.ylabel(\"$Q_0 r-band$\")\n",
    "plt.ylim([0, 1])"
   ]
  },
  {
   "cell_type": "markdown",
   "metadata": {},
   "source": [
    "### W1-band"
   ]
  },
  {
   "cell_type": "code",
   "execution_count": 34,
   "metadata": {},
   "outputs": [],
   "source": [
    "q_0_comp_w1 = Q_0(coords_lofar, coords_combined[combined_wise], field)"
   ]
  },
  {
   "cell_type": "code",
   "execution_count": 35,
   "metadata": {
    "collapsed": false,
    "jupyter": {
     "outputs_hidden": false
    }
   },
   "outputs": [
    {
     "name": "stdout",
     "output_type": "stream",
     "text": [
      " 1 0.04430 +/- 0.00065 [0.04330 0.04524]\n",
      " 2 0.09085 +/- 0.00148 [0.08867 0.09450]\n",
      " 3 0.12454 +/- 0.00182 [0.12130 0.12698]\n",
      " 4 0.15627 +/- 0.00246 [0.15306 0.16062]\n",
      " 5 0.18343 +/- 0.00259 [0.17838 0.18756]\n",
      " 6 0.19461 +/- 0.00308 [0.19033 0.20080]\n",
      " 7 0.20788 +/- 0.00405 [0.20115 0.21424]\n",
      " 8 0.21572 +/- 0.00446 [0.20909 0.22215]\n",
      " 9 0.22194 +/- 0.00677 [0.20973 0.23389]\n",
      "10 0.22826 +/- 0.00587 [0.21948 0.23855]\n",
      "11 0.24001 +/- 0.00747 [0.22756 0.25460]\n",
      "12 0.24585 +/- 0.00506 [0.23630 0.25251]\n",
      "13 0.24169 +/- 0.00649 [0.23010 0.25213]\n",
      "14 0.24524 +/- 0.00881 [0.23141 0.26253]\n",
      "15 0.24186 +/- 0.00688 [0.23084 0.25372]\n",
      "16 0.24352 +/- 0.00686 [0.23586 0.26002]\n",
      "17 0.24883 +/- 0.00839 [0.23652 0.26128]\n",
      "18 0.25078 +/- 0.00773 [0.23792 0.26109]\n",
      "19 0.24889 +/- 0.01105 [0.22930 0.27024]\n",
      "20 0.23958 +/- 0.00661 [0.22410 0.24732]\n",
      "21 0.24151 +/- 0.01031 [0.22001 0.25253]\n",
      "22 0.23743 +/- 0.00977 [0.22898 0.26283]\n",
      "23 0.22456 +/- 0.01404 [0.20825 0.25899]\n",
      "24 0.21648 +/- 0.01398 [0.19805 0.24665]\n",
      "25 0.21509 +/- 0.01764 [0.18856 0.24513]\n"
     ]
    }
   ],
   "source": [
    "q_0_rad_w1 = []\n",
    "q_0_rad_w1_std = []\n",
    "for radius in rads:\n",
    "    q_0_rad_aux = []\n",
    "    for i in range(n_iter):\n",
    "        out = q_0_comp_w1(radius=radius)\n",
    "        q_0_rad_aux.append(out)\n",
    "    q_0_rad_w1.append(np.mean(q_0_rad_aux))\n",
    "    q_0_rad_w1_std.append(np.std(q_0_rad_aux))\n",
    "    print(\n",
    "        \"{:2d} {:7.5f} +/- {:7.5f} [{:7.5f} {:7.5f}]\".format(\n",
    "            radius,\n",
    "            np.mean(q_0_rad_aux),\n",
    "            np.std(q_0_rad_aux),\n",
    "            np.min(q_0_rad_aux),\n",
    "            np.max(q_0_rad_aux),\n",
    "        )\n",
    "    )"
   ]
  },
  {
   "cell_type": "code",
   "execution_count": 36,
   "metadata": {
    "collapsed": false,
    "jupyter": {
     "outputs_hidden": false
    }
   },
   "outputs": [
    {
     "data": {
      "text/plain": [
       "(0, 0.4)"
      ]
     },
     "execution_count": 36,
     "metadata": {},
     "output_type": "execute_result"
    },
    {
     "data": {
      "image/png": "[encoded data removed]",
      "text/plain": [
       "<Figure size 360x360 with 1 Axes>"
      ]
     },
     "metadata": {
      "needs_background": "light"
     },
     "output_type": "display_data"
    }
   ],
   "source": [
    "plt.rcParams[\"figure.figsize\"] = (5, 5)\n",
    "plt.plot(rads, q_0_rad_w1)\n",
    "plt.plot(rads, np.array(q_0_rad_w1) + 3 * np.array(q_0_rad_w1_std), ls=\":\", color=\"b\")\n",
    "plt.plot(rads, np.array(q_0_rad_w1) - 3 * np.array(q_0_rad_w1_std), ls=\":\", color=\"b\")\n",
    "plt.xlabel(\"Radius (arcsecs)\")\n",
    "plt.ylabel(\"$Q_0 W1-band$\")\n",
    "plt.ylim([0, 0.4])"
   ]
  },
  {
   "cell_type": "markdown",
   "metadata": {},
   "source": [
    "### W2-band"
   ]
  },
  {
   "cell_type": "code",
   "execution_count": 37,
   "metadata": {},
   "outputs": [],
   "source": [
    "q_0_comp_w2 = Q_0(coords_lofar, coords_combined[combined_wise2], field)"
   ]
  },
  {
   "cell_type": "code",
   "execution_count": 38,
   "metadata": {},
   "outputs": [
    {
     "name": "stdout",
     "output_type": "stream",
     "text": [
      " 1 0.00246 +/- 0.00019 [0.00203 0.00261]\n",
      " 2 0.00487 +/- 0.00071 [0.00349 0.00580]\n",
      " 3 0.01211 +/- 0.00067 [0.01076 0.01305]\n",
      " 4 0.01739 +/- 0.00075 [0.01659 0.01888]\n",
      " 5 0.02422 +/- 0.00173 [0.01991 0.02647]\n",
      " 6 0.02392 +/- 0.00179 [0.02114 0.02714]\n",
      " 7 0.02914 +/- 0.00150 [0.02732 0.03159]\n",
      " 8 0.03202 +/- 0.00162 [0.02919 0.03375]\n",
      " 9 0.03631 +/- 0.00167 [0.03236 0.03779]\n",
      "10 0.03872 +/- 0.00287 [0.03454 0.04366]\n",
      "11 0.03814 +/- 0.00263 [0.03472 0.04359]\n",
      "12 0.03887 +/- 0.00202 [0.03583 0.04218]\n",
      "13 0.04147 +/- 0.00233 [0.03697 0.04450]\n",
      "14 0.04503 +/- 0.00394 [0.03883 0.05273]\n",
      "15 0.04757 +/- 0.00138 [0.04533 0.04941]\n",
      "16 0.05148 +/- 0.00412 [0.04522 0.05920]\n",
      "17 0.05261 +/- 0.00282 [0.04766 0.05764]\n",
      "18 0.05231 +/- 0.00440 [0.04256 0.05888]\n",
      "19 0.05258 +/- 0.00502 [0.04413 0.06170]\n",
      "20 0.04860 +/- 0.00792 [0.03518 0.06360]\n",
      "21 0.04593 +/- 0.00454 [0.03611 0.05184]\n",
      "22 0.04654 +/- 0.00411 [0.04014 0.05282]\n",
      "23 0.04835 +/- 0.00575 [0.03776 0.05682]\n",
      "24 0.04992 +/- 0.00726 [0.04005 0.05982]\n",
      "25 0.04979 +/- 0.00839 [0.02842 0.05653]\n"
     ]
    }
   ],
   "source": [
    "q_0_rad_w2 = []\n",
    "q_0_rad_w2_std = []\n",
    "for radius in rads:\n",
    "    q_0_rad_aux = []\n",
    "    for i in range(n_iter):\n",
    "        out = q_0_comp_w2(radius=radius)\n",
    "        q_0_rad_aux.append(out)\n",
    "    q_0_rad_w2.append(np.mean(q_0_rad_aux))\n",
    "    q_0_rad_w2_std.append(np.std(q_0_rad_aux))\n",
    "    print(\n",
    "        \"{:2d} {:7.5f} +/- {:7.5f} [{:7.5f} {:7.5f}]\".format(\n",
    "            radius,\n",
    "            np.mean(q_0_rad_aux),\n",
    "            np.std(q_0_rad_aux),\n",
    "            np.min(q_0_rad_aux),\n",
    "            np.max(q_0_rad_aux),\n",
    "        )\n",
    "    )"
   ]
  },
  {
   "cell_type": "code",
   "execution_count": 39,
   "metadata": {},
   "outputs": [
    {
     "data": {
      "text/plain": [
       "(0, 0.08)"
      ]
     },
     "execution_count": 39,
     "metadata": {},
     "output_type": "execute_result"
    },
    {
     "data": {
      "image/png": "[encoded data removed]",
      "text/plain": [
       "<Figure size 360x360 with 1 Axes>"
      ]
     },
     "metadata": {
      "needs_background": "light"
     },
     "output_type": "display_data"
    }
   ],
   "source": [
    "plt.rcParams[\"figure.figsize\"] = (5, 5)\n",
    "plt.plot(rads, q_0_rad_w2)\n",
    "plt.plot(rads, np.array(q_0_rad_w2) + 3 * np.array(q_0_rad_w2_std), ls=\":\", color=\"b\")\n",
    "plt.plot(rads, np.array(q_0_rad_w2) - 3 * np.array(q_0_rad_w2_std), ls=\":\", color=\"b\")\n",
    "plt.xlabel(\"Radius (arcsecs)\")\n",
    "plt.ylabel(\"$Q_0 W2-band$\")\n",
    "plt.ylim([0, 0.08])"
   ]
  },
  {
   "cell_type": "code",
   "execution_count": null,
   "metadata": {},
   "outputs": [],
   "source": []
  }
 ],
 "metadata": {
  "kernelspec": {
   "display_name": "Python 3",
   "language": "python",
   "name": "python3"
  },
  "language_info": {
   "codemirror_mode": {
    "name": "ipython",
    "version": 3
   },
   "file_extension": ".py",
   "mimetype": "text/x-python",
   "name": "python",
   "nbconvert_exporter": "python",
   "pygments_lexer": "ipython3",
   "version": "3.7.3"
  }
 },
 "nbformat": 4,
 "nbformat_minor": 4
}
