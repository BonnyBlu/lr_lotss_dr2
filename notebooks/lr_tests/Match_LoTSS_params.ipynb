{
 "cells": [
  {
   "cell_type": "markdown",
   "metadata": {},
   "source": [
    "# ML match for LOFAR and the Legacy-WISE catalogue: Source catalogue\n",
    "\n",
    "This version computes the final parameters for the 0h region in an iterative fashion. The computation of the $Q_0$ is also included here."
   ]
  },
  {
   "cell_type": "markdown",
   "metadata": {},
   "source": [
    "## Configuration\n",
    "\n",
    "### Load libraries and setup"
   ]
  },
  {
   "cell_type": "code",
   "execution_count": 1,
   "metadata": {},
   "outputs": [],
   "source": [
    "import pickle\n",
    "import os\n",
    "import sys\n",
    "from glob import glob\n",
    "from shutil import copyfile\n",
    "import numpy as np\n",
    "from astropy.table import Table\n",
    "from astropy import units as u\n",
    "from astropy.coordinates import SkyCoord, search_around_sky\n",
    "import yaml\n",
    "from dotenv import load_dotenv, find_dotenv\n",
    "from IPython.display import clear_output"
   ]
  },
  {
   "cell_type": "code",
   "execution_count": 2,
   "metadata": {},
   "outputs": [],
   "source": [
    "try:\n",
    "    BASEPATH = os.path.dirname(os.path.realpath(__file__))\n",
    "    ROOTPATH = os.path.join(BASEPATH, \"..\", \"..\")\n",
    "except NameError as e:\n",
    "    if os.path.exists(\"data\"):\n",
    "        BASEPATH = os.path.realpath(\".\")\n",
    "        ROOTPATH = BASEPATH\n",
    "    else:\n",
    "        BASEPATH = os.getcwd()\n",
    "        ROOTPATH = os.path.join(BASEPATH, \"..\", \"..\")\n",
    "\n",
    "data_path = os.path.join(ROOTPATH, \"data\")\n",
    "src_path = os.path.join(ROOTPATH, \"src\")\n",
    "config_path = os.path.join(ROOTPATH, \"config\")"
   ]
  },
  {
   "cell_type": "code",
   "execution_count": 3,
   "metadata": {},
   "outputs": [],
   "source": [
    "sys.path.append(src_path)\n",
    "from mltier1 import (get_center, get_n_m, estimate_q_m, Field, SingleMLEstimator, MultiMLEstimator,\n",
    "                     parallel_process, get_sigma_all, get_q_m, get_threshold, q0_min_level, q0_min_numbers,\n",
    "                     get_n_m_kde, estimate_q_m_kde, get_q_m_kde, describe, Q_0)"
   ]
  },
  {
   "cell_type": "code",
   "execution_count": 4,
   "metadata": {},
   "outputs": [],
   "source": [
    "%load_ext autoreload"
   ]
  },
  {
   "cell_type": "code",
   "execution_count": 5,
   "metadata": {},
   "outputs": [],
   "source": [
    "%autoreload"
   ]
  },
  {
   "cell_type": "code",
   "execution_count": 6,
   "metadata": {},
   "outputs": [],
   "source": [
    "import matplotlib.pyplot as plt"
   ]
  },
  {
   "cell_type": "code",
   "execution_count": 7,
   "metadata": {},
   "outputs": [],
   "source": [
    "%matplotlib inline"
   ]
  },
  {
   "cell_type": "markdown",
   "metadata": {},
   "source": [
    "### Configuration"
   ]
  },
  {
   "cell_type": "code",
   "execution_count": 7,
   "metadata": {},
   "outputs": [],
   "source": [
    "with open(os.path.join(config_path, \"params.yml\"), \"r\") as ymlfile:\n",
    "    cfg_all = yaml.safe_load(ymlfile)"
   ]
  },
  {
   "cell_type": "code",
   "execution_count": 8,
   "metadata": {},
   "outputs": [],
   "source": [
    "load_dotenv(find_dotenv())\n",
    "REGION='n13a'\n",
    "#REGION = os.getenv(\"REGION\")\n",
    "config = cfg_all[REGION]"
   ]
  },
  {
   "cell_type": "code",
   "execution_count": 9,
   "metadata": {},
   "outputs": [],
   "source": [
    "region_name = config[\"region_name\"]\n",
    "radio_catalogue = os.path.join(data_path, config[\"radio_catalogue\"])\n",
    "combined_catalogue = os.path.join(data_path, config[\"combined_catalogue\"])\n",
    "dec_down = config[\"dec_down\"]\n",
    "dec_up = config[\"dec_up\"]\n",
    "ra_down = config[\"ra_down\"]\n",
    "ra_up = config[\"ra_up\"]\n",
    "max_major = config[\"max_major\"]\n",
    "colour_limits_post = np.array(config[\"colour_limits_post\"])"
   ]
  },
  {
   "cell_type": "markdown",
   "metadata": {},
   "source": [
    "### General configuration"
   ]
  },
  {
   "cell_type": "code",
   "execution_count": 70,
   "metadata": {},
   "outputs": [],
   "source": [
    "save_intermediate = True\n",
    "plot_intermediate = False"
   ]
  },
  {
   "cell_type": "code",
   "execution_count": 10,
   "metadata": {},
   "outputs": [],
   "source": [
    "idp = os.path.join(data_path, \"idata\", region_name)"
   ]
  },
  {
   "cell_type": "code",
   "execution_count": 19,
   "metadata": {},
   "outputs": [],
   "source": [
    "os.makedirs(idp, exist_ok=True)"
   ]
  },
  {
   "cell_type": "markdown",
   "metadata": {},
   "source": [
    "### Area limits"
   ]
  },
  {
   "cell_type": "code",
   "execution_count": 20,
   "metadata": {},
   "outputs": [],
   "source": [
    "margin_ra = 0.1\n",
    "margin_dec = 0.1"
   ]
  },
  {
   "cell_type": "code",
   "execution_count": 21,
   "metadata": {},
   "outputs": [],
   "source": [
    "field = Field(ra_down, ra_up, dec_down, dec_up)"
   ]
  },
  {
   "cell_type": "code",
   "execution_count": 22,
   "metadata": {},
   "outputs": [],
   "source": [
    "field_full = field\n",
    "#field_full = Field(160.0, 232.0, 42.0, 62.0)"
   ]
  },
  {
   "cell_type": "code",
   "execution_count": 23,
   "metadata": {},
   "outputs": [],
   "source": [
    "field_optical = Field(\n",
    "    ra_down - margin_ra, \n",
    "    ra_up + margin_ra, \n",
    "    dec_down - margin_dec, \n",
    "    dec_up + margin_dec)"
   ]
  },
  {
   "cell_type": "markdown",
   "metadata": {},
   "source": [
    "## Load data"
   ]
  },
  {
   "cell_type": "code",
   "execution_count": 24,
   "metadata": {},
   "outputs": [],
   "source": [
    "combined_all = Table.read(combined_catalogue)"
   ]
  },
  {
   "cell_type": "markdown",
   "metadata": {},
   "source": [
    "We will start to use the updated catalogues that include the output of the LOFAR Galaxy Zoo work."
   ]
  },
  {
   "cell_type": "code",
   "execution_count": 25,
   "metadata": {},
   "outputs": [],
   "source": [
    "#lofar_all = Table.read(\"data/LOFAR_HBA_T1_DR1_catalog_v0.9.srl.fits\")\n",
    "#lofar_all = Table.read(os.path.join(data_path, \"samples\", \"P005p28.fits\"))\n",
    "#lofar_all = Table.read(os.path.join(data_path, \"samples\", \"LoTSS_DR2_RA0INNER_v0.9.srl.fits\"))\n",
    "lofar_all = Table.read(radio_catalogue)"
   ]
  },
  {
   "cell_type": "code",
   "execution_count": 26,
   "metadata": {},
   "outputs": [
    {
     "data": {
      "text/plain": [
       "array(['RA', 'DEC', 'UID_L', 'UNWISE_OBJID', 'MAG_R', 'MAG_W1', 'MAG_W2',\n",
       "       'ID'], dtype='<U12')"
      ]
     },
     "execution_count": 26,
     "metadata": {},
     "output_type": "execute_result"
    }
   ],
   "source": [
    "np.array(combined_all.colnames)"
   ]
  },
  {
   "cell_type": "code",
   "execution_count": 27,
   "metadata": {},
   "outputs": [
    {
     "data": {
      "text/plain": [
       "array(['Source_Name', 'RA', 'E_RA', 'DEC', 'E_DEC', 'Peak_flux',\n",
       "       'E_Peak_flux', 'Total_flux', 'E_Total_flux', 'Maj', 'E_Maj', 'Min',\n",
       "       'E_Min', 'DC_Maj', 'E_DC_Maj', 'DC_Min', 'E_DC_Min', 'PA', 'E_PA',\n",
       "       'DC_PA', 'E_DC_PA', 'Isl_rms', 'S_Code', 'Mosaic_ID',\n",
       "       'Number_Pointings', 'Masked_Fraction'], dtype='<U16')"
      ]
     },
     "execution_count": 27,
     "metadata": {},
     "output_type": "execute_result"
    }
   ],
   "source": [
    "np.array(lofar_all.colnames)"
   ]
  },
  {
   "cell_type": "code",
   "execution_count": 28,
   "metadata": {},
   "outputs": [
    {
     "name": "stdout",
     "output_type": "stream",
     "text": [
      "9.960 +/- 6.855; median: 8.094; limits: [3.698, 661.372]; N=4396228 (0 NaN; 0 masked)\n"
     ]
    }
   ],
   "source": [
    "describe(lofar_all['Maj'])"
   ]
  },
  {
   "cell_type": "markdown",
   "metadata": {},
   "source": [
    "### Filter catalogues\n",
    "\n",
    "We will take the sources in the main region but also discard sources with a Major axis size bigger than 15 arsecs."
   ]
  },
  {
   "cell_type": "code",
   "execution_count": 29,
   "metadata": {},
   "outputs": [],
   "source": [
    "lofar_aux = lofar_all[~np.isnan(lofar_all['Maj'])]"
   ]
  },
  {
   "cell_type": "code",
   "execution_count": 30,
   "metadata": {},
   "outputs": [],
   "source": [
    "lofar = field.filter_catalogue(lofar_aux[(lofar_aux['Maj'] < max_major)], \n",
    "                               colnames=(\"RA\", \"DEC\"))"
   ]
  },
  {
   "cell_type": "code",
   "execution_count": 31,
   "metadata": {},
   "outputs": [],
   "source": [
    "lofar_full = field_full.filter_catalogue(lofar_aux[(lofar_aux['Maj'] < max_major)], \n",
    "                                         colnames=(\"RA\", \"DEC\"))"
   ]
  },
  {
   "cell_type": "code",
   "execution_count": 32,
   "metadata": {},
   "outputs": [],
   "source": [
    "combined = field_optical.filter_catalogue(combined_all, \n",
    "                                colnames=(\"RA\", \"DEC\"))"
   ]
  },
  {
   "cell_type": "code",
   "execution_count": 33,
   "metadata": {},
   "outputs": [],
   "source": [
    "combined_nomargin = field.filter_catalogue(combined_all, \n",
    "                                colnames=(\"RA\", \"DEC\"))"
   ]
  },
  {
   "cell_type": "markdown",
   "metadata": {},
   "source": [
    "### Additional data\n",
    "\n",
    "Compute some additional data that was not available in the catalogues like the colour or an auxiliary array with an index."
   ]
  },
  {
   "cell_type": "code",
   "execution_count": 34,
   "metadata": {},
   "outputs": [],
   "source": [
    "combined[\"colour\"] = combined[\"MAG_R\"] - combined[\"MAG_W1\"]"
   ]
  },
  {
   "cell_type": "code",
   "execution_count": 35,
   "metadata": {},
   "outputs": [],
   "source": [
    "combined_aux_index = np.arange(len(combined))"
   ]
  },
  {
   "cell_type": "markdown",
   "metadata": {},
   "source": [
    "### Sky coordinates"
   ]
  },
  {
   "cell_type": "code",
   "execution_count": 36,
   "metadata": {},
   "outputs": [],
   "source": [
    "coords_combined = SkyCoord(combined['RA'], \n",
    "                           combined['DEC'], \n",
    "                           unit=(u.deg, u.deg), \n",
    "                           frame='icrs')"
   ]
  },
  {
   "cell_type": "code",
   "execution_count": 37,
   "metadata": {},
   "outputs": [],
   "source": [
    "coords_lofar = SkyCoord(lofar['RA'], \n",
    "                       lofar['DEC'], \n",
    "                       unit=(u.deg, u.deg), \n",
    "                       frame='icrs')"
   ]
  },
  {
   "cell_type": "markdown",
   "metadata": {},
   "source": [
    "### Class of sources in the combined catalogue\n",
    "\n",
    "The sources are grouped depending on the available photometric data."
   ]
  },
  {
   "cell_type": "code",
   "execution_count": 38,
   "metadata": {},
   "outputs": [],
   "source": [
    "combined_legacy = (\n",
    "    ~np.isnan(combined[\"MAG_R\"]) & \n",
    "    ~np.isnan(combined[\"MAG_W1\"]) & \n",
    "    ~np.isnan(combined[\"MAG_W2\"])\n",
    ")"
   ]
  },
  {
   "cell_type": "code",
   "execution_count": 39,
   "metadata": {},
   "outputs": [],
   "source": [
    "combined_wise =(\n",
    "    np.isnan(combined[\"MAG_R\"]) & \n",
    "    ~np.isnan(combined[\"MAG_W1\"])\n",
    ")"
   ]
  },
  {
   "cell_type": "code",
   "execution_count": 40,
   "metadata": {},
   "outputs": [],
   "source": [
    "combined_wise2 =(\n",
    "    np.isnan(combined[\"MAG_R\"]) & \n",
    "    np.isnan(combined[\"MAG_W1\"])\n",
    ")"
   ]
  },
  {
   "cell_type": "code",
   "execution_count": 41,
   "metadata": {},
   "outputs": [
    {
     "name": "stdout",
     "output_type": "stream",
     "text": [
      "Total     -  22922632\n",
      "R and W1  -  20173190\n",
      "Only WISE -  0\n",
      "Only W2   -  0\n"
     ]
    }
   ],
   "source": [
    "print(\"Total     - \", len(combined))\n",
    "print(\"R and W1  - \", np.sum(combined_legacy))\n",
    "print(\"Only WISE - \", np.sum(combined_wise))\n",
    "print(\"Only W2   - \", np.sum(combined_wise2))"
   ]
  },
  {
   "cell_type": "markdown",
   "metadata": {},
   "source": [
    "### Colour categories\n",
    "\n",
    "The colour categories will be used after the first ML match"
   ]
  },
  {
   "cell_type": "code",
   "execution_count": 42,
   "metadata": {
    "jupyter": {
     "source_hidden": true
    }
   },
   "outputs": [],
   "source": [
    "# Commented out because plots are not needed right now #\n",
    "#plt.hist(combined[\"colour\"], bins=100);"
   ]
  },
  {
   "cell_type": "code",
   "execution_count": 43,
   "metadata": {
    "jupyter": {
     "source_hidden": true
    }
   },
   "outputs": [],
   "source": [
    "# Commented out because plots are not needed right now #\n",
    "#from astroML.plotting import hist as amlhist\n",
    "#from astropy.visualization import hist as amlhist"
   ]
  },
  {
   "cell_type": "code",
   "execution_count": 44,
   "metadata": {
    "jupyter": {
     "source_hidden": true
    },
    "scrolled": true
   },
   "outputs": [],
   "source": [
    "#list(range(10,100,10))"
   ]
  },
  {
   "cell_type": "code",
   "execution_count": 45,
   "metadata": {
    "jupyter": {
     "source_hidden": true
    },
    "scrolled": true
   },
   "outputs": [],
   "source": [
    "#np.round(np.percentile(combined[\"colour\"][~np.isnan(combined[\"colour\"])], list(range(10,100,10))), 1)\n",
    "# array([-0.5,  0.1,  0.6,  1. ,  1.3,  1.6,  2. ,  2.5,  3.1])"
   ]
  },
  {
   "cell_type": "code",
   "execution_count": 46,
   "metadata": {
    "jupyter": {
     "source_hidden": true
    }
   },
   "outputs": [],
   "source": [
    "#colour_limits = [0.0, 0.5, 1.0, 1.25, 1.5, 1.75, 2.0, 2.25, 2.5, 2.75, 3.0, 3.5, 4.0]\n",
    "#colour_limits = np.round(np.percentile(combined[\"colour\"][~np.isnan(combined[\"colour\"])], list(range(10,100,10))), 1)"
   ]
  },
  {
   "cell_type": "markdown",
   "metadata": {},
   "source": [
    "Manually defined colour bins a posteriori"
   ]
  },
  {
   "cell_type": "code",
   "execution_count": 47,
   "metadata": {},
   "outputs": [],
   "source": [
    "colour_limits = colour_limits_post"
   ]
  },
  {
   "cell_type": "code",
   "execution_count": 48,
   "metadata": {},
   "outputs": [],
   "source": [
    "# Start with the W2-only, W1-only, and \"less than lower colour\" bins\n",
    "colour_bin_def = [{\"name\":\"only W2\", \"condition\": combined_wise2},\n",
    "                  {\"name\":\"only WISE\", \"condition\": combined_wise},\n",
    "                  {\"name\":\"-inf to {}\".format(colour_limits[0]), \n",
    "                   \"condition\": (combined[\"colour\"] < colour_limits[0])}]\n",
    "\n",
    "# Get the colour bins\n",
    "for i in range(len(colour_limits)-1):\n",
    "    name = \"{} to {}\".format(colour_limits[i], colour_limits[i+1])\n",
    "    condition = ((combined[\"colour\"] >= colour_limits[i]) & \n",
    "                 (combined[\"colour\"] < colour_limits[i+1]))\n",
    "    colour_bin_def.append({\"name\":name, \"condition\":condition})\n",
    "\n",
    "# Add the \"more than higher colour\" bin\n",
    "colour_bin_def.append({\"name\":\"{} to inf\".format(colour_limits[-1]), \n",
    "                       \"condition\": (combined[\"colour\"] >= colour_limits[-1])})"
   ]
  },
  {
   "cell_type": "markdown",
   "metadata": {},
   "source": [
    "The dictionary ''colour_bin_def'' contains the indices of the different colour categories."
   ]
  },
  {
   "cell_type": "code",
   "execution_count": 49,
   "metadata": {},
   "outputs": [
    {
     "data": {
      "text/plain": [
       "[{'name': 'only W2',\n",
       "  'condition': masked_array(data=[False, False, False, ..., --, --, --],\n",
       "               mask=[False, False, False, ...,  True,  True,  True],\n",
       "         fill_value=True)},\n",
       " {'name': 'only WISE',\n",
       "  'condition': masked_array(data=[False, False, False, ..., --, --, --],\n",
       "               mask=[False, False, False, ...,  True,  True,  True],\n",
       "         fill_value=True)},\n",
       " {'name': '-inf to 0.7',\n",
       "  'condition': masked_array(data=[True, True, False, ..., --, --, --],\n",
       "               mask=[False, False, False, ...,  True,  True,  True],\n",
       "         fill_value=True)},\n",
       " {'name': '0.7 to 1.1',\n",
       "  'condition': masked_array(data=[False, False, False, ..., --, --, --],\n",
       "               mask=[False, False, False, ...,  True,  True,  True],\n",
       "         fill_value=True)},\n",
       " {'name': '1.1 to 1.5',\n",
       "  'condition': masked_array(data=[False, False, True, ..., --, --, --],\n",
       "               mask=[False, False, False, ...,  True,  True,  True],\n",
       "         fill_value=True)},\n",
       " {'name': '1.5 to 1.9',\n",
       "  'condition': masked_array(data=[False, False, False, ..., --, --, --],\n",
       "               mask=[False, False, False, ...,  True,  True,  True],\n",
       "         fill_value=True)},\n",
       " {'name': '1.9 to 2.3',\n",
       "  'condition': masked_array(data=[False, False, False, ..., --, --, --],\n",
       "               mask=[False, False, False, ...,  True,  True,  True],\n",
       "         fill_value=True)},\n",
       " {'name': '2.3 to 2.7',\n",
       "  'condition': masked_array(data=[False, False, False, ..., --, --, --],\n",
       "               mask=[False, False, False, ...,  True,  True,  True],\n",
       "         fill_value=True)},\n",
       " {'name': '2.7 to 3.1',\n",
       "  'condition': masked_array(data=[False, False, False, ..., --, --, --],\n",
       "               mask=[False, False, False, ...,  True,  True,  True],\n",
       "         fill_value=True)},\n",
       " {'name': '3.1 to 3.5',\n",
       "  'condition': masked_array(data=[False, False, False, ..., --, --, --],\n",
       "               mask=[False, False, False, ...,  True,  True,  True],\n",
       "         fill_value=True)},\n",
       " {'name': '3.5 to 4.1',\n",
       "  'condition': masked_array(data=[False, False, False, ..., --, --, --],\n",
       "               mask=[False, False, False, ...,  True,  True,  True],\n",
       "         fill_value=True)},\n",
       " {'name': '4.1 to inf',\n",
       "  'condition': masked_array(data=[False, False, False, ..., --, --, --],\n",
       "               mask=[False, False, False, ...,  True,  True,  True],\n",
       "         fill_value=True)}]"
      ]
     },
     "execution_count": 49,
     "metadata": {},
     "output_type": "execute_result"
    }
   ],
   "source": [
    "colour_bin_def"
   ]
  },
  {
   "cell_type": "markdown",
   "metadata": {},
   "source": [
    "A colour category variable (numerical index from 0 to 11) is assigned to each row"
   ]
  },
  {
   "cell_type": "code",
   "execution_count": 50,
   "metadata": {},
   "outputs": [],
   "source": [
    "combined[\"category\"] = np.nan\n",
    "for i in range(len(colour_bin_def)):\n",
    "    combined[\"category\"][colour_bin_def[i][\"condition\"]] = i"
   ]
  },
  {
   "cell_type": "markdown",
   "metadata": {},
   "source": [
    "We check that there are no rows withot a category assigned"
   ]
  },
  {
   "cell_type": "code",
   "execution_count": 51,
   "metadata": {},
   "outputs": [
    {
     "data": {
      "text/plain": [
       "0"
      ]
     },
     "execution_count": 51,
     "metadata": {},
     "output_type": "execute_result"
    }
   ],
   "source": [
    "np.sum(np.isnan(combined[\"category\"]))"
   ]
  },
  {
   "cell_type": "markdown",
   "metadata": {},
   "source": [
    "We get the number of sources of the combined catalogue in each colour category. It will be used at a later stage to compute the $Q_0$ values"
   ]
  },
  {
   "cell_type": "code",
   "execution_count": 52,
   "metadata": {},
   "outputs": [],
   "source": [
    "numbers_combined_bins = np.array([np.sum(a[\"condition\"]) for a in colour_bin_def])"
   ]
  },
  {
   "cell_type": "code",
   "execution_count": 53,
   "metadata": {},
   "outputs": [
    {
     "data": {
      "text/plain": [
       "array([      0,       0, 7873976, 2057616, 2166429, 1985738, 1652105,\n",
       "       1304090, 1014423,  777604,  756921,  584288])"
      ]
     },
     "execution_count": 53,
     "metadata": {},
     "output_type": "execute_result"
    }
   ],
   "source": [
    "numbers_combined_bins"
   ]
  },
  {
   "cell_type": "code",
   "execution_count": 54,
   "metadata": {},
   "outputs": [
    {
     "data": {
      "text/plain": [
       "20173190"
      ]
     },
     "execution_count": 54,
     "metadata": {},
     "output_type": "execute_result"
    }
   ],
   "source": [
    "np.sum(numbers_combined_bins)"
   ]
  },
  {
   "cell_type": "markdown",
   "metadata": {},
   "source": [
    "## Description"
   ]
  },
  {
   "cell_type": "markdown",
   "metadata": {},
   "source": [
    "### Sky coverage"
   ]
  },
  {
   "cell_type": "code",
   "execution_count": 55,
   "metadata": {},
   "outputs": [],
   "source": [
    "# Commented out because plots are not needed right now #\n",
    "#lt.rcParams[\"figure.figsize\"] = (15,5)\n",
    "#plt.plot(lofar_all[\"RA\"],\n",
    "#     lofar_all[\"DEC\"],\n",
    "#     ls=\"\", marker=\",\");"
   ]
  },
  {
   "cell_type": "code",
   "execution_count": 56,
   "metadata": {},
   "outputs": [],
   "source": [
    "# Commented out because plots are not needed right now #\n",
    "#plt.rcParams[\"figure.figsize\"] = (15,5)\n",
    "#plt.plot(lofar_full[\"RA\"],\n",
    "#     lofar_full[\"DEC\"],\n",
    "#     ls=\"\", marker=\",\");"
   ]
  },
  {
   "cell_type": "code",
   "execution_count": 57,
   "metadata": {},
   "outputs": [],
   "source": [
    "# Commented out because plots are not needed right now #\n",
    "#plt.rcParams[\"figure.figsize\"] = (8,5)\n",
    "#plt.plot(lofar[\"RA\"],\n",
    "#     lofar[\"DEC\"],\n",
    "#     ls=\"\", marker=\",\");"
   ]
  },
  {
   "cell_type": "code",
   "execution_count": 58,
   "metadata": {
    "jupyter": {
     "source_hidden": true
    }
   },
   "outputs": [],
   "source": [
    "#len(lofar)"
   ]
  },
  {
   "cell_type": "markdown",
   "metadata": {},
   "source": [
    "### Summary of galaxy types in the combined catalogue"
   ]
  },
  {
   "cell_type": "code",
   "execution_count": 59,
   "metadata": {},
   "outputs": [],
   "source": [
    "#np.sum(combined_legacy) # Matches # 12790855"
   ]
  },
  {
   "cell_type": "code",
   "execution_count": 60,
   "metadata": {},
   "outputs": [],
   "source": [
    "# Commented out because plots are not needed right now #\n",
    "#plt.rcParams[\"figure.figsize\"] = (15,5)\n",
    "#plt.subplot(1,3,1)\n",
    "#plt.hist(combined[\"MAG_R\"][combined_legacy], bins=50)\n",
    "#plt.xlabel(\"R\")\n",
    "#plt.subplot(1,3,2)\n",
    "#plt.hist(combined[\"MAG_W1\"][combined_legacy], bins=50)\n",
    "#plt.xlabel(\"W1\")\n",
    "#plt.subplot(1,3,3)\n",
    "#plt.hist((combined[\"MAG_R\"] - combined[\"MAG_W1\"])[combined_legacy], bins=50)\n",
    "#plt.xlabel(\"(R - W1)\");"
   ]
  },
  {
   "cell_type": "code",
   "execution_count": 61,
   "metadata": {},
   "outputs": [],
   "source": [
    "#np.sum(combined_wise) # Only WISE"
   ]
  },
  {
   "cell_type": "code",
   "execution_count": 62,
   "metadata": {},
   "outputs": [],
   "source": [
    "# Commented out because plots are not needed right now #\n",
    "#plt.rcParams[\"figure.figsize\"] = (15,5)\n",
    "#plt.subplot(1,3,1)\n",
    "#plt.hist(combined[\"MAG_W1\"][combined_wise], bins=50, density=True)\n",
    "#plt.hist(combined[\"MAG_W1\"][combined_legacy], bins=50, alpha=0.4, density=True)\n",
    "#plt.xlabel(\"W1\")\n",
    "#plt.subplot(1,3,2)\n",
    "#plt.hist((22 - combined[\"MAG_W1\"])[combined_wise], bins=50, density=True)\n",
    "#plt.hist((combined[\"MAG_R\"] - combined[\"MAG_W1\"])[combined_legacy], bins=50, alpha=0.4, density=True)\n",
    "#plt.xlabel(\"(R - W1) (R lim. = 22)\")\n",
    "#plt.subplot(1,3,3)\n",
    "#plt.hist((23 - combined[\"MAG_W1\"])[combined_wise], bins=50, density=True)\n",
    "#plt.hist((combined[\"MAG_R\"] - combined[\"MAG_W1\"])[combined_legacy], bins=50, alpha=0.4, density=True)\n",
    "#plt.xlabel(\"(R - W1) (R lim. = 23)\");"
   ]
  },
  {
   "cell_type": "code",
   "execution_count": 63,
   "metadata": {},
   "outputs": [],
   "source": [
    "#np.sum(combined_wise2) # Only W2"
   ]
  },
  {
   "cell_type": "code",
   "execution_count": 64,
   "metadata": {},
   "outputs": [],
   "source": [
    "# Commented out because plots are not needed right now #\n",
    "#plt.rcParams[\"figure.figsize\"] = (15,5)\n",
    "#plt.subplot(1,3,1)\n",
    "#plt.hist(combined[\"MAG_W2\"][combined_wise2], bins=50, density=True)\n",
    "#plt.hist(combined[\"MAG_W2\"][combined_legacy], bins=50, alpha=0.4, density=True)\n",
    "#plt.xlabel(\"W2\")\n",
    "#plt.subplot(1,3,2)\n",
    "#plt.hist((22 - combined[\"MAG_W2\"])[combined_wise2], bins=50, density=True)\n",
    "#plt.hist((combined[\"MAG_R\"] - combined[\"MAG_W2\"])[combined_legacy], bins=50, alpha=0.4, density=True)\n",
    "#plt.xlabel(\"(R - W2) (R lim. = 22)\")\n",
    "#plt.subplot(1,3,3)\n",
    "#plt.hist((23 - combined[\"MAG_W2\"])[combined_wise2], bins=50, density=True)\n",
    "#plt.hist((combined[\"MAG_R\"] - combined[\"MAG_W2\"])[combined_legacy], bins=50, alpha=0.4, density=True)\n",
    "#plt.xlabel(\"(R - W2) (R lim. = 23)\");"
   ]
  },
  {
   "cell_type": "markdown",
   "metadata": {},
   "source": [
    "## Maximum Likelihood 1st iteration"
   ]
  },
  {
   "cell_type": "markdown",
   "metadata": {},
   "source": [
    "### First estimation of $Q_0$ for r-band"
   ]
  },
  {
   "cell_type": "code",
   "execution_count": 65,
   "metadata": {},
   "outputs": [],
   "source": [
    "n_iter = 10"
   ]
  },
  {
   "cell_type": "code",
   "execution_count": 66,
   "metadata": {},
   "outputs": [],
   "source": [
    "rads = list(range(1,26))"
   ]
  },
  {
   "cell_type": "code",
   "execution_count": 67,
   "metadata": {},
   "outputs": [],
   "source": [
    "Q0_r = None # 0.6983157523356884"
   ]
  },
  {
   "cell_type": "code",
   "execution_count": 68,
   "metadata": {},
   "outputs": [],
   "source": [
    "if Q0_r is None:\n",
    "    q_0_comp_r = Q_0(coords_lofar, coords_combined[combined_legacy], field)"
   ]
  },
  {
   "cell_type": "code",
   "execution_count": 71,
   "metadata": {},
   "outputs": [
    {
     "name": "stdout",
     "output_type": "stream",
     "text": [
      " 1 0.49270 +/- 0.00035 [0.49199 0.49306]\n",
      " 2 0.63254 +/- 0.00043 [0.63182 0.63322]\n",
      " 3 0.66880 +/- 0.00058 [0.66799 0.66982]\n",
      " 4 0.68730 +/- 0.00137 [0.68450 0.68918]\n",
      " 5 0.69393 +/- 0.00146 [0.69119 0.69620]\n",
      " 6 0.69811 +/- 0.00109 [0.69608 0.69964]\n",
      " 7 0.69667 +/- 0.00148 [0.69427 0.69857]\n",
      " 8 0.69914 +/- 0.00122 [0.69771 0.70159]\n",
      " 9 0.70019 +/- 0.00241 [0.69679 0.70477]\n",
      "10 0.69938 +/- 0.00208 [0.69585 0.70369]\n",
      "11 0.70349 +/- 0.00276 [0.69909 0.70932]\n",
      "12 0.70515 +/- 0.00244 [0.69955 0.70881]\n",
      "13 0.70656 +/- 0.00454 [0.69658 0.71293]\n",
      "14 0.70978 +/- 0.00638 [0.69657 0.72083]\n",
      "15 0.68770 +/- 0.01101 [0.67075 0.70459]\n",
      "16 0.69417 +/- 0.00462 [0.68825 0.70147]\n",
      "17 0.67808 +/- 0.01960 [0.63057 0.70026]\n",
      "18 0.71194 +/- 0.01620 [0.68205 0.73160]\n",
      "19 0.71331 +/- 0.01488 [0.68103 0.73759]\n",
      "20 0.75668 +/- 0.02526 [0.69492 0.78571]\n",
      "21 0.59761 +/- 0.09178 [0.42857 0.73770]\n",
      "22 0.70276 +/- 0.05192 [0.58824 0.75862]\n",
      "23 0.51826 +/- 0.10546 [0.33333 0.64706]\n",
      "24 0.55774 +/- 0.09512 [0.40000 0.70000]\n",
      "25 -0.21111 +/- 1.01886 [-2.00000 0.70000]\n"
     ]
    }
   ],
   "source": [
    "if Q0_r is None:\n",
    "    q_0_rad_r = []\n",
    "    q_0_rad_r_std = []\n",
    "    for radius in rads:\n",
    "        q_0_rad_aux = []\n",
    "        for i in range(n_iter):\n",
    "            try:\n",
    "                out = q_0_comp_r(radius=radius)\n",
    "            except ZeroDivisionError:\n",
    "                continue\n",
    "            else:\n",
    "                q_0_rad_aux.append(out)\n",
    "        q_0_rad_r.append(np.mean(q_0_rad_aux))\n",
    "        q_0_rad_r_std.append(np.std(q_0_rad_aux))\n",
    "        print(\n",
    "            \"{:2d} {:7.5f} +/- {:7.5f} [{:7.5f} {:7.5f}]\".format(\n",
    "                radius,\n",
    "                np.mean(q_0_rad_aux),\n",
    "                np.std(q_0_rad_aux),\n",
    "                np.min(q_0_rad_aux),\n",
    "                np.max(q_0_rad_aux),\n",
    "            )\n",
    "        )\n",
    "    if save_intermediate:\n",
    "        np.savez_compressed(\n",
    "            os.path.join(idp, \"Q0_r.npz\"),\n",
    "            q_0_rad_r = q_0_rad_r,\n",
    "            q_0_rad_r_std = q_0_rad_r_std\n",
    "        )"
   ]
  },
  {
   "cell_type": "code",
   "execution_count": null,
   "metadata": {},
   "outputs": [],
   "source": [
    "# Commented out because plots are not needed right now #\n",
    "#if Q0_r is None:\n",
    "#    plt.rcParams[\"figure.figsize\"] = (5, 5)\n",
    "#    plt.plot(rads, q_0_rad_r)\n",
    "#    plt.plot(rads, np.array(q_0_rad_r) + 3 * np.array(q_0_rad_r_std), ls=\":\", color=\"b\")\n",
    "#    plt.plot(rads, np.array(q_0_rad_r) - 3 * np.array(q_0_rad_r_std), ls=\":\", color=\"b\")\n",
    "#    plt.xlabel(\"Radius (arcsecs)\")\n",
    "#    plt.ylabel(\"$Q_0 r-band$\")\n",
    "#    plt.ylim([0, 1])"
   ]
  },
  {
   "cell_type": "code",
   "execution_count": 72,
   "metadata": {},
   "outputs": [],
   "source": [
    "if Q0_r is None:\n",
    "    Q0_r = q_0_rad_r[4]"
   ]
  },
  {
   "cell_type": "code",
   "execution_count": 73,
   "metadata": {},
   "outputs": [
    {
     "name": "stdout",
     "output_type": "stream",
     "text": [
      "0.6939270917411635\n"
     ]
    }
   ],
   "source": [
    "print(Q0_r)"
   ]
  },
  {
   "cell_type": "markdown",
   "metadata": {},
   "source": [
    "### Compute q(m) and n(m)\n",
    "\n",
    "#### R-band preparation"
   ]
  },
  {
   "cell_type": "code",
   "execution_count": 74,
   "metadata": {},
   "outputs": [],
   "source": [
    "bandwidth_r = 0.5"
   ]
  },
  {
   "cell_type": "code",
   "execution_count": 75,
   "metadata": {},
   "outputs": [],
   "source": [
    "catalogue_r = combined[combined_legacy]"
   ]
  },
  {
   "cell_type": "code",
   "execution_count": 76,
   "metadata": {},
   "outputs": [],
   "source": [
    "bin_list_r = np.linspace(11.5, 29.5, 361) # Bins of 0.05"
   ]
  },
  {
   "cell_type": "code",
   "execution_count": 77,
   "metadata": {},
   "outputs": [],
   "source": [
    "center_r = get_center(bin_list_r)"
   ]
  },
  {
   "cell_type": "code",
   "execution_count": 78,
   "metadata": {},
   "outputs": [],
   "source": [
    "n_m_r = get_n_m_kde(catalogue_r[\"MAG_R\"], center_r, field.area, bandwidth=bandwidth_r)"
   ]
  },
  {
   "cell_type": "code",
   "execution_count": 79,
   "metadata": {},
   "outputs": [],
   "source": [
    "n_m_r_cs = np.cumsum(n_m_r)"
   ]
  },
  {
   "cell_type": "code",
   "execution_count": null,
   "metadata": {},
   "outputs": [],
   "source": [
    "# Commented out because plots are not needed right now #\n",
    "#plt.rcParams[\"figure.figsize\"] = (5,5)\n",
    "#plt.plot(center_r, n_m_r_cs);"
   ]
  },
  {
   "cell_type": "code",
   "execution_count": 80,
   "metadata": {},
   "outputs": [],
   "source": [
    "q_m_r = estimate_q_m_kde(catalogue_r[\"MAG_R\"], \n",
    "                      center_r, \n",
    "                      n_m_r, \n",
    "                      coords_lofar, \n",
    "                      coords_combined[combined_legacy], \n",
    "                      radius=5, \n",
    "                      bandwidth=bandwidth_r)"
   ]
  },
  {
   "cell_type": "code",
   "execution_count": 81,
   "metadata": {},
   "outputs": [],
   "source": [
    "q_m_r_cs = np.cumsum(q_m_r)"
   ]
  },
  {
   "cell_type": "code",
   "execution_count": null,
   "metadata": {},
   "outputs": [],
   "source": [
    "# Commented out because plots are not needed right now #\n",
    "#plt.rcParams[\"figure.figsize\"] = (5,5)\n",
    "#plt.plot(center_r, q_m_r_cs);"
   ]
  },
  {
   "cell_type": "code",
   "execution_count": null,
   "metadata": {},
   "outputs": [],
   "source": [
    "# Commented out because plots are not needed right now #\n",
    "#plt.rcParams[\"figure.figsize\"] = (5,5)\n",
    "#plt.plot(center_r, q_m_r/n_m_r);"
   ]
  },
  {
   "cell_type": "markdown",
   "metadata": {},
   "source": [
    "#### W1-band preparation"
   ]
  },
  {
   "cell_type": "code",
   "execution_count": 82,
   "metadata": {},
   "outputs": [],
   "source": [
    "bandwidth_w1 = 0.5"
   ]
  },
  {
   "cell_type": "code",
   "execution_count": 83,
   "metadata": {},
   "outputs": [],
   "source": [
    "catalogue_w1 = combined[combined_wise]"
   ]
  },
  {
   "cell_type": "code",
   "execution_count": 84,
   "metadata": {},
   "outputs": [],
   "source": [
    "bin_list_w1 = np.linspace(11.5, 25.0, 361) # Bins of 0.05"
   ]
  },
  {
   "cell_type": "code",
   "execution_count": 85,
   "metadata": {},
   "outputs": [],
   "source": [
    "center_w1 = get_center(bin_list_w1)"
   ]
  },
  {
   "cell_type": "code",
   "execution_count": 86,
   "metadata": {},
   "outputs": [],
   "source": [
    "n_m_w1 = get_n_m_kde(catalogue_w1[\"MAG_W1\"], center_w1, field.area, bandwidth=bandwidth_w1)"
   ]
  },
  {
   "cell_type": "code",
   "execution_count": 87,
   "metadata": {},
   "outputs": [],
   "source": [
    "# Commented out because plots are not needed right now #\n",
    "#plt.rcParams[\"figure.figsize\"] = (5,5)\n",
    "#plt.plot(center_w1, np.cumsum(n_m_w1));"
   ]
  },
  {
   "cell_type": "code",
   "execution_count": 88,
   "metadata": {},
   "outputs": [],
   "source": [
    "q_m_w1 = estimate_q_m_kde(catalogue_w1[\"MAG_W1\"], \n",
    "                      center_w1, \n",
    "                      n_m_w1, coords_lofar, \n",
    "                      coords_combined[combined_wise], \n",
    "                      radius=5, \n",
    "                      bandwidth=bandwidth_w1)"
   ]
  },
  {
   "cell_type": "code",
   "execution_count": null,
   "metadata": {},
   "outputs": [],
   "source": [
    "# Commented out because plots are not needed right now #\n",
    "#plt.plot(center_w1, np.cumsum(q_m_w1));"
   ]
  },
  {
   "cell_type": "code",
   "execution_count": null,
   "metadata": {},
   "outputs": [],
   "source": [
    "# Commented out because plots are not needed right now #\n",
    "#plt.plot(center_w1, q_m_w1/n_m_w1);"
   ]
  },
  {
   "cell_type": "markdown",
   "metadata": {},
   "source": [
    "#### W2-band preparation"
   ]
  },
  {
   "cell_type": "code",
   "execution_count": 89,
   "metadata": {},
   "outputs": [],
   "source": [
    "bandwidth_w2 = 0.5"
   ]
  },
  {
   "cell_type": "code",
   "execution_count": 90,
   "metadata": {},
   "outputs": [],
   "source": [
    "catalogue_w2 = combined[combined_wise2]"
   ]
  },
  {
   "cell_type": "code",
   "execution_count": 91,
   "metadata": {},
   "outputs": [],
   "source": [
    "bin_list_w2 = np.linspace(14., 26., 241) # Bins of 0.1"
   ]
  },
  {
   "cell_type": "code",
   "execution_count": 92,
   "metadata": {},
   "outputs": [],
   "source": [
    "center_w2 = get_center(bin_list_w2)"
   ]
  },
  {
   "cell_type": "code",
   "execution_count": 93,
   "metadata": {},
   "outputs": [],
   "source": [
    "n_m_w2 = get_n_m_kde(catalogue_w2[\"MAG_W2\"], center_w2, field.area, bandwidth=bandwidth_w2)"
   ]
  },
  {
   "cell_type": "code",
   "execution_count": null,
   "metadata": {},
   "outputs": [],
   "source": [
    "# Commented out because plots are not needed right now #\n",
    "#plt.rcParams[\"figure.figsize\"] = (5,5)\n",
    "#plt.plot(center_w2, np.cumsum(n_m_w2));"
   ]
  },
  {
   "cell_type": "code",
   "execution_count": 94,
   "metadata": {},
   "outputs": [],
   "source": [
    "q_m_w2 = estimate_q_m_kde(catalogue_w2[\"MAG_W2\"], \n",
    "                      center_w2, \n",
    "                      n_m_w2, coords_lofar, \n",
    "                      coords_combined[combined_wise2], \n",
    "                      radius=5, \n",
    "                      bandwidth=bandwidth_w2)"
   ]
  },
  {
   "cell_type": "code",
   "execution_count": null,
   "metadata": {},
   "outputs": [],
   "source": [
    "# Commented out because plots are not needed right now #\n",
    "#plt.plot(center_w2, np.cumsum(q_m_w2));"
   ]
  },
  {
   "cell_type": "code",
   "execution_count": null,
   "metadata": {},
   "outputs": [],
   "source": [
    "# Commented out because plots are not needed right now #\n",
    "#plt.plot(center_w2, q_m_w2/n_m_w2);"
   ]
  },
  {
   "cell_type": "markdown",
   "metadata": {},
   "source": [
    "### r-band match"
   ]
  },
  {
   "cell_type": "markdown",
   "metadata": {},
   "source": [
    "#### $Q_0$ and likelihood estimator"
   ]
  },
  {
   "cell_type": "code",
   "execution_count": null,
   "metadata": {},
   "outputs": [],
   "source": [
    "# # Initial test\n",
    "# Q0_r = 0.65\n",
    "# Q0_w1 = 0.237\n",
    "# Q0_w2 = 0.035"
   ]
  },
  {
   "cell_type": "code",
   "execution_count": 95,
   "metadata": {},
   "outputs": [],
   "source": [
    "likelihood_ratio_r = SingleMLEstimator(Q0_r, n_m_r, q_m_r, center_r)"
   ]
  },
  {
   "cell_type": "markdown",
   "metadata": {},
   "source": [
    "We will get the number of CPUs to use in parallel in the computations"
   ]
  },
  {
   "cell_type": "code",
   "execution_count": 96,
   "metadata": {},
   "outputs": [],
   "source": [
    "import multiprocessing"
   ]
  },
  {
   "cell_type": "code",
   "execution_count": 97,
   "metadata": {},
   "outputs": [],
   "source": [
    "n_cpus_total = multiprocessing.cpu_count()"
   ]
  },
  {
   "cell_type": "code",
   "execution_count": 98,
   "metadata": {},
   "outputs": [],
   "source": [
    "n_cpus = max(1, n_cpus_total-1)"
   ]
  },
  {
   "cell_type": "code",
   "execution_count": 99,
   "metadata": {},
   "outputs": [
    {
     "name": "stdout",
     "output_type": "stream",
     "text": [
      "53\n"
     ]
    }
   ],
   "source": [
    "print(n_cpus)"
   ]
  },
  {
   "cell_type": "markdown",
   "metadata": {},
   "source": [
    "Get the possible matches up to a radius of 15 arcseconds in this first step "
   ]
  },
  {
   "cell_type": "code",
   "execution_count": 100,
   "metadata": {},
   "outputs": [],
   "source": [
    "radius = 15"
   ]
  },
  {
   "cell_type": "markdown",
   "metadata": {},
   "source": [
    "All the LOFAR sources are combined with the legacy sources (sources with r-band data)."
   ]
  },
  {
   "cell_type": "code",
   "execution_count": 101,
   "metadata": {},
   "outputs": [],
   "source": [
    "idx_lofar, idx_i, d2d, d3d = search_around_sky(\n",
    "    coords_lofar, coords_combined[combined_legacy], radius*u.arcsec)"
   ]
  },
  {
   "cell_type": "code",
   "execution_count": 102,
   "metadata": {},
   "outputs": [],
   "source": [
    "idx_lofar_unique = np.unique(idx_lofar)"
   ]
  },
  {
   "cell_type": "code",
   "execution_count": 103,
   "metadata": {},
   "outputs": [],
   "source": [
    "lofar[\"lr_r\"] = np.nan                   # Likelihood ratio\n",
    "lofar[\"lr_dist_r\"] = np.nan              # Distance to the selected source\n",
    "lofar[\"lr_index_r\"] = np.nan             # Index of the PanSTARRS source in combined"
   ]
  },
  {
   "cell_type": "code",
   "execution_count": 104,
   "metadata": {},
   "outputs": [],
   "source": [
    "total_sources = len(idx_lofar_unique)\n",
    "combined_aux_index = np.arange(len(combined))"
   ]
  },
  {
   "cell_type": "code",
   "execution_count": 105,
   "metadata": {},
   "outputs": [],
   "source": [
    "def ml(i):\n",
    "    idx_0 = idx_i[idx_lofar == i]\n",
    "    d2d_0 = d2d[idx_lofar == i]\n",
    "    mag = catalogue_r[\"MAG_R\"][idx_0]\n",
    "    \n",
    "    lofar_ra = lofar[i][\"RA\"]\n",
    "    lofar_dec = lofar[i][\"DEC\"]\n",
    "    lofar_pa = lofar[i][\"PA\"]\n",
    "    lofar_maj_err = lofar[i][\"E_Maj\"]\n",
    "    lofar_min_err = lofar[i][\"E_Min\"]\n",
    "    c_ra = catalogue_r[\"RA\"][idx_0]\n",
    "    c_dec = catalogue_r[\"DEC\"][idx_0]\n",
    "    c_ra_err = np.ones_like(c_ra)*0.6/3600.\n",
    "    c_dec_err = np.ones_like(c_ra)*0.6/3600.\n",
    "    \n",
    "    sigma_0_0, det_sigma = get_sigma_all(lofar_maj_err, lofar_min_err, lofar_pa, \n",
    "                      lofar_ra, lofar_dec, \n",
    "                      c_ra, c_dec, c_ra_err, c_dec_err)\n",
    "    \n",
    "    lr_0 = likelihood_ratio_r(mag, d2d_0.arcsec, sigma_0_0, det_sigma)\n",
    "    chosen_index = np.argmax(lr_0)\n",
    "    result = [combined_aux_index[combined_legacy][idx_0[chosen_index]], # Index\n",
    "              (d2d_0.arcsec)[chosen_index],                        # distance\n",
    "              lr_0[chosen_index]]                                  # LR\n",
    "    return result"
   ]
  },
  {
   "cell_type": "code",
   "execution_count": null,
   "metadata": {},
   "outputs": [],
   "source": [
    "#from joblib import Parallel, delayed\n",
    "#from tqdm import tqdm, tqdm_notebook"
   ]
  },
  {
   "cell_type": "code",
   "execution_count": 106,
   "metadata": {},
   "outputs": [
    {
     "name": "stderr",
     "output_type": "stream",
     "text": [
      "100%|██████████| 38.4k/38.4k [34:22<00:00, 18.6it/s]  \n",
      "100%|██████████| 38442/38442 [00:00<00:00, 662797.55it/s]\n"
     ]
    }
   ],
   "source": [
    "#res = Parallel(n_jobs=n_cpus)(delayed(ml)(i) for i in tqdm_notebook(idx_lofar_unique))\n",
    "res = parallel_process(idx_lofar_unique, ml, n_jobs=n_cpus)"
   ]
  },
  {
   "cell_type": "code",
   "execution_count": 107,
   "metadata": {},
   "outputs": [],
   "source": [
    "(lofar[\"lr_index_r\"][idx_lofar_unique], \n",
    " lofar[\"lr_dist_r\"][idx_lofar_unique], \n",
    " lofar[\"lr_r\"][idx_lofar_unique]) = list(map(list, zip(*res)))"
   ]
  },
  {
   "cell_type": "markdown",
   "metadata": {},
   "source": [
    "#### Threshold and selection for r-band"
   ]
  },
  {
   "cell_type": "code",
   "execution_count": 108,
   "metadata": {},
   "outputs": [],
   "source": [
    "lofar[\"lr_r\"][np.isnan(lofar[\"lr_r\"])] = 0"
   ]
  },
  {
   "cell_type": "code",
   "execution_count": 109,
   "metadata": {},
   "outputs": [],
   "source": [
    "threshold_r = np.percentile(lofar[\"lr_r\"], 100*(1 - Q0_r))"
   ]
  },
  {
   "cell_type": "code",
   "execution_count": 110,
   "metadata": {},
   "outputs": [
    {
     "data": {
      "text/plain": [
       "1.031596424552203"
      ]
     },
     "execution_count": 110,
     "metadata": {},
     "output_type": "execute_result"
    }
   ],
   "source": [
    "threshold_r #0.525 before"
   ]
  },
  {
   "cell_type": "code",
   "execution_count": 90,
   "metadata": {},
   "outputs": [],
   "source": [
    "# Commented out because plots are not needed right now - Error on nonposy??#\n",
    "#plt.rcParams[\"figure.figsize\"] = (15,6)\n",
    "#ax1 = plt.subplot(1,2,1)\n",
    "#plt.hist(lofar[lofar[\"lr_r\"] != 0][\"lr_r\"], bins=200)\n",
    "#plt.vlines([threshold_r], 0, 200)\n",
    "#ax1.set_yscale(\"log\", nonposy='clip')\n",
    "#plt.ylim([0, 200])\n",
    "#ax2 = plt.subplot(1,2,2)\n",
    "#plt.hist(np.log10(lofar[lofar[\"lr_r\"] != 0][\"lr_r\"]+1), bins=200)\n",
    "#plt.vlines(np.log10(threshold_r+1), 0, 200)\n",
    "#ticks, _ = plt.xticks()\n",
    "#plt.xticks(ticks, [\"{:.1f}\".format(10**t-1) for t in ticks])\n",
    "#ax2.set_yscale(\"log\", nonposy='clip')\n",
    "#plt.ylim([0, 200]);"
   ]
  },
  {
   "cell_type": "code",
   "execution_count": 111,
   "metadata": {},
   "outputs": [],
   "source": [
    "lofar[\"lr_index_sel_r\"] = lofar[\"lr_index_r\"]\n",
    "lofar[\"lr_index_sel_r\"][lofar[\"lr_r\"] < threshold_r] = np.nan"
   ]
  },
  {
   "cell_type": "markdown",
   "metadata": {},
   "source": [
    "Save LR for r-band in external file"
   ]
  },
  {
   "cell_type": "code",
   "execution_count": 112,
   "metadata": {},
   "outputs": [],
   "source": [
    "columns = [\"lr_r\", \"lr_dist_r\", \"lr_index_r\", \"lr_index_sel_r\"]\n",
    "np.savez_compressed(os.path.join(idp, \"lr_r.npz\"), lr_r=lofar[columns])"
   ]
  },
  {
   "cell_type": "markdown",
   "metadata": {},
   "source": [
    "### W1-band match"
   ]
  },
  {
   "cell_type": "markdown",
   "metadata": {},
   "source": [
    "We will work with the sample that has not been already cross-matched"
   ]
  },
  {
   "cell_type": "code",
   "execution_count": 113,
   "metadata": {},
   "outputs": [],
   "source": [
    "subsample_w1 = (lofar[\"lr_r\"] < threshold_r)"
   ]
  },
  {
   "cell_type": "markdown",
   "metadata": {},
   "source": [
    "#### Compute the W1 $Q_0$"
   ]
  },
  {
   "cell_type": "code",
   "execution_count": 114,
   "metadata": {},
   "outputs": [],
   "source": [
    "coords_lofar_alt = coords_lofar[subsample_w1]"
   ]
  },
  {
   "cell_type": "code",
   "execution_count": 115,
   "metadata": {},
   "outputs": [],
   "source": [
    "q_0_comp_w1 = Q_0(coords_lofar_alt, coords_combined[combined_wise], field)"
   ]
  },
  {
   "cell_type": "code",
   "execution_count": 116,
   "metadata": {},
   "outputs": [
    {
     "name": "stdout",
     "output_type": "stream",
     "text": [
      " 1 0.16305 +/- 0.00032 [0.16244 0.16364]\n",
      " 2 0.30366 +/- 0.00053 [0.30283 0.30443]\n",
      " 3 0.36962 +/- 0.00072 [0.36858 0.37069]\n",
      " 4 0.39785 +/- 0.00117 [0.39559 0.40010]\n",
      " 5 0.40935 +/- 0.00146 [0.40747 0.41144]\n",
      " 6 0.41889 +/- 0.00101 [0.41666 0.42003]\n",
      " 7 0.42336 +/- 0.00157 [0.42060 0.42580]\n",
      " 8 0.42250 +/- 0.00180 [0.41930 0.42516]\n",
      " 9 0.42147 +/- 0.00133 [0.41915 0.42304]\n",
      "10 0.42230 +/- 0.00215 [0.41922 0.42583]\n",
      "11 0.42399 +/- 0.00354 [0.41803 0.42827]\n",
      "12 0.42438 +/- 0.00222 [0.42142 0.42867]\n",
      "13 0.42139 +/- 0.00347 [0.41638 0.42685]\n",
      "14 0.42345 +/- 0.00294 [0.41845 0.42881]\n",
      "15 0.41965 +/- 0.00394 [0.41009 0.42380]\n",
      "16 0.41775 +/- 0.00455 [0.41268 0.42540]\n",
      "17 0.41096 +/- 0.00440 [0.40262 0.41491]\n",
      "18 0.40894 +/- 0.00334 [0.40351 0.41478]\n",
      "19 0.40613 +/- 0.00459 [0.39689 0.41631]\n",
      "20 0.40651 +/- 0.00466 [0.39968 0.41505]\n",
      "21 0.40463 +/- 0.00372 [0.40019 0.41058]\n",
      "22 0.40425 +/- 0.00683 [0.39525 0.42032]\n",
      "23 0.39829 +/- 0.00564 [0.38895 0.40941]\n",
      "24 0.39960 +/- 0.00919 [0.38624 0.41678]\n",
      "25 0.38740 +/- 0.00965 [0.37251 0.40110]\n"
     ]
    }
   ],
   "source": [
    "q_0_rad_w1 = []\n",
    "q_0_rad_w1_std = []\n",
    "for radius in rads:\n",
    "    q_0_rad_aux = []\n",
    "    for i in range(n_iter):\n",
    "        out = q_0_comp_w1(radius=radius)\n",
    "        q_0_rad_aux.append(out)\n",
    "    q_0_rad_w1.append(np.mean(q_0_rad_aux))\n",
    "    q_0_rad_w1_std.append(np.std(q_0_rad_aux))\n",
    "    print(\n",
    "        \"{:2d} {:7.5f} +/- {:7.5f} [{:7.5f} {:7.5f}]\".format(\n",
    "            radius,\n",
    "            np.mean(q_0_rad_aux),\n",
    "            np.std(q_0_rad_aux),\n",
    "            np.min(q_0_rad_aux),\n",
    "            np.max(q_0_rad_aux),\n",
    "        )\n",
    "    )"
   ]
  },
  {
   "cell_type": "code",
   "execution_count": 117,
   "metadata": {},
   "outputs": [],
   "source": [
    "q_0_rad_w1 = np.array(q_0_rad_w1)\n",
    "q_0_rad_w1_std = np.array(q_0_rad_w1_std)"
   ]
  },
  {
   "cell_type": "code",
   "execution_count": null,
   "metadata": {},
   "outputs": [],
   "source": [
    "# Commented out because plots are not needed right now #\n",
    "#plt.rcParams[\"figure.figsize\"] = (5, 5)\n",
    "#plt.plot(rads, q_0_rad_w1)\n",
    "#plt.plot(rads, q_0_rad_w1 + 3 * q_0_rad_w1_std, ls=\":\", color=\"b\")\n",
    "#plt.plot(rads, q_0_rad_w1 - 3 * q_0_rad_w1_std, ls=\":\", color=\"b\")\n",
    "#plt.xlabel(\"Radius (arcsecs)\")\n",
    "#plt.ylabel(\"$Q_0 W1-band$\")\n",
    "#plt.ylim([0, 0.5])"
   ]
  },
  {
   "cell_type": "code",
   "execution_count": 118,
   "metadata": {},
   "outputs": [],
   "source": [
    "Q0_w1 = q_0_rad_w1[4] #0.41136"
   ]
  },
  {
   "cell_type": "markdown",
   "metadata": {},
   "source": [
    "#### Create the likelihood estimator and run"
   ]
  },
  {
   "cell_type": "code",
   "execution_count": 119,
   "metadata": {},
   "outputs": [],
   "source": [
    "likelihood_ratio_w1 = SingleMLEstimator(Q0_w1, n_m_w1, q_m_w1, center_w1)"
   ]
  },
  {
   "cell_type": "code",
   "execution_count": 120,
   "metadata": {},
   "outputs": [],
   "source": [
    "idx_lofar_w1, idx_i_w1, d2d_w1, d3d_w1 = search_around_sky(\n",
    "    coords_lofar[subsample_w1], coords_combined[combined_wise], radius*u.arcsec)"
   ]
  },
  {
   "cell_type": "code",
   "execution_count": 121,
   "metadata": {},
   "outputs": [],
   "source": [
    "idx_lofar_unique_w1 = np.unique(idx_lofar_w1)"
   ]
  },
  {
   "cell_type": "code",
   "execution_count": 122,
   "metadata": {},
   "outputs": [],
   "source": [
    "lofar[\"lr_w1\"] = np.nan                   # Likelihood ratio\n",
    "lofar[\"lr_dist_w1\"] = np.nan              # Distance to the selected source\n",
    "lofar[\"lr_index_w1\"] = np.nan             # Index of the PanSTARRS source in combined"
   ]
  },
  {
   "cell_type": "code",
   "execution_count": 123,
   "metadata": {},
   "outputs": [],
   "source": [
    "def ml_w1(i):\n",
    "    idx_0 = idx_i_w1[idx_lofar_w1 == i]\n",
    "    d2d_0 = d2d_w1[idx_lofar_w1 == i]\n",
    "    mag = catalogue_w1[\"MAG_W1\"][idx_0]\n",
    "    \n",
    "    lofar_ra = lofar[subsample_w1][i][\"RA\"]\n",
    "    lofar_dec = lofar[subsample_w1][i][\"DEC\"]\n",
    "    lofar_pa = lofar[subsample_w1][i][\"PA\"]\n",
    "    lofar_maj_err = lofar[subsample_w1][i][\"E_Maj\"]\n",
    "    lofar_min_err = lofar[subsample_w1][i][\"E_Min\"]\n",
    "    c_ra = catalogue_w1[\"RA\"][idx_0]\n",
    "    c_dec = catalogue_w1[\"DEC\"][idx_0]\n",
    "    c_ra_err = np.ones_like(c_ra)*0.6/3600.\n",
    "    c_dec_err = np.ones_like(c_ra)*0.6/3600.\n",
    "    \n",
    "    sigma_0_0, det_sigma = get_sigma_all(lofar_maj_err, lofar_min_err, lofar_pa, \n",
    "                      lofar_ra, lofar_dec, \n",
    "                      c_ra, c_dec, c_ra_err, c_dec_err)\n",
    "    \n",
    "    lr_0 = likelihood_ratio_w1(mag, d2d_0.arcsec, sigma_0_0, det_sigma)\n",
    "    chosen_index = np.argmax(lr_0)\n",
    "    result = [combined_aux_index[combined_wise][idx_0[chosen_index]], # Index\n",
    "              (d2d_0.arcsec)[chosen_index],                        # distance\n",
    "              lr_0[chosen_index]]                                  # LR\n",
    "    return result"
   ]
  },
  {
   "cell_type": "code",
   "execution_count": 124,
   "metadata": {},
   "outputs": [
    {
     "name": "stderr",
     "output_type": "stream",
     "text": [
      "100%|██████████| 9.46k/9.46k [05:09<00:00, 30.5it/s] \n",
      "100%|██████████| 9463/9463 [00:00<00:00, 406971.39it/s]\n"
     ]
    }
   ],
   "source": [
    "res_w1 = parallel_process(idx_lofar_unique_w1, ml_w1, n_jobs=n_cpus)\n",
    "#res = Parallel(n_jobs=n_cpus)(delayed(ml_w1)(i) for i in tqdm_notebook(idx_lofar_unique))"
   ]
  },
  {
   "cell_type": "code",
   "execution_count": 125,
   "metadata": {},
   "outputs": [],
   "source": [
    "indices_w1 = np.arange(len(lofar))[subsample_w1][idx_lofar_unique_w1]"
   ]
  },
  {
   "cell_type": "code",
   "execution_count": 126,
   "metadata": {},
   "outputs": [],
   "source": [
    "(lofar[\"lr_index_w1\"][indices_w1], \n",
    " lofar[\"lr_dist_w1\"][indices_w1], \n",
    " lofar[\"lr_w1\"][indices_w1]) = list(map(list, zip(*res_w1)))"
   ]
  },
  {
   "cell_type": "markdown",
   "metadata": {},
   "source": [
    "#### Threshold and selection for W1 band"
   ]
  },
  {
   "cell_type": "code",
   "execution_count": 127,
   "metadata": {},
   "outputs": [],
   "source": [
    "lofar[\"lr_w1\"][np.isnan(lofar[\"lr_w1\"])] = 0"
   ]
  },
  {
   "cell_type": "markdown",
   "metadata": {},
   "source": [
    "The threshold can be adjusted to match the new $Q_0$ value obtained with the alternative method."
   ]
  },
  {
   "cell_type": "code",
   "execution_count": 128,
   "metadata": {},
   "outputs": [],
   "source": [
    "threshold_w1 = np.percentile(lofar[subsample_w1][\"lr_w1\"], 100*(1 - Q0_w1))"
   ]
  },
  {
   "cell_type": "code",
   "execution_count": 129,
   "metadata": {},
   "outputs": [
    {
     "data": {
      "text/plain": [
       "0.02264886784962951"
      ]
     },
     "execution_count": 129,
     "metadata": {},
     "output_type": "execute_result"
    }
   ],
   "source": [
    "threshold_w1 # 0.026 before"
   ]
  },
  {
   "cell_type": "code",
   "execution_count": null,
   "metadata": {},
   "outputs": [],
   "source": [
    "# Commented out because plots are not needed right now #\n",
    "#plt.rcParams[\"figure.figsize\"] = (15,6)\n",
    "#ax1 = plt.subplot(1,2,1)\n",
    "#plt.hist(lofar[lofar[\"lr_w1\"] != 0][\"lr_w1\"], bins=200)\n",
    "#plt.vlines([threshold_w1], 0, 100)\n",
    "#ax1.set_yscale(\"log\", nonposy='clip')\n",
    "#plt.ylim([0,100])\n",
    "#ax2 = plt.subplot(1,2,2)\n",
    "#plt.hist(np.log10(lofar[lofar[\"lr_w1\"] != 0][\"lr_w1\"]+1), bins=200)\n",
    "#plt.vlines(np.log10(np.array([threshold_w1])+1), 0, 100)\n",
    "#ticks, _ = plt.xticks()\n",
    "#plt.xticks(ticks, [\"{:.1f}\".format(10**t-1) for t in ticks])\n",
    "#ax2.set_yscale(\"log\", nonposy='clip')\n",
    "#plt.ylim([0,100]);"
   ]
  },
  {
   "cell_type": "code",
   "execution_count": 130,
   "metadata": {},
   "outputs": [
    {
     "data": {
      "text/plain": [
       "4854"
      ]
     },
     "execution_count": 130,
     "metadata": {},
     "output_type": "execute_result"
    }
   ],
   "source": [
    "np.sum(lofar[\"lr_w1\"] >= threshold_w1)"
   ]
  },
  {
   "cell_type": "code",
   "execution_count": 131,
   "metadata": {},
   "outputs": [],
   "source": [
    "lofar[\"lr_index_sel_w1\"] = lofar[\"lr_index_w1\"]\n",
    "lofar[\"lr_index_sel_w1\"][lofar[\"lr_w1\"] < threshold_w1] = np.nan"
   ]
  },
  {
   "cell_type": "markdown",
   "metadata": {},
   "source": [
    "Save LR of the W1-band in an external file"
   ]
  },
  {
   "cell_type": "code",
   "execution_count": 132,
   "metadata": {},
   "outputs": [],
   "source": [
    "columns = [\"lr_w1\", \"lr_dist_w1\", \"lr_index_w1\", \"lr_index_sel_w1\"]\n",
    "np.savez_compressed(os.path.join(idp, \"lr_w1.npz\"), lr_w1=lofar[columns])"
   ]
  },
  {
   "cell_type": "markdown",
   "metadata": {},
   "source": [
    "### W2-band match"
   ]
  },
  {
   "cell_type": "code",
   "execution_count": 133,
   "metadata": {},
   "outputs": [],
   "source": [
    "subsample_w2 = (lofar[\"lr_r\"] < threshold_r) & (lofar[\"lr_w1\"] < threshold_w1)"
   ]
  },
  {
   "cell_type": "markdown",
   "metadata": {},
   "source": [
    "#### Compute the W2 $Q_0$"
   ]
  },
  {
   "cell_type": "code",
   "execution_count": 134,
   "metadata": {},
   "outputs": [],
   "source": [
    "coords_lofar_alt2 = coords_lofar[subsample_w2]"
   ]
  },
  {
   "cell_type": "code",
   "execution_count": 135,
   "metadata": {},
   "outputs": [],
   "source": [
    "q_0_comp_w2 = Q_0(coords_lofar_alt2, coords_combined[combined_wise2], field)"
   ]
  },
  {
   "cell_type": "code",
   "execution_count": 136,
   "metadata": {},
   "outputs": [
    {
     "name": "stdout",
     "output_type": "stream",
     "text": [
      " 1 0.00953 +/- 0.00018 [0.00929 0.00985]\n",
      " 2 0.02254 +/- 0.00035 [0.02217 0.02314]\n",
      " 3 0.03179 +/- 0.00052 [0.03095 0.03248]\n",
      " 4 0.03746 +/- 0.00075 [0.03646 0.03867]\n",
      " 5 0.04010 +/- 0.00161 [0.03738 0.04264]\n",
      " 6 0.04144 +/- 0.00118 [0.03906 0.04362]\n",
      " 7 0.04076 +/- 0.00060 [0.03980 0.04175]\n",
      " 8 0.04386 +/- 0.00191 [0.04159 0.04702]\n",
      " 9 0.04390 +/- 0.00198 [0.04106 0.04790]\n",
      "10 0.04506 +/- 0.00192 [0.04056 0.04802]\n",
      "11 0.04716 +/- 0.00181 [0.04482 0.05018]\n",
      "12 0.04796 +/- 0.00128 [0.04586 0.04955]\n",
      "13 0.04847 +/- 0.00279 [0.04349 0.05265]\n",
      "14 0.05024 +/- 0.00219 [0.04648 0.05423]\n",
      "15 0.04772 +/- 0.00247 [0.04373 0.05245]\n",
      "16 0.04821 +/- 0.00182 [0.04548 0.05104]\n",
      "17 0.04562 +/- 0.00315 [0.04066 0.05002]\n",
      "18 0.04442 +/- 0.00346 [0.03938 0.04975]\n",
      "19 0.04698 +/- 0.00380 [0.04117 0.05266]\n",
      "20 0.04781 +/- 0.00464 [0.04110 0.05486]\n",
      "21 0.04778 +/- 0.00422 [0.04002 0.05398]\n",
      "22 0.04689 +/- 0.00395 [0.04082 0.05292]\n",
      "23 0.04833 +/- 0.00469 [0.04287 0.05879]\n",
      "24 0.04841 +/- 0.00291 [0.04427 0.05406]\n",
      "25 0.04767 +/- 0.00359 [0.04059 0.05351]\n"
     ]
    }
   ],
   "source": [
    "q_0_rad_w2 = []\n",
    "q_0_rad_w2_std = []\n",
    "for radius in rads:\n",
    "    q_0_rad_aux = []\n",
    "    for i in range(n_iter):\n",
    "        out = q_0_comp_w2(radius=radius)\n",
    "        q_0_rad_aux.append(out)\n",
    "    q_0_rad_w2.append(np.mean(q_0_rad_aux))\n",
    "    q_0_rad_w2_std.append(np.std(q_0_rad_aux))\n",
    "    print(\n",
    "        \"{:2d} {:7.5f} +/- {:7.5f} [{:7.5f} {:7.5f}]\".format(\n",
    "            radius,\n",
    "            np.mean(q_0_rad_aux),\n",
    "            np.std(q_0_rad_aux),\n",
    "            np.min(q_0_rad_aux),\n",
    "            np.max(q_0_rad_aux),\n",
    "        )\n",
    "    )"
   ]
  },
  {
   "cell_type": "code",
   "execution_count": 137,
   "metadata": {},
   "outputs": [],
   "source": [
    "q_0_rad_w2 = np.array(q_0_rad_w2)\n",
    "q_0_rad_w2_std = np.array(q_0_rad_w2_std)"
   ]
  },
  {
   "cell_type": "code",
   "execution_count": null,
   "metadata": {},
   "outputs": [],
   "source": [
    "# Commented out because plots are not needed right now #\n",
    "#plt.rcParams[\"figure.figsize\"] = (5, 5)\n",
    "#plt.plot(rads, q_0_rad_w2)\n",
    "#plt.plot(rads, q_0_rad_w2 + 3 * q_0_rad_w2_std, ls=\":\", color=\"b\")\n",
    "#plt.plot(rads, q_0_rad_w2 - 3 * q_0_rad_w2_std, ls=\":\", color=\"b\")\n",
    "#plt.xlabel(\"Radius (arcsecs)\")\n",
    "#plt.ylabel(\"$Q_0 W2-band$\")\n",
    "#plt.ylim([0, 0.1])"
   ]
  },
  {
   "cell_type": "code",
   "execution_count": 138,
   "metadata": {},
   "outputs": [],
   "source": [
    "Q0_w2 = q_0_rad_w2[4] # 0.03364"
   ]
  },
  {
   "cell_type": "markdown",
   "metadata": {},
   "source": [
    "#### Create the likelihood estimator and run"
   ]
  },
  {
   "cell_type": "code",
   "execution_count": 139,
   "metadata": {},
   "outputs": [],
   "source": [
    "likelihood_ratio_w2 = SingleMLEstimator(Q0_w2, n_m_w2, q_m_w2, center_w2)"
   ]
  },
  {
   "cell_type": "code",
   "execution_count": 140,
   "metadata": {},
   "outputs": [],
   "source": [
    "idx_lofar_w2, idx_i_w2, d2d_w2, d3d_w2 = search_around_sky(\n",
    "    coords_lofar[subsample_w2], coords_combined[combined_wise2], radius*u.arcsec)"
   ]
  },
  {
   "cell_type": "code",
   "execution_count": 141,
   "metadata": {},
   "outputs": [],
   "source": [
    "idx_lofar_unique_w2 = np.unique(idx_lofar_w2)"
   ]
  },
  {
   "cell_type": "code",
   "execution_count": 142,
   "metadata": {},
   "outputs": [],
   "source": [
    "lofar[\"lr_w2\"] = np.nan                   # Likelihood ratio\n",
    "lofar[\"lr_dist_w2\"] = np.nan              # Distance to the selected source\n",
    "lofar[\"lr_index_w2\"] = np.nan             # Index of the PanSTARRS source in combined"
   ]
  },
  {
   "cell_type": "code",
   "execution_count": 143,
   "metadata": {},
   "outputs": [],
   "source": [
    "def ml_w2(i):\n",
    "    idx_0 = idx_i_w2[idx_lofar_w2 == i]\n",
    "    d2d_0 = d2d_w2[idx_lofar_w2 == i]\n",
    "    mag = catalogue_w2[\"MAG_W2\"][idx_0]\n",
    "    \n",
    "    lofar_ra = lofar[subsample_w2][i][\"RA\"]\n",
    "    lofar_dec = lofar[subsample_w2][i][\"DEC\"]\n",
    "    lofar_pa = lofar[subsample_w2][i][\"PA\"]\n",
    "    lofar_maj_err = lofar[subsample_w2][i][\"E_Maj\"]\n",
    "    lofar_min_err = lofar[subsample_w2][i][\"E_Min\"]\n",
    "    c_ra = catalogue_w2[\"RA\"][idx_0]\n",
    "    c_dec = catalogue_w2[\"DEC\"][idx_0]\n",
    "    c_ra_err = np.ones_like(c_ra)*0.6/3600.\n",
    "    c_dec_err = np.ones_like(c_ra)*0.6/3600.\n",
    "    \n",
    "    sigma_0_0, det_sigma = get_sigma_all(lofar_maj_err, lofar_min_err, lofar_pa, \n",
    "                      lofar_ra, lofar_dec, \n",
    "                      c_ra, c_dec, c_ra_err, c_dec_err)\n",
    "    \n",
    "    lr_0 = likelihood_ratio_w2(mag, d2d_0.arcsec, sigma_0_0, det_sigma)\n",
    "    chosen_index = np.argmax(lr_0)\n",
    "    result = [combined_aux_index[combined_wise2][idx_0[chosen_index]], # Index\n",
    "              (d2d_0.arcsec)[chosen_index],                        # distance\n",
    "              lr_0[chosen_index]]                                  # LR\n",
    "    return result"
   ]
  },
  {
   "cell_type": "code",
   "execution_count": 144,
   "metadata": {},
   "outputs": [
    {
     "name": "stderr",
     "output_type": "stream",
     "text": [
      "100%|██████████| 1.45k/1.45k [00:39<00:00, 36.8it/s]\n",
      "100%|██████████| 1447/1447 [00:00<00:00, 374755.04it/s]\n"
     ]
    }
   ],
   "source": [
    "res_w2 = parallel_process(idx_lofar_unique_w2, ml_w2, n_jobs=n_cpus)\n",
    "#res = Parallel(n_jobs=n_cpus)(delayed(ml_w2)(i) for i in tqdm_notebook(idx_lofar_unique))"
   ]
  },
  {
   "cell_type": "code",
   "execution_count": 145,
   "metadata": {},
   "outputs": [],
   "source": [
    "indices_w2 = np.arange(len(lofar))[subsample_w2][idx_lofar_unique_w2]"
   ]
  },
  {
   "cell_type": "code",
   "execution_count": 146,
   "metadata": {},
   "outputs": [],
   "source": [
    "(lofar[\"lr_index_w2\"][indices_w2], \n",
    " lofar[\"lr_dist_w2\"][indices_w2], \n",
    " lofar[\"lr_w2\"][indices_w2]) = list(map(list, zip(*res_w2)))"
   ]
  },
  {
   "cell_type": "markdown",
   "metadata": {},
   "source": [
    "#### Threshold and selection for W2 band"
   ]
  },
  {
   "cell_type": "code",
   "execution_count": 147,
   "metadata": {},
   "outputs": [],
   "source": [
    "lofar[\"lr_w2\"][np.isnan(lofar[\"lr_w2\"])] = 0"
   ]
  },
  {
   "cell_type": "code",
   "execution_count": 148,
   "metadata": {},
   "outputs": [],
   "source": [
    "threshold_w2 = np.percentile(lofar[subsample_w2][\"lr_w2\"], 100*(1 - Q0_w2))"
   ]
  },
  {
   "cell_type": "code",
   "execution_count": 149,
   "metadata": {},
   "outputs": [
    {
     "data": {
      "text/plain": [
       "0.022148488667908233"
      ]
     },
     "execution_count": 149,
     "metadata": {},
     "output_type": "execute_result"
    }
   ],
   "source": [
    "threshold_w2 # 0.015 before"
   ]
  },
  {
   "cell_type": "code",
   "execution_count": null,
   "metadata": {},
   "outputs": [],
   "source": [
    "# Commented out because plots are not needed right now #\n",
    "#plt.rcParams[\"figure.figsize\"] = (15,6)\n",
    "#ax1 = plt.subplot(1,2,1)\n",
    "#plt.hist(lofar[lofar[\"lr_w2\"] != 0][\"lr_w2\"], bins=50)\n",
    "#plt.vlines([threshold_w2], 0, 10)\n",
    "#ax1.set_yscale(\"log\", nonposy='clip')\n",
    "#plt.ylim([0,100])\n",
    "#ax2 = plt.subplot(1,2,2)\n",
    "#plt.hist(np.log10(lofar[lofar[\"lr_w2\"] != 0][\"lr_w2\"]+1), bins=50)\n",
    "#plt.vlines(np.log10(np.array([threshold_w2])+1), 0, 10)\n",
    "#ticks, _ = plt.xticks()\n",
    "#plt.xticks(ticks, [\"{:.1f}\".format(10**t-1) for t in ticks])\n",
    "#ax2.set_yscale(\"log\", nonposy='clip')\n",
    "#plt.ylim([0,100]);"
   ]
  },
  {
   "cell_type": "code",
   "execution_count": 150,
   "metadata": {},
   "outputs": [],
   "source": [
    "lofar[\"lr_index_sel_w2\"] = lofar[\"lr_index_w2\"]\n",
    "lofar[\"lr_index_sel_w2\"][lofar[\"lr_w2\"] < threshold_w2] = np.nan"
   ]
  },
  {
   "cell_type": "markdown",
   "metadata": {},
   "source": [
    "### Final selection of the match\n",
    "\n",
    "We combine the ML matching done in r-band, W1-band, and W2-band. All the galaxies were the LR is above the selection ratio for the respective band are finally selected."
   ]
  },
  {
   "cell_type": "code",
   "execution_count": 151,
   "metadata": {},
   "outputs": [],
   "source": [
    "lr_r_w1_w2 = (\n",
    "    ~np.isnan(lofar[\"lr_index_sel_r\"]) & \n",
    "    ~np.isnan(lofar[\"lr_index_sel_w1\"]) & \n",
    "    ~np.isnan(lofar[\"lr_index_sel_w2\"])\n",
    ")\n",
    "lr_r_w1 = (\n",
    "    ~np.isnan(lofar[\"lr_index_sel_r\"]) & \n",
    "    ~np.isnan(lofar[\"lr_index_sel_w1\"]) & \n",
    "    np.isnan(lofar[\"lr_index_sel_w2\"])\n",
    ")\n",
    "lr_r_w2 = (\n",
    "    ~np.isnan(lofar[\"lr_index_sel_r\"]) & \n",
    "    np.isnan(lofar[\"lr_index_sel_w1\"]) & \n",
    "    ~np.isnan(lofar[\"lr_index_sel_w2\"])\n",
    ")\n",
    "lr_w1_w2 = (\n",
    "    np.isnan(lofar[\"lr_index_sel_r\"]) & \n",
    "    ~np.isnan(lofar[\"lr_index_sel_w1\"]) & \n",
    "    ~np.isnan(lofar[\"lr_index_sel_w2\"])\n",
    ")\n",
    "lr_r = (\n",
    "    ~np.isnan(lofar[\"lr_index_sel_r\"]) & \n",
    "    np.isnan(lofar[\"lr_index_sel_w1\"]) & \n",
    "    np.isnan(lofar[\"lr_index_sel_w2\"])\n",
    ")\n",
    "lr_w1 = (\n",
    "    np.isnan(lofar[\"lr_index_sel_r\"]) & \n",
    "    ~np.isnan(lofar[\"lr_index_sel_w1\"]) & \n",
    "    np.isnan(lofar[\"lr_index_sel_w2\"])\n",
    ")\n",
    "lr_w2 = (\n",
    "    np.isnan(lofar[\"lr_index_sel_r\"]) & \n",
    "    np.isnan(lofar[\"lr_index_sel_w1\"]) & \n",
    "    ~np.isnan(lofar[\"lr_index_sel_w2\"])\n",
    ")\n",
    "lr_no_match = (\n",
    "    np.isnan(lofar[\"lr_index_sel_r\"]) & \n",
    "    np.isnan(lofar[\"lr_index_sel_w1\"]) & \n",
    "    np.isnan(lofar[\"lr_index_sel_w2\"])\n",
    ")"
   ]
  },
  {
   "cell_type": "code",
   "execution_count": 152,
   "metadata": {},
   "outputs": [
    {
     "name": "stdout",
     "output_type": "stream",
     "text": [
      "0\n",
      "0\n",
      "0\n",
      "0\n",
      "26883\n",
      "4854\n",
      "281\n",
      "6723\n"
     ]
    }
   ],
   "source": [
    "print(np.sum(lr_r_w1_w2))\n",
    "print(np.sum(lr_r_w1))\n",
    "print(np.sum(lr_r_w2))\n",
    "print(np.sum(lr_w1_w2))\n",
    "print(np.sum(lr_r))\n",
    "print(np.sum(lr_w1))\n",
    "print(np.sum(lr_w2))\n",
    "print(np.sum(lr_no_match))"
   ]
  },
  {
   "cell_type": "code",
   "execution_count": null,
   "metadata": {},
   "outputs": [],
   "source": [
    "# 0\n",
    "# 0\n",
    "# 0\n",
    "# 0\n",
    "# 68853\n",
    "# 12390\n",
    "# 653\n",
    "# 18311"
   ]
  },
  {
   "cell_type": "code",
   "execution_count": 153,
   "metadata": {},
   "outputs": [],
   "source": [
    "lofar[\"lr_index_1\"] = np.nan\n",
    "lofar[\"lr_dist_1\"] = np.nan\n",
    "lofar[\"lr_1\"] = np.nan\n",
    "lofar[\"lr_type_1\"] = 0"
   ]
  },
  {
   "cell_type": "code",
   "execution_count": 154,
   "metadata": {},
   "outputs": [
    {
     "data": {
      "text/plain": [
       "38741"
      ]
     },
     "execution_count": 154,
     "metadata": {},
     "output_type": "execute_result"
    }
   ],
   "source": [
    "len(lofar)"
   ]
  },
  {
   "cell_type": "markdown",
   "metadata": {},
   "source": [
    "Enter the data into the table"
   ]
  },
  {
   "cell_type": "code",
   "execution_count": 155,
   "metadata": {},
   "outputs": [],
   "source": [
    "r_selection = ~np.isnan(lofar[\"lr_index_sel_r\"])\n",
    "lofar[\"lr_index_1\"][r_selection] = lofar[\"lr_index_r\"][r_selection]\n",
    "lofar[\"lr_dist_1\"][r_selection] = lofar[\"lr_dist_r\"][r_selection]\n",
    "lofar[\"lr_1\"][r_selection] = lofar[\"lr_r\"][r_selection]\n",
    "lofar[\"lr_type_1\"][r_selection] = 1\n",
    "\n",
    "w1_selection = ~np.isnan(lofar[\"lr_index_sel_w1\"])\n",
    "lofar[\"lr_index_1\"][w1_selection] = lofar[\"lr_index_w1\"][w1_selection]\n",
    "lofar[\"lr_dist_1\"][w1_selection] = lofar[\"lr_dist_w1\"][w1_selection]\n",
    "lofar[\"lr_1\"][w1_selection] = lofar[\"lr_w1\"][w1_selection]\n",
    "lofar[\"lr_type_1\"][w1_selection] = 2\n",
    "\n",
    "w2_selection = ~np.isnan(lofar[\"lr_index_sel_w2\"])\n",
    "lofar[\"lr_index_1\"][w2_selection] = lofar[\"lr_index_w2\"][w2_selection]\n",
    "lofar[\"lr_dist_1\"][w2_selection] = lofar[\"lr_dist_w2\"][w2_selection]\n",
    "lofar[\"lr_1\"][w2_selection] = lofar[\"lr_w2\"][w2_selection]\n",
    "lofar[\"lr_type_1\"][w2_selection] = 3"
   ]
  },
  {
   "cell_type": "markdown",
   "metadata": {},
   "source": [
    "Summary of the number of sources matched of each type"
   ]
  },
  {
   "cell_type": "code",
   "execution_count": 156,
   "metadata": {},
   "outputs": [
    {
     "data": {
      "text/plain": [
       "(<Column name='lr_type_1' dtype='int64' length=4>\n",
       " 0\n",
       " 1\n",
       " 2\n",
       " 3,\n",
       " array([ 6723, 26883,  4854,   281]))"
      ]
     },
     "execution_count": 156,
     "metadata": {},
     "output_type": "execute_result"
    }
   ],
   "source": [
    "np.unique(lofar[\"lr_type_1\"], return_counts=True)"
   ]
  },
  {
   "cell_type": "code",
   "execution_count": 157,
   "metadata": {},
   "outputs": [],
   "source": [
    "t, c = np.unique(lofar[\"lr_type_1\"], return_counts=True)"
   ]
  },
  {
   "cell_type": "code",
   "execution_count": 158,
   "metadata": {},
   "outputs": [
    {
     "name": "stdout",
     "output_type": "stream",
     "text": [
      "Match type 0: 6723\n",
      "Match type 1: 26883\n",
      "Match type 2: 4854\n",
      "Match type 3: 281\n"
     ]
    }
   ],
   "source": [
    "for i, t0 in enumerate(t):\n",
    "    print(\"Match type {}: {}\".format(t0, c[i]))"
   ]
  },
  {
   "cell_type": "markdown",
   "metadata": {},
   "source": [
    "#### Duplicated sources\n",
    "\n",
    "This is the nymber of sources of the combined catalogue that are combined to multiple LOFAR sources. In the case of the catalogue of Gaussians the number can be very high."
   ]
  },
  {
   "cell_type": "code",
   "execution_count": 159,
   "metadata": {},
   "outputs": [],
   "source": [
    "values, counts = np.unique(lofar[lofar[\"lr_type_1\"] != 0][\"lr_index_1\"], return_counts=True)"
   ]
  },
  {
   "cell_type": "code",
   "execution_count": 160,
   "metadata": {},
   "outputs": [
    {
     "data": {
      "text/plain": [
       "0"
      ]
     },
     "execution_count": 160,
     "metadata": {},
     "output_type": "execute_result"
    }
   ],
   "source": [
    "len(values[counts > 1]) # 101"
   ]
  },
  {
   "cell_type": "code",
   "execution_count": 161,
   "metadata": {},
   "outputs": [],
   "source": [
    "n_dup, n_sour = np.unique(counts[counts > 1], return_counts=True)"
   ]
  },
  {
   "cell_type": "code",
   "execution_count": 143,
   "metadata": {},
   "outputs": [],
   "source": [
    "# Commented out because plots are not needed right now #\n",
    "#plt.rcParams[\"figure.figsize\"] = (6,6)\n",
    "#plt.semilogy(n_dup, n_sour, marker=\"x\")\n",
    "#plt.xlabel(\"Number of multiple matches\")\n",
    "#plt.ylabel(\"Number of sources in the category\")"
   ]
  },
  {
   "cell_type": "markdown",
   "metadata": {},
   "source": [
    "### Save intermediate data"
   ]
  },
  {
   "cell_type": "code",
   "execution_count": 163,
   "metadata": {},
   "outputs": [],
   "source": [
    "if save_intermediate:\n",
    "    pickle.dump([bin_list_r, center_r, Q0_r, n_m_r, q_m_r], \n",
    "                open(\"{}/lofar_params_1r.pckl\".format(idp), 'wb'))\n",
    "    pickle.dump([bin_list_w1, center_w1, Q0_w1, n_m_w1, q_m_w1], \n",
    "                open(\"{}/lofar_params_1w1.pckl\".format(idp), 'wb'))\n",
    "    pickle.dump([bin_list_w2, center_w2, Q0_w2, n_m_w2, q_m_w2], \n",
    "                open(\"{}/lofar_params_1w2.pckl\".format(idp), 'wb'))\n",
    "    lofar.write(\"{}/lofar_m1.fits\".format(idp), format=\"fits\", overwrite = True)"
   ]
  },
  {
   "cell_type": "markdown",
   "metadata": {},
   "source": [
    "## Second iteration using colour\n",
    "\n",
    "From now on we will take into account the effect of the colour. The sample was distributed in several categories according to the colour of the source and this is considered here.\n",
    "\n",
    "### Rusable parameters for all the iterations\n",
    "\n",
    "These parameters are derived from the underlying population and will not change.\n",
    "\n",
    "First we compute the number of galaxies in each bin for the combined catalogue"
   ]
  },
  {
   "cell_type": "code",
   "execution_count": 164,
   "metadata": {},
   "outputs": [],
   "source": [
    "bin_list = [bin_list_w2] + [bin_list_w1] + [bin_list_r for i in range(len(colour_bin_def))]\n",
    "centers = [center_w2] + [center_w1] + [center_r for i in range(len(colour_bin_def))]"
   ]
  },
  {
   "cell_type": "code",
   "execution_count": 165,
   "metadata": {},
   "outputs": [],
   "source": [
    "numbers_combined_bins = np.array([np.sum(a[\"condition\"]) for a in colour_bin_def])"
   ]
  },
  {
   "cell_type": "code",
   "execution_count": 166,
   "metadata": {},
   "outputs": [
    {
     "data": {
      "text/plain": [
       "array([      0,       0, 7873976, 2057616, 2166429, 1985738, 1652105,\n",
       "       1304090, 1014423,  777604,  756921,  584288])"
      ]
     },
     "execution_count": 166,
     "metadata": {},
     "output_type": "execute_result"
    }
   ],
   "source": [
    "numbers_combined_bins"
   ]
  },
  {
   "cell_type": "markdown",
   "metadata": {},
   "source": [
    "Get the colour category and magnitudes for the matched LOFAR sources"
   ]
  },
  {
   "cell_type": "code",
   "execution_count": 167,
   "metadata": {},
   "outputs": [],
   "source": [
    "bandwidth_colour = [0.5, 0.5, 0.5, 0.5, 0.5, 0.5, 0.5,\n",
    "        0.5, 0.5, 0.5, 0.5, 0.5]"
   ]
  },
  {
   "cell_type": "code",
   "execution_count": 168,
   "metadata": {},
   "outputs": [],
   "source": [
    "n_m = []\n",
    "\n",
    "# W2 only sources\n",
    "n_m.append(get_n_m_kde(combined[\"MAG_W2\"][combined[\"category\"] == 0], \n",
    "                       centers[0], field.area, bandwidth=bandwidth_colour[0]))\n",
    "# W1 only sources\n",
    "n_m.append(get_n_m_kde(combined[\"MAG_W1\"][combined[\"category\"] == 1], \n",
    "                       centers[1], field.area, bandwidth=bandwidth_colour[1]))\n",
    "\n",
    "# Rest of the sources\n",
    "for i in range(2, len(colour_bin_def)):\n",
    "    n_m.append(get_n_m_kde(combined[\"MAG_R\"][combined[\"category\"] == i], \n",
    "                           centers[i], field.area, bandwidth=bandwidth_colour[i]))"
   ]
  },
  {
   "cell_type": "code",
   "execution_count": 155,
   "metadata": {},
   "outputs": [],
   "source": [
    "# Commented out because plots are not needed right now #\n",
    "#plt.rcParams[\"figure.figsize\"] = (15,15)\n",
    "#for i, n_m_k in enumerate(n_m):\n",
    "#    plt.subplot(5,5,i+1)\n",
    "#    plt.plot(centers[i], np.cumsum(n_m_k))"
   ]
  },
  {
   "cell_type": "markdown",
   "metadata": {},
   "source": [
    "### Parameters of the matched sample\n",
    "\n",
    "The parameters derived from the matched LOFAR galaxies: $q_0$, q(m) and the number of sources per category.\n",
    "\n",
    "The columns \"category\", \"W1mag\" and \"i\" will contain the properties of the matched galaxies and will be updated in each iteration to save space."
   ]
  },
  {
   "cell_type": "code",
   "execution_count": 169,
   "metadata": {},
   "outputs": [],
   "source": [
    "lofar[\"category\"] = np.nan\n",
    "lofar[\"MAG_W2\"] = np.nan\n",
    "lofar[\"MAG_W1\"] = np.nan\n",
    "lofar[\"MAG_R\"] = np.nan"
   ]
  },
  {
   "cell_type": "code",
   "execution_count": 170,
   "metadata": {},
   "outputs": [],
   "source": [
    "c = ~np.isnan(lofar[\"lr_index_1\"])\n",
    "indices = lofar[\"lr_index_1\"][c].astype(int)\n",
    "lofar[\"category\"][c] = combined[indices][\"category\"]\n",
    "lofar[\"MAG_W2\"][c] = combined[indices][\"MAG_W2\"]\n",
    "lofar[\"MAG_W1\"][c] = combined[indices][\"MAG_W1\"]\n",
    "lofar[\"MAG_R\"][c] = combined[indices][\"MAG_R\"]"
   ]
  },
  {
   "cell_type": "markdown",
   "metadata": {},
   "source": [
    "The next parameter represent the number of matched LOFAR sources in each colour category."
   ]
  },
  {
   "cell_type": "code",
   "execution_count": 171,
   "metadata": {},
   "outputs": [],
   "source": [
    "numbers_lofar_combined_bins = np.array([np.sum(lofar[\"category\"] == c) \n",
    "                                        for c in range(len(numbers_combined_bins))])"
   ]
  },
  {
   "cell_type": "code",
   "execution_count": 172,
   "metadata": {},
   "outputs": [
    {
     "data": {
      "text/plain": [
       "array([ 281, 4854, 2839, 2637, 2863, 2717, 2746, 2590, 2585, 2396, 2963,\n",
       "       2547])"
      ]
     },
     "execution_count": 172,
     "metadata": {},
     "output_type": "execute_result"
    }
   ],
   "source": [
    "numbers_lofar_combined_bins"
   ]
  },
  {
   "cell_type": "markdown",
   "metadata": {},
   "source": [
    "The $Q_0$ for each category are obtained by dividing the number of sources in the category by the total number of sources in the sample."
   ]
  },
  {
   "cell_type": "code",
   "execution_count": 173,
   "metadata": {},
   "outputs": [],
   "source": [
    "Q_0_colour = numbers_lofar_combined_bins/len(lofar) ### Q_0"
   ]
  },
  {
   "cell_type": "code",
   "execution_count": 174,
   "metadata": {},
   "outputs": [],
   "source": [
    "q0_total = np.sum(Q_0_colour)"
   ]
  },
  {
   "cell_type": "code",
   "execution_count": 175,
   "metadata": {},
   "outputs": [
    {
     "data": {
      "text/plain": [
       "0.8264629204202266"
      ]
     },
     "execution_count": 175,
     "metadata": {},
     "output_type": "execute_result"
    }
   ],
   "source": [
    "q0_total"
   ]
  },
  {
   "cell_type": "markdown",
   "metadata": {},
   "source": [
    "The q(m) is not estimated with the method of Fleuren et al. but with the most updated distributions and numbers for the matches."
   ]
  },
  {
   "cell_type": "code",
   "execution_count": 176,
   "metadata": {},
   "outputs": [],
   "source": [
    "q_m = []\n",
    "radius = 15. \n",
    "\n",
    "# W2 only sources\n",
    "q_m.append(get_q_m_kde(lofar[\"MAG_W2\"][lofar[\"category\"] == 0], \n",
    "                   centers[0], \n",
    "                   radius=radius,\n",
    "                   bandwidth=bandwidth_colour[0]))\n",
    "\n",
    "# W1 only sources\n",
    "q_m.append(get_q_m_kde(lofar[\"MAG_W1\"][lofar[\"category\"] == 1], \n",
    "                   centers[1], \n",
    "                   radius=radius,\n",
    "                   bandwidth=bandwidth_colour[1]))\n",
    "\n",
    "# Rest of the sources\n",
    "for i in range(2, len(numbers_lofar_combined_bins)):\n",
    "    q_m.append(get_q_m_kde(lofar[\"MAG_R\"][lofar[\"category\"] == i], \n",
    "                   centers[i], \n",
    "                   radius=radius,\n",
    "                   bandwidth=bandwidth_colour[i]))"
   ]
  },
  {
   "cell_type": "code",
   "execution_count": 161,
   "metadata": {},
   "outputs": [],
   "source": [
    "# Commented out because plots are not needed right now #\n",
    "#plt.rcParams[\"figure.figsize\"] = (15,15)\n",
    "#for i, q_m_k in enumerate(q_m):\n",
    "#    plt.subplot(5,5,i+1)\n",
    "#    plt.plot(centers[i], np.cumsum(q_m_k))"
   ]
  },
  {
   "cell_type": "code",
   "execution_count": 163,
   "metadata": {},
   "outputs": [],
   "source": [
    "# Commented out because plots are not needed right now #\n",
    "#plt.rcParams[\"figure.figsize\"] = (12,10)\n",
    "\n",
    "#from matplotlib import cm\n",
    "#from matplotlib.collections import LineCollection\n",
    "\n",
    "#cm_subsection = np.linspace(0., 1., 16) \n",
    "#colors = [ cm.viridis(x) for x in cm_subsection ]\n",
    "\n",
    "#low = np.nonzero(centers[1] >= 15)[0][0]\n",
    "#high = np.nonzero(centers[1] >= 22.2)[0][0]\n",
    "\n",
    "#fig, a = plt.subplots()\n",
    "\n",
    "#for i, q_m_k in enumerate(q_m):\n",
    "#    #plot(centers[i], q_m_old[i]/n_m_old[i])\n",
    "#    a = plt.subplot(4,4,i+1)\n",
    "#    if i not in [-1]:\n",
    "#        n_m_aux = n_m[i]/np.sum(n_m[i])\n",
    "#        lwidths = (n_m_aux/np.max(n_m_aux)*10).astype(float) + 1\n",
    "#        #print(lwidths)\n",
    "#        \n",
    "#        y_aux = q_m_k/n_m[i]\n",
    "#        factor = np.max(y_aux[low:high])\n",
    "#        y = y_aux\n",
    "#        #print(y)\n",
    "#        x = centers[i]\n",
    "#        \n",
    "#        points = np.array([x, y]).T.reshape(-1, 1, 2)\n",
    "#        segments = np.concatenate([points[:-1], points[1:]], axis=1)\n",
    "#        \n",
    "#        lc = LineCollection(segments, linewidths=lwidths, color=colors[i])\n",
    "#        \n",
    "#        a.add_collection(lc)\n",
    "#        \n",
    "#        #plot(centers[i], x/factor, color=colors[i-1])\n",
    "#        plt.xlim([12, 30])\n",
    "#        if i == 0:\n",
    "#            plt.xlim([10, 23])\n",
    "#        plt.ylim([0, 1.2*factor])\n",
    "\n",
    "#plt.subplots_adjust(\n",
    "#    left=0.125, \n",
    "#    bottom=0.1, \n",
    "#    right=0.9, \n",
    "#    top=0.9,\n",
    "#    wspace=0.4, \n",
    "#    hspace=0.2\n",
    "#)"
   ]
  },
  {
   "cell_type": "markdown",
   "metadata": {},
   "source": [
    "* https://stackoverflow.com/questions/8931268/using-colormaps-to-set-color-of-line-in-matplotlib\n",
    "* https://stackoverflow.com/questions/19390895/matplotlib-plot-with-variable-line-width\n",
    "* https://stackoverflow.com/questions/432112/is-there-a-numpy-function-to-return-the-first-index-of-something-in-an-array"
   ]
  },
  {
   "cell_type": "markdown",
   "metadata": {},
   "source": [
    "### Save intermediate parameters"
   ]
  },
  {
   "cell_type": "code",
   "execution_count": 177,
   "metadata": {},
   "outputs": [],
   "source": [
    "if save_intermediate:\n",
    "    pickle.dump([bin_list, centers, Q_0_colour, n_m, q_m], \n",
    "                open(\"{}/lofar_params_2.pckl\".format(idp), 'wb'))"
   ]
  },
  {
   "cell_type": "markdown",
   "metadata": {},
   "source": [
    "### Prepare for ML"
   ]
  },
  {
   "cell_type": "code",
   "execution_count": 178,
   "metadata": {},
   "outputs": [],
   "source": [
    "selection = ~np.isnan(combined[\"category\"]) # Avoid the two dreaded sources with no actual data\n",
    "catalogue = combined[selection]"
   ]
  },
  {
   "cell_type": "code",
   "execution_count": 179,
   "metadata": {},
   "outputs": [],
   "source": [
    "radius = 15"
   ]
  },
  {
   "cell_type": "code",
   "execution_count": 180,
   "metadata": {},
   "outputs": [],
   "source": [
    "def apply_ml(i, likelihood_ratio_function):\n",
    "    idx_0 = idx_i[idx_lofar == i]\n",
    "    d2d_0 = d2d[idx_lofar == i]\n",
    "    \n",
    "    category = catalogue[\"category\"][idx_0].astype(int)\n",
    "    mag = catalogue[\"MAG_R\"][idx_0]\n",
    "    mag[category == 0] = catalogue[\"MAG_W2\"][idx_0][category == 0]\n",
    "    mag[category == 1] = catalogue[\"MAG_W1\"][idx_0][category == 1]\n",
    "    \n",
    "    lofar_ra = lofar[i][\"RA\"]\n",
    "    lofar_dec = lofar[i][\"DEC\"]\n",
    "    lofar_pa = lofar[i][\"PA\"]\n",
    "    lofar_maj_err = lofar[i][\"E_Maj\"]\n",
    "    lofar_min_err = lofar[i][\"E_Min\"]\n",
    "    c_ra = catalogue[\"RA\"][idx_0]\n",
    "    c_dec = catalogue[\"DEC\"][idx_0]\n",
    "    c_ra_err = np.ones_like(c_ra)*0.6/3600.\n",
    "    c_dec_err = np.ones_like(c_ra)*0.6/3600.\n",
    "    \n",
    "    sigma_0_0, det_sigma = get_sigma_all(lofar_maj_err, lofar_min_err, lofar_pa, \n",
    "                      lofar_ra, lofar_dec, \n",
    "                      c_ra, c_dec, c_ra_err, c_dec_err)\n",
    "\n",
    "    lr_0 = likelihood_ratio_function(mag, d2d_0.arcsec, sigma_0_0, det_sigma, category)\n",
    "    \n",
    "    chosen_index = np.argmax(lr_0)\n",
    "    result = [combined_aux_index[selection][idx_0[chosen_index]], # Index\n",
    "              (d2d_0.arcsec)[chosen_index],                        # distance\n",
    "              lr_0[chosen_index]]                                  # LR\n",
    "    return result"
   ]
  },
  {
   "cell_type": "markdown",
   "metadata": {},
   "source": [
    "### Run the cross-match\n",
    "\n",
    "This will not need to be repeated after"
   ]
  },
  {
   "cell_type": "code",
   "execution_count": 181,
   "metadata": {},
   "outputs": [],
   "source": [
    "idx_lofar, idx_i, d2d, d3d = search_around_sky(\n",
    "    coords_lofar, coords_combined[selection], radius*u.arcsec)"
   ]
  },
  {
   "cell_type": "code",
   "execution_count": 182,
   "metadata": {},
   "outputs": [],
   "source": [
    "idx_lofar_unique = np.unique(idx_lofar)"
   ]
  },
  {
   "cell_type": "markdown",
   "metadata": {},
   "source": [
    "### Run the ML matching"
   ]
  },
  {
   "cell_type": "code",
   "execution_count": 183,
   "metadata": {},
   "outputs": [],
   "source": [
    "likelihood_ratio = MultiMLEstimator(Q_0_colour, n_m, q_m, centers)"
   ]
  },
  {
   "cell_type": "code",
   "execution_count": 184,
   "metadata": {},
   "outputs": [],
   "source": [
    "def ml(i):\n",
    "    return apply_ml(i, likelihood_ratio)"
   ]
  },
  {
   "cell_type": "code",
   "execution_count": 185,
   "metadata": {},
   "outputs": [
    {
     "name": "stderr",
     "output_type": "stream",
     "text": [
      "100%|██████████| 38.6k/38.6k [39:27<00:00, 16.3it/s]  \n",
      "100%|██████████| 38614/38614 [00:00<00:00, 664651.09it/s]\n"
     ]
    }
   ],
   "source": [
    "res = parallel_process(idx_lofar_unique, ml, n_jobs=n_cpus)\n",
    "#res = Parallel(n_jobs=n_cpus)(delayed(ml)(i) for i in tqdm_notebook(idx_lofar_unique))"
   ]
  },
  {
   "cell_type": "code",
   "execution_count": 186,
   "metadata": {},
   "outputs": [],
   "source": [
    "lofar[\"lr_index_2\"] = np.nan\n",
    "lofar[\"lr_dist_2\"] = np.nan\n",
    "lofar[\"lr_2\"] = np.nan"
   ]
  },
  {
   "cell_type": "code",
   "execution_count": 187,
   "metadata": {},
   "outputs": [],
   "source": [
    "(lofar[\"lr_index_2\"][idx_lofar_unique], \n",
    " lofar[\"lr_dist_2\"][idx_lofar_unique], \n",
    " lofar[\"lr_2\"][idx_lofar_unique]) = list(map(list, zip(*res)))"
   ]
  },
  {
   "cell_type": "markdown",
   "metadata": {},
   "source": [
    "Get the new threshold for the ML matching. FIX THIS"
   ]
  },
  {
   "cell_type": "code",
   "execution_count": 188,
   "metadata": {},
   "outputs": [],
   "source": [
    "lofar[\"lr_2\"][np.isnan(lofar[\"lr_2\"])] = 0"
   ]
  },
  {
   "cell_type": "code",
   "execution_count": 189,
   "metadata": {},
   "outputs": [],
   "source": [
    "threshold = np.percentile(lofar[\"lr_2\"], 100*(1 - q0_total))\n",
    "#manual_q0 = 0.65\n",
    "#threshold = np.percentile(lofar[\"lr_2\"], 100*(1 - manual_q0))"
   ]
  },
  {
   "cell_type": "code",
   "execution_count": 190,
   "metadata": {},
   "outputs": [
    {
     "data": {
      "text/plain": [
       "0.3845715617274998"
      ]
     },
     "execution_count": 190,
     "metadata": {},
     "output_type": "execute_result"
    }
   ],
   "source": [
    "threshold # Old: 0.69787"
   ]
  },
  {
   "cell_type": "code",
   "execution_count": 182,
   "metadata": {},
   "outputs": [],
   "source": [
    "# Commented out because plots are not needed right now #\n",
    "#plt.rcParams[\"figure.figsize\"] = (15,6)\n",
    "#plt.subplot(1,2,1)\n",
    "#plt.hist(lofar[lofar[\"lr_2\"] != 0][\"lr_2\"], bins=200)\n",
    "#plt.vlines([threshold], 0, 1000)\n",
    "#plt.ylim([0,1000])\n",
    "#plt.subplot(1,2,2)\n",
    "#plt.hist(np.log10(lofar[lofar[\"lr_2\"] != 0][\"lr_2\"]+1), bins=200)\n",
    "#plt.vlines(np.log10(threshold+1), 0, 1000)\n",
    "#ticks, _ = plt.xticks()\n",
    "#plt.xticks(ticks, [\"{:.1f}\".format(10**t-1) for t in ticks])\n",
    "#plt.ylim([0,1000]);"
   ]
  },
  {
   "cell_type": "code",
   "execution_count": 191,
   "metadata": {},
   "outputs": [],
   "source": [
    "lofar[\"lr_index_sel_2\"] = lofar[\"lr_index_2\"]\n",
    "lofar[\"lr_index_sel_2\"][lofar[\"lr_2\"] < threshold] = np.nan"
   ]
  },
  {
   "cell_type": "code",
   "execution_count": 192,
   "metadata": {},
   "outputs": [],
   "source": [
    "n_changes = np.sum((lofar[\"lr_index_sel_2\"] != lofar[\"lr_index_1\"]) & \n",
    "                   ~np.isnan(lofar[\"lr_index_sel_2\"]) &\n",
    "                   ~np.isnan(lofar[\"lr_index_1\"]))"
   ]
  },
  {
   "cell_type": "code",
   "execution_count": 193,
   "metadata": {},
   "outputs": [
    {
     "data": {
      "text/plain": [
       "913"
      ]
     },
     "execution_count": 193,
     "metadata": {},
     "output_type": "execute_result"
    }
   ],
   "source": [
    "n_changes # Old: 3135"
   ]
  },
  {
   "cell_type": "markdown",
   "metadata": {},
   "source": [
    "Enter the results"
   ]
  },
  {
   "cell_type": "code",
   "execution_count": 194,
   "metadata": {},
   "outputs": [],
   "source": [
    "# Clear aux columns\n",
    "lofar[\"category\"] = np.nan\n",
    "lofar[\"MAG_W2\"] = np.nan\n",
    "lofar[\"MAG_W1\"] = np.nan\n",
    "lofar[\"MAG_R\"] = np.nan\n",
    "\n",
    "c = ~np.isnan(lofar[\"lr_index_sel_2\"])\n",
    "indices = lofar[\"lr_index_sel_2\"][c].astype(int)\n",
    "lofar[\"category\"][c] = combined[indices][\"category\"]\n",
    "lofar[\"MAG_W2\"][c] = combined[indices][\"MAG_W2\"]\n",
    "lofar[\"MAG_W1\"][c] = combined[indices][\"MAG_W1\"]\n",
    "lofar[\"MAG_R\"][c] = combined[indices][\"MAG_R\"]"
   ]
  },
  {
   "cell_type": "code",
   "execution_count": 195,
   "metadata": {},
   "outputs": [],
   "source": [
    "numbers_lofar_combined_bins = np.array([np.sum(lofar[\"category\"] == c) \n",
    "                                        for c in range(len(numbers_combined_bins))])"
   ]
  },
  {
   "cell_type": "code",
   "execution_count": 196,
   "metadata": {},
   "outputs": [
    {
     "data": {
      "text/plain": [
       "array([ 307, 4727, 2508, 2589, 2787, 2677, 2746, 2631, 2648, 2536, 3123,\n",
       "       2739])"
      ]
     },
     "execution_count": 196,
     "metadata": {},
     "output_type": "execute_result"
    }
   ],
   "source": [
    "numbers_lofar_combined_bins"
   ]
  },
  {
   "cell_type": "markdown",
   "metadata": {},
   "source": [
    "### Save intermediate data"
   ]
  },
  {
   "cell_type": "code",
   "execution_count": 198,
   "metadata": {},
   "outputs": [],
   "source": [
    "if save_intermediate:\n",
    "    lofar.write(\"{}/lofar_m2.fits\".format(idp), format=\"fits\", overwrite = True)"
   ]
  },
  {
   "cell_type": "markdown",
   "metadata": {},
   "source": [
    "## Iterate until convergence"
   ]
  },
  {
   "cell_type": "code",
   "execution_count": 199,
   "metadata": {},
   "outputs": [],
   "source": [
    "rerun_iter = False"
   ]
  },
  {
   "cell_type": "code",
   "execution_count": 201,
   "metadata": {},
   "outputs": [],
   "source": [
    "if rerun_iter:\n",
    "    lofar = Table.read(\"{}/lofar_m2.fits\".format(idp))\n",
    "    bin_list, centers, Q_0_colour, n_m, q_m = pickle.load(open(\"{}/lofar_params_2.pckl\".format(idp), 'rb'))\n",
    "    inter_data_list = glob(\"{}/lofar_m*.fits\".format(idp))\n",
    "    # Remove data\n",
    "    for inter_data_file in inter_data_list:\n",
    "        if inter_data_file[-7:-5] not in [\"m1\", \"m2\"]:\n",
    "            #print(inter_data_file)\n",
    "            os.remove(inter_data_file)\n",
    "    # Remove images\n",
    "    images_list = glob(\"{}/*.png\".format(idp))\n",
    "    for images in images_list:\n",
    "        #print(images)\n",
    "        os.remove(images)\n",
    "    # Remove parameters\n",
    "    inter_param_list = glob(\"{}/lofar_params_*.pckl\".format(idp))\n",
    "    for inter_param_file in inter_param_list:\n",
    "        if inter_param_file[-7:-5] not in [\"1i\", \"w1\", \"_2\"]:\n",
    "            #print(inter_param_file)\n",
    "            os.remove(inter_param_file)"
   ]
  },
  {
   "cell_type": "code",
   "execution_count": 202,
   "metadata": {},
   "outputs": [],
   "source": [
    "radius = 15. "
   ]
  },
  {
   "cell_type": "code",
   "execution_count": 203,
   "metadata": {},
   "outputs": [],
   "source": [
    "from matplotlib import pyplot as plt"
   ]
  },
  {
   "cell_type": "code",
   "execution_count": 204,
   "metadata": {},
   "outputs": [],
   "source": [
    "def plot_q_n_m(q_m, n_m):\n",
    "    fig, a = plt.subplots()\n",
    "\n",
    "    for i, q_m_k in enumerate(q_m):\n",
    "        #plot(centers[i], q_m_old[i]/n_m_old[i])\n",
    "        a = plt.subplot(4,4,i+1)\n",
    "        if i not in [-1]:\n",
    "            n_m_aux = n_m[i]/np.sum(n_m[i])\n",
    "            lwidths = (n_m_aux/np.max(n_m_aux)*10).astype(float) + 1\n",
    "            #print(lwidths)\n",
    "\n",
    "            y_aux = q_m_k/n_m[i]\n",
    "            factor = np.max(y_aux[low:high])\n",
    "            y = y_aux\n",
    "            #print(y)\n",
    "            x = centers[i]\n",
    "\n",
    "            points = np.array([x, y]).T.reshape(-1, 1, 2)\n",
    "            segments = np.concatenate([points[:-1], points[1:]], axis=1)\n",
    "\n",
    "            lc = LineCollection(segments, linewidths=lwidths, color=colors[i])\n",
    "\n",
    "            a.add_collection(lc)\n",
    "\n",
    "            #plot(centers[i], x/factor, color=colors[i-1])\n",
    "            plt.xlim([12, 30])\n",
    "            if i == 0:\n",
    "                plt.xlim([10, 23])\n",
    "            plt.ylim([0, 1.2*factor])\n",
    "\n",
    "    plt.subplots_adjust(left=0.125, \n",
    "                    bottom=0.1, \n",
    "                    right=0.9, \n",
    "                    top=0.9,\n",
    "                    wspace=0.4, \n",
    "                    hspace=0.2)\n",
    "    return fig"
   ]
  },
  {
   "cell_type": "code",
   "execution_count": 207,
   "metadata": {},
   "outputs": [
    {
     "name": "stdout",
     "output_type": "stream",
     "text": [
      "Iteration 3\n",
      "=============\n",
      "numbers_lofar_combined_bins\n",
      "[ 320 4751 2446 2581 2777 2677 2750 2639 2653 2542 3133 2749]\n",
      "Q_0_colour\n",
      "[0.00825998 0.12263493 0.06313724 0.06662193 0.07168116 0.06909992\n",
      " 0.07098423 0.06811905 0.06848042 0.06561524 0.0808704  0.07095842]\n",
      "Q_0_total:  0.8264629204202266\n"
     ]
    },
    {
     "name": "stderr",
     "output_type": "stream",
     "text": [
      "100%|██████████| 38.6k/38.6k [39:32<00:00, 16.3it/s]  \n",
      "100%|██████████| 38614/38614 [00:00<00:00, 600942.66it/s]\n"
     ]
    },
    {
     "name": "stdout",
     "output_type": "stream",
     "text": [
      "Threshold:  0.31225773050831207\n",
      "N changes:  55\n",
      "T changes:  6870\n",
      "******** continue **********\n",
      "Iteration 4\n",
      "=============\n",
      "numbers_lofar_combined_bins\n",
      "[ 321 4764 2421 2579 2775 2680 2753 2641 2654 2544 3134 2752]\n",
      "Q_0_colour\n",
      "[0.0082858  0.1229705  0.06249193 0.0665703  0.07162954 0.06917736\n",
      " 0.07106167 0.06817067 0.06850623 0.06566686 0.08089621 0.07103585]\n",
      "Q_0_total:  0.8264629204202267\n"
     ]
    },
    {
     "name": "stderr",
     "output_type": "stream",
     "text": [
      "100%|██████████| 38.6k/38.6k [39:29<00:00, 16.3it/s]  \n",
      "100%|██████████| 38614/38614 [00:00<00:00, 644750.93it/s]\n"
     ]
    },
    {
     "name": "stdout",
     "output_type": "stream",
     "text": [
      "Threshold:  0.30657266973584696\n",
      "N changes:  1\n",
      "T changes:  6731\n",
      "******** continue **********\n",
      "Iteration 5\n",
      "=============\n",
      "numbers_lofar_combined_bins\n",
      "[ 322 4767 2417 2579 2775 2680 2754 2641 2654 2543 3134 2752]\n",
      "Q_0_colour\n",
      "[0.00831161 0.12304793 0.06238868 0.0665703  0.07162954 0.06917736\n",
      " 0.07108748 0.06817067 0.06850623 0.06564105 0.08089621 0.07103585]\n",
      "Q_0_total:  0.8264629204202267\n"
     ]
    },
    {
     "name": "stderr",
     "output_type": "stream",
     "text": [
      "100%|██████████| 38.6k/38.6k [39:25<00:00, 16.3it/s]  \n",
      "100%|██████████| 38614/38614 [00:00<00:00, 624932.88it/s]\n"
     ]
    },
    {
     "name": "stdout",
     "output_type": "stream",
     "text": [
      "Threshold:  0.3062802547023878\n",
      "N changes:  1\n",
      "T changes:  6727\n",
      "******** continue **********\n",
      "Iteration 6\n",
      "=============\n",
      "numbers_lofar_combined_bins\n",
      "[ 323 4768 2414 2579 2775 2680 2755 2641 2654 2543 3134 2752]\n",
      "Q_0_colour\n",
      "[0.00833742 0.12307375 0.06231125 0.0665703  0.07162954 0.06917736\n",
      " 0.07111329 0.06817067 0.06850623 0.06564105 0.08089621 0.07103585]\n",
      "Q_0_total:  0.8264629204202265\n"
     ]
    },
    {
     "name": "stderr",
     "output_type": "stream",
     "text": [
      "100%|██████████| 38.6k/38.6k [39:19<00:00, 16.4it/s]  \n",
      "100%|██████████| 38614/38614 [00:00<00:00, 610193.78it/s]\n"
     ]
    },
    {
     "name": "stdout",
     "output_type": "stream",
     "text": [
      "Threshold:  0.30586868132623446\n",
      "N changes:  0\n",
      "T changes:  6724\n"
     ]
    }
   ],
   "source": [
    "for j in range(10):\n",
    "    iteration = j+3 \n",
    "    print(\"Iteration {}\".format(iteration))\n",
    "    print(\"=============\")\n",
    "    ## Get new parameters\n",
    "    # Number of matched sources per bin\n",
    "    numbers_lofar_combined_bins = np.array([np.sum(lofar[\"category\"] == c) \n",
    "                                            for c in range(len(numbers_combined_bins))])\n",
    "    print(\"numbers_lofar_combined_bins\")\n",
    "    print(numbers_lofar_combined_bins)\n",
    "    # q_0\n",
    "    Q_0_colour_est = numbers_lofar_combined_bins/len(lofar) ### Q_0\n",
    "    Q_0_colour = q0_min_level(Q_0_colour_est, min_level=0.001)\n",
    "    print(\"Q_0_colour\")\n",
    "    print(Q_0_colour)\n",
    "    q0_total = np.sum(Q_0_colour)\n",
    "    print(\"Q_0_total: \", q0_total)\n",
    "    # q_m\n",
    "    q_m = []\n",
    "    # W2 only sources\n",
    "    q_m.append(get_q_m_kde(lofar[\"MAG_W2\"][lofar[\"category\"] == 0], \n",
    "                       centers[0], \n",
    "                       radius=radius,\n",
    "                       bandwidth=bandwidth_colour[0]))\n",
    "    # W1 only sources\n",
    "    q_m.append(get_q_m_kde(lofar[\"MAG_W1\"][lofar[\"category\"] == 1], \n",
    "                       centers[1], \n",
    "                       radius=radius,\n",
    "                       bandwidth=bandwidth_colour[1]))\n",
    "    # Rest of the sources\n",
    "    for i in range(2, len(numbers_lofar_combined_bins)):\n",
    "        q_m.append(get_q_m_kde(lofar[\"MAG_R\"][lofar[\"category\"] == i], \n",
    "                       centers[i], \n",
    "                       radius=radius,\n",
    "                       bandwidth=bandwidth_colour[i]))\n",
    "    # Save new parameters\n",
    "    if save_intermediate:\n",
    "        pickle.dump([bin_list, centers, Q_0_colour, n_m, q_m], \n",
    "                    open(\"{}/lofar_params_{}.pckl\".format(idp, iteration), 'wb'))\n",
    "    if plot_intermediate:\n",
    "        fig = plt.figure(figsize=(15,15))\n",
    "        for i, q_m_k in enumerate(q_m):\n",
    "            plt.subplot(5,5,i+1)\n",
    "            plt.plot(centers[i], q_m_k)\n",
    "        plt.savefig('{}/q0_{}.png'.format(idp, iteration))\n",
    "        del fig\n",
    "        fig = plt.figure(figsize=(15,15))\n",
    "        for i, q_m_k in enumerate(q_m):\n",
    "            plt.subplot(5,5,i+1)\n",
    "            plt.plot(centers[i], q_m_k/n_m[i])\n",
    "        plt.savefig('{}/q_over_n_{}.png'.format(idp, iteration))\n",
    "        del fig\n",
    "        fig = plot_q_n_m(q_m, n_m)\n",
    "        plt.savefig('{}/q_over_n_nice_{}.png'.format(idp, iteration))\n",
    "        del fig\n",
    "    ## Define new likelihood_ratio\n",
    "    likelihood_ratio = MultiMLEstimator(Q_0_colour, n_m, q_m, centers)\n",
    "    def ml(i):\n",
    "        return apply_ml(i, likelihood_ratio)\n",
    "    ## Run the ML\n",
    "    res = parallel_process(idx_lofar_unique, ml, n_jobs=n_cpus)\n",
    "    #res = Parallel(n_jobs=n_cpus)(delayed(ml)(i) for i in tqdm_notebook(idx_lofar_unique))\n",
    "    lofar[\"lr_index_{}\".format(iteration)] = np.nan\n",
    "    lofar[\"lr_dist_{}\".format(iteration)] = np.nan\n",
    "    lofar[\"lr_{}\".format(iteration)] = np.nan\n",
    "    (lofar[\"lr_index_{}\".format(iteration)][idx_lofar_unique], \n",
    "     lofar[\"lr_dist_{}\".format(iteration)][idx_lofar_unique], \n",
    "     lofar[\"lr_{}\".format(iteration)][idx_lofar_unique]) = list(map(list, zip(*res)))\n",
    "    lofar[\"lr_{}\".format(iteration)][np.isnan(lofar[\"lr_{}\".format(iteration)])] = 0\n",
    "    ## Get and apply the threshold\n",
    "    threshold = np.percentile(lofar[\"lr_{}\".format(iteration)], 100*(1 - q0_total))\n",
    "    #threshold = get_threshold(lofar[lofar[\"lr_{}\".format(iteration)] != 0][\"lr_{}\".format(iteration)])\n",
    "    print(\"Threshold: \", threshold)\n",
    "    if plot_intermediate:\n",
    "        fig = plt.figure(figsize=(15,6))\n",
    "        plt.subplot(1,2,1)\n",
    "        plt.hist(lofar[lofar[\"lr_{}\".format(iteration)] != 0][\"lr_{}\".format(iteration)], bins=200)\n",
    "        plt.vlines([threshold], 0, 1000)\n",
    "        plt.ylim([0,1000])\n",
    "        plt.subplot(1,2,2)\n",
    "        plt.hist(np.log10(lofar[lofar[\"lr_{}\".format(iteration)] != 0][\"lr_{}\".format(iteration)]+1), bins=200)\n",
    "        plt.vlines(np.log10(threshold+1), 0, 1000)\n",
    "        ticks, _ = plt.xticks()\n",
    "        plt.xticks(ticks, [\"{:.1f}\".format(10**t-1) for t in ticks])\n",
    "        plt.ylim([0,1000])\n",
    "        plt.savefig('{}/lr_distribution_{}.png'.format(idp, iteration))\n",
    "        del fig\n",
    "    ## Apply the threshold\n",
    "    lofar[\"lr_index_sel_{}\".format(iteration)] = lofar[\"lr_index_{}\".format(iteration)]\n",
    "    lofar[\"lr_index_sel_{}\".format(iteration)][lofar[\"lr_{}\".format(iteration)] < threshold] = np.nan\n",
    "    ## Enter changes into the catalogue\n",
    "    # Clear aux columns\n",
    "    lofar[\"category\"] = np.nan\n",
    "    lofar[\"MAG_W2\"] = np.nan\n",
    "    lofar[\"MAG_W1\"] = np.nan\n",
    "    lofar[\"MAG_R\"] = np.nan\n",
    "    # Update data\n",
    "    c = ~np.isnan(lofar[\"lr_index_sel_{}\".format(iteration)])\n",
    "    indices = lofar[\"lr_index_sel_{}\".format(iteration)][c].astype(int)\n",
    "    lofar[\"category\"][c] = combined[indices][\"category\"]\n",
    "    lofar[\"MAG_W2\"][c] = combined[indices][\"MAG_W2\"]\n",
    "    lofar[\"MAG_W1\"][c] = combined[indices][\"MAG_W1\"]\n",
    "    lofar[\"MAG_R\"][c] = combined[indices][\"MAG_R\"]\n",
    "    # Save the data\n",
    "    if save_intermediate:\n",
    "        lofar.write(\"{}/lofar_m{}.fits\".format(idp, iteration), format=\"fits\")\n",
    "    ## Compute number of changes\n",
    "    n_changes = np.sum((\n",
    "            lofar[\"lr_index_sel_{}\".format(iteration)] != lofar[\"lr_index_sel_{}\".format(iteration-1)]) & \n",
    "            ~np.isnan(lofar[\"lr_index_sel_{}\".format(iteration)]) &\n",
    "            ~np.isnan(lofar[\"lr_index_sel_{}\".format(iteration-1)]))\n",
    "    print(\"N changes: \", n_changes)\n",
    "    t_changes = np.sum((\n",
    "            lofar[\"lr_index_sel_{}\".format(iteration)] != lofar[\"lr_index_sel_{}\".format(iteration-1)]))\n",
    "    print(\"T changes: \", t_changes)\n",
    "    ## Check changes\n",
    "    if n_changes == 0:\n",
    "        break\n",
    "    else:\n",
    "        print(\"******** continue **********\")"
   ]
  },
  {
   "cell_type": "code",
   "execution_count": 208,
   "metadata": {},
   "outputs": [
    {
     "data": {
      "text/plain": [
       "array([ 323, 4768, 2413, 2579, 2775, 2680, 2755, 2642, 2654, 2543, 3134,\n",
       "       2752])"
      ]
     },
     "execution_count": 208,
     "metadata": {},
     "output_type": "execute_result"
    }
   ],
   "source": [
    "numbers_lofar_combined_bins = np.array([np.sum(lofar[\"category\"] == c) \n",
    "                                        for c in range(len(numbers_combined_bins))])\n",
    "numbers_lofar_combined_bins"
   ]
  },
  {
   "cell_type": "code",
   "execution_count": 209,
   "metadata": {},
   "outputs": [],
   "source": [
    "if save_intermediate:\n",
    "    pickle.dump([numbers_lofar_combined_bins, numbers_combined_bins], \n",
    "                open(\"{}/numbers_{}.pckl\".format(idp, iteration), 'wb'))"
   ]
  },
  {
   "cell_type": "code",
   "execution_count": 210,
   "metadata": {},
   "outputs": [],
   "source": [
    "good = True"
   ]
  },
  {
   "cell_type": "code",
   "execution_count": 216,
   "metadata": {},
   "outputs": [],
   "source": [
    "if good:\n",
    "    if os.path.exists(\"{}/lofar_params_{}.pckl\".format(idp, REGION)):\n",
    "        os.remove(\"{}/lofar_params_{}.pckl\".format(idp, REGION))\n",
    "    copyfile(\"{}/lofar_params_{}.pckl\".format(idp, iteration), \"{}/lofar_params_{}.pckl\".format(idp, REGION))"
   ]
  },
  {
   "cell_type": "code",
   "execution_count": null,
   "metadata": {},
   "outputs": [],
   "source": []
  },
  {
   "cell_type": "code",
   "execution_count": null,
   "metadata": {},
   "outputs": [],
   "source": []
  }
 ],
 "metadata": {
  "jupytext": {
   "formats": "ipynb,py:percent"
  },
  "kernelspec": {
   "display_name": "Python 3 (ipykernel)",
   "language": "python",
   "name": "python3"
  },
  "language_info": {
   "codemirror_mode": {
    "name": "ipython",
    "version": 3
   },
   "file_extension": ".py",
   "mimetype": "text/x-python",
   "name": "python",
   "nbconvert_exporter": "python",
   "pygments_lexer": "ipython3",
   "version": "3.9.19"
  }
 },
 "nbformat": 4,
 "nbformat_minor": 4
}
