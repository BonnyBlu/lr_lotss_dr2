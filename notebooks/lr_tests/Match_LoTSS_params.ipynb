{
 "cells": [
  {
   "cell_type": "markdown",
   "metadata": {},
   "source": [
    "# ML match for LOFAR and the Legacy-WISE catalogue: Source catalogue\n",
    "\n",
    "This version computes the final parameters for the 0h region in an iterative fashion. The computation of the $Q_0$ is also included here."
   ]
  },
  {
   "cell_type": "markdown",
   "metadata": {},
   "source": [
    "## Configuration\n",
    "\n",
    "### Load libraries and setup"
   ]
  },
  {
   "cell_type": "code",
   "execution_count": 1,
   "metadata": {},
   "outputs": [],
   "source": [
    "import pickle\n",
    "import os\n",
    "import sys\n",
    "from glob import glob\n",
    "from shutil import copyfile\n",
    "import numpy as np\n",
    "from astropy.table import Table\n",
    "from astropy import units as u\n",
    "from astropy.coordinates import SkyCoord, search_around_sky\n",
    "import yaml\n",
    "from dotenv import load_dotenv, find_dotenv\n",
    "from IPython.display import clear_output"
   ]
  },
  {
   "cell_type": "code",
   "execution_count": 2,
   "metadata": {},
   "outputs": [],
   "source": [
    "try:\n",
    "    BASEPATH = os.path.dirname(os.path.realpath(__file__))\n",
    "    ROOTPATH = os.path.join(BASEPATH, \"..\", \"..\")\n",
    "except NameError as e:\n",
    "    if os.path.exists(\"data\"):\n",
    "        BASEPATH = os.path.realpath(\".\")\n",
    "        ROOTPATH = BASEPATH\n",
    "    else:\n",
    "        BASEPATH = os.getcwd()\n",
    "        ROOTPATH = os.path.join(BASEPATH, \"..\", \"..\")\n",
    "\n",
    "data_path = os.path.join(ROOTPATH, \"data\")\n",
    "src_path = os.path.join(ROOTPATH, \"src\")\n",
    "config_path = os.path.join(ROOTPATH, \"config\")"
   ]
  },
  {
   "cell_type": "code",
   "execution_count": 3,
   "metadata": {},
   "outputs": [],
   "source": [
    "sys.path.append(src_path)\n",
    "from mltier1 import (get_center, get_n_m, estimate_q_m, Field, SingleMLEstimator, MultiMLEstimator,\n",
    "                     parallel_process, get_sigma_all, get_q_m, get_threshold, q0_min_level, q0_min_numbers,\n",
    "                     get_n_m_kde, estimate_q_m_kde, get_q_m_kde, describe, Q_0)"
   ]
  },
  {
   "cell_type": "code",
   "execution_count": 4,
   "metadata": {},
   "outputs": [],
   "source": [
    "%load_ext autoreload"
   ]
  },
  {
   "cell_type": "code",
   "execution_count": 5,
   "metadata": {},
   "outputs": [],
   "source": [
    "%autoreload"
   ]
  },
  {
   "cell_type": "code",
   "execution_count": 6,
   "metadata": {},
   "outputs": [],
   "source": [
    "import matplotlib.pyplot as plt"
   ]
  },
  {
   "cell_type": "code",
   "execution_count": 7,
   "metadata": {},
   "outputs": [],
   "source": [
    "%matplotlib inline"
   ]
  },
  {
   "cell_type": "markdown",
   "metadata": {},
   "source": [
    "### Configuration"
   ]
  },
  {
   "cell_type": "code",
   "execution_count": 9,
   "metadata": {},
   "outputs": [],
   "source": [
    "with open(os.path.join(config_path, \"params.yml\"), \"r\") as ymlfile:\n",
    "    cfg_all = yaml.safe_load(ymlfile)"
   ]
  },
  {
   "cell_type": "code",
   "execution_count": 10,
   "metadata": {},
   "outputs": [
    {
     "ename": "KeyError",
     "evalue": "None",
     "output_type": "error",
     "traceback": [
      "\u001b[0;31m---------------------------------------------------------------------------\u001b[0m",
      "\u001b[0;31mKeyError\u001b[0m                                  Traceback (most recent call last)",
      "Cell \u001b[0;32mIn[10], line 3\u001b[0m\n\u001b[1;32m      1\u001b[0m load_dotenv(find_dotenv())\n\u001b[1;32m      2\u001b[0m REGION \u001b[38;5;241m=\u001b[39m os\u001b[38;5;241m.\u001b[39mgetenv(\u001b[38;5;124m\"\u001b[39m\u001b[38;5;124mREGION\u001b[39m\u001b[38;5;124m\"\u001b[39m)\n\u001b[0;32m----> 3\u001b[0m config \u001b[38;5;241m=\u001b[39m \u001b[43mcfg_all\u001b[49m\u001b[43m[\u001b[49m\u001b[43mREGION\u001b[49m\u001b[43m]\u001b[49m\n",
      "\u001b[0;31mKeyError\u001b[0m: None"
     ]
    }
   ],
   "source": [
    "load_dotenv(find_dotenv())\n",
    "REGION = os.getenv(\"REGION\")\n",
    "config = cfg_all[REGION]"
   ]
  },
  {
   "cell_type": "code",
   "execution_count": null,
   "metadata": {},
   "outputs": [],
   "source": [
    "region_name = config[\"region_name\"]\n",
    "radio_catalogue = os.path.join(data_path, config[\"radio_catalogue\"])\n",
    "combined_catalogue = os.path.join(data_path, config[\"combined_catalogue\"])\n",
    "dec_down = config[\"dec_down\"]\n",
    "dec_up = config[\"dec_up\"]\n",
    "ra_down = config[\"ra_down\"]\n",
    "ra_up = config[\"ra_up\"]\n",
    "max_major = config[\"max_major\"]\n",
    "colour_limits_post = np.array(config[\"colour_limits_post\"])"
   ]
  },
  {
   "cell_type": "markdown",
   "metadata": {},
   "source": [
    "### General configuration"
   ]
  },
  {
   "cell_type": "code",
   "execution_count": null,
   "metadata": {},
   "outputs": [],
   "source": [
    "save_intermediate = True\n",
    "plot_intermediate = False"
   ]
  },
  {
   "cell_type": "code",
   "execution_count": null,
   "metadata": {},
   "outputs": [],
   "source": [
    "idp = os.path.join(data_path, \"idata\", region_name)"
   ]
  },
  {
   "cell_type": "code",
   "execution_count": null,
   "metadata": {},
   "outputs": [],
   "source": [
    "os.makedirs(idp, exist_ok=True)"
   ]
  },
  {
   "cell_type": "markdown",
   "metadata": {},
   "source": [
    "### Area limits"
   ]
  },
  {
   "cell_type": "code",
   "execution_count": null,
   "metadata": {},
   "outputs": [],
   "source": [
    "# # Test samples LoTSS_DR2_DUMMYCAT_FORPEPE_0h.srl.fits\n",
    "# dec_down = 22.25\n",
    "# dec_up = 32.\n",
    "# ra_down = 0.\n",
    "# ra_up = 20.5"
   ]
  },
  {
   "cell_type": "code",
   "execution_count": null,
   "metadata": {},
   "outputs": [],
   "source": [
    "margin_ra = 0.1\n",
    "margin_dec = 0.1"
   ]
  },
  {
   "cell_type": "code",
   "execution_count": null,
   "metadata": {},
   "outputs": [],
   "source": [
    "field = Field(ra_down, ra_up, dec_down, dec_up)"
   ]
  },
  {
   "cell_type": "code",
   "execution_count": null,
   "metadata": {},
   "outputs": [],
   "source": [
    "field_full = field\n",
    "#field_full = Field(160.0, 232.0, 42.0, 62.0)"
   ]
  },
  {
   "cell_type": "code",
   "execution_count": null,
   "metadata": {},
   "outputs": [],
   "source": [
    "field_optical = Field(\n",
    "    ra_down - margin_ra, \n",
    "    ra_up + margin_ra, \n",
    "    dec_down - margin_dec, \n",
    "    dec_up + margin_dec)"
   ]
  },
  {
   "cell_type": "markdown",
   "metadata": {},
   "source": [
    "## Load data"
   ]
  },
  {
   "cell_type": "code",
   "execution_count": null,
   "metadata": {},
   "outputs": [],
   "source": [
    "combined_all = Table.read(combined_catalogue)"
   ]
  },
  {
   "cell_type": "markdown",
   "metadata": {},
   "source": [
    "We will start to use the updated catalogues that include the output of the LOFAR Galaxy Zoo work."
   ]
  },
  {
   "cell_type": "code",
   "execution_count": null,
   "metadata": {},
   "outputs": [],
   "source": [
    "#lofar_all = Table.read(\"data/LOFAR_HBA_T1_DR1_catalog_v0.9.srl.fits\")\n",
    "#lofar_all = Table.read(os.path.join(data_path, \"samples\", \"P005p28.fits\"))\n",
    "#lofar_all = Table.read(os.path.join(data_path, \"samples\", \"LoTSS_DR2_RA0INNER_v0.9.srl.fits\"))\n",
    "lofar_all = Table.read(radio_catalogue)"
   ]
  },
  {
   "cell_type": "code",
   "execution_count": null,
   "metadata": {},
   "outputs": [],
   "source": [
    "np.array(combined_all.colnames)"
   ]
  },
  {
   "cell_type": "code",
   "execution_count": null,
   "metadata": {},
   "outputs": [],
   "source": [
    "np.array(lofar_all.colnames)"
   ]
  },
  {
   "cell_type": "code",
   "execution_count": null,
   "metadata": {},
   "outputs": [],
   "source": [
    "describe(lofar_all['Maj'])"
   ]
  },
  {
   "cell_type": "markdown",
   "metadata": {},
   "source": [
    "### Filter catalogues\n",
    "\n",
    "We will take the sources in the main region but also discard sources with a Major axis size bigger than 15 arsecs."
   ]
  },
  {
   "cell_type": "code",
   "execution_count": null,
   "metadata": {},
   "outputs": [],
   "source": [
    "lofar_aux = lofar_all[~np.isnan(lofar_all['Maj'])]"
   ]
  },
  {
   "cell_type": "code",
   "execution_count": null,
   "metadata": {},
   "outputs": [],
   "source": [
    "lofar = field.filter_catalogue(lofar_aux[(lofar_aux['Maj'] < max_major)], \n",
    "                               colnames=(\"RA\", \"DEC\"))"
   ]
  },
  {
   "cell_type": "code",
   "execution_count": null,
   "metadata": {},
   "outputs": [],
   "source": [
    "lofar_full = field_full.filter_catalogue(lofar_aux[(lofar_aux['Maj'] < max_major)], \n",
    "                                         colnames=(\"RA\", \"DEC\"))"
   ]
  },
  {
   "cell_type": "code",
   "execution_count": null,
   "metadata": {},
   "outputs": [],
   "source": [
    "combined = field_optical.filter_catalogue(combined_all, \n",
    "                                colnames=(\"RA\", \"DEC\"))"
   ]
  },
  {
   "cell_type": "code",
   "execution_count": null,
   "metadata": {},
   "outputs": [],
   "source": [
    "combined_nomargin = field.filter_catalogue(combined_all, \n",
    "                                colnames=(\"RA\", \"DEC\"))"
   ]
  },
  {
   "cell_type": "markdown",
   "metadata": {},
   "source": [
    "### Additional data\n",
    "\n",
    "Compute some additional data that was not available in the catalogues like the colour or an auxiliary array with an index."
   ]
  },
  {
   "cell_type": "code",
   "execution_count": null,
   "metadata": {},
   "outputs": [],
   "source": [
    "combined[\"colour\"] = combined[\"MAG_R\"] - combined[\"MAG_W1\"]"
   ]
  },
  {
   "cell_type": "code",
   "execution_count": null,
   "metadata": {},
   "outputs": [],
   "source": [
    "combined_aux_index = np.arange(len(combined))"
   ]
  },
  {
   "cell_type": "markdown",
   "metadata": {},
   "source": [
    "### Sky coordinates"
   ]
  },
  {
   "cell_type": "code",
   "execution_count": null,
   "metadata": {},
   "outputs": [],
   "source": [
    "coords_combined = SkyCoord(combined['RA'], \n",
    "                           combined['DEC'], \n",
    "                           unit=(u.deg, u.deg), \n",
    "                           frame='icrs')"
   ]
  },
  {
   "cell_type": "code",
   "execution_count": null,
   "metadata": {},
   "outputs": [],
   "source": [
    "coords_lofar = SkyCoord(lofar['RA'], \n",
    "                       lofar['DEC'], \n",
    "                       unit=(u.deg, u.deg), \n",
    "                       frame='icrs')"
   ]
  },
  {
   "cell_type": "markdown",
   "metadata": {},
   "source": [
    "### Class of sources in the combined catalogue\n",
    "\n",
    "The sources are grouped depending on the available photometric data."
   ]
  },
  {
   "cell_type": "code",
   "execution_count": null,
   "metadata": {},
   "outputs": [],
   "source": [
    "combined_legacy = (\n",
    "    ~np.isnan(combined[\"MAG_R\"]) & \n",
    "    ~np.isnan(combined[\"MAG_W1\"]) & \n",
    "    ~np.isnan(combined[\"MAG_W2\"])\n",
    ")"
   ]
  },
  {
   "cell_type": "code",
   "execution_count": null,
   "metadata": {},
   "outputs": [],
   "source": [
    "combined_wise =(\n",
    "    np.isnan(combined[\"MAG_R\"]) & \n",
    "    ~np.isnan(combined[\"MAG_W1\"])\n",
    ")"
   ]
  },
  {
   "cell_type": "code",
   "execution_count": null,
   "metadata": {},
   "outputs": [],
   "source": [
    "combined_wise2 =(\n",
    "    np.isnan(combined[\"MAG_R\"]) & \n",
    "    np.isnan(combined[\"MAG_W1\"])\n",
    ")"
   ]
  },
  {
   "cell_type": "code",
   "execution_count": null,
   "metadata": {},
   "outputs": [],
   "source": [
    "print(\"Total     - \", len(combined))\n",
    "print(\"R and W1  - \", np.sum(combined_legacy))\n",
    "print(\"Only WISE - \", np.sum(combined_wise))\n",
    "print(\"Only W2   - \", np.sum(combined_wise2))"
   ]
  },
  {
   "cell_type": "markdown",
   "metadata": {},
   "source": [
    "### Colour categories\n",
    "\n",
    "The colour categories will be used after the first ML match"
   ]
  },
  {
   "cell_type": "code",
   "execution_count": null,
   "metadata": {},
   "outputs": [],
   "source": [
    "plt.hist(combined[\"colour\"], bins=100);"
   ]
  },
  {
   "cell_type": "code",
   "execution_count": null,
   "metadata": {},
   "outputs": [],
   "source": [
    "#from astroML.plotting import hist as amlhist\n",
    "from astropy.visualization import hist as amlhist"
   ]
  },
  {
   "cell_type": "code",
   "execution_count": null,
   "metadata": {},
   "outputs": [],
   "source": [
    "list(range(10,100,10))"
   ]
  },
  {
   "cell_type": "code",
   "execution_count": null,
   "metadata": {},
   "outputs": [],
   "source": [
    "np.round(np.percentile(combined[\"colour\"][~np.isnan(combined[\"colour\"])], list(range(10,100,10))), 1)\n",
    "# array([-0.5,  0.1,  0.6,  1. ,  1.3,  1.6,  2. ,  2.5,  3.1])"
   ]
  },
  {
   "cell_type": "code",
   "execution_count": null,
   "metadata": {},
   "outputs": [],
   "source": [
    "#colour_limits = [0.0, 0.5, 1.0, 1.25, 1.5, 1.75, 2.0, 2.25, 2.5, 2.75, 3.0, 3.5, 4.0]\n",
    "colour_limits = np.round(np.percentile(combined[\"colour\"][~np.isnan(combined[\"colour\"])], list(range(10,100,10))), 1)"
   ]
  },
  {
   "cell_type": "markdown",
   "metadata": {},
   "source": [
    "Manually defined colour bins a posteriori"
   ]
  },
  {
   "cell_type": "code",
   "execution_count": null,
   "metadata": {},
   "outputs": [],
   "source": [
    "colour_limits = colour_limits_post"
   ]
  },
  {
   "cell_type": "code",
   "execution_count": null,
   "metadata": {},
   "outputs": [],
   "source": [
    "# Start with the W2-only, W1-only, and \"less than lower colour\" bins\n",
    "colour_bin_def = [{\"name\":\"only W2\", \"condition\": combined_wise2},\n",
    "                  {\"name\":\"only WISE\", \"condition\": combined_wise},\n",
    "                  {\"name\":\"-inf to {}\".format(colour_limits[0]), \n",
    "                   \"condition\": (combined[\"colour\"] < colour_limits[0])}]\n",
    "\n",
    "# Get the colour bins\n",
    "for i in range(len(colour_limits)-1):\n",
    "    name = \"{} to {}\".format(colour_limits[i], colour_limits[i+1])\n",
    "    condition = ((combined[\"colour\"] >= colour_limits[i]) & \n",
    "                 (combined[\"colour\"] < colour_limits[i+1]))\n",
    "    colour_bin_def.append({\"name\":name, \"condition\":condition})\n",
    "\n",
    "# Add the \"more than higher colour\" bin\n",
    "colour_bin_def.append({\"name\":\"{} to inf\".format(colour_limits[-1]), \n",
    "                       \"condition\": (combined[\"colour\"] >= colour_limits[-1])})"
   ]
  },
  {
   "cell_type": "markdown",
   "metadata": {},
   "source": [
    "The dictionary ''colour_bin_def'' contains the indices of the different colour categories."
   ]
  },
  {
   "cell_type": "code",
   "execution_count": null,
   "metadata": {},
   "outputs": [],
   "source": [
    "colour_bin_def"
   ]
  },
  {
   "cell_type": "markdown",
   "metadata": {},
   "source": [
    "A colour category variable (numerical index from 0 to 11) is assigned to each row"
   ]
  },
  {
   "cell_type": "code",
   "execution_count": null,
   "metadata": {},
   "outputs": [],
   "source": [
    "combined[\"category\"] = np.nan\n",
    "for i in range(len(colour_bin_def)):\n",
    "    combined[\"category\"][colour_bin_def[i][\"condition\"]] = i"
   ]
  },
  {
   "cell_type": "markdown",
   "metadata": {},
   "source": [
    "We check that there are no rows withot a category assigned"
   ]
  },
  {
   "cell_type": "code",
   "execution_count": null,
   "metadata": {},
   "outputs": [],
   "source": [
    "np.sum(np.isnan(combined[\"category\"]))"
   ]
  },
  {
   "cell_type": "markdown",
   "metadata": {},
   "source": [
    "We get the number of sources of the combined catalogue in each colour category. It will be used at a later stage to compute the $Q_0$ values"
   ]
  },
  {
   "cell_type": "code",
   "execution_count": null,
   "metadata": {},
   "outputs": [],
   "source": [
    "numbers_combined_bins = np.array([np.sum(a[\"condition\"]) for a in colour_bin_def])"
   ]
  },
  {
   "cell_type": "code",
   "execution_count": null,
   "metadata": {},
   "outputs": [],
   "source": [
    "numbers_combined_bins"
   ]
  },
  {
   "cell_type": "code",
   "execution_count": null,
   "metadata": {},
   "outputs": [],
   "source": [
    "np.sum(numbers_combined_bins)"
   ]
  },
  {
   "cell_type": "markdown",
   "metadata": {},
   "source": [
    "## Description"
   ]
  },
  {
   "cell_type": "markdown",
   "metadata": {},
   "source": [
    "### Sky coverage"
   ]
  },
  {
   "cell_type": "code",
   "execution_count": null,
   "metadata": {},
   "outputs": [],
   "source": [
    "plt.rcParams[\"figure.figsize\"] = (15,5)\n",
    "plt.plot(lofar_all[\"RA\"],\n",
    "     lofar_all[\"DEC\"],\n",
    "     ls=\"\", marker=\",\");"
   ]
  },
  {
   "cell_type": "code",
   "execution_count": null,
   "metadata": {},
   "outputs": [],
   "source": [
    "plt.rcParams[\"figure.figsize\"] = (15,5)\n",
    "plt.plot(lofar_full[\"RA\"],\n",
    "     lofar_full[\"DEC\"],\n",
    "     ls=\"\", marker=\",\");"
   ]
  },
  {
   "cell_type": "code",
   "execution_count": null,
   "metadata": {},
   "outputs": [],
   "source": [
    "plt.rcParams[\"figure.figsize\"] = (8,5)\n",
    "plt.plot(lofar[\"RA\"],\n",
    "     lofar[\"DEC\"],\n",
    "     ls=\"\", marker=\",\");"
   ]
  },
  {
   "cell_type": "code",
   "execution_count": null,
   "metadata": {},
   "outputs": [],
   "source": [
    "len(lofar)"
   ]
  },
  {
   "cell_type": "markdown",
   "metadata": {},
   "source": [
    "### Summary of galaxy types in the combined catalogue"
   ]
  },
  {
   "cell_type": "code",
   "execution_count": null,
   "metadata": {},
   "outputs": [],
   "source": [
    "np.sum(combined_legacy) # Matches # 12790855"
   ]
  },
  {
   "cell_type": "code",
   "execution_count": null,
   "metadata": {},
   "outputs": [],
   "source": [
    "plt.rcParams[\"figure.figsize\"] = (15,5)\n",
    "plt.subplot(1,3,1)\n",
    "plt.hist(combined[\"MAG_R\"][combined_legacy], bins=50)\n",
    "plt.xlabel(\"R\")\n",
    "plt.subplot(1,3,2)\n",
    "plt.hist(combined[\"MAG_W1\"][combined_legacy], bins=50)\n",
    "plt.xlabel(\"W1\")\n",
    "plt.subplot(1,3,3)\n",
    "plt.hist((combined[\"MAG_R\"] - combined[\"MAG_W1\"])[combined_legacy], bins=50)\n",
    "plt.xlabel(\"(R - W1)\");"
   ]
  },
  {
   "cell_type": "code",
   "execution_count": null,
   "metadata": {},
   "outputs": [],
   "source": [
    "np.sum(combined_wise) # Only WISE"
   ]
  },
  {
   "cell_type": "code",
   "execution_count": null,
   "metadata": {},
   "outputs": [],
   "source": [
    "plt.rcParams[\"figure.figsize\"] = (15,5)\n",
    "plt.subplot(1,3,1)\n",
    "plt.hist(combined[\"MAG_W1\"][combined_wise], bins=50, density=True)\n",
    "plt.hist(combined[\"MAG_W1\"][combined_legacy], bins=50, alpha=0.4, density=True)\n",
    "plt.xlabel(\"W1\")\n",
    "plt.subplot(1,3,2)\n",
    "plt.hist((22 - combined[\"MAG_W1\"])[combined_wise], bins=50, density=True)\n",
    "plt.hist((combined[\"MAG_R\"] - combined[\"MAG_W1\"])[combined_legacy], bins=50, alpha=0.4, density=True)\n",
    "plt.xlabel(\"(R - W1) (R lim. = 22)\")\n",
    "plt.subplot(1,3,3)\n",
    "plt.hist((23 - combined[\"MAG_W1\"])[combined_wise], bins=50, density=True)\n",
    "plt.hist((combined[\"MAG_R\"] - combined[\"MAG_W1\"])[combined_legacy], bins=50, alpha=0.4, density=True)\n",
    "plt.xlabel(\"(R - W1) (R lim. = 23)\");"
   ]
  },
  {
   "cell_type": "code",
   "execution_count": null,
   "metadata": {},
   "outputs": [],
   "source": [
    "np.sum(combined_wise2) # Only W2"
   ]
  },
  {
   "cell_type": "code",
   "execution_count": null,
   "metadata": {},
   "outputs": [],
   "source": [
    "plt.rcParams[\"figure.figsize\"] = (15,5)\n",
    "plt.subplot(1,3,1)\n",
    "plt.hist(combined[\"MAG_W2\"][combined_wise2], bins=50, density=True)\n",
    "plt.hist(combined[\"MAG_W2\"][combined_legacy], bins=50, alpha=0.4, density=True)\n",
    "plt.xlabel(\"W2\")\n",
    "plt.subplot(1,3,2)\n",
    "plt.hist((22 - combined[\"MAG_W2\"])[combined_wise2], bins=50, density=True)\n",
    "plt.hist((combined[\"MAG_R\"] - combined[\"MAG_W2\"])[combined_legacy], bins=50, alpha=0.4, density=True)\n",
    "plt.xlabel(\"(R - W2) (R lim. = 22)\")\n",
    "plt.subplot(1,3,3)\n",
    "plt.hist((23 - combined[\"MAG_W2\"])[combined_wise2], bins=50, density=True)\n",
    "plt.hist((combined[\"MAG_R\"] - combined[\"MAG_W2\"])[combined_legacy], bins=50, alpha=0.4, density=True)\n",
    "plt.xlabel(\"(R - W2) (R lim. = 23)\");"
   ]
  },
  {
   "cell_type": "markdown",
   "metadata": {},
   "source": [
    "## Maximum Likelihood 1st iteration"
   ]
  },
  {
   "cell_type": "markdown",
   "metadata": {},
   "source": [
    "### First estimation of $Q_0$ for r-band"
   ]
  },
  {
   "cell_type": "code",
   "execution_count": null,
   "metadata": {},
   "outputs": [],
   "source": [
    "n_iter = 10"
   ]
  },
  {
   "cell_type": "code",
   "execution_count": null,
   "metadata": {},
   "outputs": [],
   "source": [
    "rads = list(range(1,26))"
   ]
  },
  {
   "cell_type": "code",
   "execution_count": null,
   "metadata": {},
   "outputs": [],
   "source": [
    "Q0_r = None # 0.6983157523356884"
   ]
  },
  {
   "cell_type": "code",
   "execution_count": null,
   "metadata": {},
   "outputs": [],
   "source": [
    "if Q0_r is None:\n",
    "    q_0_comp_r = Q_0(coords_lofar, coords_combined[combined_legacy], field)"
   ]
  },
  {
   "cell_type": "code",
   "execution_count": null,
   "metadata": {},
   "outputs": [],
   "source": [
    "if Q0_r is None:\n",
    "    q_0_rad_r = []\n",
    "    q_0_rad_r_std = []\n",
    "    for radius in rads:\n",
    "        q_0_rad_aux = []\n",
    "        for i in range(n_iter):\n",
    "            try:\n",
    "                out = q_0_comp_r(radius=radius)\n",
    "            except ZeroDivisionError:\n",
    "                continue\n",
    "            else:\n",
    "                q_0_rad_aux.append(out)\n",
    "        q_0_rad_r.append(np.mean(q_0_rad_aux))\n",
    "        q_0_rad_r_std.append(np.std(q_0_rad_aux))\n",
    "        print(\n",
    "            \"{:2d} {:7.5f} +/- {:7.5f} [{:7.5f} {:7.5f}]\".format(\n",
    "                radius,\n",
    "                np.mean(q_0_rad_aux),\n",
    "                np.std(q_0_rad_aux),\n",
    "                np.min(q_0_rad_aux),\n",
    "                np.max(q_0_rad_aux),\n",
    "            )\n",
    "        )\n",
    "    if save_intermediate:\n",
    "        np.savez_compressed(\n",
    "            os.path.join(idp, \"Q0_r.npz\"),\n",
    "            q_0_rad_r = q_0_rad_r,\n",
    "            q_0_rad_r_std = q_0_rad_r_std\n",
    "        )"
   ]
  },
  {
   "cell_type": "code",
   "execution_count": null,
   "metadata": {},
   "outputs": [],
   "source": [
    "if Q0_r is None:\n",
    "    plt.rcParams[\"figure.figsize\"] = (5, 5)\n",
    "    plt.plot(rads, q_0_rad_r)\n",
    "    plt.plot(rads, np.array(q_0_rad_r) + 3 * np.array(q_0_rad_r_std), ls=\":\", color=\"b\")\n",
    "    plt.plot(rads, np.array(q_0_rad_r) - 3 * np.array(q_0_rad_r_std), ls=\":\", color=\"b\")\n",
    "    plt.xlabel(\"Radius (arcsecs)\")\n",
    "    plt.ylabel(\"$Q_0 r-band$\")\n",
    "    plt.ylim([0, 1])"
   ]
  },
  {
   "cell_type": "code",
   "execution_count": null,
   "metadata": {},
   "outputs": [],
   "source": [
    "if Q0_r is None:\n",
    "    Q0_r = q_0_rad_r[4]"
   ]
  },
  {
   "cell_type": "code",
   "execution_count": null,
   "metadata": {},
   "outputs": [],
   "source": [
    "print(Q0_r)"
   ]
  },
  {
   "cell_type": "markdown",
   "metadata": {},
   "source": [
    "### Compute q(m) and n(m)\n",
    "\n",
    "#### R-band preparation"
   ]
  },
  {
   "cell_type": "code",
   "execution_count": null,
   "metadata": {},
   "outputs": [],
   "source": [
    "bandwidth_r = 0.5"
   ]
  },
  {
   "cell_type": "code",
   "execution_count": null,
   "metadata": {},
   "outputs": [],
   "source": [
    "catalogue_r = combined[combined_legacy]"
   ]
  },
  {
   "cell_type": "code",
   "execution_count": null,
   "metadata": {},
   "outputs": [],
   "source": [
    "bin_list_r = np.linspace(11.5, 29.5, 361) # Bins of 0.05"
   ]
  },
  {
   "cell_type": "code",
   "execution_count": null,
   "metadata": {},
   "outputs": [],
   "source": [
    "center_r = get_center(bin_list_r)"
   ]
  },
  {
   "cell_type": "code",
   "execution_count": null,
   "metadata": {},
   "outputs": [],
   "source": [
    "n_m_r = get_n_m_kde(catalogue_r[\"MAG_R\"], center_r, field.area, bandwidth=bandwidth_r)"
   ]
  },
  {
   "cell_type": "code",
   "execution_count": null,
   "metadata": {},
   "outputs": [],
   "source": [
    "n_m_r_cs = np.cumsum(n_m_r)"
   ]
  },
  {
   "cell_type": "code",
   "execution_count": null,
   "metadata": {},
   "outputs": [],
   "source": [
    "plt.rcParams[\"figure.figsize\"] = (5,5)\n",
    "plt.plot(center_r, n_m_r_cs);"
   ]
  },
  {
   "cell_type": "code",
   "execution_count": null,
   "metadata": {},
   "outputs": [],
   "source": [
    "q_m_r = estimate_q_m_kde(catalogue_r[\"MAG_R\"], \n",
    "                      center_r, \n",
    "                      n_m_r, \n",
    "                      coords_lofar, \n",
    "                      coords_combined[combined_legacy], \n",
    "                      radius=5, \n",
    "                      bandwidth=bandwidth_r)"
   ]
  },
  {
   "cell_type": "code",
   "execution_count": null,
   "metadata": {},
   "outputs": [],
   "source": [
    "q_m_r_cs = np.cumsum(q_m_r)"
   ]
  },
  {
   "cell_type": "code",
   "execution_count": null,
   "metadata": {},
   "outputs": [],
   "source": [
    "plt.rcParams[\"figure.figsize\"] = (5,5)\n",
    "plt.plot(center_r, q_m_r_cs);"
   ]
  },
  {
   "cell_type": "code",
   "execution_count": null,
   "metadata": {},
   "outputs": [],
   "source": [
    "plt.rcParams[\"figure.figsize\"] = (5,5)\n",
    "plt.plot(center_r, q_m_r/n_m_r);"
   ]
  },
  {
   "cell_type": "markdown",
   "metadata": {},
   "source": [
    "#### W1-band preparation"
   ]
  },
  {
   "cell_type": "code",
   "execution_count": null,
   "metadata": {},
   "outputs": [],
   "source": [
    "bandwidth_w1 = 0.5"
   ]
  },
  {
   "cell_type": "code",
   "execution_count": null,
   "metadata": {},
   "outputs": [],
   "source": [
    "catalogue_w1 = combined[combined_wise]"
   ]
  },
  {
   "cell_type": "code",
   "execution_count": null,
   "metadata": {},
   "outputs": [],
   "source": [
    "bin_list_w1 = np.linspace(11.5, 25.0, 361) # Bins of 0.05"
   ]
  },
  {
   "cell_type": "code",
   "execution_count": null,
   "metadata": {},
   "outputs": [],
   "source": [
    "center_w1 = get_center(bin_list_w1)"
   ]
  },
  {
   "cell_type": "code",
   "execution_count": null,
   "metadata": {},
   "outputs": [],
   "source": [
    "n_m_w1 = get_n_m_kde(catalogue_w1[\"MAG_W1\"], center_w1, field.area, bandwidth=bandwidth_w1)"
   ]
  },
  {
   "cell_type": "code",
   "execution_count": null,
   "metadata": {},
   "outputs": [],
   "source": [
    "plt.rcParams[\"figure.figsize\"] = (5,5)\n",
    "plt.plot(center_w1, np.cumsum(n_m_w1));"
   ]
  },
  {
   "cell_type": "code",
   "execution_count": null,
   "metadata": {},
   "outputs": [],
   "source": [
    "q_m_w1 = estimate_q_m_kde(catalogue_w1[\"MAG_W1\"], \n",
    "                      center_w1, \n",
    "                      n_m_w1, coords_lofar, \n",
    "                      coords_combined[combined_wise], \n",
    "                      radius=5, \n",
    "                      bandwidth=bandwidth_w1)"
   ]
  },
  {
   "cell_type": "code",
   "execution_count": null,
   "metadata": {},
   "outputs": [],
   "source": [
    "plt.plot(center_w1, np.cumsum(q_m_w1));"
   ]
  },
  {
   "cell_type": "code",
   "execution_count": null,
   "metadata": {},
   "outputs": [],
   "source": [
    "plt.plot(center_w1, q_m_w1/n_m_w1);"
   ]
  },
  {
   "cell_type": "markdown",
   "metadata": {},
   "source": [
    "#### W2-band preparation"
   ]
  },
  {
   "cell_type": "code",
   "execution_count": null,
   "metadata": {},
   "outputs": [],
   "source": [
    "bandwidth_w2 = 0.5"
   ]
  },
  {
   "cell_type": "code",
   "execution_count": null,
   "metadata": {},
   "outputs": [],
   "source": [
    "catalogue_w2 = combined[combined_wise2]"
   ]
  },
  {
   "cell_type": "code",
   "execution_count": null,
   "metadata": {},
   "outputs": [],
   "source": [
    "bin_list_w2 = np.linspace(14., 26., 241) # Bins of 0.1"
   ]
  },
  {
   "cell_type": "code",
   "execution_count": null,
   "metadata": {},
   "outputs": [],
   "source": [
    "center_w2 = get_center(bin_list_w2)"
   ]
  },
  {
   "cell_type": "code",
   "execution_count": null,
   "metadata": {},
   "outputs": [],
   "source": [
    "n_m_w2 = get_n_m_kde(catalogue_w2[\"MAG_W2\"], center_w2, field.area, bandwidth=bandwidth_w2)"
   ]
  },
  {
   "cell_type": "code",
   "execution_count": null,
   "metadata": {},
   "outputs": [],
   "source": [
    "plt.rcParams[\"figure.figsize\"] = (5,5)\n",
    "plt.plot(center_w2, np.cumsum(n_m_w2));"
   ]
  },
  {
   "cell_type": "code",
   "execution_count": null,
   "metadata": {},
   "outputs": [],
   "source": [
    "q_m_w2 = estimate_q_m_kde(catalogue_w2[\"MAG_W2\"], \n",
    "                      center_w2, \n",
    "                      n_m_w2, coords_lofar, \n",
    "                      coords_combined[combined_wise2], \n",
    "                      radius=5, \n",
    "                      bandwidth=bandwidth_w2)"
   ]
  },
  {
   "cell_type": "code",
   "execution_count": null,
   "metadata": {},
   "outputs": [],
   "source": [
    "plt.plot(center_w2, np.cumsum(q_m_w2));"
   ]
  },
  {
   "cell_type": "code",
   "execution_count": null,
   "metadata": {},
   "outputs": [],
   "source": [
    "plt.plot(center_w2, q_m_w2/n_m_w2);"
   ]
  },
  {
   "cell_type": "markdown",
   "metadata": {},
   "source": [
    "### r-band match"
   ]
  },
  {
   "cell_type": "markdown",
   "metadata": {},
   "source": [
    "#### $Q_0$ and likelihood estimator"
   ]
  },
  {
   "cell_type": "code",
   "execution_count": null,
   "metadata": {},
   "outputs": [],
   "source": [
    "# # Initial test\n",
    "# Q0_r = 0.65\n",
    "# Q0_w1 = 0.237\n",
    "# Q0_w2 = 0.035"
   ]
  },
  {
   "cell_type": "code",
   "execution_count": null,
   "metadata": {},
   "outputs": [],
   "source": [
    "likelihood_ratio_r = SingleMLEstimator(Q0_r, n_m_r, q_m_r, center_r)"
   ]
  },
  {
   "cell_type": "markdown",
   "metadata": {},
   "source": [
    "We will get the number of CPUs to use in parallel in the computations"
   ]
  },
  {
   "cell_type": "code",
   "execution_count": null,
   "metadata": {},
   "outputs": [],
   "source": [
    "import multiprocessing"
   ]
  },
  {
   "cell_type": "code",
   "execution_count": null,
   "metadata": {},
   "outputs": [],
   "source": [
    "n_cpus_total = multiprocessing.cpu_count()"
   ]
  },
  {
   "cell_type": "code",
   "execution_count": null,
   "metadata": {},
   "outputs": [],
   "source": [
    "n_cpus = max(1, n_cpus_total-1)"
   ]
  },
  {
   "cell_type": "code",
   "execution_count": null,
   "metadata": {},
   "outputs": [],
   "source": [
    "print(n_cpus)"
   ]
  },
  {
   "cell_type": "markdown",
   "metadata": {},
   "source": [
    "Get the possible matches up to a radius of 15 arcseconds in this first step "
   ]
  },
  {
   "cell_type": "code",
   "execution_count": null,
   "metadata": {},
   "outputs": [],
   "source": [
    "radius = 15"
   ]
  },
  {
   "cell_type": "markdown",
   "metadata": {},
   "source": [
    "All the LOFAR sources are combined with the legacy sources (sources with r-band data)."
   ]
  },
  {
   "cell_type": "code",
   "execution_count": null,
   "metadata": {},
   "outputs": [],
   "source": [
    "idx_lofar, idx_i, d2d, d3d = search_around_sky(\n",
    "    coords_lofar, coords_combined[combined_legacy], radius*u.arcsec)"
   ]
  },
  {
   "cell_type": "code",
   "execution_count": null,
   "metadata": {},
   "outputs": [],
   "source": [
    "idx_lofar_unique = np.unique(idx_lofar)"
   ]
  },
  {
   "cell_type": "code",
   "execution_count": null,
   "metadata": {},
   "outputs": [],
   "source": [
    "lofar[\"lr_r\"] = np.nan                   # Likelihood ratio\n",
    "lofar[\"lr_dist_r\"] = np.nan              # Distance to the selected source\n",
    "lofar[\"lr_index_r\"] = np.nan             # Index of the PanSTARRS source in combined"
   ]
  },
  {
   "cell_type": "code",
   "execution_count": null,
   "metadata": {},
   "outputs": [],
   "source": [
    "total_sources = len(idx_lofar_unique)\n",
    "combined_aux_index = np.arange(len(combined))"
   ]
  },
  {
   "cell_type": "code",
   "execution_count": null,
   "metadata": {},
   "outputs": [],
   "source": [
    "def ml(i):\n",
    "    idx_0 = idx_i[idx_lofar == i]\n",
    "    d2d_0 = d2d[idx_lofar == i]\n",
    "    mag = catalogue_r[\"MAG_R\"][idx_0]\n",
    "    \n",
    "    lofar_ra = lofar[i][\"RA\"]\n",
    "    lofar_dec = lofar[i][\"DEC\"]\n",
    "    lofar_pa = lofar[i][\"PA\"]\n",
    "    lofar_maj_err = lofar[i][\"E_Maj\"]\n",
    "    lofar_min_err = lofar[i][\"E_Min\"]\n",
    "    c_ra = catalogue_r[\"RA\"][idx_0]\n",
    "    c_dec = catalogue_r[\"DEC\"][idx_0]\n",
    "    c_ra_err = np.ones_like(c_ra)*0.6/3600.\n",
    "    c_dec_err = np.ones_like(c_ra)*0.6/3600.\n",
    "    \n",
    "    sigma_0_0, det_sigma = get_sigma_all(lofar_maj_err, lofar_min_err, lofar_pa, \n",
    "                      lofar_ra, lofar_dec, \n",
    "                      c_ra, c_dec, c_ra_err, c_dec_err)\n",
    "    \n",
    "    lr_0 = likelihood_ratio_r(mag, d2d_0.arcsec, sigma_0_0, det_sigma)\n",
    "    chosen_index = np.argmax(lr_0)\n",
    "    result = [combined_aux_index[combined_legacy][idx_0[chosen_index]], # Index\n",
    "              (d2d_0.arcsec)[chosen_index],                        # distance\n",
    "              lr_0[chosen_index]]                                  # LR\n",
    "    return result"
   ]
  },
  {
   "cell_type": "code",
   "execution_count": null,
   "metadata": {},
   "outputs": [],
   "source": [
    "#from joblib import Parallel, delayed\n",
    "#from tqdm import tqdm, tqdm_notebook"
   ]
  },
  {
   "cell_type": "code",
   "execution_count": null,
   "metadata": {},
   "outputs": [],
   "source": [
    "#res = Parallel(n_jobs=n_cpus)(delayed(ml)(i) for i in tqdm_notebook(idx_lofar_unique))\n",
    "res = parallel_process(idx_lofar_unique, ml, n_jobs=n_cpus)"
   ]
  },
  {
   "cell_type": "code",
   "execution_count": null,
   "metadata": {},
   "outputs": [],
   "source": [
    "(lofar[\"lr_index_r\"][idx_lofar_unique], \n",
    " lofar[\"lr_dist_r\"][idx_lofar_unique], \n",
    " lofar[\"lr_r\"][idx_lofar_unique]) = list(map(list, zip(*res)))"
   ]
  },
  {
   "cell_type": "markdown",
   "metadata": {},
   "source": [
    "#### Threshold and selection for r-band"
   ]
  },
  {
   "cell_type": "code",
   "execution_count": null,
   "metadata": {},
   "outputs": [],
   "source": [
    "lofar[\"lr_r\"][np.isnan(lofar[\"lr_r\"])] = 0"
   ]
  },
  {
   "cell_type": "code",
   "execution_count": null,
   "metadata": {},
   "outputs": [],
   "source": [
    "threshold_r = np.percentile(lofar[\"lr_r\"], 100*(1 - Q0_r))"
   ]
  },
  {
   "cell_type": "code",
   "execution_count": null,
   "metadata": {},
   "outputs": [],
   "source": [
    "threshold_r #0.525 before"
   ]
  },
  {
   "cell_type": "code",
   "execution_count": null,
   "metadata": {},
   "outputs": [],
   "source": [
    "plt.rcParams[\"figure.figsize\"] = (15,6)\n",
    "ax1 = plt.subplot(1,2,1)\n",
    "plt.hist(lofar[lofar[\"lr_r\"] != 0][\"lr_r\"], bins=200)\n",
    "plt.vlines([threshold_r], 0, 200)\n",
    "ax1.set_yscale(\"log\", nonposy='clip')\n",
    "#plt.ylim([0, 200])\n",
    "ax2 = plt.subplot(1,2,2)\n",
    "plt.hist(np.log10(lofar[lofar[\"lr_r\"] != 0][\"lr_r\"]+1), bins=200)\n",
    "plt.vlines(np.log10(threshold_r+1), 0, 200)\n",
    "ticks, _ = plt.xticks()\n",
    "plt.xticks(ticks, [\"{:.1f}\".format(10**t-1) for t in ticks])\n",
    "ax2.set_yscale(\"log\", nonposy='clip')\n",
    "#plt.ylim([0, 200]);"
   ]
  },
  {
   "cell_type": "code",
   "execution_count": null,
   "metadata": {},
   "outputs": [],
   "source": [
    "lofar[\"lr_index_sel_r\"] = lofar[\"lr_index_r\"]\n",
    "lofar[\"lr_index_sel_r\"][lofar[\"lr_r\"] < threshold_r] = np.nan"
   ]
  },
  {
   "cell_type": "markdown",
   "metadata": {},
   "source": [
    "Save LR for r-band in external file"
   ]
  },
  {
   "cell_type": "code",
   "execution_count": null,
   "metadata": {},
   "outputs": [],
   "source": [
    "columns = [\"lr_r\", \"lr_dist_r\", \"lr_index_r\", \"lr_index_sel_r\"]\n",
    "np.savez_compressed(os.path.join(idp, \"lr_r.npz\"), lr_r=lofar[columns])"
   ]
  },
  {
   "cell_type": "markdown",
   "metadata": {},
   "source": [
    "### W1-band match"
   ]
  },
  {
   "cell_type": "markdown",
   "metadata": {},
   "source": [
    "We will work with the sample that has not been already cross-matched"
   ]
  },
  {
   "cell_type": "code",
   "execution_count": null,
   "metadata": {},
   "outputs": [],
   "source": [
    "subsample_w1 = (lofar[\"lr_r\"] < threshold_r)"
   ]
  },
  {
   "cell_type": "markdown",
   "metadata": {},
   "source": [
    "#### Compute the W1 $Q_0$"
   ]
  },
  {
   "cell_type": "code",
   "execution_count": null,
   "metadata": {},
   "outputs": [],
   "source": [
    "coords_lofar_alt = coords_lofar[subsample_w1]"
   ]
  },
  {
   "cell_type": "code",
   "execution_count": null,
   "metadata": {},
   "outputs": [],
   "source": [
    "q_0_comp_w1 = Q_0(coords_lofar_alt, coords_combined[combined_wise], field)"
   ]
  },
  {
   "cell_type": "code",
   "execution_count": null,
   "metadata": {},
   "outputs": [],
   "source": [
    "q_0_rad_w1 = []\n",
    "q_0_rad_w1_std = []\n",
    "for radius in rads:\n",
    "    q_0_rad_aux = []\n",
    "    for i in range(n_iter):\n",
    "        out = q_0_comp_w1(radius=radius)\n",
    "        q_0_rad_aux.append(out)\n",
    "    q_0_rad_w1.append(np.mean(q_0_rad_aux))\n",
    "    q_0_rad_w1_std.append(np.std(q_0_rad_aux))\n",
    "    print(\n",
    "        \"{:2d} {:7.5f} +/- {:7.5f} [{:7.5f} {:7.5f}]\".format(\n",
    "            radius,\n",
    "            np.mean(q_0_rad_aux),\n",
    "            np.std(q_0_rad_aux),\n",
    "            np.min(q_0_rad_aux),\n",
    "            np.max(q_0_rad_aux),\n",
    "        )\n",
    "    )"
   ]
  },
  {
   "cell_type": "code",
   "execution_count": null,
   "metadata": {},
   "outputs": [],
   "source": [
    "q_0_rad_w1 = np.array(q_0_rad_w1)\n",
    "q_0_rad_w1_std = np.array(q_0_rad_w1_std)"
   ]
  },
  {
   "cell_type": "code",
   "execution_count": null,
   "metadata": {},
   "outputs": [],
   "source": [
    "plt.rcParams[\"figure.figsize\"] = (5, 5)\n",
    "plt.plot(rads, q_0_rad_w1)\n",
    "plt.plot(rads, q_0_rad_w1 + 3 * q_0_rad_w1_std, ls=\":\", color=\"b\")\n",
    "plt.plot(rads, q_0_rad_w1 - 3 * q_0_rad_w1_std, ls=\":\", color=\"b\")\n",
    "plt.xlabel(\"Radius (arcsecs)\")\n",
    "plt.ylabel(\"$Q_0 W1-band$\")\n",
    "plt.ylim([0, 0.5])"
   ]
  },
  {
   "cell_type": "code",
   "execution_count": null,
   "metadata": {},
   "outputs": [],
   "source": [
    "Q0_w1 = q_0_rad_w1[4] #0.41136"
   ]
  },
  {
   "cell_type": "markdown",
   "metadata": {},
   "source": [
    "#### Create the likelihood estimator and run"
   ]
  },
  {
   "cell_type": "code",
   "execution_count": null,
   "metadata": {},
   "outputs": [],
   "source": [
    "likelihood_ratio_w1 = SingleMLEstimator(Q0_w1, n_m_w1, q_m_w1, center_w1)"
   ]
  },
  {
   "cell_type": "code",
   "execution_count": null,
   "metadata": {},
   "outputs": [],
   "source": [
    "idx_lofar_w1, idx_i_w1, d2d_w1, d3d_w1 = search_around_sky(\n",
    "    coords_lofar[subsample_w1], coords_combined[combined_wise], radius*u.arcsec)"
   ]
  },
  {
   "cell_type": "code",
   "execution_count": null,
   "metadata": {},
   "outputs": [],
   "source": [
    "idx_lofar_unique_w1 = np.unique(idx_lofar_w1)"
   ]
  },
  {
   "cell_type": "code",
   "execution_count": null,
   "metadata": {},
   "outputs": [],
   "source": [
    "lofar[\"lr_w1\"] = np.nan                   # Likelihood ratio\n",
    "lofar[\"lr_dist_w1\"] = np.nan              # Distance to the selected source\n",
    "lofar[\"lr_index_w1\"] = np.nan             # Index of the PanSTARRS source in combined"
   ]
  },
  {
   "cell_type": "code",
   "execution_count": null,
   "metadata": {},
   "outputs": [],
   "source": [
    "def ml_w1(i):\n",
    "    idx_0 = idx_i_w1[idx_lofar_w1 == i]\n",
    "    d2d_0 = d2d_w1[idx_lofar_w1 == i]\n",
    "    mag = catalogue_w1[\"MAG_W1\"][idx_0]\n",
    "    \n",
    "    lofar_ra = lofar[subsample_w1][i][\"RA\"]\n",
    "    lofar_dec = lofar[subsample_w1][i][\"DEC\"]\n",
    "    lofar_pa = lofar[subsample_w1][i][\"PA\"]\n",
    "    lofar_maj_err = lofar[subsample_w1][i][\"E_Maj\"]\n",
    "    lofar_min_err = lofar[subsample_w1][i][\"E_Min\"]\n",
    "    c_ra = catalogue_w1[\"RA\"][idx_0]\n",
    "    c_dec = catalogue_w1[\"DEC\"][idx_0]\n",
    "    c_ra_err = np.ones_like(c_ra)*0.6/3600.\n",
    "    c_dec_err = np.ones_like(c_ra)*0.6/3600.\n",
    "    \n",
    "    sigma_0_0, det_sigma = get_sigma_all(lofar_maj_err, lofar_min_err, lofar_pa, \n",
    "                      lofar_ra, lofar_dec, \n",
    "                      c_ra, c_dec, c_ra_err, c_dec_err)\n",
    "    \n",
    "    lr_0 = likelihood_ratio_w1(mag, d2d_0.arcsec, sigma_0_0, det_sigma)\n",
    "    chosen_index = np.argmax(lr_0)\n",
    "    result = [combined_aux_index[combined_wise][idx_0[chosen_index]], # Index\n",
    "              (d2d_0.arcsec)[chosen_index],                        # distance\n",
    "              lr_0[chosen_index]]                                  # LR\n",
    "    return result"
   ]
  },
  {
   "cell_type": "code",
   "execution_count": null,
   "metadata": {},
   "outputs": [],
   "source": [
    "res_w1 = parallel_process(idx_lofar_unique_w1, ml_w1, n_jobs=n_cpus)\n",
    "#res = Parallel(n_jobs=n_cpus)(delayed(ml_w1)(i) for i in tqdm_notebook(idx_lofar_unique))"
   ]
  },
  {
   "cell_type": "code",
   "execution_count": null,
   "metadata": {},
   "outputs": [],
   "source": [
    "indices_w1 = np.arange(len(lofar))[subsample_w1][idx_lofar_unique_w1]"
   ]
  },
  {
   "cell_type": "code",
   "execution_count": null,
   "metadata": {},
   "outputs": [],
   "source": [
    "(lofar[\"lr_index_w1\"][indices_w1], \n",
    " lofar[\"lr_dist_w1\"][indices_w1], \n",
    " lofar[\"lr_w1\"][indices_w1]) = list(map(list, zip(*res_w1)))"
   ]
  },
  {
   "cell_type": "markdown",
   "metadata": {},
   "source": [
    "#### Threshold and selection for W1 band"
   ]
  },
  {
   "cell_type": "code",
   "execution_count": null,
   "metadata": {},
   "outputs": [],
   "source": [
    "lofar[\"lr_w1\"][np.isnan(lofar[\"lr_w1\"])] = 0"
   ]
  },
  {
   "cell_type": "markdown",
   "metadata": {},
   "source": [
    "The threshold can be adjusted to match the new $Q_0$ value obtained with the alternative method."
   ]
  },
  {
   "cell_type": "code",
   "execution_count": null,
   "metadata": {},
   "outputs": [],
   "source": [
    "threshold_w1 = np.percentile(lofar[subsample_w1][\"lr_w1\"], 100*(1 - Q0_w1))"
   ]
  },
  {
   "cell_type": "code",
   "execution_count": null,
   "metadata": {},
   "outputs": [],
   "source": [
    "threshold_w1 # 0.026 before"
   ]
  },
  {
   "cell_type": "code",
   "execution_count": null,
   "metadata": {},
   "outputs": [],
   "source": [
    "plt.rcParams[\"figure.figsize\"] = (15,6)\n",
    "ax1 = plt.subplot(1,2,1)\n",
    "plt.hist(lofar[lofar[\"lr_w1\"] != 0][\"lr_w1\"], bins=200)\n",
    "plt.vlines([threshold_w1], 0, 100)\n",
    "ax1.set_yscale(\"log\", nonposy='clip')\n",
    "#plt.ylim([0,100])\n",
    "ax2 = plt.subplot(1,2,2)\n",
    "plt.hist(np.log10(lofar[lofar[\"lr_w1\"] != 0][\"lr_w1\"]+1), bins=200)\n",
    "plt.vlines(np.log10(np.array([threshold_w1])+1), 0, 100)\n",
    "ticks, _ = plt.xticks()\n",
    "plt.xticks(ticks, [\"{:.1f}\".format(10**t-1) for t in ticks])\n",
    "ax2.set_yscale(\"log\", nonposy='clip')\n",
    "#plt.ylim([0,100]);"
   ]
  },
  {
   "cell_type": "code",
   "execution_count": null,
   "metadata": {},
   "outputs": [],
   "source": [
    "np.sum(lofar[\"lr_w1\"] >= threshold_w1)"
   ]
  },
  {
   "cell_type": "code",
   "execution_count": null,
   "metadata": {},
   "outputs": [],
   "source": [
    "lofar[\"lr_index_sel_w1\"] = lofar[\"lr_index_w1\"]\n",
    "lofar[\"lr_index_sel_w1\"][lofar[\"lr_w1\"] < threshold_w1] = np.nan"
   ]
  },
  {
   "cell_type": "markdown",
   "metadata": {},
   "source": [
    "Save LR of the W1-band in an external file"
   ]
  },
  {
   "cell_type": "code",
   "execution_count": null,
   "metadata": {},
   "outputs": [],
   "source": [
    "columns = [\"lr_w1\", \"lr_dist_w1\", \"lr_index_w1\", \"lr_index_sel_w1\"]\n",
    "np.savez_compressed(os.path.join(idp, \"lr_w1.npz\"), lr_w1=lofar[columns])"
   ]
  },
  {
   "cell_type": "markdown",
   "metadata": {},
   "source": [
    "### W2-band match"
   ]
  },
  {
   "cell_type": "code",
   "execution_count": null,
   "metadata": {},
   "outputs": [],
   "source": [
    "subsample_w2 = (lofar[\"lr_r\"] < threshold_r) & (lofar[\"lr_w1\"] < threshold_w1)"
   ]
  },
  {
   "cell_type": "markdown",
   "metadata": {},
   "source": [
    "#### Compute the W2 $Q_0$"
   ]
  },
  {
   "cell_type": "code",
   "execution_count": null,
   "metadata": {},
   "outputs": [],
   "source": [
    "coords_lofar_alt2 = coords_lofar[subsample_w2]"
   ]
  },
  {
   "cell_type": "code",
   "execution_count": null,
   "metadata": {},
   "outputs": [],
   "source": [
    "q_0_comp_w2 = Q_0(coords_lofar_alt2, coords_combined[combined_wise2], field)"
   ]
  },
  {
   "cell_type": "code",
   "execution_count": null,
   "metadata": {},
   "outputs": [],
   "source": [
    "q_0_rad_w2 = []\n",
    "q_0_rad_w2_std = []\n",
    "for radius in rads:\n",
    "    q_0_rad_aux = []\n",
    "    for i in range(n_iter):\n",
    "        out = q_0_comp_w2(radius=radius)\n",
    "        q_0_rad_aux.append(out)\n",
    "    q_0_rad_w2.append(np.mean(q_0_rad_aux))\n",
    "    q_0_rad_w2_std.append(np.std(q_0_rad_aux))\n",
    "    print(\n",
    "        \"{:2d} {:7.5f} +/- {:7.5f} [{:7.5f} {:7.5f}]\".format(\n",
    "            radius,\n",
    "            np.mean(q_0_rad_aux),\n",
    "            np.std(q_0_rad_aux),\n",
    "            np.min(q_0_rad_aux),\n",
    "            np.max(q_0_rad_aux),\n",
    "        )\n",
    "    )"
   ]
  },
  {
   "cell_type": "code",
   "execution_count": null,
   "metadata": {},
   "outputs": [],
   "source": [
    "q_0_rad_w2 = np.array(q_0_rad_w2)\n",
    "q_0_rad_w2_std = np.array(q_0_rad_w2_std)"
   ]
  },
  {
   "cell_type": "code",
   "execution_count": null,
   "metadata": {},
   "outputs": [],
   "source": [
    "plt.rcParams[\"figure.figsize\"] = (5, 5)\n",
    "plt.plot(rads, q_0_rad_w2)\n",
    "plt.plot(rads, q_0_rad_w2 + 3 * q_0_rad_w2_std, ls=\":\", color=\"b\")\n",
    "plt.plot(rads, q_0_rad_w2 - 3 * q_0_rad_w2_std, ls=\":\", color=\"b\")\n",
    "plt.xlabel(\"Radius (arcsecs)\")\n",
    "plt.ylabel(\"$Q_0 W2-band$\")\n",
    "plt.ylim([0, 0.1])"
   ]
  },
  {
   "cell_type": "code",
   "execution_count": null,
   "metadata": {},
   "outputs": [],
   "source": [
    "Q0_w2 = q_0_rad_w2[4] # 0.03364"
   ]
  },
  {
   "cell_type": "markdown",
   "metadata": {},
   "source": [
    "#### Create the likelihood estimator and run"
   ]
  },
  {
   "cell_type": "code",
   "execution_count": null,
   "metadata": {},
   "outputs": [],
   "source": [
    "likelihood_ratio_w2 = SingleMLEstimator(Q0_w2, n_m_w2, q_m_w2, center_w2)"
   ]
  },
  {
   "cell_type": "code",
   "execution_count": null,
   "metadata": {},
   "outputs": [],
   "source": [
    "idx_lofar_w2, idx_i_w2, d2d_w2, d3d_w2 = search_around_sky(\n",
    "    coords_lofar[subsample_w2], coords_combined[combined_wise2], radius*u.arcsec)"
   ]
  },
  {
   "cell_type": "code",
   "execution_count": null,
   "metadata": {},
   "outputs": [],
   "source": [
    "idx_lofar_unique_w2 = np.unique(idx_lofar_w2)"
   ]
  },
  {
   "cell_type": "code",
   "execution_count": null,
   "metadata": {},
   "outputs": [],
   "source": [
    "lofar[\"lr_w2\"] = np.nan                   # Likelihood ratio\n",
    "lofar[\"lr_dist_w2\"] = np.nan              # Distance to the selected source\n",
    "lofar[\"lr_index_w2\"] = np.nan             # Index of the PanSTARRS source in combined"
   ]
  },
  {
   "cell_type": "code",
   "execution_count": null,
   "metadata": {},
   "outputs": [],
   "source": [
    "def ml_w2(i):\n",
    "    idx_0 = idx_i_w2[idx_lofar_w2 == i]\n",
    "    d2d_0 = d2d_w2[idx_lofar_w2 == i]\n",
    "    mag = catalogue_w2[\"MAG_W2\"][idx_0]\n",
    "    \n",
    "    lofar_ra = lofar[subsample_w2][i][\"RA\"]\n",
    "    lofar_dec = lofar[subsample_w2][i][\"DEC\"]\n",
    "    lofar_pa = lofar[subsample_w2][i][\"PA\"]\n",
    "    lofar_maj_err = lofar[subsample_w2][i][\"E_Maj\"]\n",
    "    lofar_min_err = lofar[subsample_w2][i][\"E_Min\"]\n",
    "    c_ra = catalogue_w2[\"RA\"][idx_0]\n",
    "    c_dec = catalogue_w2[\"DEC\"][idx_0]\n",
    "    c_ra_err = np.ones_like(c_ra)*0.6/3600.\n",
    "    c_dec_err = np.ones_like(c_ra)*0.6/3600.\n",
    "    \n",
    "    sigma_0_0, det_sigma = get_sigma_all(lofar_maj_err, lofar_min_err, lofar_pa, \n",
    "                      lofar_ra, lofar_dec, \n",
    "                      c_ra, c_dec, c_ra_err, c_dec_err)\n",
    "    \n",
    "    lr_0 = likelihood_ratio_w2(mag, d2d_0.arcsec, sigma_0_0, det_sigma)\n",
    "    chosen_index = np.argmax(lr_0)\n",
    "    result = [combined_aux_index[combined_wise2][idx_0[chosen_index]], # Index\n",
    "              (d2d_0.arcsec)[chosen_index],                        # distance\n",
    "              lr_0[chosen_index]]                                  # LR\n",
    "    return result"
   ]
  },
  {
   "cell_type": "code",
   "execution_count": null,
   "metadata": {},
   "outputs": [],
   "source": [
    "res_w2 = parallel_process(idx_lofar_unique_w2, ml_w2, n_jobs=n_cpus)\n",
    "#res = Parallel(n_jobs=n_cpus)(delayed(ml_w2)(i) for i in tqdm_notebook(idx_lofar_unique))"
   ]
  },
  {
   "cell_type": "code",
   "execution_count": null,
   "metadata": {},
   "outputs": [],
   "source": [
    "indices_w2 = np.arange(len(lofar))[subsample_w2][idx_lofar_unique_w2]"
   ]
  },
  {
   "cell_type": "code",
   "execution_count": null,
   "metadata": {},
   "outputs": [],
   "source": [
    "(lofar[\"lr_index_w2\"][indices_w2], \n",
    " lofar[\"lr_dist_w2\"][indices_w2], \n",
    " lofar[\"lr_w2\"][indices_w2]) = list(map(list, zip(*res_w2)))"
   ]
  },
  {
   "cell_type": "markdown",
   "metadata": {},
   "source": [
    "#### Threshold and selection for W2 band"
   ]
  },
  {
   "cell_type": "code",
   "execution_count": null,
   "metadata": {},
   "outputs": [],
   "source": [
    "lofar[\"lr_w2\"][np.isnan(lofar[\"lr_w2\"])] = 0"
   ]
  },
  {
   "cell_type": "code",
   "execution_count": null,
   "metadata": {},
   "outputs": [],
   "source": [
    "threshold_w2 = np.percentile(lofar[subsample_w2][\"lr_w2\"], 100*(1 - Q0_w2))"
   ]
  },
  {
   "cell_type": "code",
   "execution_count": null,
   "metadata": {},
   "outputs": [],
   "source": [
    "threshold_w2 # 0.015 before"
   ]
  },
  {
   "cell_type": "code",
   "execution_count": null,
   "metadata": {},
   "outputs": [],
   "source": [
    "plt.rcParams[\"figure.figsize\"] = (15,6)\n",
    "ax1 = plt.subplot(1,2,1)\n",
    "plt.hist(lofar[lofar[\"lr_w2\"] != 0][\"lr_w2\"], bins=50)\n",
    "plt.vlines([threshold_w2], 0, 10)\n",
    "ax1.set_yscale(\"log\", nonposy='clip')\n",
    "#plt.ylim([0,100])\n",
    "ax2 = plt.subplot(1,2,2)\n",
    "plt.hist(np.log10(lofar[lofar[\"lr_w2\"] != 0][\"lr_w2\"]+1), bins=50)\n",
    "plt.vlines(np.log10(np.array([threshold_w2])+1), 0, 10)\n",
    "ticks, _ = plt.xticks()\n",
    "plt.xticks(ticks, [\"{:.1f}\".format(10**t-1) for t in ticks])\n",
    "ax2.set_yscale(\"log\", nonposy='clip')\n",
    "#plt.ylim([0,100]);"
   ]
  },
  {
   "cell_type": "code",
   "execution_count": null,
   "metadata": {},
   "outputs": [],
   "source": [
    "lofar[\"lr_index_sel_w2\"] = lofar[\"lr_index_w2\"]\n",
    "lofar[\"lr_index_sel_w2\"][lofar[\"lr_w2\"] < threshold_w2] = np.nan"
   ]
  },
  {
   "cell_type": "markdown",
   "metadata": {},
   "source": [
    "### Final selection of the match\n",
    "\n",
    "We combine the ML matching done in r-band, W1-band, and W2-band. All the galaxies were the LR is above the selection ratio for the respective band are finally selected."
   ]
  },
  {
   "cell_type": "code",
   "execution_count": null,
   "metadata": {},
   "outputs": [],
   "source": [
    "lr_r_w1_w2 = (\n",
    "    ~np.isnan(lofar[\"lr_index_sel_r\"]) & \n",
    "    ~np.isnan(lofar[\"lr_index_sel_w1\"]) & \n",
    "    ~np.isnan(lofar[\"lr_index_sel_w2\"])\n",
    ")\n",
    "lr_r_w1 = (\n",
    "    ~np.isnan(lofar[\"lr_index_sel_r\"]) & \n",
    "    ~np.isnan(lofar[\"lr_index_sel_w1\"]) & \n",
    "    np.isnan(lofar[\"lr_index_sel_w2\"])\n",
    ")\n",
    "lr_r_w2 = (\n",
    "    ~np.isnan(lofar[\"lr_index_sel_r\"]) & \n",
    "    np.isnan(lofar[\"lr_index_sel_w1\"]) & \n",
    "    ~np.isnan(lofar[\"lr_index_sel_w2\"])\n",
    ")\n",
    "lr_w1_w2 = (\n",
    "    np.isnan(lofar[\"lr_index_sel_r\"]) & \n",
    "    ~np.isnan(lofar[\"lr_index_sel_w1\"]) & \n",
    "    ~np.isnan(lofar[\"lr_index_sel_w2\"])\n",
    ")\n",
    "lr_r = (\n",
    "    ~np.isnan(lofar[\"lr_index_sel_r\"]) & \n",
    "    np.isnan(lofar[\"lr_index_sel_w1\"]) & \n",
    "    np.isnan(lofar[\"lr_index_sel_w2\"])\n",
    ")\n",
    "lr_w1 = (\n",
    "    np.isnan(lofar[\"lr_index_sel_r\"]) & \n",
    "    ~np.isnan(lofar[\"lr_index_sel_w1\"]) & \n",
    "    np.isnan(lofar[\"lr_index_sel_w2\"])\n",
    ")\n",
    "lr_w2 = (\n",
    "    np.isnan(lofar[\"lr_index_sel_r\"]) & \n",
    "    np.isnan(lofar[\"lr_index_sel_w1\"]) & \n",
    "    ~np.isnan(lofar[\"lr_index_sel_w2\"])\n",
    ")\n",
    "lr_no_match = (\n",
    "    np.isnan(lofar[\"lr_index_sel_r\"]) & \n",
    "    np.isnan(lofar[\"lr_index_sel_w1\"]) & \n",
    "    np.isnan(lofar[\"lr_index_sel_w2\"])\n",
    ")"
   ]
  },
  {
   "cell_type": "code",
   "execution_count": null,
   "metadata": {},
   "outputs": [],
   "source": [
    "print(np.sum(lr_r_w1_w2))\n",
    "print(np.sum(lr_r_w1))\n",
    "print(np.sum(lr_r_w2))\n",
    "print(np.sum(lr_w1_w2))\n",
    "print(np.sum(lr_r))\n",
    "print(np.sum(lr_w1))\n",
    "print(np.sum(lr_w2))\n",
    "print(np.sum(lr_no_match))"
   ]
  },
  {
   "cell_type": "code",
   "execution_count": null,
   "metadata": {},
   "outputs": [],
   "source": [
    "# 0\n",
    "# 0\n",
    "# 0\n",
    "# 0\n",
    "# 68853\n",
    "# 12390\n",
    "# 653\n",
    "# 18311"
   ]
  },
  {
   "cell_type": "code",
   "execution_count": null,
   "metadata": {},
   "outputs": [],
   "source": [
    "lofar[\"lr_index_1\"] = np.nan\n",
    "lofar[\"lr_dist_1\"] = np.nan\n",
    "lofar[\"lr_1\"] = np.nan\n",
    "lofar[\"lr_type_1\"] = 0"
   ]
  },
  {
   "cell_type": "code",
   "execution_count": null,
   "metadata": {},
   "outputs": [],
   "source": [
    "len(lofar)"
   ]
  },
  {
   "cell_type": "markdown",
   "metadata": {},
   "source": [
    "Enter the data into the table"
   ]
  },
  {
   "cell_type": "code",
   "execution_count": null,
   "metadata": {},
   "outputs": [],
   "source": [
    "r_selection = ~np.isnan(lofar[\"lr_index_sel_r\"])\n",
    "lofar[\"lr_index_1\"][r_selection] = lofar[\"lr_index_r\"][r_selection]\n",
    "lofar[\"lr_dist_1\"][r_selection] = lofar[\"lr_dist_r\"][r_selection]\n",
    "lofar[\"lr_1\"][r_selection] = lofar[\"lr_r\"][r_selection]\n",
    "lofar[\"lr_type_1\"][r_selection] = 1\n",
    "\n",
    "w1_selection = ~np.isnan(lofar[\"lr_index_sel_w1\"])\n",
    "lofar[\"lr_index_1\"][w1_selection] = lofar[\"lr_index_w1\"][w1_selection]\n",
    "lofar[\"lr_dist_1\"][w1_selection] = lofar[\"lr_dist_w1\"][w1_selection]\n",
    "lofar[\"lr_1\"][w1_selection] = lofar[\"lr_w1\"][w1_selection]\n",
    "lofar[\"lr_type_1\"][w1_selection] = 2\n",
    "\n",
    "w2_selection = ~np.isnan(lofar[\"lr_index_sel_w2\"])\n",
    "lofar[\"lr_index_1\"][w2_selection] = lofar[\"lr_index_w2\"][w2_selection]\n",
    "lofar[\"lr_dist_1\"][w2_selection] = lofar[\"lr_dist_w2\"][w2_selection]\n",
    "lofar[\"lr_1\"][w2_selection] = lofar[\"lr_w2\"][w2_selection]\n",
    "lofar[\"lr_type_1\"][w2_selection] = 3"
   ]
  },
  {
   "cell_type": "markdown",
   "metadata": {},
   "source": [
    "Summary of the number of sources matched of each type"
   ]
  },
  {
   "cell_type": "code",
   "execution_count": null,
   "metadata": {},
   "outputs": [],
   "source": [
    "np.unique(lofar[\"lr_type_1\"], return_counts=True)"
   ]
  },
  {
   "cell_type": "code",
   "execution_count": null,
   "metadata": {},
   "outputs": [],
   "source": [
    "t, c = np.unique(lofar[\"lr_type_1\"], return_counts=True)"
   ]
  },
  {
   "cell_type": "code",
   "execution_count": null,
   "metadata": {},
   "outputs": [],
   "source": [
    "for i, t0 in enumerate(t):\n",
    "    print(\"Match type {}: {}\".format(t0, c[i]))"
   ]
  },
  {
   "cell_type": "markdown",
   "metadata": {},
   "source": [
    "#### Duplicated sources\n",
    "\n",
    "This is the nymber of sources of the combined catalogue that are combined to multiple LOFAR sources. In the case of the catalogue of Gaussians the number can be very high."
   ]
  },
  {
   "cell_type": "code",
   "execution_count": null,
   "metadata": {},
   "outputs": [],
   "source": [
    "values, counts = np.unique(lofar[lofar[\"lr_type_1\"] != 0][\"lr_index_1\"], return_counts=True)"
   ]
  },
  {
   "cell_type": "code",
   "execution_count": null,
   "metadata": {},
   "outputs": [],
   "source": [
    "len(values[counts > 1]) # 101"
   ]
  },
  {
   "cell_type": "code",
   "execution_count": null,
   "metadata": {},
   "outputs": [],
   "source": [
    "n_dup, n_sour = np.unique(counts[counts > 1], return_counts=True)"
   ]
  },
  {
   "cell_type": "code",
   "execution_count": null,
   "metadata": {},
   "outputs": [],
   "source": [
    "plt.rcParams[\"figure.figsize\"] = (6,6)\n",
    "plt.semilogy(n_dup, n_sour, marker=\"x\")\n",
    "plt.xlabel(\"Number of multiple matches\")\n",
    "plt.ylabel(\"Number of sources in the category\")"
   ]
  },
  {
   "cell_type": "markdown",
   "metadata": {},
   "source": [
    "### Save intermediate data"
   ]
  },
  {
   "cell_type": "code",
   "execution_count": null,
   "metadata": {},
   "outputs": [],
   "source": [
    "if save_intermediate:\n",
    "    pickle.dump([bin_list_r, center_r, Q0_r, n_m_r, q_m_r], \n",
    "                open(\"{}/lofar_params_1r.pckl\".format(idp), 'wb'))\n",
    "    pickle.dump([bin_list_w1, center_w1, Q0_w1, n_m_w1, q_m_w1], \n",
    "                open(\"{}/lofar_params_1w1.pckl\".format(idp), 'wb'))\n",
    "    pickle.dump([bin_list_w2, center_w2, Q0_w2, n_m_w2, q_m_w2], \n",
    "                open(\"{}/lofar_params_1w2.pckl\".format(idp), 'wb'))\n",
    "    lofar.write(\"{}/lofar_m1.fits\".format(idp), format=\"fits\")"
   ]
  },
  {
   "cell_type": "markdown",
   "metadata": {},
   "source": [
    "## Second iteration using colour\n",
    "\n",
    "From now on we will take into account the effect of the colour. The sample was distributed in several categories according to the colour of the source and this is considered here.\n",
    "\n",
    "### Rusable parameters for all the iterations\n",
    "\n",
    "These parameters are derived from the underlying population and will not change.\n",
    "\n",
    "First we compute the number of galaxies in each bin for the combined catalogue"
   ]
  },
  {
   "cell_type": "code",
   "execution_count": null,
   "metadata": {},
   "outputs": [],
   "source": [
    "bin_list = [bin_list_w2] + [bin_list_w1] + [bin_list_r for i in range(len(colour_bin_def))]\n",
    "centers = [center_w2] + [center_w1] + [center_r for i in range(len(colour_bin_def))]"
   ]
  },
  {
   "cell_type": "code",
   "execution_count": null,
   "metadata": {},
   "outputs": [],
   "source": [
    "numbers_combined_bins = np.array([np.sum(a[\"condition\"]) for a in colour_bin_def])"
   ]
  },
  {
   "cell_type": "code",
   "execution_count": null,
   "metadata": {},
   "outputs": [],
   "source": [
    "numbers_combined_bins"
   ]
  },
  {
   "cell_type": "markdown",
   "metadata": {},
   "source": [
    "Get the colour category and magnitudes for the matched LOFAR sources"
   ]
  },
  {
   "cell_type": "code",
   "execution_count": null,
   "metadata": {},
   "outputs": [],
   "source": [
    "bandwidth_colour = [0.5, 0.5, 0.5, 0.5, 0.5, 0.5, 0.5,\n",
    "        0.5, 0.5, 0.5, 0.5, 0.5]"
   ]
  },
  {
   "cell_type": "code",
   "execution_count": null,
   "metadata": {},
   "outputs": [],
   "source": [
    "n_m = []\n",
    "\n",
    "# W2 only sources\n",
    "n_m.append(get_n_m_kde(combined[\"MAG_W2\"][combined[\"category\"] == 0], \n",
    "                       centers[0], field.area, bandwidth=bandwidth_colour[0]))\n",
    "# W1 only sources\n",
    "n_m.append(get_n_m_kde(combined[\"MAG_W1\"][combined[\"category\"] == 1], \n",
    "                       centers[1], field.area, bandwidth=bandwidth_colour[1]))\n",
    "\n",
    "# Rest of the sources\n",
    "for i in range(2, len(colour_bin_def)):\n",
    "    n_m.append(get_n_m_kde(combined[\"MAG_R\"][combined[\"category\"] == i], \n",
    "                           centers[i], field.area, bandwidth=bandwidth_colour[i]))"
   ]
  },
  {
   "cell_type": "code",
   "execution_count": null,
   "metadata": {},
   "outputs": [],
   "source": [
    "plt.rcParams[\"figure.figsize\"] = (15,15)\n",
    "for i, n_m_k in enumerate(n_m):\n",
    "    plt.subplot(5,5,i+1)\n",
    "    plt.plot(centers[i], np.cumsum(n_m_k))"
   ]
  },
  {
   "cell_type": "markdown",
   "metadata": {},
   "source": [
    "### Parameters of the matched sample\n",
    "\n",
    "The parameters derived from the matched LOFAR galaxies: $q_0$, q(m) and the number of sources per category.\n",
    "\n",
    "The columns \"category\", \"W1mag\" and \"i\" will contain the properties of the matched galaxies and will be updated in each iteration to save space."
   ]
  },
  {
   "cell_type": "code",
   "execution_count": null,
   "metadata": {},
   "outputs": [],
   "source": [
    "lofar[\"category\"] = np.nan\n",
    "lofar[\"MAG_W2\"] = np.nan\n",
    "lofar[\"MAG_W1\"] = np.nan\n",
    "lofar[\"MAG_R\"] = np.nan"
   ]
  },
  {
   "cell_type": "code",
   "execution_count": null,
   "metadata": {},
   "outputs": [],
   "source": [
    "c = ~np.isnan(lofar[\"lr_index_1\"])\n",
    "indices = lofar[\"lr_index_1\"][c].astype(int)\n",
    "lofar[\"category\"][c] = combined[indices][\"category\"]\n",
    "lofar[\"MAG_W2\"][c] = combined[indices][\"MAG_W2\"]\n",
    "lofar[\"MAG_W1\"][c] = combined[indices][\"MAG_W1\"]\n",
    "lofar[\"MAG_R\"][c] = combined[indices][\"MAG_R\"]"
   ]
  },
  {
   "cell_type": "markdown",
   "metadata": {},
   "source": [
    "The next parameter represent the number of matched LOFAR sources in each colour category."
   ]
  },
  {
   "cell_type": "code",
   "execution_count": null,
   "metadata": {},
   "outputs": [],
   "source": [
    "numbers_lofar_combined_bins = np.array([np.sum(lofar[\"category\"] == c) \n",
    "                                        for c in range(len(numbers_combined_bins))])"
   ]
  },
  {
   "cell_type": "code",
   "execution_count": null,
   "metadata": {},
   "outputs": [],
   "source": [
    "numbers_lofar_combined_bins"
   ]
  },
  {
   "cell_type": "markdown",
   "metadata": {},
   "source": [
    "The $Q_0$ for each category are obtained by dividing the number of sources in the category by the total number of sources in the sample."
   ]
  },
  {
   "cell_type": "code",
   "execution_count": null,
   "metadata": {},
   "outputs": [],
   "source": [
    "Q_0_colour = numbers_lofar_combined_bins/len(lofar) ### Q_0"
   ]
  },
  {
   "cell_type": "code",
   "execution_count": null,
   "metadata": {},
   "outputs": [],
   "source": [
    "q0_total = np.sum(Q_0_colour)"
   ]
  },
  {
   "cell_type": "code",
   "execution_count": null,
   "metadata": {},
   "outputs": [],
   "source": [
    "q0_total"
   ]
  },
  {
   "cell_type": "markdown",
   "metadata": {},
   "source": [
    "The q(m) is not estimated with the method of Fleuren et al. but with the most updated distributions and numbers for the matches."
   ]
  },
  {
   "cell_type": "code",
   "execution_count": null,
   "metadata": {},
   "outputs": [],
   "source": [
    "q_m = []\n",
    "radius = 15. \n",
    "\n",
    "# W2 only sources\n",
    "q_m.append(get_q_m_kde(lofar[\"MAG_W2\"][lofar[\"category\"] == 0], \n",
    "                   centers[0], \n",
    "                   radius=radius,\n",
    "                   bandwidth=bandwidth_colour[0]))\n",
    "\n",
    "# W1 only sources\n",
    "q_m.append(get_q_m_kde(lofar[\"MAG_W1\"][lofar[\"category\"] == 1], \n",
    "                   centers[1], \n",
    "                   radius=radius,\n",
    "                   bandwidth=bandwidth_colour[1]))\n",
    "\n",
    "# Rest of the sources\n",
    "for i in range(2, len(numbers_lofar_combined_bins)):\n",
    "    q_m.append(get_q_m_kde(lofar[\"MAG_R\"][lofar[\"category\"] == i], \n",
    "                   centers[i], \n",
    "                   radius=radius,\n",
    "                   bandwidth=bandwidth_colour[i]))"
   ]
  },
  {
   "cell_type": "code",
   "execution_count": null,
   "metadata": {},
   "outputs": [],
   "source": [
    "plt.rcParams[\"figure.figsize\"] = (15,15)\n",
    "for i, q_m_k in enumerate(q_m):\n",
    "    plt.subplot(5,5,i+1)\n",
    "    plt.plot(centers[i], np.cumsum(q_m_k))"
   ]
  },
  {
   "cell_type": "code",
   "execution_count": null,
   "metadata": {},
   "outputs": [],
   "source": [
    "plt.rcParams[\"figure.figsize\"] = (12,10)\n",
    "\n",
    "from matplotlib import cm\n",
    "from matplotlib.collections import LineCollection\n",
    "\n",
    "cm_subsection = np.linspace(0., 1., 16) \n",
    "colors = [ cm.viridis(x) for x in cm_subsection ]\n",
    "\n",
    "low = np.nonzero(centers[1] >= 15)[0][0]\n",
    "high = np.nonzero(centers[1] >= 22.2)[0][0]\n",
    "\n",
    "fig, a = plt.subplots()\n",
    "\n",
    "for i, q_m_k in enumerate(q_m):\n",
    "    #plot(centers[i], q_m_old[i]/n_m_old[i])\n",
    "    a = plt.subplot(4,4,i+1)\n",
    "    if i not in [-1]:\n",
    "        n_m_aux = n_m[i]/np.sum(n_m[i])\n",
    "        lwidths = (n_m_aux/np.max(n_m_aux)*10).astype(float) + 1\n",
    "        #print(lwidths)\n",
    "        \n",
    "        y_aux = q_m_k/n_m[i]\n",
    "        factor = np.max(y_aux[low:high])\n",
    "        y = y_aux\n",
    "        #print(y)\n",
    "        x = centers[i]\n",
    "        \n",
    "        points = np.array([x, y]).T.reshape(-1, 1, 2)\n",
    "        segments = np.concatenate([points[:-1], points[1:]], axis=1)\n",
    "        \n",
    "        lc = LineCollection(segments, linewidths=lwidths, color=colors[i])\n",
    "        \n",
    "        a.add_collection(lc)\n",
    "        \n",
    "        #plot(centers[i], x/factor, color=colors[i-1])\n",
    "        plt.xlim([12, 30])\n",
    "        if i == 0:\n",
    "            plt.xlim([10, 23])\n",
    "        plt.ylim([0, 1.2*factor])\n",
    "\n",
    "plt.subplots_adjust(\n",
    "    left=0.125, \n",
    "    bottom=0.1, \n",
    "    right=0.9, \n",
    "    top=0.9,\n",
    "    wspace=0.4, \n",
    "    hspace=0.2\n",
    ")"
   ]
  },
  {
   "cell_type": "markdown",
   "metadata": {},
   "source": [
    "* https://stackoverflow.com/questions/8931268/using-colormaps-to-set-color-of-line-in-matplotlib\n",
    "* https://stackoverflow.com/questions/19390895/matplotlib-plot-with-variable-line-width\n",
    "* https://stackoverflow.com/questions/432112/is-there-a-numpy-function-to-return-the-first-index-of-something-in-an-array"
   ]
  },
  {
   "cell_type": "markdown",
   "metadata": {},
   "source": [
    "### Save intermediate parameters"
   ]
  },
  {
   "cell_type": "code",
   "execution_count": null,
   "metadata": {},
   "outputs": [],
   "source": [
    "if save_intermediate:\n",
    "    pickle.dump([bin_list, centers, Q_0_colour, n_m, q_m], \n",
    "                open(\"{}/lofar_params_2.pckl\".format(idp), 'wb'))"
   ]
  },
  {
   "cell_type": "markdown",
   "metadata": {},
   "source": [
    "### Prepare for ML"
   ]
  },
  {
   "cell_type": "code",
   "execution_count": null,
   "metadata": {},
   "outputs": [],
   "source": [
    "selection = ~np.isnan(combined[\"category\"]) # Avoid the two dreaded sources with no actual data\n",
    "catalogue = combined[selection]"
   ]
  },
  {
   "cell_type": "code",
   "execution_count": null,
   "metadata": {},
   "outputs": [],
   "source": [
    "radius = 15"
   ]
  },
  {
   "cell_type": "code",
   "execution_count": null,
   "metadata": {},
   "outputs": [],
   "source": [
    "def apply_ml(i, likelihood_ratio_function):\n",
    "    idx_0 = idx_i[idx_lofar == i]\n",
    "    d2d_0 = d2d[idx_lofar == i]\n",
    "    \n",
    "    category = catalogue[\"category\"][idx_0].astype(int)\n",
    "    mag = catalogue[\"MAG_R\"][idx_0]\n",
    "    mag[category == 0] = catalogue[\"MAG_W2\"][idx_0][category == 0]\n",
    "    mag[category == 1] = catalogue[\"MAG_W1\"][idx_0][category == 1]\n",
    "    \n",
    "    lofar_ra = lofar[i][\"RA\"]\n",
    "    lofar_dec = lofar[i][\"DEC\"]\n",
    "    lofar_pa = lofar[i][\"PA\"]\n",
    "    lofar_maj_err = lofar[i][\"E_Maj\"]\n",
    "    lofar_min_err = lofar[i][\"E_Min\"]\n",
    "    c_ra = catalogue[\"RA\"][idx_0]\n",
    "    c_dec = catalogue[\"DEC\"][idx_0]\n",
    "    c_ra_err = np.ones_like(c_ra)*0.6/3600.\n",
    "    c_dec_err = np.ones_like(c_ra)*0.6/3600.\n",
    "    \n",
    "    sigma_0_0, det_sigma = get_sigma_all(lofar_maj_err, lofar_min_err, lofar_pa, \n",
    "                      lofar_ra, lofar_dec, \n",
    "                      c_ra, c_dec, c_ra_err, c_dec_err)\n",
    "\n",
    "    lr_0 = likelihood_ratio_function(mag, d2d_0.arcsec, sigma_0_0, det_sigma, category)\n",
    "    \n",
    "    chosen_index = np.argmax(lr_0)\n",
    "    result = [combined_aux_index[selection][idx_0[chosen_index]], # Index\n",
    "              (d2d_0.arcsec)[chosen_index],                        # distance\n",
    "              lr_0[chosen_index]]                                  # LR\n",
    "    return result"
   ]
  },
  {
   "cell_type": "markdown",
   "metadata": {},
   "source": [
    "### Run the cross-match\n",
    "\n",
    "This will not need to be repeated after"
   ]
  },
  {
   "cell_type": "code",
   "execution_count": null,
   "metadata": {},
   "outputs": [],
   "source": [
    "idx_lofar, idx_i, d2d, d3d = search_around_sky(\n",
    "    coords_lofar, coords_combined[selection], radius*u.arcsec)"
   ]
  },
  {
   "cell_type": "code",
   "execution_count": null,
   "metadata": {},
   "outputs": [],
   "source": [
    "idx_lofar_unique = np.unique(idx_lofar)"
   ]
  },
  {
   "cell_type": "markdown",
   "metadata": {},
   "source": [
    "### Run the ML matching"
   ]
  },
  {
   "cell_type": "code",
   "execution_count": null,
   "metadata": {},
   "outputs": [],
   "source": [
    "likelihood_ratio = MultiMLEstimator(Q_0_colour, n_m, q_m, centers)"
   ]
  },
  {
   "cell_type": "code",
   "execution_count": null,
   "metadata": {},
   "outputs": [],
   "source": [
    "def ml(i):\n",
    "    return apply_ml(i, likelihood_ratio)"
   ]
  },
  {
   "cell_type": "code",
   "execution_count": null,
   "metadata": {},
   "outputs": [],
   "source": [
    "res = parallel_process(idx_lofar_unique, ml, n_jobs=n_cpus)\n",
    "#res = Parallel(n_jobs=n_cpus)(delayed(ml)(i) for i in tqdm_notebook(idx_lofar_unique))"
   ]
  },
  {
   "cell_type": "code",
   "execution_count": null,
   "metadata": {},
   "outputs": [],
   "source": [
    "lofar[\"lr_index_2\"] = np.nan\n",
    "lofar[\"lr_dist_2\"] = np.nan\n",
    "lofar[\"lr_2\"] = np.nan"
   ]
  },
  {
   "cell_type": "code",
   "execution_count": null,
   "metadata": {},
   "outputs": [],
   "source": [
    "(lofar[\"lr_index_2\"][idx_lofar_unique], \n",
    " lofar[\"lr_dist_2\"][idx_lofar_unique], \n",
    " lofar[\"lr_2\"][idx_lofar_unique]) = list(map(list, zip(*res)))"
   ]
  },
  {
   "cell_type": "markdown",
   "metadata": {},
   "source": [
    "Get the new threshold for the ML matching. FIX THIS"
   ]
  },
  {
   "cell_type": "code",
   "execution_count": null,
   "metadata": {},
   "outputs": [],
   "source": [
    "lofar[\"lr_2\"][np.isnan(lofar[\"lr_2\"])] = 0"
   ]
  },
  {
   "cell_type": "code",
   "execution_count": null,
   "metadata": {},
   "outputs": [],
   "source": [
    "threshold = np.percentile(lofar[\"lr_2\"], 100*(1 - q0_total))\n",
    "#manual_q0 = 0.65\n",
    "#threshold = np.percentile(lofar[\"lr_2\"], 100*(1 - manual_q0))"
   ]
  },
  {
   "cell_type": "code",
   "execution_count": null,
   "metadata": {},
   "outputs": [],
   "source": [
    "threshold # Old: 0.69787"
   ]
  },
  {
   "cell_type": "code",
   "execution_count": null,
   "metadata": {},
   "outputs": [],
   "source": [
    "plt.rcParams[\"figure.figsize\"] = (15,6)\n",
    "plt.subplot(1,2,1)\n",
    "plt.hist(lofar[lofar[\"lr_2\"] != 0][\"lr_2\"], bins=200)\n",
    "plt.vlines([threshold], 0, 1000)\n",
    "plt.ylim([0,1000])\n",
    "plt.subplot(1,2,2)\n",
    "plt.hist(np.log10(lofar[lofar[\"lr_2\"] != 0][\"lr_2\"]+1), bins=200)\n",
    "plt.vlines(np.log10(threshold+1), 0, 1000)\n",
    "ticks, _ = plt.xticks()\n",
    "plt.xticks(ticks, [\"{:.1f}\".format(10**t-1) for t in ticks])\n",
    "plt.ylim([0,1000]);"
   ]
  },
  {
   "cell_type": "code",
   "execution_count": null,
   "metadata": {},
   "outputs": [],
   "source": [
    "lofar[\"lr_index_sel_2\"] = lofar[\"lr_index_2\"]\n",
    "lofar[\"lr_index_sel_2\"][lofar[\"lr_2\"] < threshold] = np.nan"
   ]
  },
  {
   "cell_type": "code",
   "execution_count": null,
   "metadata": {},
   "outputs": [],
   "source": [
    "n_changes = np.sum((lofar[\"lr_index_sel_2\"] != lofar[\"lr_index_1\"]) & \n",
    "                   ~np.isnan(lofar[\"lr_index_sel_2\"]) &\n",
    "                   ~np.isnan(lofar[\"lr_index_1\"]))"
   ]
  },
  {
   "cell_type": "code",
   "execution_count": null,
   "metadata": {},
   "outputs": [],
   "source": [
    "n_changes # Old: 3135"
   ]
  },
  {
   "cell_type": "markdown",
   "metadata": {},
   "source": [
    "Enter the results"
   ]
  },
  {
   "cell_type": "code",
   "execution_count": null,
   "metadata": {},
   "outputs": [],
   "source": [
    "# Clear aux columns\n",
    "lofar[\"category\"] = np.nan\n",
    "lofar[\"MAG_W2\"] = np.nan\n",
    "lofar[\"MAG_W1\"] = np.nan\n",
    "lofar[\"MAG_R\"] = np.nan\n",
    "\n",
    "c = ~np.isnan(lofar[\"lr_index_sel_2\"])\n",
    "indices = lofar[\"lr_index_sel_2\"][c].astype(int)\n",
    "lofar[\"category\"][c] = combined[indices][\"category\"]\n",
    "lofar[\"MAG_W2\"][c] = combined[indices][\"MAG_W2\"]\n",
    "lofar[\"MAG_W1\"][c] = combined[indices][\"MAG_W1\"]\n",
    "lofar[\"MAG_R\"][c] = combined[indices][\"MAG_R\"]"
   ]
  },
  {
   "cell_type": "code",
   "execution_count": null,
   "metadata": {},
   "outputs": [],
   "source": [
    "numbers_lofar_combined_bins = np.array([np.sum(lofar[\"category\"] == c) \n",
    "                                        for c in range(len(numbers_combined_bins))])"
   ]
  },
  {
   "cell_type": "code",
   "execution_count": null,
   "metadata": {},
   "outputs": [],
   "source": [
    "numbers_lofar_combined_bins"
   ]
  },
  {
   "cell_type": "markdown",
   "metadata": {},
   "source": [
    "### Save intermediate data"
   ]
  },
  {
   "cell_type": "code",
   "execution_count": null,
   "metadata": {},
   "outputs": [],
   "source": [
    "if save_intermediate:\n",
    "    lofar.write(\"{}/lofar_m2.fits\".format(idp), format=\"fits\")"
   ]
  },
  {
   "cell_type": "markdown",
   "metadata": {},
   "source": [
    "## Iterate until convergence"
   ]
  },
  {
   "cell_type": "code",
   "execution_count": null,
   "metadata": {},
   "outputs": [],
   "source": [
    "rerun_iter = False"
   ]
  },
  {
   "cell_type": "code",
   "execution_count": null,
   "metadata": {},
   "outputs": [],
   "source": [
    "if rerun_iter:\n",
    "    lofar = Table.read(\"{}/lofar_m2.fits\".format(idp))\n",
    "    bin_list, centers, Q_0_colour, n_m, q_m = pickle.load(open(\"{}/lofar_params_2.pckl\".format(idp), 'rb'))\n",
    "    inter_data_list = glob(\"{}/lofar_m*.fits\".format(idp))\n",
    "    # Remove data\n",
    "    for inter_data_file in inter_data_list:\n",
    "        if inter_data_file[-7:-5] not in [\"m1\", \"m2\"]:\n",
    "            #print(inter_data_file)\n",
    "            os.remove(inter_data_file)\n",
    "    # Remove images\n",
    "    images_list = glob(\"{}/*.png\".format(idp))\n",
    "    for images in images_list:\n",
    "        #print(images)\n",
    "        os.remove(images)\n",
    "    # Remove parameters\n",
    "    inter_param_list = glob(\"{}/lofar_params_*.pckl\".format(idp))\n",
    "    for inter_param_file in inter_param_list:\n",
    "        if inter_param_file[-7:-5] not in [\"1i\", \"w1\", \"_2\"]:\n",
    "            #print(inter_param_file)\n",
    "            os.remove(inter_param_file)"
   ]
  },
  {
   "cell_type": "code",
   "execution_count": null,
   "metadata": {},
   "outputs": [],
   "source": [
    "radius = 15. "
   ]
  },
  {
   "cell_type": "code",
   "execution_count": null,
   "metadata": {},
   "outputs": [],
   "source": [
    "from matplotlib import pyplot as plt"
   ]
  },
  {
   "cell_type": "code",
   "execution_count": null,
   "metadata": {},
   "outputs": [],
   "source": [
    "def plot_q_n_m(q_m, n_m):\n",
    "    fig, a = plt.subplots()\n",
    "\n",
    "    for i, q_m_k in enumerate(q_m):\n",
    "        #plot(centers[i], q_m_old[i]/n_m_old[i])\n",
    "        a = plt.subplot(4,4,i+1)\n",
    "        if i not in [-1]:\n",
    "            n_m_aux = n_m[i]/np.sum(n_m[i])\n",
    "            lwidths = (n_m_aux/np.max(n_m_aux)*10).astype(float) + 1\n",
    "            #print(lwidths)\n",
    "\n",
    "            y_aux = q_m_k/n_m[i]\n",
    "            factor = np.max(y_aux[low:high])\n",
    "            y = y_aux\n",
    "            #print(y)\n",
    "            x = centers[i]\n",
    "\n",
    "            points = np.array([x, y]).T.reshape(-1, 1, 2)\n",
    "            segments = np.concatenate([points[:-1], points[1:]], axis=1)\n",
    "\n",
    "            lc = LineCollection(segments, linewidths=lwidths, color=colors[i])\n",
    "\n",
    "            a.add_collection(lc)\n",
    "\n",
    "            #plot(centers[i], x/factor, color=colors[i-1])\n",
    "            plt.xlim([12, 30])\n",
    "            if i == 0:\n",
    "                plt.xlim([10, 23])\n",
    "            plt.ylim([0, 1.2*factor])\n",
    "\n",
    "    plt.subplots_adjust(left=0.125, \n",
    "                    bottom=0.1, \n",
    "                    right=0.9, \n",
    "                    top=0.9,\n",
    "                    wspace=0.4, \n",
    "                    hspace=0.2)\n",
    "    return fig"
   ]
  },
  {
   "cell_type": "code",
   "execution_count": null,
   "metadata": {},
   "outputs": [],
   "source": [
    "for j in range(10):\n",
    "    iteration = j+3 \n",
    "    print(\"Iteration {}\".format(iteration))\n",
    "    print(\"=============\")\n",
    "    ## Get new parameters\n",
    "    # Number of matched sources per bin\n",
    "    numbers_lofar_combined_bins = np.array([np.sum(lofar[\"category\"] == c) \n",
    "                                            for c in range(len(numbers_combined_bins))])\n",
    "    print(\"numbers_lofar_combined_bins\")\n",
    "    print(numbers_lofar_combined_bins)\n",
    "    # q_0\n",
    "    Q_0_colour_est = numbers_lofar_combined_bins/len(lofar) ### Q_0\n",
    "    Q_0_colour = q0_min_level(Q_0_colour_est, min_level=0.001)\n",
    "    print(\"Q_0_colour\")\n",
    "    print(Q_0_colour)\n",
    "    q0_total = np.sum(Q_0_colour)\n",
    "    print(\"Q_0_total: \", q0_total)\n",
    "    # q_m\n",
    "    q_m = []\n",
    "    # W2 only sources\n",
    "    q_m.append(get_q_m_kde(lofar[\"MAG_W2\"][lofar[\"category\"] == 0], \n",
    "                       centers[0], \n",
    "                       radius=radius,\n",
    "                       bandwidth=bandwidth_colour[0]))\n",
    "    # W1 only sources\n",
    "    q_m.append(get_q_m_kde(lofar[\"MAG_W1\"][lofar[\"category\"] == 1], \n",
    "                       centers[1], \n",
    "                       radius=radius,\n",
    "                       bandwidth=bandwidth_colour[1]))\n",
    "    # Rest of the sources\n",
    "    for i in range(2, len(numbers_lofar_combined_bins)):\n",
    "        q_m.append(get_q_m_kde(lofar[\"MAG_R\"][lofar[\"category\"] == i], \n",
    "                       centers[i], \n",
    "                       radius=radius,\n",
    "                       bandwidth=bandwidth_colour[i]))\n",
    "    # Save new parameters\n",
    "    if save_intermediate:\n",
    "        pickle.dump([bin_list, centers, Q_0_colour, n_m, q_m], \n",
    "                    open(\"{}/lofar_params_{}.pckl\".format(idp, iteration), 'wb'))\n",
    "    if plot_intermediate:\n",
    "        fig = plt.figure(figsize=(15,15))\n",
    "        for i, q_m_k in enumerate(q_m):\n",
    "            plt.subplot(5,5,i+1)\n",
    "            plt.plot(centers[i], q_m_k)\n",
    "        plt.savefig('{}/q0_{}.png'.format(idp, iteration))\n",
    "        del fig\n",
    "        fig = plt.figure(figsize=(15,15))\n",
    "        for i, q_m_k in enumerate(q_m):\n",
    "            plt.subplot(5,5,i+1)\n",
    "            plt.plot(centers[i], q_m_k/n_m[i])\n",
    "        plt.savefig('{}/q_over_n_{}.png'.format(idp, iteration))\n",
    "        del fig\n",
    "        fig = plot_q_n_m(q_m, n_m)\n",
    "        plt.savefig('{}/q_over_n_nice_{}.png'.format(idp, iteration))\n",
    "        del fig\n",
    "    ## Define new likelihood_ratio\n",
    "    likelihood_ratio = MultiMLEstimator(Q_0_colour, n_m, q_m, centers)\n",
    "    def ml(i):\n",
    "        return apply_ml(i, likelihood_ratio)\n",
    "    ## Run the ML\n",
    "    res = parallel_process(idx_lofar_unique, ml, n_jobs=n_cpus)\n",
    "    #res = Parallel(n_jobs=n_cpus)(delayed(ml)(i) for i in tqdm_notebook(idx_lofar_unique))\n",
    "    lofar[\"lr_index_{}\".format(iteration)] = np.nan\n",
    "    lofar[\"lr_dist_{}\".format(iteration)] = np.nan\n",
    "    lofar[\"lr_{}\".format(iteration)] = np.nan\n",
    "    (lofar[\"lr_index_{}\".format(iteration)][idx_lofar_unique], \n",
    "     lofar[\"lr_dist_{}\".format(iteration)][idx_lofar_unique], \n",
    "     lofar[\"lr_{}\".format(iteration)][idx_lofar_unique]) = list(map(list, zip(*res)))\n",
    "    lofar[\"lr_{}\".format(iteration)][np.isnan(lofar[\"lr_{}\".format(iteration)])] = 0\n",
    "    ## Get and apply the threshold\n",
    "    threshold = np.percentile(lofar[\"lr_{}\".format(iteration)], 100*(1 - q0_total))\n",
    "    #threshold = get_threshold(lofar[lofar[\"lr_{}\".format(iteration)] != 0][\"lr_{}\".format(iteration)])\n",
    "    print(\"Threshold: \", threshold)\n",
    "    if plot_intermediate:\n",
    "        fig = plt.figure(figsize=(15,6))\n",
    "        plt.subplot(1,2,1)\n",
    "        plt.hist(lofar[lofar[\"lr_{}\".format(iteration)] != 0][\"lr_{}\".format(iteration)], bins=200)\n",
    "        plt.vlines([threshold], 0, 1000)\n",
    "        plt.ylim([0,1000])\n",
    "        plt.subplot(1,2,2)\n",
    "        plt.hist(np.log10(lofar[lofar[\"lr_{}\".format(iteration)] != 0][\"lr_{}\".format(iteration)]+1), bins=200)\n",
    "        plt.vlines(np.log10(threshold+1), 0, 1000)\n",
    "        ticks, _ = plt.xticks()\n",
    "        plt.xticks(ticks, [\"{:.1f}\".format(10**t-1) for t in ticks])\n",
    "        plt.ylim([0,1000])\n",
    "        plt.savefig('{}/lr_distribution_{}.png'.format(idp, iteration))\n",
    "        del fig\n",
    "    ## Apply the threshold\n",
    "    lofar[\"lr_index_sel_{}\".format(iteration)] = lofar[\"lr_index_{}\".format(iteration)]\n",
    "    lofar[\"lr_index_sel_{}\".format(iteration)][lofar[\"lr_{}\".format(iteration)] < threshold] = np.nan\n",
    "    ## Enter changes into the catalogue\n",
    "    # Clear aux columns\n",
    "    lofar[\"category\"] = np.nan\n",
    "    lofar[\"MAG_W2\"] = np.nan\n",
    "    lofar[\"MAG_W1\"] = np.nan\n",
    "    lofar[\"MAG_R\"] = np.nan\n",
    "    # Update data\n",
    "    c = ~np.isnan(lofar[\"lr_index_sel_{}\".format(iteration)])\n",
    "    indices = lofar[\"lr_index_sel_{}\".format(iteration)][c].astype(int)\n",
    "    lofar[\"category\"][c] = combined[indices][\"category\"]\n",
    "    lofar[\"MAG_W2\"][c] = combined[indices][\"MAG_W2\"]\n",
    "    lofar[\"MAG_W1\"][c] = combined[indices][\"MAG_W1\"]\n",
    "    lofar[\"MAG_R\"][c] = combined[indices][\"MAG_R\"]\n",
    "    # Save the data\n",
    "    if save_intermediate:\n",
    "        lofar.write(\"{}/lofar_m{}.fits\".format(idp, iteration), format=\"fits\")\n",
    "    ## Compute number of changes\n",
    "    n_changes = np.sum((\n",
    "            lofar[\"lr_index_sel_{}\".format(iteration)] != lofar[\"lr_index_sel_{}\".format(iteration-1)]) & \n",
    "            ~np.isnan(lofar[\"lr_index_sel_{}\".format(iteration)]) &\n",
    "            ~np.isnan(lofar[\"lr_index_sel_{}\".format(iteration-1)]))\n",
    "    print(\"N changes: \", n_changes)\n",
    "    t_changes = np.sum((\n",
    "            lofar[\"lr_index_sel_{}\".format(iteration)] != lofar[\"lr_index_sel_{}\".format(iteration-1)]))\n",
    "    print(\"T changes: \", t_changes)\n",
    "    ## Check changes\n",
    "    if n_changes == 0:\n",
    "        break\n",
    "    else:\n",
    "        print(\"******** continue **********\")"
   ]
  },
  {
   "cell_type": "code",
   "execution_count": null,
   "metadata": {},
   "outputs": [],
   "source": [
    "numbers_lofar_combined_bins = np.array([np.sum(lofar[\"category\"] == c) \n",
    "                                        for c in range(len(numbers_combined_bins))])\n",
    "numbers_lofar_combined_bins"
   ]
  },
  {
   "cell_type": "code",
   "execution_count": null,
   "metadata": {},
   "outputs": [],
   "source": [
    "if save_intermediate:\n",
    "    pickle.dump([numbers_lofar_combined_bins, numbers_combined_bins], \n",
    "                open(\"{}/numbers_{}.pckl\".format(idp, iteration), 'wb'))"
   ]
  },
  {
   "cell_type": "code",
   "execution_count": null,
   "metadata": {
    "collapsed": true,
    "jupyter": {
     "outputs_hidden": true
    }
   },
   "outputs": [],
   "source": [
    "good = False"
   ]
  },
  {
   "cell_type": "code",
   "execution_count": null,
   "metadata": {},
   "outputs": [],
   "source": [
    "if good:\n",
    "    if os.path.exists(\"lofar_params.pckl\"):\n",
    "        os.remove(\"lofar_params.pckl\")\n",
    "    copyfile(\"{}/lofar_params_{}.pckl\".format(idp, iteration), \"lofar_params.pckl\")"
   ]
  },
  {
   "cell_type": "code",
   "execution_count": null,
   "metadata": {
    "collapsed": true,
    "jupyter": {
     "outputs_hidden": true
    }
   },
   "outputs": [],
   "source": []
  }
 ],
 "metadata": {
  "jupytext": {
   "formats": "ipynb,py:percent"
  },
  "kernelspec": {
   "display_name": "Python 3 (ipykernel)",
   "language": "python",
   "name": "python3"
  },
  "language_info": {
   "codemirror_mode": {
    "name": "ipython",
    "version": 3
   },
   "file_extension": ".py",
   "mimetype": "text/x-python",
   "name": "python",
   "nbconvert_exporter": "python",
   "pygments_lexer": "ipython3",
   "version": "3.9.19"
  }
 },
 "nbformat": 4,
 "nbformat_minor": 4
}
