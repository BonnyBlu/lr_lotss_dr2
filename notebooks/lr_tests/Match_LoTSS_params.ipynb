{
 "cells": [
  {
   "cell_type": "markdown",
   "metadata": {},
   "source": [
    "# ML match for LOFAR and the Legacy-WISE catalogue: Source catalogue\n",
    "\n",
    "This version computes the final parameters for the 0h region in an iterative fashion. The computation of the $Q_0$ is also included here."
   ]
  },
  {
   "cell_type": "markdown",
   "metadata": {},
   "source": [
    "## Configuration\n",
    "\n",
    "### Load libraries and setup"
   ]
  },
  {
   "cell_type": "code",
   "execution_count": 63,
   "metadata": {},
   "outputs": [],
   "source": [
    "import pickle\n",
    "import os\n",
    "import sys\n",
    "from glob import glob\n",
    "from shutil import copyfile\n",
    "import numpy as np\n",
    "from astropy.table import Table\n",
    "from astropy import units as u\n",
    "from astropy.coordinates import SkyCoord, search_around_sky\n",
    "from IPython.display import clear_output"
   ]
  },
  {
   "cell_type": "code",
   "execution_count": 2,
   "metadata": {},
   "outputs": [],
   "source": [
    "try:\n",
    "    BASEPATH = os.path.dirname(os.path.realpath(__file__))\n",
    "    data_path = os.path.join(BASEPATH, \"..\", \"..\", \"data\")\n",
    "except NameError:\n",
    "    if os.path.exists(\"data\"):\n",
    "        BASEPATH = \".\"\n",
    "        data_path = os.path.join(BASEPATH, \"data\")\n",
    "    else:\n",
    "        BASEPATH = os.getcwd()\n",
    "        data_path = os.path.join(BASEPATH, \"..\", \"..\", \"data\")"
   ]
  },
  {
   "cell_type": "code",
   "execution_count": 49,
   "metadata": {},
   "outputs": [],
   "source": [
    "sys.path.append(os.path.join(BASEPATH, '..', '..', 'src'))\n",
    "from mltier1 import (get_center, get_n_m, estimate_q_m, Field, SingleMLEstimator, MultiMLEstimator,\n",
    "                     parallel_process, get_sigma_all, get_q_m, get_threshold, q0_min_level, q0_min_numbers,\n",
    "                     get_n_m_kde, estimate_q_m_kde, get_q_m_kde, describe, Q_0)"
   ]
  },
  {
   "cell_type": "code",
   "execution_count": 4,
   "metadata": {},
   "outputs": [],
   "source": [
    "%load_ext autoreload"
   ]
  },
  {
   "cell_type": "code",
   "execution_count": 5,
   "metadata": {},
   "outputs": [],
   "source": [
    "%autoreload"
   ]
  },
  {
   "cell_type": "code",
   "execution_count": 6,
   "metadata": {},
   "outputs": [],
   "source": [
    "import matplotlib.pyplot as plt"
   ]
  },
  {
   "cell_type": "code",
   "execution_count": 7,
   "metadata": {},
   "outputs": [],
   "source": [
    "%matplotlib inline"
   ]
  },
  {
   "cell_type": "markdown",
   "metadata": {},
   "source": [
    "### General configuration"
   ]
  },
  {
   "cell_type": "code",
   "execution_count": 8,
   "metadata": {},
   "outputs": [],
   "source": [
    "save_intermediate = True\n",
    "plot_intermediate = True"
   ]
  },
  {
   "cell_type": "code",
   "execution_count": 9,
   "metadata": {},
   "outputs": [],
   "source": [
    "idp = os.path.join(BASEPATH, \"..\", \"..\", \"data\", \"idata\", \"params\")"
   ]
  },
  {
   "cell_type": "code",
   "execution_count": 10,
   "metadata": {},
   "outputs": [],
   "source": [
    "if not os.path.isdir(idp):\n",
    "    os.makedirs(idp)"
   ]
  },
  {
   "cell_type": "markdown",
   "metadata": {},
   "source": [
    "### Area limits"
   ]
  },
  {
   "cell_type": "code",
   "execution_count": 11,
   "metadata": {},
   "outputs": [],
   "source": [
    "# Test samples LoTSS_DR2_DUMMYCAT_FORPEPE_0h.srl.fits\n",
    "dec_down = 22.25\n",
    "dec_up = 32.\n",
    "ra_down = 0.\n",
    "ra_up = 20.5"
   ]
  },
  {
   "cell_type": "code",
   "execution_count": 64,
   "metadata": {},
   "outputs": [],
   "source": [
    "margin_ra = 0.1\n",
    "margin_dec = 0.1"
   ]
  },
  {
   "cell_type": "code",
   "execution_count": 65,
   "metadata": {},
   "outputs": [],
   "source": [
    "field = Field(ra_down, ra_up, dec_down, dec_up)"
   ]
  },
  {
   "cell_type": "code",
   "execution_count": 66,
   "metadata": {},
   "outputs": [],
   "source": [
    "field_full = field\n",
    "#field_full = Field(160.0, 232.0, 42.0, 62.0)"
   ]
  },
  {
   "cell_type": "code",
   "execution_count": 67,
   "metadata": {},
   "outputs": [],
   "source": [
    "field_optical = Field(\n",
    "    ra_down - margin_ra, \n",
    "    ra_up + margin_ra, \n",
    "    dec_down - margin_dec, \n",
    "    dec_up + margin_dec)"
   ]
  },
  {
   "cell_type": "markdown",
   "metadata": {},
   "source": [
    "## Load data"
   ]
  },
  {
   "cell_type": "code",
   "execution_count": 14,
   "metadata": {},
   "outputs": [],
   "source": [
    "combined_all = Table.read(os.path.join(data_path, \"samples\", \"test_combined.fits\"))"
   ]
  },
  {
   "cell_type": "markdown",
   "metadata": {},
   "source": [
    "We will start to use the updated catalogues that include the output of the LOFAR Galaxy Zoo work."
   ]
  },
  {
   "cell_type": "code",
   "execution_count": 15,
   "metadata": {},
   "outputs": [],
   "source": [
    "#lofar_all = Table.read(\"data/LOFAR_HBA_T1_DR1_catalog_v0.9.srl.fits\")\n",
    "#lofar_all = Table.read(os.path.join(data_path, \"samples\", \"P005p28.fits\"))\n",
    "#lofar_all = Table.read(os.path.join(data_path, \"samples\", \"LoTSS_DR2_RA0INNER_v0.9.srl.fits\"))\n",
    "lofar_all = Table.read(os.path.join(data_path, \"samples\", \"LoTSS_DR2_DUMMYCAT_FORPEPE_0h.srl.fits\"))"
   ]
  },
  {
   "cell_type": "code",
   "execution_count": 16,
   "metadata": {},
   "outputs": [
    {
     "data": {
      "text/plain": [
       "array(['RA', 'DEC', 'UID_L', 'UNWISE_OBJID', 'MAG_R', 'MAG_W1', 'MAG_W2'],\n",
       "      dtype='<U12')"
      ]
     },
     "execution_count": 16,
     "metadata": {},
     "output_type": "execute_result"
    }
   ],
   "source": [
    "np.array(combined_all.colnames)"
   ]
  },
  {
   "cell_type": "code",
   "execution_count": 17,
   "metadata": {},
   "outputs": [
    {
     "data": {
      "text/plain": [
       "array(['Source_Name', 'RA', 'E_RA', 'DEC', 'E_DEC', 'Peak_flux',\n",
       "       'E_Peak_flux', 'Total_flux', 'E_Total_flux', 'Maj', 'E_Maj', 'Min',\n",
       "       'E_Min', 'DC_Maj', 'E_DC_Maj', 'DC_Min', 'E_DC_Min', 'PA', 'E_PA',\n",
       "       'DC_PA', 'E_DC_PA', 'Isl_rms', 'S_Code', 'Mosaic_ID'], dtype='<U12')"
      ]
     },
     "execution_count": 17,
     "metadata": {},
     "output_type": "execute_result"
    }
   ],
   "source": [
    "np.array(lofar_all.colnames)"
   ]
  },
  {
   "cell_type": "code",
   "execution_count": 18,
   "metadata": {},
   "outputs": [
    {
     "name": "stdout",
     "output_type": "stream",
     "text": [
      "10.518 +/- 7.715; median: 8.260; limits: [3.790, 436.840]; N=516404 (0 NaN; 0 masked)\n"
     ]
    }
   ],
   "source": [
    "describe(lofar_all['Maj'])"
   ]
  },
  {
   "cell_type": "markdown",
   "metadata": {},
   "source": [
    "### Filter catalogues\n",
    "\n",
    "We will take the sources in the main region but also discard sources with a Major axis size bigger than 30 arsecs."
   ]
  },
  {
   "cell_type": "code",
   "execution_count": 19,
   "metadata": {},
   "outputs": [],
   "source": [
    "max_major = 30"
   ]
  },
  {
   "cell_type": "code",
   "execution_count": 20,
   "metadata": {},
   "outputs": [],
   "source": [
    "lofar_aux = lofar_all[~np.isnan(lofar_all['Maj'])]"
   ]
  },
  {
   "cell_type": "code",
   "execution_count": 21,
   "metadata": {},
   "outputs": [],
   "source": [
    "lofar = field.filter_catalogue(lofar_aux[(lofar_aux['Maj'] < max_major)], \n",
    "                               colnames=(\"RA\", \"DEC\"))"
   ]
  },
  {
   "cell_type": "code",
   "execution_count": 22,
   "metadata": {},
   "outputs": [],
   "source": [
    "lofar_full = field_full.filter_catalogue(lofar_aux[(lofar_aux['Maj'] < max_major)], \n",
    "                                         colnames=(\"RA\", \"DEC\"))"
   ]
  },
  {
   "cell_type": "code",
   "execution_count": 70,
   "metadata": {},
   "outputs": [],
   "source": [
    "combined = field_optical.filter_catalogue(combined_all, \n",
    "                                colnames=(\"RA\", \"DEC\"))"
   ]
  },
  {
   "cell_type": "code",
   "execution_count": 69,
   "metadata": {},
   "outputs": [],
   "source": [
    "combined_nomargin = field.filter_catalogue(combined_all, \n",
    "                                colnames=(\"RA\", \"DEC\"))"
   ]
  },
  {
   "cell_type": "markdown",
   "metadata": {},
   "source": [
    "### Additional data\n",
    "\n",
    "Compute some additional data that was not available in the catalogues like the colour or an auxiliary array with an index."
   ]
  },
  {
   "cell_type": "code",
   "execution_count": 78,
   "metadata": {},
   "outputs": [],
   "source": [
    "combined[\"colour\"] = combined[\"MAG_R\"] - combined[\"MAG_W1\"]"
   ]
  },
  {
   "cell_type": "code",
   "execution_count": 79,
   "metadata": {},
   "outputs": [],
   "source": [
    "combined_aux_index = np.arange(len(combined))"
   ]
  },
  {
   "cell_type": "markdown",
   "metadata": {},
   "source": [
    "### Sky coordinates"
   ]
  },
  {
   "cell_type": "code",
   "execution_count": 71,
   "metadata": {},
   "outputs": [],
   "source": [
    "coords_combined = SkyCoord(combined['RA'], \n",
    "                           combined['DEC'], \n",
    "                           unit=(u.deg, u.deg), \n",
    "                           frame='icrs')"
   ]
  },
  {
   "cell_type": "code",
   "execution_count": 72,
   "metadata": {},
   "outputs": [],
   "source": [
    "coords_lofar = SkyCoord(lofar['RA'], \n",
    "                       lofar['DEC'], \n",
    "                       unit=(u.deg, u.deg), \n",
    "                       frame='icrs')"
   ]
  },
  {
   "cell_type": "markdown",
   "metadata": {},
   "source": [
    "### Class of sources in the combined catalogue\n",
    "\n",
    "The sources are grouped depending on the available photometric data."
   ]
  },
  {
   "cell_type": "code",
   "execution_count": 73,
   "metadata": {},
   "outputs": [],
   "source": [
    "combined_legacy = (\n",
    "    ~np.isnan(combined[\"MAG_R\"]) & \n",
    "    ~np.isnan(combined[\"MAG_W1\"]) & \n",
    "    ~np.isnan(combined[\"MAG_W2\"])\n",
    ")"
   ]
  },
  {
   "cell_type": "code",
   "execution_count": 74,
   "metadata": {},
   "outputs": [],
   "source": [
    "combined_wise =(\n",
    "    np.isnan(combined[\"MAG_R\"]) & \n",
    "    ~np.isnan(combined[\"MAG_W1\"])\n",
    ")"
   ]
  },
  {
   "cell_type": "code",
   "execution_count": 75,
   "metadata": {},
   "outputs": [],
   "source": [
    "combined_wise2 =(\n",
    "    np.isnan(combined[\"MAG_R\"]) & \n",
    "    np.isnan(combined[\"MAG_W1\"])\n",
    ")"
   ]
  },
  {
   "cell_type": "code",
   "execution_count": 76,
   "metadata": {},
   "outputs": [
    {
     "name": "stdout",
     "output_type": "stream",
     "text": [
      "Total     -  14510713\n",
      "R and W1  -  12790855\n",
      "Only WISE -  1516793\n",
      "Only W2   -  203065\n"
     ]
    }
   ],
   "source": [
    "print(\"Total     - \", len(combined))\n",
    "print(\"R and W1  - \", np.sum(combined_legacy))\n",
    "print(\"Only WISE - \", np.sum(combined_wise))\n",
    "print(\"Only W2   - \", np.sum(combined_wise2))"
   ]
  },
  {
   "cell_type": "markdown",
   "metadata": {},
   "source": [
    "### Colour categories\n",
    "\n",
    "The colour categories will be used after the first ML match"
   ]
  },
  {
   "cell_type": "code",
   "execution_count": 80,
   "metadata": {},
   "outputs": [
    {
     "data": {
      "image/png": "[encoded data removed]",
      "text/plain": [
       "<Figure size 1080x360 with 1 Axes>"
      ]
     },
     "metadata": {
      "needs_background": "light"
     },
     "output_type": "display_data"
    }
   ],
   "source": [
    "plt.hist(combined[\"colour\"], bins=100);"
   ]
  },
  {
   "cell_type": "code",
   "execution_count": 81,
   "metadata": {},
   "outputs": [],
   "source": [
    "#from astroML.plotting import hist as amlhist\n",
    "from astropy.visualization import hist as amlhist"
   ]
  },
  {
   "cell_type": "code",
   "execution_count": 82,
   "metadata": {},
   "outputs": [
    {
     "data": {
      "text/plain": [
       "[10, 20, 30, 40, 50, 60, 70, 80, 90]"
      ]
     },
     "execution_count": 82,
     "metadata": {},
     "output_type": "execute_result"
    }
   ],
   "source": [
    "list(range(10,100,10))"
   ]
  },
  {
   "cell_type": "code",
   "execution_count": 83,
   "metadata": {},
   "outputs": [
    {
     "data": {
      "text/plain": [
       "array([-0.5,  0.1,  0.6,  1. ,  1.3,  1.6,  2. ,  2.5,  3.1])"
      ]
     },
     "execution_count": 83,
     "metadata": {},
     "output_type": "execute_result"
    }
   ],
   "source": [
    "np.round(np.percentile(combined[\"colour\"][~np.isnan(combined[\"colour\"])], list(range(10,100,10))), 1)"
   ]
  },
  {
   "cell_type": "code",
   "execution_count": 84,
   "metadata": {},
   "outputs": [],
   "source": [
    "#colour_limits = [0.0, 0.5, 1.0, 1.25, 1.5, 1.75, 2.0, 2.25, 2.5, 2.75, 3.0, 3.5, 4.0]\n",
    "colour_limits = np.round(np.percentile(combined[\"colour\"][~np.isnan(combined[\"colour\"])], list(range(10,100,10))), 1)"
   ]
  },
  {
   "cell_type": "code",
   "execution_count": 85,
   "metadata": {},
   "outputs": [],
   "source": [
    "# Start with the W2-only, W1-only, and \"less than lower colour\" bins\n",
    "colour_bin_def = [{\"name\":\"only W2\", \"condition\": combined_wise2},\n",
    "                  {\"name\":\"only WISE\", \"condition\": combined_wise},\n",
    "                  {\"name\":\"-inf to {}\".format(colour_limits[0]), \n",
    "                   \"condition\": (combined[\"colour\"] < colour_limits[0])}]\n",
    "\n",
    "# Get the colour bins\n",
    "for i in range(len(colour_limits)-1):\n",
    "    name = \"{} to {}\".format(colour_limits[i], colour_limits[i+1])\n",
    "    condition = ((combined[\"colour\"] >= colour_limits[i]) & \n",
    "                 (combined[\"colour\"] < colour_limits[i+1]))\n",
    "    colour_bin_def.append({\"name\":name, \"condition\":condition})\n",
    "\n",
    "# Add the \"more than higher colour\" bin\n",
    "colour_bin_def.append({\"name\":\"{} to inf\".format(colour_limits[-1]), \n",
    "                       \"condition\": (combined[\"colour\"] >= colour_limits[-1])})"
   ]
  },
  {
   "cell_type": "markdown",
   "metadata": {},
   "source": [
    "The dictionary ''colour_bin_def'' contains the indices of the different colour categories."
   ]
  },
  {
   "cell_type": "code",
   "execution_count": 86,
   "metadata": {},
   "outputs": [
    {
     "data": {
      "text/plain": [
       "[{'name': 'only W2',\n",
       "  'condition': array([False, False, False, ...,  True,  True,  True])},\n",
       " {'name': 'only WISE',\n",
       "  'condition': array([False, False, False, ..., False, False, False])},\n",
       " {'name': '-inf to -0.5',\n",
       "  'condition': array([ True, False, False, ..., False, False, False])},\n",
       " {'name': '-0.5 to 0.1',\n",
       "  'condition': array([False, False, False, ..., False, False, False])},\n",
       " {'name': '0.1 to 0.6',\n",
       "  'condition': array([False, False, False, ..., False, False, False])},\n",
       " {'name': '0.6 to 1.0',\n",
       "  'condition': array([False, False, False, ..., False, False, False])},\n",
       " {'name': '1.0 to 1.3',\n",
       "  'condition': array([False, False,  True, ..., False, False, False])},\n",
       " {'name': '1.3 to 1.6',\n",
       "  'condition': array([False, False, False, ..., False, False, False])},\n",
       " {'name': '1.6 to 2.0',\n",
       "  'condition': array([False, False, False, ..., False, False, False])},\n",
       " {'name': '2.0 to 2.5',\n",
       "  'condition': array([False, False, False, ..., False, False, False])},\n",
       " {'name': '2.5 to 3.1',\n",
       "  'condition': array([False, False, False, ..., False, False, False])},\n",
       " {'name': '3.1 to inf',\n",
       "  'condition': array([False,  True, False, ..., False, False, False])}]"
      ]
     },
     "execution_count": 86,
     "metadata": {},
     "output_type": "execute_result"
    }
   ],
   "source": [
    "colour_bin_def"
   ]
  },
  {
   "cell_type": "markdown",
   "metadata": {},
   "source": [
    "A colour category variable (numerical index from 0 to 11) is assigned to each row"
   ]
  },
  {
   "cell_type": "code",
   "execution_count": 87,
   "metadata": {},
   "outputs": [],
   "source": [
    "combined[\"category\"] = np.nan\n",
    "for i in range(len(colour_bin_def)):\n",
    "    combined[\"category\"][colour_bin_def[i][\"condition\"]] = i"
   ]
  },
  {
   "cell_type": "markdown",
   "metadata": {},
   "source": [
    "We check that there are no rows withot a category assigned"
   ]
  },
  {
   "cell_type": "code",
   "execution_count": 88,
   "metadata": {},
   "outputs": [
    {
     "data": {
      "text/plain": [
       "0"
      ]
     },
     "execution_count": 88,
     "metadata": {},
     "output_type": "execute_result"
    }
   ],
   "source": [
    "np.sum(np.isnan(combined[\"category\"]))"
   ]
  },
  {
   "cell_type": "markdown",
   "metadata": {},
   "source": [
    "We get the number of sources of the combined catalogue in each colour category. It will be used at a later stage to compute the $Q_0$ values"
   ]
  },
  {
   "cell_type": "code",
   "execution_count": 89,
   "metadata": {},
   "outputs": [],
   "source": [
    "numbers_combined_bins = np.array([np.sum(a[\"condition\"]) for a in colour_bin_def])"
   ]
  },
  {
   "cell_type": "code",
   "execution_count": 90,
   "metadata": {},
   "outputs": [
    {
     "data": {
      "text/plain": [
       "array([ 203065, 1516793, 1285276, 1163363, 1419867, 1392164, 1134808,\n",
       "       1139112, 1392687, 1398193, 1143177, 1322208])"
      ]
     },
     "execution_count": 90,
     "metadata": {},
     "output_type": "execute_result"
    }
   ],
   "source": [
    "numbers_combined_bins"
   ]
  },
  {
   "cell_type": "code",
   "execution_count": 91,
   "metadata": {},
   "outputs": [
    {
     "data": {
      "text/plain": [
       "14510713"
      ]
     },
     "execution_count": 91,
     "metadata": {},
     "output_type": "execute_result"
    }
   ],
   "source": [
    "np.sum(numbers_combined_bins)"
   ]
  },
  {
   "cell_type": "markdown",
   "metadata": {},
   "source": [
    "## Description"
   ]
  },
  {
   "cell_type": "markdown",
   "metadata": {},
   "source": [
    "### Sky coverage"
   ]
  },
  {
   "cell_type": "code",
   "execution_count": 92,
   "metadata": {},
   "outputs": [
    {
     "data": {
      "image/png": "[encoded data removed]",
      "text/plain": [
       "<Figure size 1080x360 with 1 Axes>"
      ]
     },
     "metadata": {
      "needs_background": "light"
     },
     "output_type": "display_data"
    }
   ],
   "source": [
    "plt.rcParams[\"figure.figsize\"] = (15,5)\n",
    "plt.plot(lofar_all[\"RA\"],\n",
    "     lofar_all[\"DEC\"],\n",
    "     ls=\"\", marker=\",\");"
   ]
  },
  {
   "cell_type": "code",
   "execution_count": 93,
   "metadata": {},
   "outputs": [
    {
     "data": {
      "image/png": "[encoded data removed]",
      "text/plain": [
       "<Figure size 1080x360 with 1 Axes>"
      ]
     },
     "metadata": {
      "needs_background": "light"
     },
     "output_type": "display_data"
    }
   ],
   "source": [
    "plt.rcParams[\"figure.figsize\"] = (15,5)\n",
    "plt.plot(lofar_full[\"RA\"],\n",
    "     lofar_full[\"DEC\"],\n",
    "     ls=\"\", marker=\",\");"
   ]
  },
  {
   "cell_type": "code",
   "execution_count": 94,
   "metadata": {},
   "outputs": [
    {
     "data": {
      "image/png": "[encoded data removed]",
      "text/plain": [
       "<Figure size 576x360 with 1 Axes>"
      ]
     },
     "metadata": {
      "needs_background": "light"
     },
     "output_type": "display_data"
    }
   ],
   "source": [
    "plt.rcParams[\"figure.figsize\"] = (8,5)\n",
    "plt.plot(lofar[\"RA\"],\n",
    "     lofar[\"DEC\"],\n",
    "     ls=\"\", marker=\",\");"
   ]
  },
  {
   "cell_type": "code",
   "execution_count": 95,
   "metadata": {},
   "outputs": [
    {
     "data": {
      "text/plain": [
       "100207"
      ]
     },
     "execution_count": 95,
     "metadata": {},
     "output_type": "execute_result"
    }
   ],
   "source": [
    "len(lofar)"
   ]
  },
  {
   "cell_type": "markdown",
   "metadata": {},
   "source": [
    "### Summary of galaxy types in the combined catalogue"
   ]
  },
  {
   "cell_type": "code",
   "execution_count": 96,
   "metadata": {},
   "outputs": [
    {
     "data": {
      "text/plain": [
       "12790855"
      ]
     },
     "execution_count": 96,
     "metadata": {},
     "output_type": "execute_result"
    }
   ],
   "source": [
    "np.sum(combined_legacy) # Matches"
   ]
  },
  {
   "cell_type": "code",
   "execution_count": 97,
   "metadata": {},
   "outputs": [
    {
     "data": {
      "image/png": "[encoded data removed]",
      "text/plain": [
       "<Figure size 1080x360 with 3 Axes>"
      ]
     },
     "metadata": {
      "needs_background": "light"
     },
     "output_type": "display_data"
    }
   ],
   "source": [
    "plt.rcParams[\"figure.figsize\"] = (15,5)\n",
    "plt.subplot(1,3,1)\n",
    "plt.hist(combined[\"MAG_R\"][combined_legacy], bins=50)\n",
    "plt.xlabel(\"R\")\n",
    "plt.subplot(1,3,2)\n",
    "plt.hist(combined[\"MAG_W1\"][combined_legacy], bins=50)\n",
    "plt.xlabel(\"W1\")\n",
    "plt.subplot(1,3,3)\n",
    "plt.hist((combined[\"MAG_R\"] - combined[\"MAG_W1\"])[combined_legacy], bins=50)\n",
    "plt.xlabel(\"(R - W1)\");"
   ]
  },
  {
   "cell_type": "code",
   "execution_count": 98,
   "metadata": {},
   "outputs": [
    {
     "data": {
      "text/plain": [
       "1516793"
      ]
     },
     "execution_count": 98,
     "metadata": {},
     "output_type": "execute_result"
    }
   ],
   "source": [
    "np.sum(combined_wise) # Only WISE"
   ]
  },
  {
   "cell_type": "code",
   "execution_count": 99,
   "metadata": {},
   "outputs": [
    {
     "data": {
      "image/png": "[encoded data removed]",
      "text/plain": [
       "<Figure size 1080x360 with 3 Axes>"
      ]
     },
     "metadata": {
      "needs_background": "light"
     },
     "output_type": "display_data"
    }
   ],
   "source": [
    "plt.rcParams[\"figure.figsize\"] = (15,5)\n",
    "plt.subplot(1,3,1)\n",
    "plt.hist(combined[\"MAG_W1\"][combined_wise], bins=50, density=True)\n",
    "plt.hist(combined[\"MAG_W1\"][combined_legacy], bins=50, alpha=0.4, density=True)\n",
    "plt.xlabel(\"W1\")\n",
    "plt.subplot(1,3,2)\n",
    "plt.hist((22 - combined[\"MAG_W1\"])[combined_wise], bins=50, density=True)\n",
    "plt.hist((combined[\"MAG_R\"] - combined[\"MAG_W1\"])[combined_legacy], bins=50, alpha=0.4, density=True)\n",
    "plt.xlabel(\"(R - W1) (R lim. = 22)\")\n",
    "plt.subplot(1,3,3)\n",
    "plt.hist((23 - combined[\"MAG_W1\"])[combined_wise], bins=50, density=True)\n",
    "plt.hist((combined[\"MAG_R\"] - combined[\"MAG_W1\"])[combined_legacy], bins=50, alpha=0.4, density=True)\n",
    "plt.xlabel(\"(R - W1) (R lim. = 23)\");"
   ]
  },
  {
   "cell_type": "code",
   "execution_count": 100,
   "metadata": {},
   "outputs": [
    {
     "data": {
      "text/plain": [
       "203065"
      ]
     },
     "execution_count": 100,
     "metadata": {},
     "output_type": "execute_result"
    }
   ],
   "source": [
    "np.sum(combined_wise2) # Only W2"
   ]
  },
  {
   "cell_type": "code",
   "execution_count": 101,
   "metadata": {},
   "outputs": [
    {
     "data": {
      "image/png": "[encoded data removed]",
      "text/plain": [
       "<Figure size 1080x360 with 3 Axes>"
      ]
     },
     "metadata": {
      "needs_background": "light"
     },
     "output_type": "display_data"
    }
   ],
   "source": [
    "plt.rcParams[\"figure.figsize\"] = (15,5)\n",
    "plt.subplot(1,3,1)\n",
    "plt.hist(combined[\"MAG_W2\"][combined_wise2], bins=50, density=True)\n",
    "plt.hist(combined[\"MAG_W2\"][combined_legacy], bins=50, alpha=0.4, density=True)\n",
    "plt.xlabel(\"W2\")\n",
    "plt.subplot(1,3,2)\n",
    "plt.hist((22 - combined[\"MAG_W2\"])[combined_wise2], bins=50, density=True)\n",
    "plt.hist((combined[\"MAG_R\"] - combined[\"MAG_W2\"])[combined_legacy], bins=50, alpha=0.4, density=True)\n",
    "plt.xlabel(\"(R - W2) (R lim. = 22)\")\n",
    "plt.subplot(1,3,3)\n",
    "plt.hist((23 - combined[\"MAG_W2\"])[combined_wise2], bins=50, density=True)\n",
    "plt.hist((combined[\"MAG_R\"] - combined[\"MAG_W2\"])[combined_legacy], bins=50, alpha=0.4, density=True)\n",
    "plt.xlabel(\"(R - W2) (R lim. = 23)\");"
   ]
  },
  {
   "cell_type": "markdown",
   "metadata": {},
   "source": [
    "## Maximum Likelihood 1st iteration"
   ]
  },
  {
   "cell_type": "markdown",
   "metadata": {},
   "source": [
    "### First estimation of $Q_0$ for r-band"
   ]
  },
  {
   "cell_type": "code",
   "execution_count": 102,
   "metadata": {},
   "outputs": [],
   "source": [
    "n_iter = 10"
   ]
  },
  {
   "cell_type": "code",
   "execution_count": 103,
   "metadata": {},
   "outputs": [],
   "source": [
    "rads = list(range(1,26))"
   ]
  },
  {
   "cell_type": "code",
   "execution_count": 104,
   "metadata": {},
   "outputs": [],
   "source": [
    "q_0_comp_r = Q_0(coords_lofar, coords_combined[combined_legacy], field)"
   ]
  },
  {
   "cell_type": "code",
   "execution_count": 105,
   "metadata": {},
   "outputs": [
    {
     "name": "stdout",
     "output_type": "stream",
     "text": [
      " 1 0.43409 +/- 0.00016 [0.43381 0.43438]\n",
      " 2 0.59422 +/- 0.00026 [0.59391 0.59475]\n",
      " 3 0.64525 +/- 0.00025 [0.64484 0.64565]\n",
      " 4 0.67243 +/- 0.00073 [0.67124 0.67358]\n",
      " 5 0.68711 +/- 0.00059 [0.68602 0.68782]\n",
      " 6 0.69608 +/- 0.00106 [0.69415 0.69767]\n",
      " 7 0.70400 +/- 0.00087 [0.70276 0.70541]\n",
      " 8 0.71064 +/- 0.00129 [0.70831 0.71212]\n",
      " 9 0.71415 +/- 0.00138 [0.71205 0.71548]\n",
      "10 0.71927 +/- 0.00251 [0.71406 0.72220]\n",
      "11 0.72366 +/- 0.00300 [0.72000 0.72891]\n",
      "12 0.72785 +/- 0.00287 [0.72421 0.73485]\n",
      "13 0.72794 +/- 0.00362 [0.72227 0.73258]\n",
      "14 0.73075 +/- 0.00434 [0.72472 0.73624]\n",
      "15 0.73217 +/- 0.00421 [0.72373 0.73811]\n",
      "16 0.72379 +/- 0.00545 [0.71713 0.73056]\n",
      "17 0.71886 +/- 0.00521 [0.70660 0.72736]\n",
      "18 0.71779 +/- 0.01015 [0.69894 0.73364]\n",
      "19 0.73093 +/- 0.01260 [0.70482 0.75064]\n",
      "20 0.69267 +/- 0.02585 [0.64835 0.73109]\n",
      "21 0.71307 +/- 0.02773 [0.64286 0.74638]\n",
      "22 0.66498 +/- 0.04483 [0.60000 0.74468]\n",
      "23 0.52702 +/- 0.06805 [0.43750 0.65385]\n",
      "24 0.45345 +/- 0.12141 [0.23529 0.61765]\n",
      "25 0.67085 +/- 0.08971 [0.44444 0.77273]\n"
     ]
    }
   ],
   "source": [
    "q_0_rad_r = []\n",
    "q_0_rad_r_std = []\n",
    "for radius in rads:\n",
    "    q_0_rad_aux = []\n",
    "    for i in range(n_iter):\n",
    "        try:\n",
    "            out = q_0_comp_r(radius=radius)\n",
    "        except ZeroDivisionError:\n",
    "            continue\n",
    "        else:\n",
    "            q_0_rad_aux.append(out)\n",
    "    q_0_rad_r.append(np.mean(q_0_rad_aux))\n",
    "    q_0_rad_r_std.append(np.std(q_0_rad_aux))\n",
    "    print(\n",
    "        \"{:2d} {:7.5f} +/- {:7.5f} [{:7.5f} {:7.5f}]\".format(\n",
    "            radius,\n",
    "            np.mean(q_0_rad_aux),\n",
    "            np.std(q_0_rad_aux),\n",
    "            np.min(q_0_rad_aux),\n",
    "            np.max(q_0_rad_aux),\n",
    "        )\n",
    "    )"
   ]
  },
  {
   "cell_type": "code",
   "execution_count": 106,
   "metadata": {},
   "outputs": [
    {
     "data": {
      "text/plain": [
       "(0, 1)"
      ]
     },
     "execution_count": 106,
     "metadata": {},
     "output_type": "execute_result"
    },
    {
     "data": {
      "image/png": "[encoded data removed]",
      "text/plain": [
       "<Figure size 360x360 with 1 Axes>"
      ]
     },
     "metadata": {
      "needs_background": "light"
     },
     "output_type": "display_data"
    }
   ],
   "source": [
    "plt.rcParams[\"figure.figsize\"] = (5, 5)\n",
    "plt.plot(rads, q_0_rad_r)\n",
    "plt.plot(rads, np.array(q_0_rad_r) + 3 * np.array(q_0_rad_r_std), ls=\":\", color=\"b\")\n",
    "plt.plot(rads, np.array(q_0_rad_r) - 3 * np.array(q_0_rad_r_std), ls=\":\", color=\"b\")\n",
    "plt.xlabel(\"Radius (arcsecs)\")\n",
    "plt.ylabel(\"$Q_0 r-band$\")\n",
    "plt.ylim([0, 1])"
   ]
  },
  {
   "cell_type": "code",
   "execution_count": 107,
   "metadata": {},
   "outputs": [],
   "source": [
    "Q0_r = q_0_rad_r[4]"
   ]
  },
  {
   "cell_type": "code",
   "execution_count": 108,
   "metadata": {},
   "outputs": [
    {
     "name": "stdout",
     "output_type": "stream",
     "text": [
      "0.6871134546334241\n"
     ]
    }
   ],
   "source": [
    "print(Q0_r)"
   ]
  },
  {
   "cell_type": "markdown",
   "metadata": {},
   "source": [
    "### Compute q(m) and n(m)\n",
    "\n",
    "#### R-band preparation"
   ]
  },
  {
   "cell_type": "code",
   "execution_count": 109,
   "metadata": {},
   "outputs": [],
   "source": [
    "bandwidth_r = 0.5"
   ]
  },
  {
   "cell_type": "code",
   "execution_count": 110,
   "metadata": {},
   "outputs": [],
   "source": [
    "catalogue_r = combined[combined_legacy]"
   ]
  },
  {
   "cell_type": "code",
   "execution_count": 111,
   "metadata": {},
   "outputs": [],
   "source": [
    "bin_list_r = np.linspace(11.5, 29.5, 361) # Bins of 0.05"
   ]
  },
  {
   "cell_type": "code",
   "execution_count": 112,
   "metadata": {},
   "outputs": [],
   "source": [
    "center_r = get_center(bin_list_r)"
   ]
  },
  {
   "cell_type": "code",
   "execution_count": 113,
   "metadata": {},
   "outputs": [],
   "source": [
    "n_m_r = get_n_m_kde(catalogue_r[\"MAG_R\"], center_r, field.area, bandwidth=bandwidth_r)"
   ]
  },
  {
   "cell_type": "code",
   "execution_count": 114,
   "metadata": {},
   "outputs": [],
   "source": [
    "n_m_r_cs = np.cumsum(n_m_r)"
   ]
  },
  {
   "cell_type": "code",
   "execution_count": 115,
   "metadata": {},
   "outputs": [
    {
     "data": {
      "image/png": "[encoded data removed]",
      "text/plain": [
       "<Figure size 360x360 with 1 Axes>"
      ]
     },
     "metadata": {
      "needs_background": "light"
     },
     "output_type": "display_data"
    }
   ],
   "source": [
    "plt.rcParams[\"figure.figsize\"] = (5,5)\n",
    "plt.plot(center_r, n_m_r_cs);"
   ]
  },
  {
   "cell_type": "code",
   "execution_count": 116,
   "metadata": {},
   "outputs": [],
   "source": [
    "q_m_r = estimate_q_m_kde(catalogue_r[\"MAG_R\"], \n",
    "                      center_r, \n",
    "                      n_m_r, \n",
    "                      coords_lofar, \n",
    "                      coords_combined[combined_legacy], \n",
    "                      radius=5, \n",
    "                      bandwidth=bandwidth_r)"
   ]
  },
  {
   "cell_type": "code",
   "execution_count": 117,
   "metadata": {},
   "outputs": [],
   "source": [
    "q_m_r_cs = np.cumsum(q_m_r)"
   ]
  },
  {
   "cell_type": "code",
   "execution_count": 118,
   "metadata": {},
   "outputs": [
    {
     "data": {
      "image/png": "[encoded data removed]",
      "text/plain": [
       "<Figure size 360x360 with 1 Axes>"
      ]
     },
     "metadata": {
      "needs_background": "light"
     },
     "output_type": "display_data"
    }
   ],
   "source": [
    "plt.rcParams[\"figure.figsize\"] = (5,5)\n",
    "plt.plot(center_r, q_m_r_cs);"
   ]
  },
  {
   "cell_type": "code",
   "execution_count": 119,
   "metadata": {},
   "outputs": [
    {
     "data": {
      "image/png": "[encoded data removed]",
      "text/plain": [
       "<Figure size 360x360 with 1 Axes>"
      ]
     },
     "metadata": {
      "needs_background": "light"
     },
     "output_type": "display_data"
    }
   ],
   "source": [
    "plt.rcParams[\"figure.figsize\"] = (5,5)\n",
    "plt.plot(center_r, q_m_r/n_m_r);"
   ]
  },
  {
   "cell_type": "markdown",
   "metadata": {},
   "source": [
    "#### W1-band preparation"
   ]
  },
  {
   "cell_type": "code",
   "execution_count": 120,
   "metadata": {},
   "outputs": [],
   "source": [
    "bandwidth_w1 = 0.5"
   ]
  },
  {
   "cell_type": "code",
   "execution_count": 121,
   "metadata": {},
   "outputs": [],
   "source": [
    "catalogue_w1 = combined[combined_wise]"
   ]
  },
  {
   "cell_type": "code",
   "execution_count": 122,
   "metadata": {},
   "outputs": [],
   "source": [
    "bin_list_w1 = np.linspace(11.5, 29.5, 361) # Bins of 0.05"
   ]
  },
  {
   "cell_type": "code",
   "execution_count": 123,
   "metadata": {},
   "outputs": [],
   "source": [
    "center_w1 = get_center(bin_list_w1)"
   ]
  },
  {
   "cell_type": "code",
   "execution_count": 124,
   "metadata": {},
   "outputs": [],
   "source": [
    "n_m_w1 = get_n_m_kde(catalogue_w1[\"MAG_W1\"], center_w1, field.area, bandwidth=bandwidth_w1)"
   ]
  },
  {
   "cell_type": "code",
   "execution_count": 125,
   "metadata": {},
   "outputs": [
    {
     "data": {
      "image/png": "[encoded data removed]",
      "text/plain": [
       "<Figure size 360x360 with 1 Axes>"
      ]
     },
     "metadata": {
      "needs_background": "light"
     },
     "output_type": "display_data"
    }
   ],
   "source": [
    "plt.rcParams[\"figure.figsize\"] = (5,5)\n",
    "plt.plot(center_w1, np.cumsum(n_m_w1));"
   ]
  },
  {
   "cell_type": "code",
   "execution_count": 126,
   "metadata": {},
   "outputs": [],
   "source": [
    "q_m_w1 = estimate_q_m_kde(catalogue_w1[\"MAG_W1\"], \n",
    "                      center_w1, \n",
    "                      n_m_w1, coords_lofar, \n",
    "                      coords_combined[combined_wise], \n",
    "                      radius=5, \n",
    "                      bandwidth=bandwidth_w1)"
   ]
  },
  {
   "cell_type": "code",
   "execution_count": 127,
   "metadata": {},
   "outputs": [
    {
     "data": {
      "image/png": "[encoded data removed]",
      "text/plain": [
       "<Figure size 360x360 with 1 Axes>"
      ]
     },
     "metadata": {
      "needs_background": "light"
     },
     "output_type": "display_data"
    }
   ],
   "source": [
    "plt.plot(center_w1, np.cumsum(q_m_w1));"
   ]
  },
  {
   "cell_type": "code",
   "execution_count": 128,
   "metadata": {},
   "outputs": [
    {
     "data": {
      "image/png": "[encoded data removed]",
      "text/plain": [
       "<Figure size 360x360 with 1 Axes>"
      ]
     },
     "metadata": {
      "needs_background": "light"
     },
     "output_type": "display_data"
    }
   ],
   "source": [
    "plt.plot(center_w1, q_m_w1/n_m_w1);"
   ]
  },
  {
   "cell_type": "markdown",
   "metadata": {},
   "source": [
    "#### W2-band preparation"
   ]
  },
  {
   "cell_type": "code",
   "execution_count": 129,
   "metadata": {},
   "outputs": [],
   "source": [
    "bandwidth_w2 = 0.5"
   ]
  },
  {
   "cell_type": "code",
   "execution_count": 130,
   "metadata": {},
   "outputs": [],
   "source": [
    "catalogue_w2 = combined[combined_wise2]"
   ]
  },
  {
   "cell_type": "code",
   "execution_count": 131,
   "metadata": {},
   "outputs": [],
   "source": [
    "bin_list_w2 = np.linspace(12., 22., 181) # Bins of 0.05"
   ]
  },
  {
   "cell_type": "code",
   "execution_count": 132,
   "metadata": {},
   "outputs": [],
   "source": [
    "center_w2 = get_center(bin_list_w2)"
   ]
  },
  {
   "cell_type": "code",
   "execution_count": 134,
   "metadata": {},
   "outputs": [],
   "source": [
    "n_m_w2 = get_n_m_kde(catalogue_w2[\"MAG_W2\"], center_w2, field.area, bandwidth=bandwidth_w2)"
   ]
  },
  {
   "cell_type": "code",
   "execution_count": 135,
   "metadata": {},
   "outputs": [
    {
     "data": {
      "image/png": "[encoded data removed]",
      "text/plain": [
       "<Figure size 360x360 with 1 Axes>"
      ]
     },
     "metadata": {
      "needs_background": "light"
     },
     "output_type": "display_data"
    }
   ],
   "source": [
    "plt.rcParams[\"figure.figsize\"] = (5,5)\n",
    "plt.plot(center_w2, np.cumsum(n_m_w2));"
   ]
  },
  {
   "cell_type": "code",
   "execution_count": 136,
   "metadata": {},
   "outputs": [],
   "source": [
    "q_m_w2 = estimate_q_m_kde(catalogue_w2[\"MAG_W2\"], \n",
    "                      center_w2, \n",
    "                      n_m_w2, coords_lofar, \n",
    "                      coords_combined[combined_wise2], \n",
    "                      radius=5, \n",
    "                      bandwidth=bandwidth_w2)"
   ]
  },
  {
   "cell_type": "code",
   "execution_count": 137,
   "metadata": {},
   "outputs": [
    {
     "data": {
      "image/png": "[encoded data removed]",
      "text/plain": [
       "<Figure size 360x360 with 1 Axes>"
      ]
     },
     "metadata": {
      "needs_background": "light"
     },
     "output_type": "display_data"
    }
   ],
   "source": [
    "plt.plot(center_w2, np.cumsum(q_m_w2));"
   ]
  },
  {
   "cell_type": "code",
   "execution_count": 138,
   "metadata": {},
   "outputs": [
    {
     "data": {
      "image/png": "[encoded data removed]",
      "text/plain": [
       "<Figure size 360x360 with 1 Axes>"
      ]
     },
     "metadata": {
      "needs_background": "light"
     },
     "output_type": "display_data"
    }
   ],
   "source": [
    "plt.plot(center_w2, q_m_w2/n_m_w2);"
   ]
  },
  {
   "cell_type": "markdown",
   "metadata": {},
   "source": [
    "### r-band match"
   ]
  },
  {
   "cell_type": "markdown",
   "metadata": {},
   "source": [
    "#### $Q_0$ and likelihood estimator"
   ]
  },
  {
   "cell_type": "code",
   "execution_count": 139,
   "metadata": {},
   "outputs": [],
   "source": [
    "# # Initial test\n",
    "# Q0_r = 0.65\n",
    "# Q0_w1 = 0.237\n",
    "# Q0_w2 = 0.035"
   ]
  },
  {
   "cell_type": "code",
   "execution_count": 140,
   "metadata": {},
   "outputs": [],
   "source": [
    "likelihood_ratio_r = SingleMLEstimator(Q0_r, n_m_r, q_m_r, center_r)"
   ]
  },
  {
   "cell_type": "markdown",
   "metadata": {},
   "source": [
    "We will get the number of CPUs to use in parallel in the computations"
   ]
  },
  {
   "cell_type": "code",
   "execution_count": 141,
   "metadata": {},
   "outputs": [],
   "source": [
    "import multiprocessing"
   ]
  },
  {
   "cell_type": "code",
   "execution_count": 142,
   "metadata": {},
   "outputs": [],
   "source": [
    "n_cpus_total = multiprocessing.cpu_count()"
   ]
  },
  {
   "cell_type": "code",
   "execution_count": 143,
   "metadata": {},
   "outputs": [],
   "source": [
    "n_cpus = max(1, n_cpus_total-1)"
   ]
  },
  {
   "cell_type": "code",
   "execution_count": 144,
   "metadata": {},
   "outputs": [
    {
     "name": "stdout",
     "output_type": "stream",
     "text": [
      "7\n"
     ]
    }
   ],
   "source": [
    "print(n_cpus)"
   ]
  },
  {
   "cell_type": "markdown",
   "metadata": {},
   "source": [
    "Get the possible matches up to a radius of 15 arcseconds in this first step "
   ]
  },
  {
   "cell_type": "code",
   "execution_count": 145,
   "metadata": {},
   "outputs": [],
   "source": [
    "radius = 15"
   ]
  },
  {
   "cell_type": "code",
   "execution_count": 146,
   "metadata": {},
   "outputs": [],
   "source": [
    "idx_lofar, idx_i, d2d, d3d = search_around_sky(\n",
    "    coords_lofar, coords_combined[combined_legacy], radius*u.arcsec)"
   ]
  },
  {
   "cell_type": "code",
   "execution_count": 147,
   "metadata": {},
   "outputs": [],
   "source": [
    "idx_lofar_unique = np.unique(idx_lofar)"
   ]
  },
  {
   "cell_type": "code",
   "execution_count": 148,
   "metadata": {},
   "outputs": [],
   "source": [
    "lofar[\"lr_r\"] = np.nan                   # Likelihood ratio\n",
    "lofar[\"lr_dist_r\"] = np.nan              # Distance to the selected source\n",
    "lofar[\"lr_index_r\"] = np.nan             # Index of the PanSTARRS source in combined"
   ]
  },
  {
   "cell_type": "code",
   "execution_count": 149,
   "metadata": {},
   "outputs": [],
   "source": [
    "total_sources = len(idx_lofar_unique)\n",
    "combined_aux_index = np.arange(len(combined))"
   ]
  },
  {
   "cell_type": "code",
   "execution_count": 150,
   "metadata": {},
   "outputs": [],
   "source": [
    "def ml(i):\n",
    "    idx_0 = idx_i[idx_lofar == i]\n",
    "    d2d_0 = d2d[idx_lofar == i]\n",
    "    mag = catalogue_r[\"MAG_R\"][idx_0]\n",
    "    \n",
    "    lofar_ra = lofar[i][\"RA\"]\n",
    "    lofar_dec = lofar[i][\"DEC\"]\n",
    "    lofar_pa = lofar[i][\"PA\"]\n",
    "    lofar_maj_err = lofar[i][\"E_Maj\"]\n",
    "    lofar_min_err = lofar[i][\"E_Min\"]\n",
    "    c_ra = catalogue_r[\"RA\"][idx_0]\n",
    "    c_dec = catalogue_r[\"DEC\"][idx_0]\n",
    "    c_ra_err = np.ones_like(c_ra)*0.6/3600.\n",
    "    c_dec_err = np.ones_like(c_ra)*0.6/3600.\n",
    "    \n",
    "    sigma_0_0, det_sigma = get_sigma_all(lofar_maj_err, lofar_min_err, lofar_pa, \n",
    "                      lofar_ra, lofar_dec, \n",
    "                      c_ra, c_dec, c_ra_err, c_dec_err)\n",
    "    \n",
    "    lr_0 = likelihood_ratio_r(mag, d2d_0.arcsec, sigma_0_0, det_sigma)\n",
    "    chosen_index = np.argmax(lr_0)\n",
    "    result = [combined_aux_index[combined_legacy][idx_0[chosen_index]], # Index\n",
    "              (d2d_0.arcsec)[chosen_index],                        # distance\n",
    "              lr_0[chosen_index]]                                  # LR\n",
    "    return result"
   ]
  },
  {
   "cell_type": "code",
   "execution_count": 151,
   "metadata": {},
   "outputs": [],
   "source": [
    "from joblib import Parallel, delayed\n",
    "from tqdm import tqdm, tqdm_notebook"
   ]
  },
  {
   "cell_type": "code",
   "execution_count": null,
   "metadata": {},
   "outputs": [
    {
     "data": {
      "application/vnd.jupyter.widget-view+json": {
       "model_id": "d0797780240d4b0b8dfff0a0e154348e",
       "version_major": 2,
       "version_minor": 0
      },
      "text/plain": [
       "HBox(children=(IntProgress(value=0, max=99513), HTML(value='')))"
      ]
     },
     "metadata": {},
     "output_type": "display_data"
    }
   ],
   "source": [
    "res = Parallel(n_jobs=n_cpus)(delayed(ml)(i) for i in tqdm_notebook(idx_lofar_unique))"
   ]
  },
  {
   "cell_type": "code",
   "execution_count": 154,
   "metadata": {},
   "outputs": [],
   "source": [
    "# # Old version using concurrent futures\n",
    "# res = parallel_process(idx_lofar_unique, ml, n_jobs=n_cpus)"
   ]
  },
  {
   "cell_type": "code",
   "execution_count": 155,
   "metadata": {},
   "outputs": [],
   "source": [
    "(lofar[\"lr_index_r\"][idx_lofar_unique], \n",
    " lofar[\"lr_dist_r\"][idx_lofar_unique], \n",
    " lofar[\"lr_r\"][idx_lofar_unique]) = list(map(list, zip(*res)))"
   ]
  },
  {
   "cell_type": "markdown",
   "metadata": {},
   "source": [
    "#### Threshold and selection for r-band"
   ]
  },
  {
   "cell_type": "code",
   "execution_count": 156,
   "metadata": {},
   "outputs": [],
   "source": [
    "lofar[\"lr_r\"][np.isnan(lofar[\"lr_r\"])] = 0"
   ]
  },
  {
   "cell_type": "code",
   "execution_count": 157,
   "metadata": {},
   "outputs": [],
   "source": [
    "threshold_r = np.percentile(lofar[\"lr_r\"], 100*(1 - Q0_r))"
   ]
  },
  {
   "cell_type": "code",
   "execution_count": 158,
   "metadata": {},
   "outputs": [
    {
     "data": {
      "text/plain": [
       "0.33868299502705423"
      ]
     },
     "execution_count": 158,
     "metadata": {},
     "output_type": "execute_result"
    }
   ],
   "source": [
    "threshold_r #4.8 before"
   ]
  },
  {
   "cell_type": "code",
   "execution_count": 159,
   "metadata": {},
   "outputs": [
    {
     "data": {
      "image/png": "[encoded data removed]",
      "text/plain": [
       "<Figure size 1080x432 with 2 Axes>"
      ]
     },
     "metadata": {
      "needs_background": "light"
     },
     "output_type": "display_data"
    }
   ],
   "source": [
    "plt.rcParams[\"figure.figsize\"] = (15,6)\n",
    "ax1 = plt.subplot(1,2,1)\n",
    "plt.hist(lofar[lofar[\"lr_r\"] != 0][\"lr_r\"], bins=200)\n",
    "plt.vlines([threshold_r], 0, 200)\n",
    "ax1.set_yscale(\"log\", nonposy='clip')\n",
    "#plt.ylim([0, 200])\n",
    "ax2 = plt.subplot(1,2,2)\n",
    "plt.hist(np.log10(lofar[lofar[\"lr_r\"] != 0][\"lr_r\"]+1), bins=200)\n",
    "plt.vlines(np.log10(threshold_r+1), 0, 200)\n",
    "ticks, _ = plt.xticks()\n",
    "plt.xticks(ticks, [\"{:.1f}\".format(10**t-1) for t in ticks])\n",
    "ax2.set_yscale(\"log\", nonposy='clip')\n",
    "#plt.ylim([0, 200]);"
   ]
  },
  {
   "cell_type": "code",
   "execution_count": 160,
   "metadata": {},
   "outputs": [],
   "source": [
    "lofar[\"lr_index_sel_r\"] = lofar[\"lr_index_r\"]\n",
    "lofar[\"lr_index_sel_r\"][lofar[\"lr_r\"] < threshold_r] = np.nan"
   ]
  },
  {
   "cell_type": "markdown",
   "metadata": {},
   "source": [
    "Save LR for r-band in external file"
   ]
  },
  {
   "cell_type": "code",
   "execution_count": 161,
   "metadata": {},
   "outputs": [],
   "source": [
    "columns = [\"lr_r\", \"lr_dist_r\", \"lr_index_r\", \"lr_index_sel_r\"]\n",
    "np.savez_compressed(os.path.join(idp, \"lr_r.npz\"), lr_r=lofar[columns])"
   ]
  },
  {
   "cell_type": "markdown",
   "metadata": {},
   "source": [
    "### W1-band match"
   ]
  },
  {
   "cell_type": "markdown",
   "metadata": {},
   "source": [
    "We will work with the sample that has not been already cross-matched"
   ]
  },
  {
   "cell_type": "code",
   "execution_count": 179,
   "metadata": {},
   "outputs": [],
   "source": [
    "subsample_w1 = (lofar[\"lr_r\"] <= threshold_r)"
   ]
  },
  {
   "cell_type": "markdown",
   "metadata": {},
   "source": [
    "#### Compute the W1 $Q_0$"
   ]
  },
  {
   "cell_type": "code",
   "execution_count": 162,
   "metadata": {},
   "outputs": [],
   "source": [
    "coords_lofar_alt = coords_lofar[subsample_w1]"
   ]
  },
  {
   "cell_type": "code",
   "execution_count": 163,
   "metadata": {},
   "outputs": [],
   "source": [
    "q_0_comp_w1 = Q_0(coords_lofar_alt, coords_combined[combined_wise], field)"
   ]
  },
  {
   "cell_type": "code",
   "execution_count": 164,
   "metadata": {},
   "outputs": [
    {
     "name": "stdout",
     "output_type": "stream",
     "text": [
      " 1 0.15016 +/- 0.00023 [0.14980 0.15059]\n",
      " 2 0.28635 +/- 0.00038 [0.28555 0.28695]\n",
      " 3 0.34790 +/- 0.00031 [0.34739 0.34838]\n",
      " 4 0.37771 +/- 0.00065 [0.37607 0.37837]\n",
      " 5 0.39515 +/- 0.00070 [0.39427 0.39634]\n",
      " 6 0.40581 +/- 0.00097 [0.40405 0.40748]\n",
      " 7 0.41388 +/- 0.00142 [0.41211 0.41688]\n",
      " 8 0.41957 +/- 0.00197 [0.41750 0.42268]\n",
      " 9 0.42368 +/- 0.00100 [0.42239 0.42594]\n",
      "10 0.42739 +/- 0.00116 [0.42516 0.42854]\n",
      "11 0.42811 +/- 0.00202 [0.42517 0.43158]\n",
      "12 0.43204 +/- 0.00147 [0.42873 0.43438]\n",
      "13 0.43487 +/- 0.00118 [0.43284 0.43778]\n",
      "14 0.43512 +/- 0.00182 [0.43185 0.43789]\n",
      "15 0.43647 +/- 0.00255 [0.43194 0.44015]\n",
      "16 0.43903 +/- 0.00293 [0.43317 0.44337]\n",
      "17 0.44005 +/- 0.00231 [0.43680 0.44492]\n",
      "18 0.44047 +/- 0.00209 [0.43692 0.44527]\n",
      "19 0.44478 +/- 0.00217 [0.44199 0.44889]\n",
      "20 0.44611 +/- 0.00336 [0.44202 0.45264]\n",
      "21 0.44576 +/- 0.00407 [0.43826 0.45219]\n",
      "22 0.44507 +/- 0.00336 [0.43967 0.44867]\n",
      "23 0.44457 +/- 0.00442 [0.43896 0.45184]\n",
      "24 0.44541 +/- 0.00211 [0.44170 0.44814]\n",
      "25 0.44433 +/- 0.00366 [0.43949 0.45185]\n"
     ]
    }
   ],
   "source": [
    "q_0_rad_w1 = []\n",
    "q_0_rad_w1_std = []\n",
    "for radius in rads:\n",
    "    q_0_rad_aux = []\n",
    "    for i in range(n_iter):\n",
    "        out = q_0_comp_w1(radius=radius)\n",
    "        q_0_rad_aux.append(out)\n",
    "    q_0_rad_w1.append(np.mean(q_0_rad_aux))\n",
    "    q_0_rad_w1_std.append(np.std(q_0_rad_aux))\n",
    "    print(\n",
    "        \"{:2d} {:7.5f} +/- {:7.5f} [{:7.5f} {:7.5f}]\".format(\n",
    "            radius,\n",
    "            np.mean(q_0_rad_aux),\n",
    "            np.std(q_0_rad_aux),\n",
    "            np.min(q_0_rad_aux),\n",
    "            np.max(q_0_rad_aux),\n",
    "        )\n",
    "    )"
   ]
  },
  {
   "cell_type": "code",
   "execution_count": 165,
   "metadata": {},
   "outputs": [],
   "source": [
    "q_0_rad_w1 = np.array(q_0_rad_w1)\n",
    "q_0_rad_w1_std = np.array(q_0_rad_w1_std)"
   ]
  },
  {
   "cell_type": "code",
   "execution_count": 168,
   "metadata": {},
   "outputs": [
    {
     "data": {
      "text/plain": [
       "(0, 0.5)"
      ]
     },
     "execution_count": 168,
     "metadata": {},
     "output_type": "execute_result"
    },
    {
     "data": {
      "image/png": "[encoded data removed]",
      "text/plain": [
       "<Figure size 360x360 with 1 Axes>"
      ]
     },
     "metadata": {
      "needs_background": "light"
     },
     "output_type": "display_data"
    }
   ],
   "source": [
    "plt.rcParams[\"figure.figsize\"] = (5, 5)\n",
    "plt.plot(rads, q_0_rad_w1)\n",
    "plt.plot(rads, q_0_rad_w1 + 3 * q_0_rad_w1_std, ls=\":\", color=\"b\")\n",
    "plt.plot(rads, q_0_rad_w1 - 3 * q_0_rad_w1_std, ls=\":\", color=\"b\")\n",
    "plt.xlabel(\"Radius (arcsecs)\")\n",
    "plt.ylabel(\"$Q_0 W1-band$\")\n",
    "plt.ylim([0, 0.5])"
   ]
  },
  {
   "cell_type": "code",
   "execution_count": 169,
   "metadata": {},
   "outputs": [],
   "source": [
    "Q0_w1 = q_0_rad_w1[4]"
   ]
  },
  {
   "cell_type": "markdown",
   "metadata": {},
   "source": [
    "#### Create the likelihood estimator and run"
   ]
  },
  {
   "cell_type": "code",
   "execution_count": 180,
   "metadata": {},
   "outputs": [],
   "source": [
    "likelihood_ratio_w1 = SingleMLEstimator(Q0_w1, n_m_w1, q_m_w1, center_w1)"
   ]
  },
  {
   "cell_type": "code",
   "execution_count": 181,
   "metadata": {},
   "outputs": [],
   "source": [
    "idx_lofar, idx_i, d2d, d3d = search_around_sky(\n",
    "    coords_lofar[subsample_w1], coords_combined[combined_wise], radius*u.arcsec)"
   ]
  },
  {
   "cell_type": "code",
   "execution_count": 182,
   "metadata": {},
   "outputs": [],
   "source": [
    "idx_lofar_unique = np.unique(idx_lofar)"
   ]
  },
  {
   "cell_type": "code",
   "execution_count": 183,
   "metadata": {},
   "outputs": [],
   "source": [
    "lofar[\"lr_w1\"] = np.nan                   # Likelihood ratio\n",
    "lofar[\"lr_dist_w1\"] = np.nan              # Distance to the selected source\n",
    "lofar[\"lr_index_w1\"] = np.nan             # Index of the PanSTARRS source in combined"
   ]
  },
  {
   "cell_type": "code",
   "execution_count": 194,
   "metadata": {},
   "outputs": [],
   "source": [
    "def ml_w1(i):\n",
    "    idx_0 = idx_i[idx_lofar == i]\n",
    "    d2d_0 = d2d[idx_lofar == i]\n",
    "    mag = catalogue_w1[\"MAG_W1\"][idx_0]\n",
    "    \n",
    "    lofar_ra = lofar[subsample_w1][i][\"RA\"]\n",
    "    lofar_dec = lofar[subsample_w1][i][\"DEC\"]\n",
    "    lofar_pa = lofar[subsample_w1][i][\"PA\"]\n",
    "    lofar_maj_err = lofar[subsample_w1][i][\"E_Maj\"]\n",
    "    lofar_min_err = lofar[subsample_w1][i][\"E_Min\"]\n",
    "    c_ra = catalogue_w1[\"RA\"][idx_0]\n",
    "    c_dec = catalogue_w1[\"DEC\"][idx_0]\n",
    "    c_ra_err = np.ones_like(c_ra)*0.6/3600.\n",
    "    c_dec_err = np.ones_like(c_ra)*0.6/3600.\n",
    "    \n",
    "    sigma_0_0, det_sigma = get_sigma_all(lofar_maj_err, lofar_min_err, lofar_pa, \n",
    "                      lofar_ra, lofar_dec, \n",
    "                      c_ra, c_dec, c_ra_err, c_dec_err)\n",
    "    \n",
    "    lr_0 = likelihood_ratio_w1(mag, d2d_0.arcsec, sigma_0_0, det_sigma)\n",
    "    chosen_index = np.argmax(lr_0)\n",
    "    result = [combined_aux_index[combined_wise][idx_0[chosen_index]], # Index\n",
    "              (d2d_0.arcsec)[chosen_index],                        # distance\n",
    "              lr_0[chosen_index]]                                  # LR\n",
    "    return result"
   ]
  },
  {
   "cell_type": "code",
   "execution_count": null,
   "metadata": {},
   "outputs": [],
   "source": [
    "#res = parallel_process(idx_lofar_unique, ml_w1, n_jobs=n_cpus)\n",
    "res = Parallel(n_jobs=n_cpus)(delayed(ml_w1)(i) for i in tqdm_notebook(idx_lofar_unique))"
   ]
  },
  {
   "cell_type": "code",
   "execution_count": 204,
   "metadata": {},
   "outputs": [],
   "source": [
    "indices_w1 = np.arange(len(lofar))[subsample_w1][idx_lofar_unique]"
   ]
  },
  {
   "cell_type": "code",
   "execution_count": 206,
   "metadata": {},
   "outputs": [],
   "source": [
    "(lofar[\"lr_index_w1\"][indices_w1], \n",
    " lofar[\"lr_dist_w1\"][indices_w1], \n",
    " lofar[\"lr_w1\"][indices_w1]) = list(map(list, zip(*res)))"
   ]
  },
  {
   "cell_type": "markdown",
   "metadata": {},
   "source": [
    "#### Threshold and selection for W1 band"
   ]
  },
  {
   "cell_type": "code",
   "execution_count": 207,
   "metadata": {},
   "outputs": [],
   "source": [
    "lofar[\"lr_w1\"][np.isnan(lofar[\"lr_w1\"])] = 0"
   ]
  },
  {
   "cell_type": "markdown",
   "metadata": {},
   "source": [
    "The threshold can be adjusted to match the new $Q_0$ value obtained with the alternative method."
   ]
  },
  {
   "cell_type": "code",
   "execution_count": 209,
   "metadata": {},
   "outputs": [],
   "source": [
    "threshold_w1 = np.percentile(lofar[subsample_w1][\"lr_w1\"], 100*(1 - Q0_w1))"
   ]
  },
  {
   "cell_type": "code",
   "execution_count": 210,
   "metadata": {},
   "outputs": [
    {
     "data": {
      "text/plain": [
       "0.07805219426145496"
      ]
     },
     "execution_count": 210,
     "metadata": {},
     "output_type": "execute_result"
    }
   ],
   "source": [
    "threshold_w1 # 0.695 before"
   ]
  },
  {
   "cell_type": "code",
   "execution_count": 211,
   "metadata": {},
   "outputs": [
    {
     "data": {
      "image/png": "[encoded data removed]",
      "text/plain": [
       "<Figure size 1080x432 with 2 Axes>"
      ]
     },
     "metadata": {
      "needs_background": "light"
     },
     "output_type": "display_data"
    }
   ],
   "source": [
    "plt.rcParams[\"figure.figsize\"] = (15,6)\n",
    "ax1 = plt.subplot(1,2,1)\n",
    "plt.hist(lofar[lofar[\"lr_w1\"] != 0][\"lr_w1\"], bins=200)\n",
    "plt.vlines([threshold_w1], 0, 100)\n",
    "ax1.set_yscale(\"log\", nonposy='clip')\n",
    "#plt.ylim([0,100])\n",
    "ax2 = plt.subplot(1,2,2)\n",
    "plt.hist(np.log10(lofar[lofar[\"lr_w1\"] != 0][\"lr_w1\"]+1), bins=200)\n",
    "plt.vlines(np.log10(np.array([threshold_w1])+1), 0, 100)\n",
    "ticks, _ = plt.xticks()\n",
    "plt.xticks(ticks, [\"{:.1f}\".format(10**t-1) for t in ticks])\n",
    "ax2.set_yscale(\"log\", nonposy='clip')\n",
    "#plt.ylim([0,100]);"
   ]
  },
  {
   "cell_type": "code",
   "execution_count": 213,
   "metadata": {},
   "outputs": [
    {
     "data": {
      "text/plain": [
       "12390"
      ]
     },
     "execution_count": 213,
     "metadata": {},
     "output_type": "execute_result"
    }
   ],
   "source": [
    "np.sum(lofar[\"lr_w1\"] >= threshold_w1)"
   ]
  },
  {
   "cell_type": "code",
   "execution_count": 214,
   "metadata": {},
   "outputs": [],
   "source": [
    "lofar[\"lr_index_sel_w1\"] = lofar[\"lr_index_w1\"]\n",
    "lofar[\"lr_index_sel_w1\"][lofar[\"lr_w1\"] < threshold_w1] = np.nan"
   ]
  },
  {
   "cell_type": "markdown",
   "metadata": {},
   "source": [
    "Save LR of the W1-band in an external file"
   ]
  },
  {
   "cell_type": "code",
   "execution_count": 215,
   "metadata": {},
   "outputs": [],
   "source": [
    "columns = [\"lr_w1\", \"lr_dist_w1\", \"lr_index_w1\", \"lr_index_sel_w1\"]\n",
    "np.savez_compressed(os.path.join(idp, \"lr_w1.npz\"), lr_w1=lofar[columns])"
   ]
  },
  {
   "cell_type": "markdown",
   "metadata": {},
   "source": [
    "### W2-band match"
   ]
  },
  {
   "cell_type": "code",
   "execution_count": 216,
   "metadata": {},
   "outputs": [],
   "source": [
    "subsample_w2 = (lofar[\"lr_r\"] <= threshold_r) & (lofar[\"lr_w1\"] <= threshold_w1)"
   ]
  },
  {
   "cell_type": "markdown",
   "metadata": {},
   "source": [
    "#### Compute the W2 $Q_0$"
   ]
  },
  {
   "cell_type": "code",
   "execution_count": 217,
   "metadata": {},
   "outputs": [],
   "source": [
    "coords_lofar_alt2 = coords_lofar[subsample_w2]"
   ]
  },
  {
   "cell_type": "code",
   "execution_count": 218,
   "metadata": {},
   "outputs": [],
   "source": [
    "q_0_comp_w2 = Q_0(coords_lofar_alt2, coords_combined[combined_wise2], field)"
   ]
  },
  {
   "cell_type": "code",
   "execution_count": 219,
   "metadata": {},
   "outputs": [
    {
     "name": "stdout",
     "output_type": "stream",
     "text": [
      " 1 0.00701 +/- 0.00015 [0.00670 0.00717]\n",
      " 2 0.01833 +/- 0.00029 [0.01780 0.01873]\n",
      " 3 0.02626 +/- 0.00027 [0.02581 0.02668]\n",
      " 4 0.03085 +/- 0.00038 [0.03000 0.03139]\n",
      " 5 0.03441 +/- 0.00067 [0.03353 0.03568]\n",
      " 6 0.03565 +/- 0.00068 [0.03460 0.03717]\n",
      " 7 0.03751 +/- 0.00086 [0.03577 0.03901]\n",
      " 8 0.04000 +/- 0.00085 [0.03831 0.04145]\n",
      " 9 0.04206 +/- 0.00082 [0.04084 0.04347]\n",
      "10 0.04266 +/- 0.00138 [0.04064 0.04478]\n",
      "11 0.04371 +/- 0.00090 [0.04214 0.04583]\n",
      "12 0.04463 +/- 0.00113 [0.04254 0.04625]\n",
      "13 0.04624 +/- 0.00069 [0.04516 0.04773]\n",
      "14 0.04652 +/- 0.00153 [0.04405 0.04897]\n",
      "15 0.04810 +/- 0.00183 [0.04514 0.05083]\n",
      "16 0.04705 +/- 0.00219 [0.04458 0.05139]\n",
      "17 0.04775 +/- 0.00192 [0.04472 0.05088]\n",
      "18 0.04728 +/- 0.00225 [0.04396 0.05192]\n",
      "19 0.05051 +/- 0.00205 [0.04749 0.05483]\n",
      "20 0.05114 +/- 0.00208 [0.04783 0.05437]\n",
      "21 0.05417 +/- 0.00210 [0.05064 0.05716]\n",
      "22 0.05571 +/- 0.00105 [0.05362 0.05733]\n",
      "23 0.05355 +/- 0.00198 [0.05080 0.05799]\n",
      "24 0.05732 +/- 0.00252 [0.05219 0.05980]\n",
      "25 0.05697 +/- 0.00409 [0.04981 0.06388]\n"
     ]
    }
   ],
   "source": [
    "q_0_rad_w2 = []\n",
    "q_0_rad_w2_std = []\n",
    "for radius in rads:\n",
    "    q_0_rad_aux = []\n",
    "    for i in range(n_iter):\n",
    "        out = q_0_comp_w2(radius=radius)\n",
    "        q_0_rad_aux.append(out)\n",
    "    q_0_rad_w2.append(np.mean(q_0_rad_aux))\n",
    "    q_0_rad_w2_std.append(np.std(q_0_rad_aux))\n",
    "    print(\n",
    "        \"{:2d} {:7.5f} +/- {:7.5f} [{:7.5f} {:7.5f}]\".format(\n",
    "            radius,\n",
    "            np.mean(q_0_rad_aux),\n",
    "            np.std(q_0_rad_aux),\n",
    "            np.min(q_0_rad_aux),\n",
    "            np.max(q_0_rad_aux),\n",
    "        )\n",
    "    )"
   ]
  },
  {
   "cell_type": "code",
   "execution_count": 220,
   "metadata": {},
   "outputs": [],
   "source": [
    "q_0_rad_w2 = np.array(q_0_rad_w2)\n",
    "q_0_rad_w2_std = np.array(q_0_rad_w2_std)"
   ]
  },
  {
   "cell_type": "code",
   "execution_count": 222,
   "metadata": {},
   "outputs": [
    {
     "data": {
      "text/plain": [
       "(0, 0.1)"
      ]
     },
     "execution_count": 222,
     "metadata": {},
     "output_type": "execute_result"
    },
    {
     "data": {
      "image/png": "[encoded data removed]",
      "text/plain": [
       "<Figure size 360x360 with 1 Axes>"
      ]
     },
     "metadata": {
      "needs_background": "light"
     },
     "output_type": "display_data"
    }
   ],
   "source": [
    "plt.rcParams[\"figure.figsize\"] = (5, 5)\n",
    "plt.plot(rads, q_0_rad_w2)\n",
    "plt.plot(rads, q_0_rad_w2 + 3 * q_0_rad_w2_std, ls=\":\", color=\"b\")\n",
    "plt.plot(rads, q_0_rad_w2 - 3 * q_0_rad_w2_std, ls=\":\", color=\"b\")\n",
    "plt.xlabel(\"Radius (arcsecs)\")\n",
    "plt.ylabel(\"$Q_0 W2-band$\")\n",
    "plt.ylim([0, 0.1])"
   ]
  },
  {
   "cell_type": "code",
   "execution_count": 223,
   "metadata": {},
   "outputs": [],
   "source": [
    "Q0_w2 = q_0_rad_w2[4]"
   ]
  },
  {
   "cell_type": "markdown",
   "metadata": {},
   "source": [
    "#### Create the likelihood estimator and run"
   ]
  },
  {
   "cell_type": "code",
   "execution_count": 224,
   "metadata": {},
   "outputs": [],
   "source": [
    "likelihood_ratio_w2 = SingleMLEstimator(Q0_w2, n_m_w2, q_m_w2, center_w2)"
   ]
  },
  {
   "cell_type": "code",
   "execution_count": 225,
   "metadata": {},
   "outputs": [],
   "source": [
    "idx_lofar, idx_i, d2d, d3d = search_around_sky(\n",
    "    coords_lofar[subsample_w2], coords_combined[combined_wise2], radius*u.arcsec)"
   ]
  },
  {
   "cell_type": "code",
   "execution_count": 226,
   "metadata": {},
   "outputs": [],
   "source": [
    "idx_lofar_unique = np.unique(idx_lofar)"
   ]
  },
  {
   "cell_type": "code",
   "execution_count": 227,
   "metadata": {},
   "outputs": [],
   "source": [
    "lofar[\"lr_w2\"] = np.nan                   # Likelihood ratio\n",
    "lofar[\"lr_dist_w2\"] = np.nan              # Distance to the selected source\n",
    "lofar[\"lr_index_w2\"] = np.nan             # Index of the PanSTARRS source in combined"
   ]
  },
  {
   "cell_type": "code",
   "execution_count": 228,
   "metadata": {},
   "outputs": [],
   "source": [
    "def ml_w2(i):\n",
    "    idx_0 = idx_i[idx_lofar == i]\n",
    "    d2d_0 = d2d[idx_lofar == i]\n",
    "    mag = catalogue_w2[\"MAG_W2\"][idx_0]\n",
    "    \n",
    "    lofar_ra = lofar[subsample_w2][i][\"RA\"]\n",
    "    lofar_dec = lofar[subsample_w2][i][\"DEC\"]\n",
    "    lofar_pa = lofar[subsample_w2][i][\"PA\"]\n",
    "    lofar_maj_err = lofar[subsample_w2][i][\"E_Maj\"]\n",
    "    lofar_min_err = lofar[subsample_w2][i][\"E_Min\"]\n",
    "    c_ra = catalogue_w2[\"RA\"][idx_0]\n",
    "    c_dec = catalogue_w2[\"DEC\"][idx_0]\n",
    "    c_ra_err = np.ones_like(c_ra)*0.6/3600.\n",
    "    c_dec_err = np.ones_like(c_ra)*0.6/3600.\n",
    "    \n",
    "    sigma_0_0, det_sigma = get_sigma_all(lofar_maj_err, lofar_min_err, lofar_pa, \n",
    "                      lofar_ra, lofar_dec, \n",
    "                      c_ra, c_dec, c_ra_err, c_dec_err)\n",
    "    \n",
    "    lr_0 = likelihood_ratio_w2(mag, d2d_0.arcsec, sigma_0_0, det_sigma)\n",
    "    chosen_index = np.argmax(lr_0)\n",
    "    result = [combined_aux_index[combined_wise2][idx_0[chosen_index]], # Index\n",
    "              (d2d_0.arcsec)[chosen_index],                        # distance\n",
    "              lr_0[chosen_index]]                                  # LR\n",
    "    return result"
   ]
  },
  {
   "cell_type": "code",
   "execution_count": 229,
   "metadata": {},
   "outputs": [
    {
     "data": {
      "application/vnd.jupyter.widget-view+json": {
       "model_id": "dd314076166140e88a92f2e08d8e88fa",
       "version_major": 2,
       "version_minor": 0
      },
      "text/plain": [
       "HBox(children=(IntProgress(value=0, max=3723), HTML(value='')))"
      ]
     },
     "metadata": {},
     "output_type": "display_data"
    },
    {
     "name": "stdout",
     "output_type": "stream",
     "text": [
      "\n"
     ]
    }
   ],
   "source": [
    "#res = parallel_process(idx_lofar_unique, ml_w1, n_jobs=n_cpus)\n",
    "res = Parallel(n_jobs=n_cpus)(delayed(ml_w2)(i) for i in tqdm_notebook(idx_lofar_unique))"
   ]
  },
  {
   "cell_type": "code",
   "execution_count": 230,
   "metadata": {},
   "outputs": [],
   "source": [
    "indices_w2 = np.arange(len(lofar))[subsample_w2][idx_lofar_unique]"
   ]
  },
  {
   "cell_type": "code",
   "execution_count": 231,
   "metadata": {},
   "outputs": [],
   "source": [
    "(lofar[\"lr_index_w2\"][indices_w2], \n",
    " lofar[\"lr_dist_w2\"][indices_w2], \n",
    " lofar[\"lr_w2\"][indices_w2]) = list(map(list, zip(*res)))"
   ]
  },
  {
   "cell_type": "markdown",
   "metadata": {},
   "source": [
    "#### Threshold and selection for W2 band"
   ]
  },
  {
   "cell_type": "code",
   "execution_count": 232,
   "metadata": {},
   "outputs": [],
   "source": [
    "lofar[\"lr_w2\"][np.isnan(lofar[\"lr_w2\"])] = 0"
   ]
  },
  {
   "cell_type": "code",
   "execution_count": 233,
   "metadata": {},
   "outputs": [],
   "source": [
    "threshold_w2 = np.percentile(lofar[subsample_w2][\"lr_w2\"], 100*(1 - Q0_w2))"
   ]
  },
  {
   "cell_type": "code",
   "execution_count": 234,
   "metadata": {},
   "outputs": [
    {
     "data": {
      "text/plain": [
       "0.045695339344667234"
      ]
     },
     "execution_count": 234,
     "metadata": {},
     "output_type": "execute_result"
    }
   ],
   "source": [
    "threshold_w2 # 0.695 before"
   ]
  },
  {
   "cell_type": "code",
   "execution_count": 235,
   "metadata": {},
   "outputs": [
    {
     "data": {
      "image/png": "[encoded data removed]",
      "text/plain": [
       "<Figure size 1080x432 with 2 Axes>"
      ]
     },
     "metadata": {
      "needs_background": "light"
     },
     "output_type": "display_data"
    }
   ],
   "source": [
    "plt.rcParams[\"figure.figsize\"] = (15,6)\n",
    "ax1 = plt.subplot(1,2,1)\n",
    "plt.hist(lofar[lofar[\"lr_w2\"] != 0][\"lr_w2\"], bins=50)\n",
    "plt.vlines([threshold_w2], 0, 10)\n",
    "ax1.set_yscale(\"log\", nonposy='clip')\n",
    "#plt.ylim([0,100])\n",
    "ax2 = plt.subplot(1,2,2)\n",
    "plt.hist(np.log10(lofar[lofar[\"lr_w2\"] != 0][\"lr_w2\"]+1), bins=50)\n",
    "plt.vlines(np.log10(np.array([threshold_w2])+1), 0, 10)\n",
    "ticks, _ = plt.xticks()\n",
    "plt.xticks(ticks, [\"{:.1f}\".format(10**t-1) for t in ticks])\n",
    "ax2.set_yscale(\"log\", nonposy='clip')\n",
    "#plt.ylim([0,100]);"
   ]
  },
  {
   "cell_type": "code",
   "execution_count": 236,
   "metadata": {},
   "outputs": [],
   "source": [
    "lofar[\"lr_index_sel_w2\"] = lofar[\"lr_index_w2\"]\n",
    "lofar[\"lr_index_sel_w2\"][lofar[\"lr_w2\"] < threshold_w2] = np.nan"
   ]
  },
  {
   "cell_type": "markdown",
   "metadata": {},
   "source": [
    "### Final selection of the match\n",
    "\n",
    "We combine the ML matching done in r-band, W1-band, and W2-band. All the galaxies were the LR is above the selection ratio for the respective band are finally selected."
   ]
  },
  {
   "cell_type": "code",
   "execution_count": 237,
   "metadata": {},
   "outputs": [],
   "source": [
    "lr_r_w1_w2 = (\n",
    "    ~np.isnan(lofar[\"lr_index_sel_r\"]) & \n",
    "    ~np.isnan(lofar[\"lr_index_sel_w1\"]) & \n",
    "    ~np.isnan(lofar[\"lr_index_sel_w2\"])\n",
    ")\n",
    "lr_r_w1 = (\n",
    "    ~np.isnan(lofar[\"lr_index_sel_r\"]) & \n",
    "    ~np.isnan(lofar[\"lr_index_sel_w1\"]) & \n",
    "    np.isnan(lofar[\"lr_index_sel_w2\"])\n",
    ")\n",
    "lr_r_w2 = (\n",
    "    ~np.isnan(lofar[\"lr_index_sel_r\"]) & \n",
    "    np.isnan(lofar[\"lr_index_sel_w1\"]) & \n",
    "    ~np.isnan(lofar[\"lr_index_sel_w2\"])\n",
    ")\n",
    "lr_w1_w2 = (\n",
    "    np.isnan(lofar[\"lr_index_sel_r\"]) & \n",
    "    ~np.isnan(lofar[\"lr_index_sel_w1\"]) & \n",
    "    ~np.isnan(lofar[\"lr_index_sel_w2\"])\n",
    ")\n",
    "lr_r = (\n",
    "    ~np.isnan(lofar[\"lr_index_sel_r\"]) & \n",
    "    np.isnan(lofar[\"lr_index_sel_w1\"]) & \n",
    "    np.isnan(lofar[\"lr_index_sel_w2\"])\n",
    ")\n",
    "lr_w1 = (\n",
    "    np.isnan(lofar[\"lr_index_sel_r\"]) & \n",
    "    ~np.isnan(lofar[\"lr_index_sel_w1\"]) & \n",
    "    np.isnan(lofar[\"lr_index_sel_w2\"])\n",
    ")\n",
    "lr_w2 = (\n",
    "    np.isnan(lofar[\"lr_index_sel_r\"]) & \n",
    "    np.isnan(lofar[\"lr_index_sel_w1\"]) & \n",
    "    ~np.isnan(lofar[\"lr_index_sel_w2\"])\n",
    ")\n",
    "lr_no_match = (\n",
    "    np.isnan(lofar[\"lr_index_sel_r\"]) & \n",
    "    np.isnan(lofar[\"lr_index_sel_w1\"]) & \n",
    "    np.isnan(lofar[\"lr_index_sel_w2\"])\n",
    ")"
   ]
  },
  {
   "cell_type": "code",
   "execution_count": 238,
   "metadata": {},
   "outputs": [
    {
     "name": "stdout",
     "output_type": "stream",
     "text": [
      "0\n",
      "0\n",
      "0\n",
      "0\n",
      "68853\n",
      "12390\n",
      "653\n",
      "18311\n"
     ]
    }
   ],
   "source": [
    "print(np.sum(lr_r_w1_w2))\n",
    "print(np.sum(lr_r_w1))\n",
    "print(np.sum(lr_r_w2))\n",
    "print(np.sum(lr_w1_w2))\n",
    "print(np.sum(lr_r))\n",
    "print(np.sum(lr_w1))\n",
    "print(np.sum(lr_w2))\n",
    "print(np.sum(lr_no_match))"
   ]
  },
  {
   "cell_type": "code",
   "execution_count": 240,
   "metadata": {},
   "outputs": [],
   "source": [
    "lofar[\"lr_index_1\"] = np.nan\n",
    "lofar[\"lr_dist_1\"] = np.nan\n",
    "lofar[\"lr_1\"] = np.nan\n",
    "lofar[\"lr_type_1\"] = 0"
   ]
  },
  {
   "cell_type": "code",
   "execution_count": 241,
   "metadata": {},
   "outputs": [
    {
     "data": {
      "text/plain": [
       "100207"
      ]
     },
     "execution_count": 241,
     "metadata": {},
     "output_type": "execute_result"
    }
   ],
   "source": [
    "len(lofar)"
   ]
  },
  {
   "cell_type": "markdown",
   "metadata": {},
   "source": [
    "Enter the data into the table"
   ]
  },
  {
   "cell_type": "code",
   "execution_count": 242,
   "metadata": {},
   "outputs": [],
   "source": [
    "r_selection = ~np.isnan(lofar[\"lr_index_sel_r\"])\n",
    "lofar[\"lr_index_1\"][r_selection] = lofar[\"lr_index_r\"][r_selection]\n",
    "lofar[\"lr_dist_1\"][r_selection] = lofar[\"lr_dist_r\"][r_selection]\n",
    "lofar[\"lr_1\"][r_selection] = lofar[\"lr_r\"][r_selection]\n",
    "lofar[\"lr_type_1\"][r_selection] = 1\n",
    "\n",
    "w1_selection = ~np.isnan(lofar[\"lr_index_sel_w1\"])\n",
    "lofar[\"lr_index_1\"][w1_selection] = lofar[\"lr_index_w1\"][w1_selection]\n",
    "lofar[\"lr_dist_1\"][w1_selection] = lofar[\"lr_dist_w1\"][w1_selection]\n",
    "lofar[\"lr_1\"][w1_selection] = lofar[\"lr_w1\"][w1_selection]\n",
    "lofar[\"lr_type_1\"][w1_selection] = 2\n",
    "\n",
    "w2_selection = ~np.isnan(lofar[\"lr_index_sel_w2\"])\n",
    "lofar[\"lr_index_1\"][w2_selection] = lofar[\"lr_index_w2\"][w2_selection]\n",
    "lofar[\"lr_dist_1\"][w2_selection] = lofar[\"lr_dist_w2\"][w2_selection]\n",
    "lofar[\"lr_1\"][w2_selection] = lofar[\"lr_w2\"][w2_selection]\n",
    "lofar[\"lr_type_1\"][w2_selection] = 3"
   ]
  },
  {
   "cell_type": "markdown",
   "metadata": {},
   "source": [
    "Summary of the number of sources matched of each type"
   ]
  },
  {
   "cell_type": "code",
   "execution_count": 244,
   "metadata": {},
   "outputs": [
    {
     "data": {
      "text/plain": [
       "(<Column name='lr_type_1' dtype='int64' length=4>\n",
       " 0\n",
       " 1\n",
       " 2\n",
       " 3, array([18311, 68853, 12390,   653]))"
      ]
     },
     "execution_count": 244,
     "metadata": {},
     "output_type": "execute_result"
    }
   ],
   "source": [
    "np.unique(lofar[\"lr_type_1\"], return_counts=True)"
   ]
  },
  {
   "cell_type": "code",
   "execution_count": 246,
   "metadata": {},
   "outputs": [],
   "source": [
    "t, c = np.unique(lofar[\"lr_type_1\"], return_counts=True)"
   ]
  },
  {
   "cell_type": "code",
   "execution_count": 248,
   "metadata": {},
   "outputs": [
    {
     "name": "stdout",
     "output_type": "stream",
     "text": [
      "Match type 0: 18311\n",
      "Match type 1: 68853\n",
      "Match type 2: 12390\n",
      "Match type 3: 653\n"
     ]
    }
   ],
   "source": [
    "for i, t0 in enumerate(t):\n",
    "    print(\"Match type {}: {}\".format(t0, c[i]))"
   ]
  },
  {
   "cell_type": "markdown",
   "metadata": {},
   "source": [
    "#### Duplicated sources\n",
    "\n",
    "This is the nymber of sources of the combined catalogue that are combined to multiple LOFAR sources. In the case of the catalogue of Gaussians the number can be very high."
   ]
  },
  {
   "cell_type": "code",
   "execution_count": 249,
   "metadata": {},
   "outputs": [],
   "source": [
    "values, counts = np.unique(lofar[lofar[\"lr_type_1\"] != 0][\"lr_index_1\"], return_counts=True)"
   ]
  },
  {
   "cell_type": "code",
   "execution_count": 250,
   "metadata": {},
   "outputs": [
    {
     "data": {
      "text/plain": [
       "101"
      ]
     },
     "execution_count": 250,
     "metadata": {},
     "output_type": "execute_result"
    }
   ],
   "source": [
    "len(values[counts > 1])"
   ]
  },
  {
   "cell_type": "code",
   "execution_count": 251,
   "metadata": {},
   "outputs": [],
   "source": [
    "n_dup, n_sour = np.unique(counts[counts > 1], return_counts=True)"
   ]
  },
  {
   "cell_type": "code",
   "execution_count": 252,
   "metadata": {},
   "outputs": [
    {
     "data": {
      "text/plain": [
       "Text(0, 0.5, 'Number of sources in the category')"
      ]
     },
     "execution_count": 252,
     "metadata": {},
     "output_type": "execute_result"
    },
    {
     "data": {
      "image/png": "[encoded data removed]",
      "text/plain": [
       "<Figure size 432x432 with 1 Axes>"
      ]
     },
     "metadata": {
      "needs_background": "light"
     },
     "output_type": "display_data"
    }
   ],
   "source": [
    "plt.rcParams[\"figure.figsize\"] = (6,6)\n",
    "plt.semilogy(n_dup, n_sour, marker=\"x\")\n",
    "plt.xlabel(\"Number of multiple matches\")\n",
    "plt.ylabel(\"Number of sources in the category\")"
   ]
  },
  {
   "cell_type": "markdown",
   "metadata": {},
   "source": [
    "### Save intermediate data"
   ]
  },
  {
   "cell_type": "code",
   "execution_count": 253,
   "metadata": {},
   "outputs": [],
   "source": [
    "if save_intermediate:\n",
    "    pickle.dump([bin_list_r, center_r, Q0_r, n_m_r, q_m_r], \n",
    "                open(\"{}/lofar_params_1r.pckl\".format(idp), 'wb'))\n",
    "    pickle.dump([bin_list_w1, center_w1, Q0_w1, n_m_w1, q_m_w1], \n",
    "                open(\"{}/lofar_params_1w1.pckl\".format(idp), 'wb'))\n",
    "    pickle.dump([bin_list_w2, center_w2, Q0_w2, n_m_w2, q_m_w2], \n",
    "                open(\"{}/lofar_params_1w2.pckl\".format(idp), 'wb'))\n",
    "    lofar.write(\"{}/lofar_m1.fits\".format(idp), format=\"fits\")"
   ]
  },
  {
   "cell_type": "markdown",
   "metadata": {},
   "source": [
    "## Second iteration using colour\n",
    "\n",
    "From now on we will take into account the effect of the colour. The sample was distributed in several categories according to the colour of the source and this is considered here.\n",
    "\n",
    "### Rusable parameters for all the iterations\n",
    "\n",
    "These parameters are derived from the underlying population and will not change.\n",
    "\n",
    "First we compute the number of galaxies in each bin for the combined catalogue"
   ]
  },
  {
   "cell_type": "code",
   "execution_count": 254,
   "metadata": {},
   "outputs": [],
   "source": [
    "bin_list = [bin_list_w1 if i == 0 else bin_list_r for i in range(len(colour_bin_def))]\n",
    "centers = [center_w1 if i == 0 else center_r for i in range(len(colour_bin_def))]"
   ]
  },
  {
   "cell_type": "code",
   "execution_count": 255,
   "metadata": {},
   "outputs": [],
   "source": [
    "numbers_combined_bins = np.array([np.sum(a[\"condition\"]) for a in colour_bin_def])"
   ]
  },
  {
   "cell_type": "code",
   "execution_count": 256,
   "metadata": {},
   "outputs": [
    {
     "data": {
      "text/plain": [
       "array([ 203065, 1516793, 1285276, 1163363, 1419867, 1392164, 1134808,\n",
       "       1139112, 1392687, 1398193, 1143177, 1322208])"
      ]
     },
     "execution_count": 256,
     "metadata": {},
     "output_type": "execute_result"
    }
   ],
   "source": [
    "numbers_combined_bins"
   ]
  },
  {
   "cell_type": "markdown",
   "metadata": {},
   "source": [
    "Get the colour category and magnitudes for the matched LOFAR sources"
   ]
  },
  {
   "cell_type": "code",
   "execution_count": 257,
   "metadata": {},
   "outputs": [],
   "source": [
    "bandwidth_colour = [0.5, 0.5, 0.5, 0.5, 0.5, 0.5, 0.5,\n",
    "        0.5, 0.5, 0.5, 0.5, 0.5]"
   ]
  },
  {
   "cell_type": "code",
   "execution_count": 258,
   "metadata": {},
   "outputs": [],
   "source": [
    "n_m = []\n",
    "\n",
    "# W2 only sources\n",
    "n_m.append(get_n_m_kde(combined[\"MAG_W2\"][combined[\"category\"] == 0], \n",
    "                       centers[0], field.area, bandwidth=bandwidth_colour[0]))\n",
    "# W1 only sources\n",
    "n_m.append(get_n_m_kde(combined[\"MAG_W1\"][combined[\"category\"] == 1], \n",
    "                       centers[1], field.area, bandwidth=bandwidth_colour[1]))\n",
    "\n",
    "# Rest of the sources\n",
    "for i in range(2, len(colour_bin_def)):\n",
    "    n_m.append(get_n_m_kde(combined[\"MAG_R\"][combined[\"category\"] == i], \n",
    "                           centers[i], field.area, bandwidth=bandwidth_colour[i]))"
   ]
  },
  {
   "cell_type": "code",
   "execution_count": 259,
   "metadata": {},
   "outputs": [
    {
     "data": {
      "image/png": "[encoded data removed]",
      "text/plain": [
       "<Figure size 1080x1080 with 12 Axes>"
      ]
     },
     "metadata": {
      "needs_background": "light"
     },
     "output_type": "display_data"
    }
   ],
   "source": [
    "plt.rcParams[\"figure.figsize\"] = (15,15)\n",
    "for i, n_m_k in enumerate(n_m):\n",
    "    plt.subplot(5,5,i+1)\n",
    "    plt.plot(centers[i], np.cumsum(n_m_k))"
   ]
  },
  {
   "cell_type": "markdown",
   "metadata": {},
   "source": [
    "### Parameters of the matched sample\n",
    "\n",
    "The parameters derived from the matched LOFAR galaxies: $q_0$, q(m) and the number of sources per category.\n",
    "\n",
    "The columns \"category\", \"W1mag\" and \"i\" will contain the properties of the matched galaxies and will be updated in each iteration to save space."
   ]
  },
  {
   "cell_type": "code",
   "execution_count": 260,
   "metadata": {},
   "outputs": [],
   "source": [
    "lofar[\"category\"] = np.nan\n",
    "lofar[\"MAG_W2\"] = np.nan\n",
    "lofar[\"MAG_W1\"] = np.nan\n",
    "lofar[\"MAG_R\"] = np.nan"
   ]
  },
  {
   "cell_type": "code",
   "execution_count": 261,
   "metadata": {},
   "outputs": [],
   "source": [
    "c = ~np.isnan(lofar[\"lr_index_1\"])\n",
    "indices = lofar[\"lr_index_1\"][c].astype(int)\n",
    "lofar[\"category\"][c] = combined[indices][\"category\"]\n",
    "lofar[\"MAG_W2\"][c] = combined[indices][\"MAG_W2\"]\n",
    "lofar[\"MAG_W1\"][c] = combined[indices][\"MAG_W1\"]\n",
    "lofar[\"MAG_R\"][c] = combined[indices][\"MAG_R\"]"
   ]
  },
  {
   "cell_type": "markdown",
   "metadata": {},
   "source": [
    "The next parameter represent the number of matched LOFAR sources in each colour category."
   ]
  },
  {
   "cell_type": "code",
   "execution_count": 262,
   "metadata": {},
   "outputs": [],
   "source": [
    "numbers_lofar_combined_bins = np.array([np.sum(lofar[\"category\"] == c) \n",
    "                                        for c in range(len(numbers_combined_bins))])"
   ]
  },
  {
   "cell_type": "code",
   "execution_count": 263,
   "metadata": {},
   "outputs": [
    {
     "data": {
      "text/plain": [
       "array([  653, 12390,   659,   998,  4626,  6821,  5359,  5451,  6937,\n",
       "        8419, 10183, 19400])"
      ]
     },
     "execution_count": 263,
     "metadata": {},
     "output_type": "execute_result"
    }
   ],
   "source": [
    "numbers_lofar_combined_bins"
   ]
  },
  {
   "cell_type": "markdown",
   "metadata": {},
   "source": [
    "The $Q_0$ for each category are obtained by dividing the number of sources in the category by the total number of sources in the sample."
   ]
  },
  {
   "cell_type": "code",
   "execution_count": 264,
   "metadata": {},
   "outputs": [],
   "source": [
    "Q_0_colour = numbers_lofar_combined_bins/len(lofar) ### Q_0"
   ]
  },
  {
   "cell_type": "code",
   "execution_count": 265,
   "metadata": {},
   "outputs": [],
   "source": [
    "q0_total = np.sum(Q_0_colour)"
   ]
  },
  {
   "cell_type": "code",
   "execution_count": 266,
   "metadata": {},
   "outputs": [
    {
     "data": {
      "text/plain": [
       "0.8172682547127446"
      ]
     },
     "execution_count": 266,
     "metadata": {},
     "output_type": "execute_result"
    }
   ],
   "source": [
    "q0_total"
   ]
  },
  {
   "cell_type": "markdown",
   "metadata": {},
   "source": [
    "The q(m) is not estimated with the method of Fleuren et al. but with the most updated distributions and numbers for the matches."
   ]
  },
  {
   "cell_type": "code",
   "execution_count": 267,
   "metadata": {},
   "outputs": [],
   "source": [
    "q_m = []\n",
    "radius = 15. \n",
    "\n",
    "# W2 only sources\n",
    "q_m.append(get_q_m_kde(lofar[\"MAG_W2\"][lofar[\"category\"] == 0], \n",
    "                   centers[0], \n",
    "                   radius=radius,\n",
    "                   bandwidth=bandwidth_colour[0]))\n",
    "\n",
    "# W1 only sources\n",
    "q_m.append(get_q_m_kde(lofar[\"MAG_W1\"][lofar[\"category\"] == 1], \n",
    "                   centers[1], \n",
    "                   radius=radius,\n",
    "                   bandwidth=bandwidth_colour[1]))\n",
    "\n",
    "# Rest of the sources\n",
    "for i in range(2, len(numbers_lofar_combined_bins)):\n",
    "    q_m.append(get_q_m_kde(lofar[\"MAG_R\"][lofar[\"category\"] == i], \n",
    "                   centers[i], \n",
    "                   radius=radius,\n",
    "                   bandwidth=bandwidth_colour[i]))"
   ]
  },
  {
   "cell_type": "code",
   "execution_count": 268,
   "metadata": {},
   "outputs": [
    {
     "data": {
      "image/png": "[encoded data removed]",
      "text/plain": [
       "<Figure size 1080x1080 with 12 Axes>"
      ]
     },
     "metadata": {
      "needs_background": "light"
     },
     "output_type": "display_data"
    }
   ],
   "source": [
    "plt.rcParams[\"figure.figsize\"] = (15,15)\n",
    "for i, q_m_k in enumerate(q_m):\n",
    "    plt.subplot(5,5,i+1)\n",
    "    plt.plot(centers[i], np.cumsum(q_m_k))"
   ]
  },
  {
   "cell_type": "code",
   "execution_count": 269,
   "metadata": {},
   "outputs": [
    {
     "data": {
      "image/png": "[encoded data removed]",
      "text/plain": [
       "<Figure size 864x720 with 12 Axes>"
      ]
     },
     "metadata": {
      "needs_background": "light"
     },
     "output_type": "display_data"
    }
   ],
   "source": [
    "plt.rcParams[\"figure.figsize\"] = (12,10)\n",
    "\n",
    "from matplotlib import cm\n",
    "from matplotlib.collections import LineCollection\n",
    "\n",
    "cm_subsection = np.linspace(0., 1., 16) \n",
    "colors = [ cm.viridis(x) for x in cm_subsection ]\n",
    "\n",
    "low = np.nonzero(centers[1] >= 15)[0][0]\n",
    "high = np.nonzero(centers[1] >= 22.2)[0][0]\n",
    "\n",
    "fig, a = plt.subplots()\n",
    "\n",
    "for i, q_m_k in enumerate(q_m):\n",
    "    #plot(centers[i], q_m_old[i]/n_m_old[i])\n",
    "    a = plt.subplot(4,4,i+1)\n",
    "    if i not in [-1]:\n",
    "        n_m_aux = n_m[i]/np.sum(n_m[i])\n",
    "        lwidths = (n_m_aux/np.max(n_m_aux)*10).astype(float) + 1\n",
    "        #print(lwidths)\n",
    "        \n",
    "        y_aux = q_m_k/n_m[i]\n",
    "        factor = np.max(y_aux[low:high])\n",
    "        y = y_aux\n",
    "        #print(y)\n",
    "        x = centers[i]\n",
    "        \n",
    "        points = np.array([x, y]).T.reshape(-1, 1, 2)\n",
    "        segments = np.concatenate([points[:-1], points[1:]], axis=1)\n",
    "        \n",
    "        lc = LineCollection(segments, linewidths=lwidths, color=colors[i])\n",
    "        \n",
    "        a.add_collection(lc)\n",
    "        \n",
    "        #plot(centers[i], x/factor, color=colors[i-1])\n",
    "        plt.xlim([12, 30])\n",
    "        if i == 0:\n",
    "            plt.xlim([10, 23])\n",
    "        plt.ylim([0, 1.2*factor])\n",
    "\n",
    "plt.subplots_adjust(\n",
    "    left=0.125, \n",
    "    bottom=0.1, \n",
    "    right=0.9, \n",
    "    top=0.9,\n",
    "    wspace=0.4, \n",
    "    hspace=0.2\n",
    ")"
   ]
  },
  {
   "cell_type": "markdown",
   "metadata": {},
   "source": [
    "* https://stackoverflow.com/questions/8931268/using-colormaps-to-set-color-of-line-in-matplotlib\n",
    "* https://stackoverflow.com/questions/19390895/matplotlib-plot-with-variable-line-width\n",
    "* https://stackoverflow.com/questions/432112/is-there-a-numpy-function-to-return-the-first-index-of-something-in-an-array"
   ]
  },
  {
   "cell_type": "markdown",
   "metadata": {},
   "source": [
    "### Save intermediate parameters"
   ]
  },
  {
   "cell_type": "code",
   "execution_count": 270,
   "metadata": {},
   "outputs": [],
   "source": [
    "if save_intermediate:\n",
    "    pickle.dump([bin_list, centers, Q_0_colour, n_m, q_m], \n",
    "                open(\"{}/lofar_params_2.pckl\".format(idp), 'wb'))"
   ]
  },
  {
   "cell_type": "markdown",
   "metadata": {},
   "source": [
    "### Prepare for ML"
   ]
  },
  {
   "cell_type": "code",
   "execution_count": 271,
   "metadata": {},
   "outputs": [],
   "source": [
    "selection = ~np.isnan(combined[\"category\"]) # Avoid the two dreaded sources with no actual data\n",
    "catalogue = combined[selection]"
   ]
  },
  {
   "cell_type": "code",
   "execution_count": 272,
   "metadata": {},
   "outputs": [],
   "source": [
    "radius = 15"
   ]
  },
  {
   "cell_type": "code",
   "execution_count": 273,
   "metadata": {},
   "outputs": [],
   "source": [
    "def apply_ml(i, likelihood_ratio_function):\n",
    "    idx_0 = idx_i[idx_lofar == i]\n",
    "    d2d_0 = d2d[idx_lofar == i]\n",
    "    \n",
    "    category = catalogue[\"category\"][idx_0].astype(int)\n",
    "    mag = catalogue[\"MAG_R\"][idx_0]\n",
    "    mag[category == 0] = catalogue[\"MAG_W2\"][idx_0][category == 0]\n",
    "    mag[category == 1] = catalogue[\"MAG_W1\"][idx_0][category == 1]\n",
    "    \n",
    "    lofar_ra = lofar[i][\"RA\"]\n",
    "    lofar_dec = lofar[i][\"DEC\"]\n",
    "    lofar_pa = lofar[i][\"PA\"]\n",
    "    lofar_maj_err = lofar[i][\"E_Maj\"]\n",
    "    lofar_min_err = lofar[i][\"E_Min\"]\n",
    "    c_ra = catalogue[\"RA\"][idx_0]\n",
    "    c_dec = catalogue[\"DEC\"][idx_0]\n",
    "    c_ra_err = np.ones_like(c_ra)*0.6/3600.\n",
    "    c_dec_err = np.ones_like(c_ra)*0.6/3600.\n",
    "    \n",
    "    sigma_0_0, det_sigma = get_sigma_all(lofar_maj_err, lofar_min_err, lofar_pa, \n",
    "                      lofar_ra, lofar_dec, \n",
    "                      c_ra, c_dec, c_ra_err, c_dec_err)\n",
    "\n",
    "    lr_0 = likelihood_ratio_function(mag, d2d_0.arcsec, sigma_0_0, det_sigma, category)\n",
    "    \n",
    "    chosen_index = np.argmax(lr_0)\n",
    "    result = [combined_aux_index[selection][idx_0[chosen_index]], # Index\n",
    "              (d2d_0.arcsec)[chosen_index],                        # distance\n",
    "              lr_0[chosen_index]]                                  # LR\n",
    "    return result"
   ]
  },
  {
   "cell_type": "markdown",
   "metadata": {},
   "source": [
    "### Run the cross-match\n",
    "\n",
    "This will not need to be repeated after"
   ]
  },
  {
   "cell_type": "code",
   "execution_count": 274,
   "metadata": {},
   "outputs": [],
   "source": [
    "idx_lofar, idx_i, d2d, d3d = search_around_sky(\n",
    "    coords_lofar, coords_combined[selection], radius*u.arcsec)"
   ]
  },
  {
   "cell_type": "code",
   "execution_count": 275,
   "metadata": {},
   "outputs": [],
   "source": [
    "idx_lofar_unique = np.unique(idx_lofar)"
   ]
  },
  {
   "cell_type": "markdown",
   "metadata": {},
   "source": [
    "### Run the ML matching"
   ]
  },
  {
   "cell_type": "code",
   "execution_count": 276,
   "metadata": {},
   "outputs": [],
   "source": [
    "likelihood_ratio = MultiMLEstimator(Q_0_colour, n_m, q_m, centers)"
   ]
  },
  {
   "cell_type": "code",
   "execution_count": 277,
   "metadata": {},
   "outputs": [],
   "source": [
    "def ml(i):\n",
    "    return apply_ml(i, likelihood_ratio)"
   ]
  },
  {
   "cell_type": "code",
   "execution_count": null,
   "metadata": {},
   "outputs": [
    {
     "data": {
      "application/vnd.jupyter.widget-view+json": {
       "model_id": "1ca7a405caec4271a17ba9d4c073cf92",
       "version_major": 2,
       "version_minor": 0
      },
      "text/plain": [
       "HBox(children=(IntProgress(value=0, max=99963), HTML(value='')))"
      ]
     },
     "metadata": {},
     "output_type": "display_data"
    }
   ],
   "source": [
    "res = Parallel(n_jobs=n_cpus)(delayed(ml)(i) for i in tqdm_notebook(idx_lofar_unique))"
   ]
  },
  {
   "cell_type": "code",
   "execution_count": 279,
   "metadata": {},
   "outputs": [],
   "source": [
    "lofar[\"lr_index_2\"] = np.nan\n",
    "lofar[\"lr_dist_2\"] = np.nan\n",
    "lofar[\"lr_2\"] = np.nan"
   ]
  },
  {
   "cell_type": "code",
   "execution_count": 280,
   "metadata": {},
   "outputs": [],
   "source": [
    "(lofar[\"lr_index_2\"][idx_lofar_unique], \n",
    " lofar[\"lr_dist_2\"][idx_lofar_unique], \n",
    " lofar[\"lr_2\"][idx_lofar_unique]) = list(map(list, zip(*res)))"
   ]
  },
  {
   "cell_type": "markdown",
   "metadata": {},
   "source": [
    "Get the new threshold for the ML matching. FIX THIS"
   ]
  },
  {
   "cell_type": "code",
   "execution_count": 281,
   "metadata": {},
   "outputs": [],
   "source": [
    "lofar[\"lr_2\"][np.isnan(lofar[\"lr_2\"])] = 0"
   ]
  },
  {
   "cell_type": "code",
   "execution_count": 282,
   "metadata": {},
   "outputs": [],
   "source": [
    "threshold = np.percentile(lofar[\"lr_2\"], 100*(1 - q0_total))\n",
    "#manual_q0 = 0.65\n",
    "#threshold = np.percentile(lofar[\"lr_2\"], 100*(1 - manual_q0))"
   ]
  },
  {
   "cell_type": "code",
   "execution_count": 283,
   "metadata": {},
   "outputs": [
    {
     "data": {
      "text/plain": [
       "0.254664080193482"
      ]
     },
     "execution_count": 283,
     "metadata": {},
     "output_type": "execute_result"
    }
   ],
   "source": [
    "threshold # Old: 0.69787"
   ]
  },
  {
   "cell_type": "code",
   "execution_count": 284,
   "metadata": {},
   "outputs": [
    {
     "data": {
      "image/png": "[encoded data removed]",
      "text/plain": [
       "<Figure size 1080x432 with 2 Axes>"
      ]
     },
     "metadata": {
      "needs_background": "light"
     },
     "output_type": "display_data"
    }
   ],
   "source": [
    "plt.rcParams[\"figure.figsize\"] = (15,6)\n",
    "plt.subplot(1,2,1)\n",
    "plt.hist(lofar[lofar[\"lr_2\"] != 0][\"lr_2\"], bins=200)\n",
    "plt.vlines([threshold], 0, 1000)\n",
    "plt.ylim([0,1000])\n",
    "plt.subplot(1,2,2)\n",
    "plt.hist(np.log10(lofar[lofar[\"lr_2\"] != 0][\"lr_2\"]+1), bins=200)\n",
    "plt.vlines(np.log10(threshold+1), 0, 1000)\n",
    "ticks, _ = plt.xticks()\n",
    "plt.xticks(ticks, [\"{:.1f}\".format(10**t-1) for t in ticks])\n",
    "plt.ylim([0,1000]);"
   ]
  },
  {
   "cell_type": "code",
   "execution_count": 285,
   "metadata": {},
   "outputs": [],
   "source": [
    "lofar[\"lr_index_sel_2\"] = lofar[\"lr_index_2\"]\n",
    "lofar[\"lr_index_sel_2\"][lofar[\"lr_2\"] < threshold] = np.nan"
   ]
  },
  {
   "cell_type": "code",
   "execution_count": 286,
   "metadata": {},
   "outputs": [],
   "source": [
    "n_changes = np.sum((lofar[\"lr_index_sel_2\"] != lofar[\"lr_index_1\"]) & \n",
    "                   ~np.isnan(lofar[\"lr_index_sel_2\"]) &\n",
    "                   ~np.isnan(lofar[\"lr_index_1\"]))"
   ]
  },
  {
   "cell_type": "code",
   "execution_count": 287,
   "metadata": {},
   "outputs": [
    {
     "data": {
      "text/plain": [
       "3135"
      ]
     },
     "execution_count": 287,
     "metadata": {},
     "output_type": "execute_result"
    }
   ],
   "source": [
    "n_changes # Old: 3135"
   ]
  },
  {
   "cell_type": "markdown",
   "metadata": {},
   "source": [
    "Enter the results"
   ]
  },
  {
   "cell_type": "code",
   "execution_count": 288,
   "metadata": {},
   "outputs": [],
   "source": [
    "# Clear aux columns\n",
    "lofar[\"category\"] = np.nan\n",
    "lofar[\"MAG_W2\"] = np.nan\n",
    "lofar[\"MAG_W1\"] = np.nan\n",
    "lofar[\"MAG_R\"] = np.nan\n",
    "\n",
    "c = ~np.isnan(lofar[\"lr_index_sel_2\"])\n",
    "indices = lofar[\"lr_index_sel_2\"][c].astype(int)\n",
    "lofar[\"category\"][c] = combined[indices][\"category\"]\n",
    "lofar[\"MAG_W2\"][c] = combined[indices][\"MAG_W2\"]\n",
    "lofar[\"MAG_W1\"][c] = combined[indices][\"MAG_W1\"]\n",
    "lofar[\"MAG_R\"][c] = combined[indices][\"MAG_R\"]"
   ]
  },
  {
   "cell_type": "code",
   "execution_count": 289,
   "metadata": {},
   "outputs": [],
   "source": [
    "numbers_lofar_combined_bins = np.array([np.sum(lofar[\"category\"] == c) \n",
    "                                        for c in range(len(numbers_combined_bins))])"
   ]
  },
  {
   "cell_type": "code",
   "execution_count": 290,
   "metadata": {},
   "outputs": [
    {
     "data": {
      "text/plain": [
       "array([  736, 12494,   252,   681,  4348,  6526,  5116,  5223,  6702,\n",
       "        8298, 10410, 21110])"
      ]
     },
     "execution_count": 290,
     "metadata": {},
     "output_type": "execute_result"
    }
   ],
   "source": [
    "numbers_lofar_combined_bins"
   ]
  },
  {
   "cell_type": "markdown",
   "metadata": {},
   "source": [
    "### Save intermediate data"
   ]
  },
  {
   "cell_type": "code",
   "execution_count": 291,
   "metadata": {},
   "outputs": [],
   "source": [
    "if save_intermediate:\n",
    "    lofar.write(\"{}/lofar_m2.fits\".format(idp), format=\"fits\")"
   ]
  },
  {
   "cell_type": "markdown",
   "metadata": {},
   "source": [
    "## Iterate until convergence"
   ]
  },
  {
   "cell_type": "code",
   "execution_count": 292,
   "metadata": {},
   "outputs": [],
   "source": [
    "rerun_iter = False"
   ]
  },
  {
   "cell_type": "code",
   "execution_count": 293,
   "metadata": {},
   "outputs": [],
   "source": [
    "if rerun_iter:\n",
    "    lofar = Table.read(\"{}/lofar_m2.fits\".format(idp))\n",
    "    bin_list, centers, Q_0_colour, n_m, q_m = pickle.load(open(\"{}/lofar_params_2.pckl\".format(idp), 'rb'))\n",
    "    inter_data_list = glob(\"{}/lofar_m*.fits\".format(idp))\n",
    "    # Remove data\n",
    "    for inter_data_file in inter_data_list:\n",
    "        if inter_data_file[-7:-5] not in [\"m1\", \"m2\"]:\n",
    "            #print(inter_data_file)\n",
    "            os.remove(inter_data_file)\n",
    "    # Remove images\n",
    "    images_list = glob(\"{}/*.png\".format(idp))\n",
    "    for images in images_list:\n",
    "        #print(images)\n",
    "        os.remove(images)\n",
    "    # Remove parameters\n",
    "    inter_param_list = glob(\"{}/lofar_params_*.pckl\".format(idp))\n",
    "    for inter_param_file in inter_param_list:\n",
    "        if inter_param_file[-7:-5] not in [\"1i\", \"w1\", \"_2\"]:\n",
    "            #print(inter_param_file)\n",
    "            os.remove(inter_param_file)"
   ]
  },
  {
   "cell_type": "code",
   "execution_count": 294,
   "metadata": {},
   "outputs": [],
   "source": [
    "radius = 15. "
   ]
  },
  {
   "cell_type": "code",
   "execution_count": 295,
   "metadata": {},
   "outputs": [],
   "source": [
    "from matplotlib import pyplot as plt"
   ]
  },
  {
   "cell_type": "code",
   "execution_count": 300,
   "metadata": {},
   "outputs": [],
   "source": [
    "def plot_q_n_m(q_m, n_m):\n",
    "    fig, a = plt.subplots()\n",
    "\n",
    "    for i, q_m_k in enumerate(q_m):\n",
    "        #plot(centers[i], q_m_old[i]/n_m_old[i])\n",
    "        a = plt.subplot(4,4,i+1)\n",
    "        if i not in [-1]:\n",
    "            n_m_aux = n_m[i]/np.sum(n_m[i])\n",
    "            lwidths = (n_m_aux/np.max(n_m_aux)*10).astype(float) + 1\n",
    "            #print(lwidths)\n",
    "\n",
    "            y_aux = q_m_k/n_m[i]\n",
    "            factor = np.max(y_aux[low:high])\n",
    "            y = y_aux\n",
    "            #print(y)\n",
    "            x = centers[i]\n",
    "\n",
    "            points = np.array([x, y]).T.reshape(-1, 1, 2)\n",
    "            segments = np.concatenate([points[:-1], points[1:]], axis=1)\n",
    "\n",
    "            lc = LineCollection(segments, linewidths=lwidths, color=colors[i])\n",
    "\n",
    "            a.add_collection(lc)\n",
    "\n",
    "            #plot(centers[i], x/factor, color=colors[i-1])\n",
    "            plt.xlim([12, 30])\n",
    "            if i == 0:\n",
    "                plt.xlim([10, 23])\n",
    "            plt.ylim([0, 1.2*factor])\n",
    "\n",
    "    plt.subplots_adjust(left=0.125, \n",
    "                    bottom=0.1, \n",
    "                    right=0.9, \n",
    "                    top=0.9,\n",
    "                    wspace=0.4, \n",
    "                    hspace=0.2)\n",
    "    return fig"
   ]
  },
  {
   "cell_type": "code",
   "execution_count": null,
   "metadata": {},
   "outputs": [
    {
     "name": "stdout",
     "output_type": "stream",
     "text": [
      "Iteration 3\n",
      "=============\n",
      "numbers_lofar_combined_bins\n",
      "[  736 12494   252   681  4348  6526  5116  5223  6702  8298 10410 21110]\n",
      "Q_0_colour\n",
      "[0.0073448  0.12468191 0.00251479 0.00679593 0.04339018 0.06512519\n",
      " 0.05105432 0.05212211 0.06688156 0.08280859 0.10388496 0.21066393]\n",
      "Q_0_total:  0.8172682547127446\n"
     ]
    },
    {
     "data": {
      "application/vnd.jupyter.widget-view+json": {
       "model_id": "41214aefcf7a4c559fecd31258994877",
       "version_major": 2,
       "version_minor": 0
      },
      "text/plain": [
       "HBox(children=(IntProgress(value=0, max=99963), HTML(value='')))"
      ]
     },
     "metadata": {},
     "output_type": "display_data"
    }
   ],
   "source": [
    "for j in range(10):\n",
    "    iteration = j+3 \n",
    "    print(\"Iteration {}\".format(iteration))\n",
    "    print(\"=============\")\n",
    "    ## Get new parameters\n",
    "    # Number of matched sources per bin\n",
    "    numbers_lofar_combined_bins = np.array([np.sum(lofar[\"category\"] == c) \n",
    "                                            for c in range(len(numbers_combined_bins))])\n",
    "    print(\"numbers_lofar_combined_bins\")\n",
    "    print(numbers_lofar_combined_bins)\n",
    "    # q_0\n",
    "    Q_0_colour_est = numbers_lofar_combined_bins/len(lofar) ### Q_0\n",
    "    Q_0_colour = q0_min_level(Q_0_colour_est, min_level=0.001)\n",
    "    print(\"Q_0_colour\")\n",
    "    print(Q_0_colour)\n",
    "    q0_total = np.sum(Q_0_colour)\n",
    "    print(\"Q_0_total: \", q0_total)\n",
    "    # q_m\n",
    "    q_m = []\n",
    "    # W2 only sources\n",
    "    q_m.append(get_q_m_kde(lofar[\"MAG_W2\"][lofar[\"category\"] == 0], \n",
    "                       centers[0], \n",
    "                       radius=radius,\n",
    "                       bandwidth=bandwidth_colour[0]))\n",
    "    # W1 only sources\n",
    "    q_m.append(get_q_m_kde(lofar[\"MAG_W1\"][lofar[\"category\"] == 1], \n",
    "                       centers[1], \n",
    "                       radius=radius,\n",
    "                       bandwidth=bandwidth_colour[1]))\n",
    "    # Rest of the sources\n",
    "    for i in range(2, len(numbers_lofar_combined_bins)):\n",
    "        q_m.append(get_q_m_kde(lofar[\"MAG_R\"][lofar[\"category\"] == i], \n",
    "                       centers[i], \n",
    "                       radius=radius,\n",
    "                       bandwidth=bandwidth_colour[i]))\n",
    "    # Save new parameters\n",
    "    if save_intermediate:\n",
    "        pickle.dump([bin_list, centers, Q_0_colour, n_m, q_m], \n",
    "                    open(\"{}/lofar_params_{}.pckl\".format(idp, iteration), 'wb'))\n",
    "    if plot_intermediate:\n",
    "        fig = plt.figure(figsize=(15,15))\n",
    "        for i, q_m_k in enumerate(q_m):\n",
    "            plt.subplot(5,5,i+1)\n",
    "            plt.plot(centers[i], q_m_k)\n",
    "        plt.savefig('{}/q0_{}.png'.format(idp, iteration))\n",
    "        del fig\n",
    "        fig = plt.figure(figsize=(15,15))\n",
    "        for i, q_m_k in enumerate(q_m):\n",
    "            plt.subplot(5,5,i+1)\n",
    "            plt.plot(centers[i], q_m_k/n_m[i])\n",
    "        plt.savefig('{}/q_over_n_{}.png'.format(idp, iteration))\n",
    "        del fig\n",
    "        fig = plot_q_n_m(q_m, n_m)\n",
    "        plt.savefig('{}/q_over_n_nice_{}.png'.format(idp, iteration))\n",
    "        del fig\n",
    "    ## Define new likelihood_ratio\n",
    "    likelihood_ratio = MultiMLEstimator(Q_0_colour, n_m, q_m, centers)\n",
    "    def ml(i):\n",
    "        return apply_ml(i, likelihood_ratio)\n",
    "    ## Run the ML\n",
    "    #res = parallel_process(idx_lofar_unique, ml, n_jobs=n_cpus)\n",
    "    res = Parallel(n_jobs=n_cpus)(delayed(ml)(i) for i in tqdm_notebook(idx_lofar_unique))\n",
    "    lofar[\"lr_index_{}\".format(iteration)] = np.nan\n",
    "    lofar[\"lr_dist_{}\".format(iteration)] = np.nan\n",
    "    lofar[\"lr_{}\".format(iteration)] = np.nan\n",
    "    (lofar[\"lr_index_{}\".format(iteration)][idx_lofar_unique], \n",
    "     lofar[\"lr_dist_{}\".format(iteration)][idx_lofar_unique], \n",
    "     lofar[\"lr_{}\".format(iteration)][idx_lofar_unique]) = list(map(list, zip(*res)))\n",
    "    lofar[\"lr_{}\".format(iteration)][np.isnan(lofar[\"lr_{}\".format(iteration)])] = 0\n",
    "    ## Get and apply the threshold\n",
    "    threshold = np.percentile(lofar[\"lr_{}\".format(iteration)], 100*(1 - q0_total))\n",
    "    #threshold = get_threshold(lofar[lofar[\"lr_{}\".format(iteration)] != 0][\"lr_{}\".format(iteration)])\n",
    "    print(\"Threshold: \", threshold)\n",
    "    if plot_intermediate:\n",
    "        fig = plt.figure(figsize=(15,6))\n",
    "        plt.subplot(1,2,1)\n",
    "        plt.hist(lofar[lofar[\"lr_{}\".format(iteration)] != 0][\"lr_{}\".format(iteration)], bins=200)\n",
    "        plt.vlines([threshold], 0, 1000)\n",
    "        plt.ylim([0,1000])\n",
    "        plt.subplot(1,2,2)\n",
    "        plt.hist(np.log10(lofar[lofar[\"lr_{}\".format(iteration)] != 0][\"lr_{}\".format(iteration)]+1), bins=200)\n",
    "        plt.vlines(np.log10(threshold+1), 0, 1000)\n",
    "        ticks, _ = plt.xticks()\n",
    "        plt.xticks(ticks, [\"{:.1f}\".format(10**t-1) for t in ticks])\n",
    "        plt.ylim([0,1000])\n",
    "        plt.savefig('{}/lr_distribution_{}.png'.format(idp, iteration))\n",
    "        del fig\n",
    "    ## Apply the threshold\n",
    "    lofar[\"lr_index_sel_{}\".format(iteration)] = lofar[\"lr_index_{}\".format(iteration)]\n",
    "    lofar[\"lr_index_sel_{}\".format(iteration)][lofar[\"lr_{}\".format(iteration)] < threshold] = np.nan\n",
    "    ## Enter changes into the catalogue\n",
    "    # Clear aux columns\n",
    "    lofar[\"category\"] = np.nan\n",
    "    lofar[\"MAG_W2\"] = np.nan\n",
    "    lofar[\"MAG_W1\"] = np.nan\n",
    "    lofar[\"MAG_R\"] = np.nan\n",
    "    # Update data\n",
    "    c = ~np.isnan(lofar[\"lr_index_sel_{}\".format(iteration)])\n",
    "    indices = lofar[\"lr_index_sel_{}\".format(iteration)][c].astype(int)\n",
    "    lofar[\"category\"][c] = combined[indices][\"category\"]\n",
    "    lofar[\"MAG_W2\"][c] = combined[indices][\"MAG_W2\"]\n",
    "    lofar[\"MAG_W1\"][c] = combined[indices][\"MAG_W1\"]\n",
    "    lofar[\"MAG_R\"][c] = combined[indices][\"MAG_R\"]\n",
    "    # Save the data\n",
    "    if save_intermediate:\n",
    "        lofar.write(\"{}/lofar_m{}.fits\".format(idp, iteration), format=\"fits\")\n",
    "    ## Compute number of changes\n",
    "    n_changes = np.sum((\n",
    "            lofar[\"lr_index_sel_{}\".format(iteration)] != lofar[\"lr_index_sel_{}\".format(iteration-1)]) & \n",
    "            ~np.isnan(lofar[\"lr_index_sel_{}\".format(iteration)]) &\n",
    "            ~np.isnan(lofar[\"lr_index_sel_{}\".format(iteration-1)]))\n",
    "    print(\"N changes: \", n_changes)\n",
    "    t_changes = np.sum((\n",
    "            lofar[\"lr_index_sel_{}\".format(iteration)] != lofar[\"lr_index_sel_{}\".format(iteration-1)]))\n",
    "    print(\"T changes: \", t_changes)\n",
    "    ## Check changes\n",
    "    if n_changes == 0:\n",
    "        break\n",
    "    else:\n",
    "        print(\"******** continue **********\")"
   ]
  },
  {
   "cell_type": "code",
   "execution_count": 164,
   "metadata": {},
   "outputs": [
    {
     "data": {
      "text/plain": [
       "array([19588,  3729,    83,   518,  2295,  3282,  4700,  5248,  5054,\n",
       "        4569,  4370,  3851,  3313,  4410,  1679,   540])"
      ]
     },
     "execution_count": 164,
     "metadata": {},
     "output_type": "execute_result"
    }
   ],
   "source": [
    "numbers_lofar_combined_bins = np.array([np.sum(lofar[\"category\"] == c) \n",
    "                                        for c in range(len(numbers_combined_bins))])\n",
    "numbers_lofar_combined_bins"
   ]
  },
  {
   "cell_type": "code",
   "execution_count": 165,
   "metadata": {
    "collapsed": true,
    "jupyter": {
     "outputs_hidden": true
    }
   },
   "outputs": [],
   "source": [
    "if save_intermediate:\n",
    "    pickle.dump([numbers_lofar_combined_bins, numbers_combined_bins], \n",
    "                open(\"{}/numbers_{}.pckl\".format(idp, iteration), 'wb'))"
   ]
  },
  {
   "cell_type": "code",
   "execution_count": 167,
   "metadata": {
    "collapsed": true,
    "jupyter": {
     "outputs_hidden": true
    }
   },
   "outputs": [],
   "source": [
    "good = False"
   ]
  },
  {
   "cell_type": "code",
   "execution_count": 193,
   "metadata": {},
   "outputs": [],
   "source": [
    "if good:\n",
    "    if os.path.exists(\"lofar_params.pckl\"):\n",
    "        os.remove(\"lofar_params.pckl\")\n",
    "    copyfile(\"{}/lofar_params_{}.pckl\".format(idp, iteration), \"lofar_params.pckl\")"
   ]
  },
  {
   "cell_type": "code",
   "execution_count": null,
   "metadata": {
    "collapsed": true,
    "jupyter": {
     "outputs_hidden": true
    }
   },
   "outputs": [],
   "source": []
  }
 ],
 "metadata": {
  "jupytext": {
   "formats": "ipynb,py:percent"
  },
  "kernelspec": {
   "display_name": "Python 3",
   "language": "python",
   "name": "python3"
  },
  "language_info": {
   "codemirror_mode": {
    "name": "ipython",
    "version": 3
   },
   "file_extension": ".py",
   "mimetype": "text/x-python",
   "name": "python",
   "nbconvert_exporter": "python",
   "pygments_lexer": "ipython3",
   "version": "3.7.3"
  }
 },
 "nbformat": 4,
 "nbformat_minor": 4
}
