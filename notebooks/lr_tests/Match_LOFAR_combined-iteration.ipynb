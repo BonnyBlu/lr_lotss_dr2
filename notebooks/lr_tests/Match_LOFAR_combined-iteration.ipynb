{
 "cells": [
  {
   "cell_type": "markdown",
   "metadata": {},
   "source": [
    "# ML match for LOFAR and the combined PanSTARRS WISE catalogue: Continue with the iterative part"
   ]
  },
  {
   "cell_type": "markdown",
   "metadata": {},
   "source": [
    "## Configuration\n",
    "\n",
    "### Load libraries and setup"
   ]
  },
  {
   "cell_type": "code",
   "execution_count": 1,
   "metadata": {},
   "outputs": [],
   "source": [
    "import pickle\n",
    "import os\n",
    "import sys\n",
    "import numpy as np\n",
    "from astropy.table import Table\n",
    "from astropy import units as u\n",
    "from astropy.coordinates import SkyCoord, search_around_sky\n",
    "from IPython.display import clear_output"
   ]
  },
  {
   "cell_type": "code",
   "execution_count": 2,
   "metadata": {},
   "outputs": [],
   "source": [
    "try:\n",
    "    BASEPATH = os.path.dirname(os.path.realpath(__file__))\n",
    "    data_path = os.path.join(BASEPATH, \"..\", \"..\", \"data\")\n",
    "except NameError:\n",
    "    if os.path.exists(\"data\"):\n",
    "        BASEPATH = \".\"\n",
    "        data_path = os.path.join(BASEPATH, \"data\")\n",
    "    else:\n",
    "        BASEPATH = os.getcwd()\n",
    "        data_path = os.path.join(BASEPATH, \"..\", \"..\", \"data\")"
   ]
  },
  {
   "cell_type": "code",
   "execution_count": 3,
   "metadata": {
    "collapsed": false,
    "jupyter": {
     "outputs_hidden": false
    }
   },
   "outputs": [],
   "source": [
    "sys.path.append(os.path.join(BASEPATH, '..', '..', 'src'))\n",
    "from mltier1 import (get_center, get_n_m, estimate_q_m, Field, SingleMLEstimator, MultiMLEstimator,\n",
    "                     parallel_process, get_sigma, get_q_m, get_threshold, q0_min_level, q0_min_numbers)"
   ]
  },
  {
   "cell_type": "code",
   "execution_count": 4,
   "metadata": {},
   "outputs": [],
   "source": [
    "%load_ext autoreload"
   ]
  },
  {
   "cell_type": "code",
   "execution_count": 5,
   "metadata": {
    "collapsed": false,
    "jupyter": {
     "outputs_hidden": false
    }
   },
   "outputs": [],
   "source": [
    "%autoreload"
   ]
  },
  {
   "cell_type": "code",
   "execution_count": 6,
   "metadata": {},
   "outputs": [],
   "source": [
    "import matplotlib.pyplot as plt"
   ]
  },
  {
   "cell_type": "code",
   "execution_count": 7,
   "metadata": {
    "collapsed": false,
    "jupyter": {
     "outputs_hidden": false
    }
   },
   "outputs": [],
   "source": [
    "%matplotlib inline"
   ]
  },
  {
   "cell_type": "markdown",
   "metadata": {},
   "source": [
    "### General configuration"
   ]
  },
  {
   "cell_type": "code",
   "execution_count": 8,
   "metadata": {},
   "outputs": [],
   "source": [
    "save_intermediate = True\n",
    "plot_intermediate = True"
   ]
  },
  {
   "cell_type": "code",
   "execution_count": 9,
   "metadata": {},
   "outputs": [],
   "source": [
    "start_iter = 3"
   ]
  },
  {
   "cell_type": "code",
   "execution_count": 10,
   "metadata": {},
   "outputs": [],
   "source": [
    "idp = os.path.join(BASEPATH, \"..\", \"..\", \"data\", \"idata\", \"main\")"
   ]
  },
  {
   "cell_type": "code",
   "execution_count": 11,
   "metadata": {
    "collapsed": false,
    "jupyter": {
     "outputs_hidden": false
    }
   },
   "outputs": [],
   "source": [
    "if not os.path.isdir(idp):\n",
    "    os.makedirs(idp)"
   ]
  },
  {
   "cell_type": "markdown",
   "metadata": {},
   "source": [
    "### Area limits"
   ]
  },
  {
   "cell_type": "code",
   "execution_count": 12,
   "metadata": {},
   "outputs": [],
   "source": [
    "field = Field(4.025, 7.08, 27.206, 29.8)"
   ]
  },
  {
   "cell_type": "markdown",
   "metadata": {},
   "source": [
    "## Load data"
   ]
  },
  {
   "cell_type": "code",
   "execution_count": 15,
   "metadata": {
    "collapsed": false,
    "jupyter": {
     "outputs_hidden": false
    }
   },
   "outputs": [],
   "source": [
    "combined_all = Table.read(os.path.join(data_path, \"samples\", \"test_combined.fits\"))"
   ]
  },
  {
   "cell_type": "code",
   "execution_count": 16,
   "metadata": {
    "collapsed": false,
    "jupyter": {
     "outputs_hidden": false
    }
   },
   "outputs": [],
   "source": [
    "lofar = Table.read(\"lofar_m{}.fits\".format(start_iter))"
   ]
  },
  {
   "cell_type": "code",
   "execution_count": 17,
   "metadata": {
    "collapsed": false,
    "jupyter": {
     "outputs_hidden": false
    }
   },
   "outputs": [
    {
     "data": {
      "text/plain": [
       "array(['AllWISE', 'objID', 'ra', 'dec', 'raErr', 'decErr', 'W1mag',\n",
       "       'W1magErr', 'i', 'iErr'], \n",
       "      dtype='<U8')"
      ]
     },
     "execution_count": 17,
     "metadata": {},
     "output_type": "execute_result"
    }
   ],
   "source": [
    "np.array(combined.colnames)"
   ]
  },
  {
   "cell_type": "code",
   "execution_count": 18,
   "metadata": {
    "collapsed": false,
    "jupyter": {
     "outputs_hidden": false
    }
   },
   "outputs": [
    {
     "data": {
      "text/plain": [
       "array(['Source_Name', 'RA', 'E_RA', 'E_RA_tot', 'DEC', 'E_DEC',\n",
       "       'E_DEC_tot', 'Peak_flux', 'E_Peak_flux', 'E_Peak_flux_tot',\n",
       "       'Total_flux', 'E_Total_flux', 'E_Total_flux_tot', 'Maj', 'E_Maj',\n",
       "       'Min', 'E_Min', 'PA', 'E_PA', 'Isl_rms', 'S_Code', 'Mosaic_ID',\n",
       "       'Gaus_id', 'Isl_id', 'Source_id', 'lr_i', 'lr_dist_i', 'lr_index_i',\n",
       "       'category', 'W1mag', 'i', 'lr_index_sel_i', 'lr_w1', 'lr_dist_w1',\n",
       "       'lr_index_w1', 'lr_index_sel_w1', 'lr_index_1', 'lr_dist_1', 'lr_1',\n",
       "       'lr_type_1', 'lr_index_2', 'lr_dist_2', 'lr_2', 'lr_index_sel_2',\n",
       "       'lr_index_3', 'lr_dist_3', 'lr_3', 'lr_index_sel_3'], \n",
       "      dtype='<U16')"
      ]
     },
     "execution_count": 18,
     "metadata": {},
     "output_type": "execute_result"
    }
   ],
   "source": [
    "np.array(lofar.colnames)"
   ]
  },
  {
   "cell_type": "markdown",
   "metadata": {},
   "source": [
    "### Additional data"
   ]
  },
  {
   "cell_type": "code",
   "execution_count": 19,
   "metadata": {
    "collapsed": true,
    "jupyter": {
     "outputs_hidden": true
    }
   },
   "outputs": [],
   "source": [
    "combined[\"colour\"] = combined[\"i\"] - combined[\"W1mag\"]"
   ]
  },
  {
   "cell_type": "code",
   "execution_count": 20,
   "metadata": {
    "collapsed": true,
    "jupyter": {
     "outputs_hidden": true
    }
   },
   "outputs": [],
   "source": [
    "combined_aux_index = np.arange(len(combined))"
   ]
  },
  {
   "cell_type": "markdown",
   "metadata": {},
   "source": [
    "### Sky coordinates"
   ]
  },
  {
   "cell_type": "code",
   "execution_count": 21,
   "metadata": {
    "collapsed": false,
    "jupyter": {
     "outputs_hidden": false
    }
   },
   "outputs": [],
   "source": [
    "coords_combined = SkyCoord(combined['ra'], \n",
    "                           combined['dec'], \n",
    "                           unit=(u.deg, u.deg), \n",
    "                           frame='icrs')"
   ]
  },
  {
   "cell_type": "code",
   "execution_count": 22,
   "metadata": {
    "collapsed": false,
    "jupyter": {
     "outputs_hidden": false
    }
   },
   "outputs": [],
   "source": [
    "coords_lofar = SkyCoord(lofar['RA'], \n",
    "                       lofar['DEC'], \n",
    "                       unit=(u.deg, u.deg), \n",
    "                       frame='icrs')"
   ]
  },
  {
   "cell_type": "markdown",
   "metadata": {},
   "source": [
    "### Class of sources in the combined catalogue\n",
    "\n",
    "The sources are grouped depending on the available photometric data."
   ]
  },
  {
   "cell_type": "code",
   "execution_count": 23,
   "metadata": {
    "collapsed": true,
    "jupyter": {
     "outputs_hidden": true
    }
   },
   "outputs": [],
   "source": [
    "combined_matched = (~np.isnan(combined[\"i\"]) & ~np.isnan(combined[\"W1mag\"])) # Matched i-W1 sources"
   ]
  },
  {
   "cell_type": "code",
   "execution_count": 24,
   "metadata": {
    "collapsed": true,
    "jupyter": {
     "outputs_hidden": true
    }
   },
   "outputs": [],
   "source": [
    "combined_panstarrs = (~np.isnan(combined[\"i\"]) & np.isnan(combined[\"W1mag\"])) # Sources with only i-band"
   ]
  },
  {
   "cell_type": "code",
   "execution_count": 25,
   "metadata": {
    "collapsed": true,
    "jupyter": {
     "outputs_hidden": true
    }
   },
   "outputs": [],
   "source": [
    "combined_wise =(np.isnan(combined[\"i\"]) & ~np.isnan(combined[\"W1mag\"])) # Sources with only W1-band"
   ]
  },
  {
   "cell_type": "code",
   "execution_count": 26,
   "metadata": {
    "collapsed": true,
    "jupyter": {
     "outputs_hidden": true
    }
   },
   "outputs": [],
   "source": [
    "combined_i = combined_matched | combined_panstarrs\n",
    "combined_w1 = combined_matched | combined_wise\n",
    "#combined_only_i = combined_panstarrs & ~combined_matched\n",
    "#combined_only_w1 = combined_wise & ~combined_matched"
   ]
  },
  {
   "cell_type": "code",
   "execution_count": 27,
   "metadata": {
    "collapsed": false,
    "jupyter": {
     "outputs_hidden": false
    }
   },
   "outputs": [
    {
     "name": "stdout",
     "output_type": "stream",
     "text": [
      "Total    -  5231965\n",
      "i and W1 -  1339600\n",
      "Only i   -  3071319\n",
      "With i   -  4410919\n",
      "Only W1  -  821044\n",
      "With W1  -  2160644\n"
     ]
    }
   ],
   "source": [
    "print(\"Total    - \", len(combined))\n",
    "print(\"i and W1 - \", np.sum(combined_matched))\n",
    "print(\"Only i   - \", np.sum(combined_panstarrs))\n",
    "print(\"With i   - \", np.sum(combined_i))\n",
    "print(\"Only W1  - \", np.sum(combined_wise))\n",
    "print(\"With W1  - \", np.sum(combined_w1))"
   ]
  },
  {
   "cell_type": "markdown",
   "metadata": {},
   "source": [
    "### Colour categories\n",
    "\n",
    "The colour categories will be used after the first ML match"
   ]
  },
  {
   "cell_type": "code",
   "execution_count": 28,
   "metadata": {
    "collapsed": true,
    "jupyter": {
     "outputs_hidden": true
    }
   },
   "outputs": [],
   "source": [
    "colour_limits = [-0.5, 0.0, 0.5, 1.0, 1.25, 1.5, 1.75, 2.0, 2.25, 2.5, 2.75, 3.0, 3.5, 4.0]"
   ]
  },
  {
   "cell_type": "code",
   "execution_count": 29,
   "metadata": {
    "collapsed": false,
    "jupyter": {
     "outputs_hidden": false
    }
   },
   "outputs": [
    {
     "name": "stderr",
     "output_type": "stream",
     "text": [
      "/home/jsm/programs/soft/anaconda/envs/py36/lib/python3.6/site-packages/ipykernel/__main__.py:5: RuntimeWarning: invalid value encountered in less\n",
      "/home/jsm/programs/soft/anaconda/envs/py36/lib/python3.6/site-packages/ipykernel/__main__.py:10: RuntimeWarning: invalid value encountered in greater_equal\n",
      "/home/jsm/programs/soft/anaconda/envs/py36/lib/python3.6/site-packages/ipykernel/__main__.py:11: RuntimeWarning: invalid value encountered in less\n",
      "/home/jsm/programs/soft/anaconda/envs/py36/lib/python3.6/site-packages/ipykernel/__main__.py:16: RuntimeWarning: invalid value encountered in greater_equal\n"
     ]
    }
   ],
   "source": [
    "# Start with the W1-only, i-only and \"less than lower colour\" bins\n",
    "colour_bin_def = [{\"name\":\"only W1\", \"condition\": combined_wise},\n",
    "                  {\"name\":\"only i\", \"condition\": combined_panstarrs},\n",
    "                  {\"name\":\"-inf to {}\".format(colour_limits[0]), \n",
    "                   \"condition\": (combined[\"colour\"] < colour_limits[0])}]\n",
    "\n",
    "# Get the colour bins\n",
    "for i in range(len(colour_limits)-1):\n",
    "    name = \"{} to {}\".format(colour_limits[i], colour_limits[i+1])\n",
    "    condition = ((combined[\"colour\"] >= colour_limits[i]) & \n",
    "                 (combined[\"colour\"] < colour_limits[i+1]))\n",
    "    colour_bin_def.append({\"name\":name, \"condition\":condition})\n",
    "\n",
    "# Add the \"more than higher colour\" bin\n",
    "colour_bin_def.append({\"name\":\"{} to inf\".format(colour_limits[-1]), \n",
    "                       \"condition\": (combined[\"colour\"] >= colour_limits[-1])})"
   ]
  },
  {
   "cell_type": "code",
   "execution_count": 30,
   "metadata": {
    "collapsed": true,
    "jupyter": {
     "outputs_hidden": true
    }
   },
   "outputs": [],
   "source": [
    "combined[\"category\"] = np.nan\n",
    "for i in range(len(colour_bin_def)):\n",
    "    combined[\"category\"][colour_bin_def[i][\"condition\"]] = i"
   ]
  },
  {
   "cell_type": "markdown",
   "metadata": {},
   "source": [
    "### Load common parameters\n",
    "\n",
    "These parameters are derived from the underlying population and will not change."
   ]
  },
  {
   "cell_type": "code",
   "execution_count": 31,
   "metadata": {
    "collapsed": true,
    "jupyter": {
     "outputs_hidden": true
    }
   },
   "outputs": [],
   "source": [
    "bin_list_i = np.linspace(12., 30., 361) # Bins of 0.05\n",
    "bin_list_w1 = np.linspace(10., 23., 261) # Bins of 0.05"
   ]
  },
  {
   "cell_type": "code",
   "execution_count": 32,
   "metadata": {
    "collapsed": false,
    "jupyter": {
     "outputs_hidden": false
    }
   },
   "outputs": [],
   "source": [
    "bin_list = [bin_list_w1 if i == 0 else bin_list_i for i in range(len(colour_bin_def))]\n",
    "centers = [get_center(b) for b in bin_list]"
   ]
  },
  {
   "cell_type": "code",
   "execution_count": 33,
   "metadata": {
    "collapsed": true,
    "jupyter": {
     "outputs_hidden": true
    }
   },
   "outputs": [],
   "source": [
    "numbers_combined_bins = np.array([np.sum(a[\"condition\"]) for a in colour_bin_def])"
   ]
  },
  {
   "cell_type": "code",
   "execution_count": 34,
   "metadata": {
    "collapsed": false,
    "jupyter": {
     "outputs_hidden": false
    }
   },
   "outputs": [
    {
     "data": {
      "text/plain": [
       "array([ 821044, 3071319,   84707,   60082,  103264,  149390,  107874,\n",
       "        126702,  135867,  133622,  120776,  100308,   77175,   55963,\n",
       "         58777,   18318,    6775])"
      ]
     },
     "execution_count": 34,
     "metadata": {},
     "output_type": "execute_result"
    }
   ],
   "source": [
    "numbers_combined_bins"
   ]
  },
  {
   "cell_type": "code",
   "execution_count": 35,
   "metadata": {
    "collapsed": true,
    "jupyter": {
     "outputs_hidden": true
    }
   },
   "outputs": [],
   "source": [
    "n_m = []\n",
    "\n",
    "# W1 only sources\n",
    "n_m.append(get_n_m(combined[\"W1mag\"][combined[\"category\"] == 0], bin_list_w1, field.area))\n",
    "\n",
    "# Rest of the sources\n",
    "for i in range(1, len(colour_bin_def)):\n",
    "    n_m.append(get_n_m(combined[\"i\"][combined[\"category\"] == i], bin_list_i, field.area))"
   ]
  },
  {
   "cell_type": "markdown",
   "metadata": {},
   "source": [
    "### Correct the \n",
    "\n",
    "We make sure that these auxiliary parameters are correct"
   ]
  },
  {
   "cell_type": "code",
   "execution_count": 36,
   "metadata": {
    "collapsed": true,
    "jupyter": {
     "outputs_hidden": true
    }
   },
   "outputs": [],
   "source": [
    "lofar[\"category\"] = np.nan\n",
    "lofar[\"W1mag\"] = np.nan\n",
    "lofar[\"i\"] = np.nan"
   ]
  },
  {
   "cell_type": "code",
   "execution_count": 37,
   "metadata": {
    "collapsed": false,
    "jupyter": {
     "outputs_hidden": false
    }
   },
   "outputs": [],
   "source": [
    "c = ~np.isnan(lofar[\"lr_index_sel_{}\".format(start_iter)])\n",
    "indices = lofar[\"lr_index_sel_{}\".format(start_iter)][c].astype(int)\n",
    "lofar[\"category\"][c] = combined[indices][\"category\"]\n",
    "lofar[\"W1mag\"][c] = combined[indices][\"W1mag\"]\n",
    "lofar[\"i\"][c] = combined[indices][\"i\"]"
   ]
  },
  {
   "cell_type": "markdown",
   "metadata": {},
   "source": [
    "### Prepare for ML"
   ]
  },
  {
   "cell_type": "code",
   "execution_count": 38,
   "metadata": {
    "collapsed": true,
    "jupyter": {
     "outputs_hidden": true
    }
   },
   "outputs": [],
   "source": [
    "selection = ~np.isnan(combined[\"category\"]) # Avoid the two dreaded sources with no actual data\n",
    "catalogue = combined[selection]"
   ]
  },
  {
   "cell_type": "code",
   "execution_count": 39,
   "metadata": {
    "collapsed": true,
    "jupyter": {
     "outputs_hidden": true
    }
   },
   "outputs": [],
   "source": [
    "radius = 15"
   ]
  },
  {
   "cell_type": "code",
   "execution_count": 40,
   "metadata": {
    "collapsed": true,
    "jupyter": {
     "outputs_hidden": true
    }
   },
   "outputs": [],
   "source": [
    "def apply_ml(i, likelihood_ratio_function):\n",
    "    idx_0 = idx_i[idx_lofar == i]\n",
    "    d2d_0 = d2d[idx_lofar == i]\n",
    "    \n",
    "    category = catalogue[\"category\"][idx_0].astype(int)\n",
    "    mag = catalogue[\"i\"][idx_0]\n",
    "    mag[category == 0] = catalogue[\"W1mag\"][idx_0][category == 0]\n",
    "    \n",
    "    lofar_ra = lofar[i][\"RA\"]\n",
    "    lofar_dec = lofar[i][\"DEC\"]\n",
    "    lofar_pa = lofar[i][\"PA\"]\n",
    "    lofar_maj_err = lofar[i][\"E_Maj\"]\n",
    "    lofar_min_err = lofar[i][\"E_Min\"]\n",
    "    c_ra = catalogue[\"ra\"][idx_0]\n",
    "    c_dec = catalogue[\"dec\"][idx_0]\n",
    "    c_ra_err = catalogue[\"raErr\"][idx_0]\n",
    "    c_dec_err = catalogue[\"decErr\"][idx_0]\n",
    "    \n",
    "    sigma = get_sigma(lofar_maj_err, lofar_min_err, lofar_pa, \n",
    "                      lofar_ra, lofar_dec, \n",
    "                      c_ra, c_dec, c_ra_err, c_dec_err)\n",
    "\n",
    "    lr_0 = likelihood_ratio_function(mag, d2d_0.arcsec, sigma, category)\n",
    "    \n",
    "    chosen_index = np.argmax(lr_0)\n",
    "    result = [combined_aux_index[selection][idx_0[chosen_index]], # Index\n",
    "              (d2d_0.arcsec)[chosen_index],                        # distance\n",
    "              lr_0[chosen_index]]                                  # LR\n",
    "    return result"
   ]
  },
  {
   "cell_type": "markdown",
   "metadata": {},
   "source": [
    "### Run the cross-match\n",
    "\n",
    "This will not need to be repeated after"
   ]
  },
  {
   "cell_type": "code",
   "execution_count": 41,
   "metadata": {
    "collapsed": true,
    "jupyter": {
     "outputs_hidden": true
    }
   },
   "outputs": [],
   "source": [
    "idx_lofar, idx_i, d2d, d3d = search_around_sky(\n",
    "    coords_lofar, coords_combined[selection], radius*u.arcsec)"
   ]
  },
  {
   "cell_type": "code",
   "execution_count": 42,
   "metadata": {
    "collapsed": true,
    "jupyter": {
     "outputs_hidden": true
    }
   },
   "outputs": [],
   "source": [
    "idx_lofar_unique = np.unique(idx_lofar)"
   ]
  },
  {
   "cell_type": "markdown",
   "metadata": {},
   "source": [
    "## Iterate until convergence"
   ]
  },
  {
   "cell_type": "code",
   "execution_count": 43,
   "metadata": {
    "collapsed": true,
    "jupyter": {
     "outputs_hidden": true
    }
   },
   "outputs": [],
   "source": [
    "from matplotlib import pyplot as plt"
   ]
  },
  {
   "cell_type": "code",
   "execution_count": 44,
   "metadata": {
    "collapsed": true,
    "jupyter": {
     "outputs_hidden": true
    }
   },
   "outputs": [],
   "source": [
    "#cor_factor = 0.03 # 3% less sources"
   ]
  },
  {
   "cell_type": "code",
   "execution_count": 45,
   "metadata": {
    "collapsed": true,
    "jupyter": {
     "outputs_hidden": true
    }
   },
   "outputs": [],
   "source": [
    "radius = 15"
   ]
  },
  {
   "cell_type": "code",
   "execution_count": null,
   "metadata": {
    "collapsed": false,
    "jupyter": {
     "outputs_hidden": false
    }
   },
   "outputs": [
    {
     "name": "stdout",
     "output_type": "stream",
     "text": [
      "Iteration 4\n",
      "=============\n",
      "numbers_lofar_combined_bins\n",
      "[21265  5556   127   131   567  2333  3236  4895  5602  5472  4981  4730\n",
      "  4019  3498  4627  1875   622]\n",
      "Q_0_colour\n",
      "[ 0.19620598  0.0512636   0.00117179  0.0012087   0.00523154  0.02152591\n",
      "  0.02985763  0.04516474  0.05168803  0.05048855  0.04595824  0.04364234\n",
      "  0.03708215  0.03227503  0.04269198  0.01730008  0.00573901]\n",
      "Q_0_total:  0.678495308218\n"
     ]
    },
    {
     "name": "stderr",
     "output_type": "stream",
     "text": [
      " 36%|███▌      | 37.3K/104K [13:01<28:30, 38.9it/s]Process Process-2:\n",
      "Traceback (most recent call last):\n",
      "  File \"/home/jsm/programs/soft/anaconda/envs/py36/lib/python3.6/multiprocessing/process.py\", line 249, in _bootstrap\n",
      "    self.run()\n",
      "  File \"/home/jsm/programs/soft/anaconda/envs/py36/lib/python3.6/multiprocessing/process.py\", line 93, in run\n",
      "    self._target(*self._args, **self._kwargs)\n",
      "  File \"/home/jsm/programs/soft/anaconda/envs/py36/lib/python3.6/concurrent/futures/process.py\", line 169, in _process_worker\n",
      "    call_item = call_queue.get(block=True)\n",
      "  File \"/home/jsm/programs/soft/anaconda/envs/py36/lib/python3.6/multiprocessing/queues.py\", line 94, in get\n",
      "    res = self._recv_bytes()\n",
      "  File \"/home/jsm/programs/soft/anaconda/envs/py36/lib/python3.6/multiprocessing/connection.py\", line 216, in recv_bytes\n",
      "    buf = self._recv_bytes(maxlength)\n",
      "  File \"/home/jsm/programs/soft/anaconda/envs/py36/lib/python3.6/multiprocessing/connection.py\", line 407, in _recv_bytes\n",
      "    buf = self._recv(4)\n",
      "  File \"/home/jsm/programs/soft/anaconda/envs/py36/lib/python3.6/multiprocessing/connection.py\", line 379, in _recv\n",
      "    chunk = read(handle, remaining)\n",
      "KeyboardInterrupt\n",
      "Process Process-1:\n",
      "KeyboardInterrupt\n",
      "Traceback (most recent call last):\n",
      "  File \"/home/jsm/programs/soft/anaconda/envs/py36/lib/python3.6/multiprocessing/process.py\", line 249, in _bootstrap\n",
      "    self.run()\n",
      "  File \"/home/jsm/programs/soft/anaconda/envs/py36/lib/python3.6/multiprocessing/process.py\", line 93, in run\n",
      "    self._target(*self._args, **self._kwargs)\n",
      "  File \"/home/jsm/programs/soft/anaconda/envs/py36/lib/python3.6/concurrent/futures/process.py\", line 169, in _process_worker\n",
      "    call_item = call_queue.get(block=True)\n",
      "  File \"/home/jsm/programs/soft/anaconda/envs/py36/lib/python3.6/multiprocessing/queues.py\", line 94, in get\n",
      "    res = self._recv_bytes()\n",
      "ERROR:root:Internal Python error in the inspect module.\n",
      "Below is the traceback from this internal error.\n",
      "\n",
      "  File \"/home/jsm/programs/soft/anaconda/envs/py36/lib/python3.6/multiprocessing/connection.py\", line 216, in recv_bytes\n",
      "    buf = self._recv_bytes(maxlength)\n",
      "  File \"/home/jsm/programs/soft/anaconda/envs/py36/lib/python3.6/multiprocessing/connection.py\", line 407, in _recv_bytes\n",
      "    buf = self._recv(4)\n",
      "  File \"/home/jsm/programs/soft/anaconda/envs/py36/lib/python3.6/multiprocessing/connection.py\", line 379, in _recv\n",
      "    chunk = read(handle, remaining)\n",
      "KeyboardInterrupt\n",
      "Process Process-3:\n",
      "Process Process-4:\n",
      "Traceback (most recent call last):\n",
      "  File \"/home/jsm/programs/soft/anaconda/envs/py36/lib/python3.6/multiprocessing/process.py\", line 249, in _bootstrap\n",
      "    self.run()\n",
      "  File \"/home/jsm/programs/soft/anaconda/envs/py36/lib/python3.6/multiprocessing/process.py\", line 93, in run\n",
      "    self._target(*self._args, **self._kwargs)\n",
      "Traceback (most recent call last):\n",
      "  File \"/home/jsm/programs/soft/anaconda/envs/py36/lib/python3.6/multiprocessing/process.py\", line 249, in _bootstrap\n",
      "    self.run()\n",
      "  File \"/home/jsm/programs/soft/anaconda/envs/py36/lib/python3.6/multiprocessing/process.py\", line 93, in run\n",
      "    self._target(*self._args, **self._kwargs)\n",
      "  File \"/home/jsm/programs/soft/anaconda/envs/py36/lib/python3.6/concurrent/futures/process.py\", line 169, in _process_worker\n",
      "    call_item = call_queue.get(block=True)\n",
      "  File \"/home/jsm/programs/soft/anaconda/envs/py36/lib/python3.6/concurrent/futures/process.py\", line 169, in _process_worker\n",
      "    call_item = call_queue.get(block=True)\n",
      "  File \"/home/jsm/programs/soft/anaconda/envs/py36/lib/python3.6/multiprocessing/queues.py\", line 93, in get\n",
      "    with self._rlock:\n",
      "  File \"/home/jsm/programs/soft/anaconda/envs/py36/lib/python3.6/multiprocessing/synchronize.py\", line 96, in __enter__\n",
      "    return self._semlock.__enter__()\n",
      "  File \"/home/jsm/programs/soft/anaconda/envs/py36/lib/python3.6/multiprocessing/queues.py\", line 94, in get\n",
      "    res = self._recv_bytes()\n",
      "KeyboardInterrupt\n",
      "  File \"/home/jsm/programs/soft/anaconda/envs/py36/lib/python3.6/multiprocessing/connection.py\", line 216, in recv_bytes\n",
      "    buf = self._recv_bytes(maxlength)\n",
      "  File \"/home/jsm/programs/soft/anaconda/envs/py36/lib/python3.6/multiprocessing/connection.py\", line 407, in _recv_bytes\n",
      "    buf = self._recv(4)\n",
      "  File \"/home/jsm/programs/soft/anaconda/envs/py36/lib/python3.6/multiprocessing/connection.py\", line 379, in _recv\n",
      "    chunk = read(handle, remaining)\n",
      "\n",
      "KeyboardInterrupt\n",
      "\n",
      "ERROR:tornado.general:Uncaught exception, closing connection.\n",
      "Traceback (most recent call last):\n",
      "  File \"/home/jsm/programs/soft/anaconda/envs/py36/lib/python3.6/site-packages/zmq/eventloop/zmqstream.py\", line 414, in _run_callback\n",
      "    callback(*args, **kwargs)\n",
      "  File \"/home/jsm/programs/soft/anaconda/envs/py36/lib/python3.6/site-packages/tornado/stack_context.py\", line 275, in null_wrapper\n",
      "    return fn(*args, **kwargs)\n",
      "  File \"/home/jsm/programs/soft/anaconda/envs/py36/lib/python3.6/site-packages/ipykernel/kernelbase.py\", line 276, in dispatcher\n",
      "    return self.dispatch_shell(stream, msg)\n",
      "  File \"/home/jsm/programs/soft/anaconda/envs/py36/lib/python3.6/site-packages/ipykernel/kernelbase.py\", line 228, in dispatch_shell\n",
      "    handler(stream, idents, msg)\n",
      "  File \"/home/jsm/programs/soft/anaconda/envs/py36/lib/python3.6/site-packages/ipykernel/kernelbase.py\", line 390, in execute_request\n",
      "    user_expressions, allow_stdin)\n",
      "  File \"/home/jsm/programs/soft/anaconda/envs/py36/lib/python3.6/site-packages/ipykernel/ipkernel.py\", line 196, in do_execute\n",
      "    res = shell.run_cell(code, store_history=store_history, silent=silent)\n",
      "  File \"/home/jsm/programs/soft/anaconda/envs/py36/lib/python3.6/site-packages/ipykernel/zmqshell.py\", line 501, in run_cell\n",
      "    return super(ZMQInteractiveShell, self).run_cell(*args, **kwargs)\n",
      "  File \"/home/jsm/programs/soft/anaconda/envs/py36/lib/python3.6/site-packages/IPython/core/interactiveshell.py\", line 2725, in run_cell\n",
      "    self.events.trigger('post_execute')\n",
      "  File \"/home/jsm/programs/soft/anaconda/envs/py36/lib/python3.6/site-packages/IPython/core/events.py\", line 74, in trigger\n",
      "    func(*args, **kwargs)\n",
      "  File \"/home/jsm/programs/soft/anaconda/envs/py36/lib/python3.6/site-packages/ipykernel/pylab/backend_inline.py\", line 113, in flush_figures\n",
      "    return show(True)\n",
      "  File \"/home/jsm/programs/soft/anaconda/envs/py36/lib/python3.6/site-packages/ipykernel/pylab/backend_inline.py\", line 36, in show\n",
      "    display(figure_manager.canvas.figure)\n",
      "  File \"/home/jsm/programs/soft/anaconda/envs/py36/lib/python3.6/site-packages/IPython/core/display.py\", line 164, in display\n",
      "    format_dict, md_dict = format(obj, include=include, exclude=exclude)\n",
      "  File \"/home/jsm/programs/soft/anaconda/envs/py36/lib/python3.6/site-packages/IPython/core/formatters.py\", line 145, in format\n",
      "    data = formatter(obj)\n",
      "  File \"<decorator-gen-9>\", line 2, in __call__\n",
      "  File \"/home/jsm/programs/soft/anaconda/envs/py36/lib/python3.6/site-packages/IPython/core/formatters.py\", line 190, in catch_format_error\n",
      "    r = method(self, *args, **kwargs)\n",
      "  File \"/home/jsm/programs/soft/anaconda/envs/py36/lib/python3.6/site-packages/IPython/core/formatters.py\", line 307, in __call__\n",
      "    return printer(obj)\n",
      "  File \"/home/jsm/programs/soft/anaconda/envs/py36/lib/python3.6/site-packages/IPython/core/pylabtools.py\", line 227, in <lambda>\n",
      "    png_formatter.for_type(Figure, lambda fig: print_figure(fig, 'png', **kwargs))\n",
      "  File \"/home/jsm/programs/soft/anaconda/envs/py36/lib/python3.6/site-packages/IPython/core/pylabtools.py\", line 119, in print_figure\n",
      "    fig.canvas.print_figure(bytes_io, **kw)\n",
      "  File \"/home/jsm/programs/soft/anaconda/envs/py36/lib/python3.6/site-packages/matplotlib/backend_bases.py\", line 2192, in print_figure\n",
      "    **kwargs)\n",
      "  File \"/home/jsm/programs/soft/anaconda/envs/py36/lib/python3.6/site-packages/matplotlib/backends/backend_agg.py\", line 545, in print_png\n",
      "    FigureCanvasAgg.draw(self)\n",
      "  File \"/home/jsm/programs/soft/anaconda/envs/py36/lib/python3.6/site-packages/matplotlib/backends/backend_agg.py\", line 464, in draw\n",
      "    self.figure.draw(self.renderer)\n",
      "  File \"/home/jsm/programs/soft/anaconda/envs/py36/lib/python3.6/site-packages/matplotlib/artist.py\", line 63, in draw_wrapper\n",
      "    draw(artist, renderer, *args, **kwargs)\n",
      "  File \"/home/jsm/programs/soft/anaconda/envs/py36/lib/python3.6/site-packages/matplotlib/figure.py\", line 1143, in draw\n",
      "    renderer, self, dsu, self.suppressComposite)\n",
      "  File \"/home/jsm/programs/soft/anaconda/envs/py36/lib/python3.6/site-packages/matplotlib/image.py\", line 139, in _draw_list_compositing_images\n",
      "    a.draw(renderer)\n",
      "  File \"/home/jsm/programs/soft/anaconda/envs/py36/lib/python3.6/site-packages/matplotlib/artist.py\", line 63, in draw_wrapper\n",
      "    draw(artist, renderer, *args, **kwargs)\n",
      "  File \"/home/jsm/programs/soft/anaconda/envs/py36/lib/python3.6/site-packages/matplotlib/axes/_base.py\", line 2409, in draw\n",
      "    mimage._draw_list_compositing_images(renderer, self, dsu)\n",
      "  File \"/home/jsm/programs/soft/anaconda/envs/py36/lib/python3.6/site-packages/matplotlib/image.py\", line 139, in _draw_list_compositing_images\n",
      "    a.draw(renderer)\n",
      "  File \"/home/jsm/programs/soft/anaconda/envs/py36/lib/python3.6/site-packages/matplotlib/artist.py\", line 63, in draw_wrapper\n",
      "    draw(artist, renderer, *args, **kwargs)\n",
      "  File \"/home/jsm/programs/soft/anaconda/envs/py36/lib/python3.6/site-packages/matplotlib/axis.py\", line 1141, in draw\n",
      "    tick.draw(renderer)\n",
      "  File \"/home/jsm/programs/soft/anaconda/envs/py36/lib/python3.6/site-packages/matplotlib/artist.py\", line 63, in draw_wrapper\n",
      "    draw(artist, renderer, *args, **kwargs)\n",
      "  File \"/home/jsm/programs/soft/anaconda/envs/py36/lib/python3.6/site-packages/matplotlib/axis.py\", line 259, in draw\n",
      "    self.tick1line.draw(renderer)\n",
      "  File \"/home/jsm/programs/soft/anaconda/envs/py36/lib/python3.6/site-packages/matplotlib/artist.py\", line 63, in draw_wrapper\n",
      "    draw(artist, renderer, *args, **kwargs)\n",
      "  File \"/home/jsm/programs/soft/anaconda/envs/py36/lib/python3.6/site-packages/matplotlib/lines.py\", line 845, in draw\n",
      "    tpath, affine = transf_path.get_transformed_points_and_affine()\n",
      "  File \"/home/jsm/programs/soft/anaconda/envs/py36/lib/python3.6/site-packages/matplotlib/transforms.py\", line 2724, in get_transformed_points_and_affine\n",
      "    self._revalidate()\n",
      "  File \"/home/jsm/programs/soft/anaconda/envs/py36/lib/python3.6/site-packages/matplotlib/transforms.py\", line 2713, in _revalidate\n",
      "    'should_simplify': self._path.should_simplify})\n",
      "  File \"/home/jsm/programs/soft/anaconda/envs/py36/lib/python3.6/site-packages/matplotlib/path.py\", line 199, in _fast_from_codes_and_verts\n",
      "    internals.pop('simplify_threshold',\n",
      "KeyboardInterrupt\n",
      "ERROR:tornado.general:Uncaught exception, closing connection.\n",
      "Traceback (most recent call last):\n",
      "  File \"/home/jsm/programs/soft/anaconda/envs/py36/lib/python3.6/site-packages/zmq/eventloop/zmqstream.py\", line 440, in _handle_events\n",
      "    self._handle_recv()\n",
      "  File \"/home/jsm/programs/soft/anaconda/envs/py36/lib/python3.6/site-packages/zmq/eventloop/zmqstream.py\", line 472, in _handle_recv\n",
      "    self._run_callback(callback, msg)\n",
      "  File \"/home/jsm/programs/soft/anaconda/envs/py36/lib/python3.6/site-packages/zmq/eventloop/zmqstream.py\", line 414, in _run_callback\n",
      "    callback(*args, **kwargs)\n",
      "  File \"/home/jsm/programs/soft/anaconda/envs/py36/lib/python3.6/site-packages/tornado/stack_context.py\", line 275, in null_wrapper\n",
      "    return fn(*args, **kwargs)\n",
      "  File \"/home/jsm/programs/soft/anaconda/envs/py36/lib/python3.6/site-packages/ipykernel/kernelbase.py\", line 276, in dispatcher\n",
      "    return self.dispatch_shell(stream, msg)\n",
      "  File \"/home/jsm/programs/soft/anaconda/envs/py36/lib/python3.6/site-packages/ipykernel/kernelbase.py\", line 228, in dispatch_shell\n",
      "    handler(stream, idents, msg)\n",
      "  File \"/home/jsm/programs/soft/anaconda/envs/py36/lib/python3.6/site-packages/ipykernel/kernelbase.py\", line 390, in execute_request\n",
      "    user_expressions, allow_stdin)\n",
      "  File \"/home/jsm/programs/soft/anaconda/envs/py36/lib/python3.6/site-packages/ipykernel/ipkernel.py\", line 196, in do_execute\n",
      "    res = shell.run_cell(code, store_history=store_history, silent=silent)\n",
      "  File \"/home/jsm/programs/soft/anaconda/envs/py36/lib/python3.6/site-packages/ipykernel/zmqshell.py\", line 501, in run_cell\n",
      "    return super(ZMQInteractiveShell, self).run_cell(*args, **kwargs)\n",
      "  File \"/home/jsm/programs/soft/anaconda/envs/py36/lib/python3.6/site-packages/IPython/core/interactiveshell.py\", line 2725, in run_cell\n",
      "    self.events.trigger('post_execute')\n",
      "  File \"/home/jsm/programs/soft/anaconda/envs/py36/lib/python3.6/site-packages/IPython/core/events.py\", line 74, in trigger\n",
      "    func(*args, **kwargs)\n",
      "  File \"/home/jsm/programs/soft/anaconda/envs/py36/lib/python3.6/site-packages/ipykernel/pylab/backend_inline.py\", line 113, in flush_figures\n",
      "    return show(True)\n",
      "  File \"/home/jsm/programs/soft/anaconda/envs/py36/lib/python3.6/site-packages/ipykernel/pylab/backend_inline.py\", line 36, in show\n",
      "    display(figure_manager.canvas.figure)\n",
      "  File \"/home/jsm/programs/soft/anaconda/envs/py36/lib/python3.6/site-packages/IPython/core/display.py\", line 164, in display\n",
      "    format_dict, md_dict = format(obj, include=include, exclude=exclude)\n",
      "  File \"/home/jsm/programs/soft/anaconda/envs/py36/lib/python3.6/site-packages/IPython/core/formatters.py\", line 145, in format\n",
      "    data = formatter(obj)\n",
      "  File \"<decorator-gen-9>\", line 2, in __call__\n",
      "  File \"/home/jsm/programs/soft/anaconda/envs/py36/lib/python3.6/site-packages/IPython/core/formatters.py\", line 190, in catch_format_error\n",
      "    r = method(self, *args, **kwargs)\n",
      "  File \"/home/jsm/programs/soft/anaconda/envs/py36/lib/python3.6/site-packages/IPython/core/formatters.py\", line 307, in __call__\n",
      "    return printer(obj)\n",
      "  File \"/home/jsm/programs/soft/anaconda/envs/py36/lib/python3.6/site-packages/IPython/core/pylabtools.py\", line 227, in <lambda>\n",
      "    png_formatter.for_type(Figure, lambda fig: print_figure(fig, 'png', **kwargs))\n",
      "  File \"/home/jsm/programs/soft/anaconda/envs/py36/lib/python3.6/site-packages/IPython/core/pylabtools.py\", line 119, in print_figure\n",
      "    fig.canvas.print_figure(bytes_io, **kw)\n",
      "  File \"/home/jsm/programs/soft/anaconda/envs/py36/lib/python3.6/site-packages/matplotlib/backend_bases.py\", line 2192, in print_figure\n",
      "    **kwargs)\n",
      "  File \"/home/jsm/programs/soft/anaconda/envs/py36/lib/python3.6/site-packages/matplotlib/backends/backend_agg.py\", line 545, in print_png\n",
      "    FigureCanvasAgg.draw(self)\n",
      "  File \"/home/jsm/programs/soft/anaconda/envs/py36/lib/python3.6/site-packages/matplotlib/backends/backend_agg.py\", line 464, in draw\n",
      "    self.figure.draw(self.renderer)\n",
      "  File \"/home/jsm/programs/soft/anaconda/envs/py36/lib/python3.6/site-packages/matplotlib/artist.py\", line 63, in draw_wrapper\n",
      "    draw(artist, renderer, *args, **kwargs)\n",
      "  File \"/home/jsm/programs/soft/anaconda/envs/py36/lib/python3.6/site-packages/matplotlib/figure.py\", line 1143, in draw\n",
      "    renderer, self, dsu, self.suppressComposite)\n",
      "  File \"/home/jsm/programs/soft/anaconda/envs/py36/lib/python3.6/site-packages/matplotlib/image.py\", line 139, in _draw_list_compositing_images\n",
      "    a.draw(renderer)\n",
      "  File \"/home/jsm/programs/soft/anaconda/envs/py36/lib/python3.6/site-packages/matplotlib/artist.py\", line 63, in draw_wrapper\n",
      "    draw(artist, renderer, *args, **kwargs)\n",
      "  File \"/home/jsm/programs/soft/anaconda/envs/py36/lib/python3.6/site-packages/matplotlib/axes/_base.py\", line 2409, in draw\n",
      "    mimage._draw_list_compositing_images(renderer, self, dsu)\n",
      "  File \"/home/jsm/programs/soft/anaconda/envs/py36/lib/python3.6/site-packages/matplotlib/image.py\", line 139, in _draw_list_compositing_images\n",
      "    a.draw(renderer)\n",
      "  File \"/home/jsm/programs/soft/anaconda/envs/py36/lib/python3.6/site-packages/matplotlib/artist.py\", line 63, in draw_wrapper\n",
      "    draw(artist, renderer, *args, **kwargs)\n",
      "  File \"/home/jsm/programs/soft/anaconda/envs/py36/lib/python3.6/site-packages/matplotlib/axis.py\", line 1141, in draw\n",
      "    tick.draw(renderer)\n",
      "  File \"/home/jsm/programs/soft/anaconda/envs/py36/lib/python3.6/site-packages/matplotlib/artist.py\", line 63, in draw_wrapper\n",
      "    draw(artist, renderer, *args, **kwargs)\n",
      "  File \"/home/jsm/programs/soft/anaconda/envs/py36/lib/python3.6/site-packages/matplotlib/axis.py\", line 259, in draw\n",
      "    self.tick1line.draw(renderer)\n",
      "  File \"/home/jsm/programs/soft/anaconda/envs/py36/lib/python3.6/site-packages/matplotlib/artist.py\", line 63, in draw_wrapper\n",
      "    draw(artist, renderer, *args, **kwargs)\n",
      "  File \"/home/jsm/programs/soft/anaconda/envs/py36/lib/python3.6/site-packages/matplotlib/lines.py\", line 845, in draw\n",
      "    tpath, affine = transf_path.get_transformed_points_and_affine()\n",
      "  File \"/home/jsm/programs/soft/anaconda/envs/py36/lib/python3.6/site-packages/matplotlib/transforms.py\", line 2724, in get_transformed_points_and_affine\n",
      "    self._revalidate()\n",
      "  File \"/home/jsm/programs/soft/anaconda/envs/py36/lib/python3.6/site-packages/matplotlib/transforms.py\", line 2713, in _revalidate\n",
      "    'should_simplify': self._path.should_simplify})\n",
      "  File \"/home/jsm/programs/soft/anaconda/envs/py36/lib/python3.6/site-packages/matplotlib/path.py\", line 199, in _fast_from_codes_and_verts\n",
      "    internals.pop('simplify_threshold',\n",
      "KeyboardInterrupt\n"
     ]
    }
   ],
   "source": [
    "for j in range(start_iter-2, 10):\n",
    "    iteration = j+3 \n",
    "    print(\"Iteration {}\".format(iteration))\n",
    "    print(\"=============\")\n",
    "    ## Get new parameters\n",
    "    # Number of matched sources per bin\n",
    "    numbers_lofar_combined_bins = np.array([np.sum(lofar[\"category\"] == c) \n",
    "                                            for c in range(len(numbers_combined_bins))])\n",
    "    print(\"numbers_lofar_combined_bins\")\n",
    "    print(numbers_lofar_combined_bins)\n",
    "    # q_0\n",
    "    Q_0_colour_est = numbers_lofar_combined_bins/len(lofar) ### Q_0\n",
    "    Q_0_colour = q0_min_numbers(Q_0_colour_est, numbers_combined_bins)\n",
    "    print(\"Q_0_colour\")\n",
    "    print(Q_0_colour)\n",
    "    q0_total = np.sum(Q_0_colour)\n",
    "    print(\"Q_0_total: \", q0_total)\n",
    "    # q_m\n",
    "    q_m = []\n",
    "    # W1 only sources\n",
    "    q_m.append(get_q_m(lofar[\"W1mag\"][lofar[\"category\"] == 0], \n",
    "                   bin_list_w1, \n",
    "                   numbers_lofar_combined_bins[0], \n",
    "                   n_m[0], \n",
    "                   field.area, \n",
    "                   radius=radius))\n",
    "    # Rest of the sources\n",
    "    for i in range(1, len(numbers_lofar_combined_bins)):\n",
    "        q_m.append(get_q_m(lofar[\"i\"][lofar[\"category\"] == i], \n",
    "                       bin_list_i, \n",
    "                       numbers_lofar_combined_bins[i], \n",
    "                       n_m[i], \n",
    "                       field.area, \n",
    "                       radius=radius))\n",
    "    # Save new parameters\n",
    "    if save_intermediate:\n",
    "        pickle.dump([bin_list, centers, Q_0_colour, n_m, q_m], open(\"{}/lofar_params_{}.pckl\".format(idp, iteration), 'wb'))\n",
    "    if plot_intermediate:\n",
    "        fig = plt.figure(figsize=(15,15))\n",
    "        for i, q_m_k in enumerate(q_m):\n",
    "            plt.subplot(5,5,i+1)\n",
    "            plt.plot(centers[i], q_m_k)\n",
    "        plt.savefig('{}/q0_{}.png'.format(idp, iteration))\n",
    "        del fig\n",
    "    ## Define new likelihood_ratio\n",
    "    likelihood_ratio = MultiMLEstimator(Q_0_colour, n_m, q_m, centers)\n",
    "    def ml(i):\n",
    "        return apply_ml(i, likelihood_ratio)\n",
    "    ## Run the ML\n",
    "    res = parallel_process(idx_lofar_unique, ml, n_jobs=4)\n",
    "    lofar[\"lr_index_{}\".format(iteration)] = np.nan\n",
    "    lofar[\"lr_dist_{}\".format(iteration)] = np.nan\n",
    "    lofar[\"lr_{}\".format(iteration)] = np.nan\n",
    "    (lofar[\"lr_index_{}\".format(iteration)][idx_lofar_unique], \n",
    "     lofar[\"lr_dist_{}\".format(iteration)][idx_lofar_unique], \n",
    "     lofar[\"lr_{}\".format(iteration)][idx_lofar_unique]) = list(map(list, zip(*res)))\n",
    "    lofar[\"lr_{}\".format(iteration)][np.isnan(lofar[\"lr_{}\".format(iteration)])] = 0\n",
    "    ## Get and apply the threshold\n",
    "    #threshold = np.percentile(lofar[\"lr_{}\".format(iteration)], 100*(1 - q0_total - cor_factor))\n",
    "    threshold = get_threshold(lofar[lofar[\"lr_{}\".format(iteration)] != 0][\"lr_{}\".format(iteration)])\n",
    "    print(\"Threshold: \", threshold)\n",
    "    if plot_intermediate:\n",
    "        fig = plt.figure(figsize=(15,6))\n",
    "        plt.subplot(1,2,1)\n",
    "        plt.hist(lofar[lofar[\"lr_{}\".format(iteration)] != 0][\"lr_{}\".format(iteration)], bins=200)\n",
    "        plt.vlines([threshold], 0, 1000)\n",
    "        plt.ylim([0,1000])\n",
    "        plt.subplot(1,2,2)\n",
    "        plt.hist(np.log10(lofar[lofar[\"lr_{}\".format(iteration)] != 0][\"lr_{}\".format(iteration)]+1), bins=200)\n",
    "        plt.vlines(np.log10(threshold+1), 0, 1000)\n",
    "        ticks, _ = plt.xticks()\n",
    "        plt.xticks(ticks, [\"{:.1f}\".format(10**t-1) for t in ticks])\n",
    "        plt.ylim([0,1000])\n",
    "        plt.savefig('{}/lr_distribution_{}.png'.format(idp, iteration))\n",
    "        del fig\n",
    "    ## Apply the threshold\n",
    "    lofar[\"lr_index_sel_{}\".format(iteration)] = lofar[\"lr_index_{}\".format(iteration)]\n",
    "    lofar[\"lr_index_sel_{}\".format(iteration)][lofar[\"lr_{}\".format(iteration)] < threshold] = np.nan\n",
    "    ## Enter changes into the catalogue\n",
    "    # Clear aux columns\n",
    "    lofar[\"category\"] = np.nan\n",
    "    lofar[\"W1mag\"] = np.nan\n",
    "    lofar[\"i\"] = np.nan\n",
    "    # Update data\n",
    "    c = ~np.isnan(lofar[\"lr_index_sel_{}\".format(iteration)])\n",
    "    indices = lofar[\"lr_index_sel_{}\".format(iteration)][c].astype(int)\n",
    "    lofar[\"category\"][c] = combined[indices][\"category\"]\n",
    "    lofar[\"W1mag\"][c] = combined[indices][\"W1mag\"]\n",
    "    lofar[\"i\"][c] = combined[indices][\"i\"]\n",
    "    # Save the data\n",
    "    if save_intermediate:\n",
    "        lofar.write(\"{}/lofar_m{}.fits\".format(idp, iteration), format=\"fits\")\n",
    "    ## Compute number of changes\n",
    "    n_changes = np.sum((lofar[\"lr_index_sel_{}\".format(iteration)] != lofar[\"lr_index_sel_{}\".format(iteration-1)]) & \n",
    "                   ~np.isnan(lofar[\"lr_index_sel_{}\".format(iteration)]) &\n",
    "                   ~np.isnan(lofar[\"lr_index_sel_{}\".format(iteration-1)]))\n",
    "    print(\"N changes: \", n_changes)\n",
    "    ## Check changes\n",
    "    if n_changes == 0:\n",
    "        break\n",
    "    else:\n",
    "        print(\"******** continue **********\")"
   ]
  },
  {
   "cell_type": "code",
   "execution_count": null,
   "metadata": {
    "collapsed": true,
    "jupyter": {
     "outputs_hidden": true
    }
   },
   "outputs": [],
   "source": []
  }
 ],
 "metadata": {
  "kernelspec": {
   "display_name": "Python 3",
   "language": "python",
   "name": "python3"
  },
  "language_info": {
   "codemirror_mode": {
    "name": "ipython",
    "version": 3
   },
   "file_extension": ".py",
   "mimetype": "text/x-python",
   "name": "python",
   "nbconvert_exporter": "python",
   "pygments_lexer": "ipython3",
   "version": "3.7.3"
  }
 },
 "nbformat": 4,
 "nbformat_minor": 4
}
